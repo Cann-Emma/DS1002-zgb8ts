{
  "nbformat": 4,
  "nbformat_minor": 0,
  "metadata": {
    "colab": {
      "provenance": [],
      "include_colab_link": true
    },
    "kernelspec": {
      "name": "ir",
      "display_name": "R"
    },
    "language_info": {
      "name": "R"
    }
  },
  "cells": [
    {
      "cell_type": "markdown",
      "metadata": {
        "id": "view-in-github",
        "colab_type": "text"
      },
      "source": [
        "<a href=\"https://colab.research.google.com/github/Cann-Emma/DS1002-zgb8ts/blob/main/notebooks/22-data-cleaning-in-r-student.ipynb\" target=\"_parent\"><img src=\"https://colab.research.google.com/assets/colab-badge.svg\" alt=\"Open In Colab\"/></a>"
      ]
    },
    {
      "cell_type": "markdown",
      "source": [
        "## Data Cleaning\n",
        "\n",
        "Normal cleaning and management operations are just as common in R as they are in Python. The most frequent cleaning tasks are:\n",
        "\n",
        "- Identifying and removing duplicate rows.\n",
        "- Finding empty / NULL / `NA` values and determining what to do with them, i.e. deleting, imputing, etc.\n"
      ],
      "metadata": {
        "id": "Y13yIJFXJjnH"
      }
    },
    {
      "cell_type": "code",
      "source": [
        "df <- read.csv(\"https://raw.githubusercontent.com/nmagee/ds1002/main/data/very-messy-data-2.csv\")"
      ],
      "metadata": {
        "id": "7OiaM0XGNMid"
      },
      "execution_count": 1,
      "outputs": []
    },
    {
      "cell_type": "code",
      "source": [
        "# Use str() to get the structure of the data frame:\n",
        "str(df)"
      ],
      "metadata": {
        "id": "Y23IbpvhDorT",
        "colab": {
          "base_uri": "https://localhost:8080/"
        },
        "outputId": "ffb71f9a-7d73-4e00-9350-c356674bac16"
      },
      "execution_count": 2,
      "outputs": [
        {
          "output_type": "stream",
          "name": "stdout",
          "text": [
            "'data.frame':\t1316 obs. of  6 variables:\n",
            " $ id          : int  1 2 3 4 5 6 7 8 9 10 ...\n",
            " $ sepal_length: num  3.5 3.6 3.8 5.8 4.9 5 4.8 5.5 5.5 NA ...\n",
            " $ sepal_width : num  2.9 3.2 NA 2.7 3.6 2.7 3 2.2 2.9 3.4 ...\n",
            " $ petal_length: num  1.4 3 2.2 2.6 3 1.4 2.6 2.1 1.1 2.6 ...\n",
            " $ petal_width : chr  \"0.5\" \"0.5\" \"1.5\" \"1.2\" ...\n",
            " $ species     : chr  \"virginica\" \"setosa\" \"setosa\" \"virginica\" ...\n"
          ]
        }
      ]
    },
    {
      "cell_type": "code",
      "source": [
        "# Use summary() to get summary data for each attribute:\n",
        "summary(df)"
      ],
      "metadata": {
        "id": "rLV1gEWG28a0",
        "colab": {
          "base_uri": "https://localhost:8080/",
          "height": 295
        },
        "outputId": "6f0cdc24-0aa2-4e59-e3b8-1adb2009d03e"
      },
      "execution_count": 3,
      "outputs": [
        {
          "output_type": "display_data",
          "data": {
            "text/plain": [
              "       id          sepal_length   sepal_width     petal_length  \n",
              " Min.   :   1.0   Min.   :3.00   Min.   :2.000   Min.   :1.000  \n",
              " 1st Qu.: 215.0   1st Qu.:3.80   1st Qu.:2.500   1st Qu.:1.500  \n",
              " Median : 379.5   Median :4.60   Median :3.000   Median :2.000  \n",
              " Mean   : 442.4   Mean   :4.53   Mean   :2.993   Mean   :2.005  \n",
              " 3rd Qu.: 671.2   3rd Qu.:5.20   3rd Qu.:3.500   3rd Qu.:2.500  \n",
              " Max.   :1000.0   Max.   :6.00   Max.   :4.000   Max.   :3.000  \n",
              "                  NA's   :72     NA's   :213     NA's   :127    \n",
              " petal_width          species         \n",
              " Length:1316        Length:1316       \n",
              " Class :character   Class :character  \n",
              " Mode  :character   Mode  :character  \n",
              "                                      \n",
              "                                      \n",
              "                                      \n",
              "                                      "
            ]
          },
          "metadata": {}
        }
      ]
    },
    {
      "cell_type": "code",
      "source": [
        "# Look at the data frame\n",
        "df"
      ],
      "metadata": {
        "id": "S7dl_RUtyJkv",
        "colab": {
          "base_uri": "https://localhost:8080/",
          "height": 1000
        },
        "outputId": "92e2e55b-71cb-4c08-cbab-13906c980b92"
      },
      "execution_count": 4,
      "outputs": [
        {
          "output_type": "display_data",
          "data": {
            "text/html": [
              "<table class=\"dataframe\">\n",
              "<caption>A data.frame: 1316 × 6</caption>\n",
              "<thead>\n",
              "\t<tr><th scope=col>id</th><th scope=col>sepal_length</th><th scope=col>sepal_width</th><th scope=col>petal_length</th><th scope=col>petal_width</th><th scope=col>species</th></tr>\n",
              "\t<tr><th scope=col>&lt;int&gt;</th><th scope=col>&lt;dbl&gt;</th><th scope=col>&lt;dbl&gt;</th><th scope=col>&lt;dbl&gt;</th><th scope=col>&lt;chr&gt;</th><th scope=col>&lt;chr&gt;</th></tr>\n",
              "</thead>\n",
              "<tbody>\n",
              "\t<tr><td> 1</td><td>3.5</td><td>2.9</td><td>1.4</td><td>0.5 </td><td>virginica</td></tr>\n",
              "\t<tr><td> 2</td><td>3.6</td><td>3.2</td><td>3.0</td><td>0.5 </td><td>setosa   </td></tr>\n",
              "\t<tr><td> 3</td><td>3.8</td><td> NA</td><td>2.2</td><td>1.5 </td><td>setosa   </td></tr>\n",
              "\t<tr><td> 4</td><td>5.8</td><td>2.7</td><td>2.6</td><td>1.2 </td><td>virginica</td></tr>\n",
              "\t<tr><td> 5</td><td>4.9</td><td>3.6</td><td>3.0</td><td>1.2 </td><td>virginica</td></tr>\n",
              "\t<tr><td> 6</td><td>5.0</td><td>2.7</td><td>1.4</td><td>2.3 </td><td>setosa   </td></tr>\n",
              "\t<tr><td> 7</td><td>4.8</td><td>3.0</td><td>2.6</td><td>1.4 </td><td>setosa   </td></tr>\n",
              "\t<tr><td> 8</td><td>5.5</td><td>2.2</td><td>2.1</td><td>2.1 </td><td>virginica</td></tr>\n",
              "\t<tr><td> 9</td><td>5.5</td><td>2.9</td><td>1.1</td><td>3   </td><td>setosa   </td></tr>\n",
              "\t<tr><td>10</td><td> NA</td><td>3.4</td><td>2.6</td><td>1.9 </td><td>virginica</td></tr>\n",
              "\t<tr><td>11</td><td>3.7</td><td>2.1</td><td>1.4</td><td>1.3 </td><td>setosa   </td></tr>\n",
              "\t<tr><td>12</td><td> NA</td><td>3.5</td><td>1.6</td><td>gg28</td><td>setosa   </td></tr>\n",
              "\t<tr><td>13</td><td>4.7</td><td>2.0</td><td>1.2</td><td>1.9 </td><td>virginica</td></tr>\n",
              "\t<tr><td>14</td><td>6.0</td><td> NA</td><td>1.1</td><td>2.6 </td><td>virginica</td></tr>\n",
              "\t<tr><td>15</td><td>3.3</td><td>2.7</td><td>2.9</td><td>0.4 </td><td>setosa   </td></tr>\n",
              "\t<tr><td>16</td><td>4.1</td><td>3.5</td><td>1.9</td><td>0.7 </td><td>virginica</td></tr>\n",
              "\t<tr><td>17</td><td>4.6</td><td>2.9</td><td>2.1</td><td>2.6 </td><td>virginica</td></tr>\n",
              "\t<tr><td>18</td><td>3.7</td><td>2.6</td><td>1.3</td><td>0.9 </td><td>setosa   </td></tr>\n",
              "\t<tr><td>19</td><td>5.5</td><td>2.5</td><td>1.8</td><td>1.8 </td><td>virginica</td></tr>\n",
              "\t<tr><td>20</td><td>3.7</td><td>2.4</td><td>1.2</td><td>    </td><td>setosa   </td></tr>\n",
              "\t<tr><td>21</td><td>3.1</td><td>2.4</td><td>1.4</td><td>0.7 </td><td>setosa   </td></tr>\n",
              "\t<tr><td>22</td><td>4.4</td><td>2.1</td><td>2.8</td><td>1.9 </td><td>virginica</td></tr>\n",
              "\t<tr><td>23</td><td>5.7</td><td>3.0</td><td>2.5</td><td>gg29</td><td>setosa   </td></tr>\n",
              "\t<tr><td>24</td><td>5.6</td><td>3.3</td><td>1.2</td><td>0.3 </td><td>virginica</td></tr>\n",
              "\t<tr><td>25</td><td>3.2</td><td>3.3</td><td>2.0</td><td>0.7 </td><td>virginica</td></tr>\n",
              "\t<tr><td>26</td><td>5.0</td><td>3.3</td><td>2.4</td><td>2.2 </td><td>virginica</td></tr>\n",
              "\t<tr><td>27</td><td>3.9</td><td>3.2</td><td>2.7</td><td>0.1 </td><td>setosa   </td></tr>\n",
              "\t<tr><td>28</td><td> NA</td><td>2.2</td><td>1.5</td><td>1.2 </td><td>virginica</td></tr>\n",
              "\t<tr><td>29</td><td>5.8</td><td>2.6</td><td>2.3</td><td>2.3 </td><td>setosa   </td></tr>\n",
              "\t<tr><td>30</td><td>4.7</td><td>3.7</td><td>1.8</td><td>2.7 </td><td>virginica</td></tr>\n",
              "\t<tr><td>⋮</td><td>⋮</td><td>⋮</td><td>⋮</td><td>⋮</td><td>⋮</td></tr>\n",
              "\t<tr><td>387</td><td>4.7</td><td>2.4</td><td>2.3</td><td>1.7</td><td>setosa   </td></tr>\n",
              "\t<tr><td>388</td><td>4.9</td><td>2.1</td><td>1.5</td><td>1.7</td><td>setosa   </td></tr>\n",
              "\t<tr><td>389</td><td>3.6</td><td>3.3</td><td>1.8</td><td>   </td><td>virginica</td></tr>\n",
              "\t<tr><td>390</td><td>5.3</td><td>2.2</td><td>2.0</td><td>2.1</td><td>virginica</td></tr>\n",
              "\t<tr><td>391</td><td>4.5</td><td>3.3</td><td> NA</td><td>2.3</td><td>virginica</td></tr>\n",
              "\t<tr><td>392</td><td>4.1</td><td> NA</td><td>1.8</td><td>0.2</td><td>setosa   </td></tr>\n",
              "\t<tr><td>393</td><td>4.0</td><td>3.0</td><td>1.8</td><td>2.5</td><td>virginica</td></tr>\n",
              "\t<tr><td>394</td><td>4.8</td><td> NA</td><td>1.5</td><td>2  </td><td>virginica</td></tr>\n",
              "\t<tr><td>395</td><td>3.4</td><td>2.8</td><td>3.0</td><td>1  </td><td>setosa   </td></tr>\n",
              "\t<tr><td>396</td><td> NA</td><td>2.9</td><td>1.5</td><td>   </td><td>virginica</td></tr>\n",
              "\t<tr><td>397</td><td>3.9</td><td>2.3</td><td>2.5</td><td>1.4</td><td>setosa   </td></tr>\n",
              "\t<tr><td>398</td><td>4.0</td><td>3.8</td><td>2.9</td><td>0.3</td><td>setosa   </td></tr>\n",
              "\t<tr><td>399</td><td>4.1</td><td>2.8</td><td>1.6</td><td>   </td><td>setosa   </td></tr>\n",
              "\t<tr><td>400</td><td>5.1</td><td> NA</td><td>2.1</td><td>0.9</td><td>virginica</td></tr>\n",
              "\t<tr><td>401</td><td>5.7</td><td>2.7</td><td>2.8</td><td>2.3</td><td>virginica</td></tr>\n",
              "\t<tr><td>402</td><td>5.4</td><td>3.7</td><td> NA</td><td>2.6</td><td>setosa   </td></tr>\n",
              "\t<tr><td>403</td><td>4.7</td><td>2.0</td><td>1.8</td><td>1.6</td><td>setosa   </td></tr>\n",
              "\t<tr><td>404</td><td>4.8</td><td>3.2</td><td>2.9</td><td>0.6</td><td>virginica</td></tr>\n",
              "\t<tr><td>405</td><td>4.9</td><td>4.0</td><td> NA</td><td>0.4</td><td>         </td></tr>\n",
              "\t<tr><td>406</td><td>3.2</td><td> NA</td><td>1.7</td><td>0.8</td><td>setosa   </td></tr>\n",
              "\t<tr><td>407</td><td>3.3</td><td>2.1</td><td>1.8</td><td>1.9</td><td>virginica</td></tr>\n",
              "\t<tr><td>408</td><td>3.2</td><td>3.4</td><td> NA</td><td>0.7</td><td>virginica</td></tr>\n",
              "\t<tr><td>409</td><td>3.3</td><td>3.4</td><td>2.5</td><td>2.5</td><td>virginica</td></tr>\n",
              "\t<tr><td>410</td><td>4.5</td><td>3.4</td><td>1.9</td><td>1.7</td><td>setosa   </td></tr>\n",
              "\t<tr><td>411</td><td>4.8</td><td>2.6</td><td>1.9</td><td>0.9</td><td>setosa   </td></tr>\n",
              "\t<tr><td>412</td><td> NA</td><td>3.6</td><td>2.9</td><td>0.5</td><td>virginica</td></tr>\n",
              "\t<tr><td>413</td><td>5.8</td><td>2.7</td><td>2.0</td><td>0.1</td><td>virginica</td></tr>\n",
              "\t<tr><td>414</td><td>3.3</td><td>3.7</td><td>1.3</td><td>2.8</td><td>setosa   </td></tr>\n",
              "\t<tr><td>415</td><td>3.1</td><td> NA</td><td>1.1</td><td>   </td><td>virginica</td></tr>\n",
              "\t<tr><td>416</td><td>4.3</td><td>2.5</td><td>1.3</td><td>1  </td><td>setosa   </td></tr>\n",
              "</tbody>\n",
              "</table>\n"
            ],
            "text/markdown": "\nA data.frame: 1316 × 6\n\n| id &lt;int&gt; | sepal_length &lt;dbl&gt; | sepal_width &lt;dbl&gt; | petal_length &lt;dbl&gt; | petal_width &lt;chr&gt; | species &lt;chr&gt; |\n|---|---|---|---|---|---|\n|  1 | 3.5 | 2.9 | 1.4 | 0.5  | virginica |\n|  2 | 3.6 | 3.2 | 3.0 | 0.5  | setosa    |\n|  3 | 3.8 |  NA | 2.2 | 1.5  | setosa    |\n|  4 | 5.8 | 2.7 | 2.6 | 1.2  | virginica |\n|  5 | 4.9 | 3.6 | 3.0 | 1.2  | virginica |\n|  6 | 5.0 | 2.7 | 1.4 | 2.3  | setosa    |\n|  7 | 4.8 | 3.0 | 2.6 | 1.4  | setosa    |\n|  8 | 5.5 | 2.2 | 2.1 | 2.1  | virginica |\n|  9 | 5.5 | 2.9 | 1.1 | 3    | setosa    |\n| 10 |  NA | 3.4 | 2.6 | 1.9  | virginica |\n| 11 | 3.7 | 2.1 | 1.4 | 1.3  | setosa    |\n| 12 |  NA | 3.5 | 1.6 | gg28 | setosa    |\n| 13 | 4.7 | 2.0 | 1.2 | 1.9  | virginica |\n| 14 | 6.0 |  NA | 1.1 | 2.6  | virginica |\n| 15 | 3.3 | 2.7 | 2.9 | 0.4  | setosa    |\n| 16 | 4.1 | 3.5 | 1.9 | 0.7  | virginica |\n| 17 | 4.6 | 2.9 | 2.1 | 2.6  | virginica |\n| 18 | 3.7 | 2.6 | 1.3 | 0.9  | setosa    |\n| 19 | 5.5 | 2.5 | 1.8 | 1.8  | virginica |\n| 20 | 3.7 | 2.4 | 1.2 | <!----> | setosa    |\n| 21 | 3.1 | 2.4 | 1.4 | 0.7  | setosa    |\n| 22 | 4.4 | 2.1 | 2.8 | 1.9  | virginica |\n| 23 | 5.7 | 3.0 | 2.5 | gg29 | setosa    |\n| 24 | 5.6 | 3.3 | 1.2 | 0.3  | virginica |\n| 25 | 3.2 | 3.3 | 2.0 | 0.7  | virginica |\n| 26 | 5.0 | 3.3 | 2.4 | 2.2  | virginica |\n| 27 | 3.9 | 3.2 | 2.7 | 0.1  | setosa    |\n| 28 |  NA | 2.2 | 1.5 | 1.2  | virginica |\n| 29 | 5.8 | 2.6 | 2.3 | 2.3  | setosa    |\n| 30 | 4.7 | 3.7 | 1.8 | 2.7  | virginica |\n| ⋮ | ⋮ | ⋮ | ⋮ | ⋮ | ⋮ |\n| 387 | 4.7 | 2.4 | 2.3 | 1.7 | setosa    |\n| 388 | 4.9 | 2.1 | 1.5 | 1.7 | setosa    |\n| 389 | 3.6 | 3.3 | 1.8 | <!----> | virginica |\n| 390 | 5.3 | 2.2 | 2.0 | 2.1 | virginica |\n| 391 | 4.5 | 3.3 |  NA | 2.3 | virginica |\n| 392 | 4.1 |  NA | 1.8 | 0.2 | setosa    |\n| 393 | 4.0 | 3.0 | 1.8 | 2.5 | virginica |\n| 394 | 4.8 |  NA | 1.5 | 2   | virginica |\n| 395 | 3.4 | 2.8 | 3.0 | 1   | setosa    |\n| 396 |  NA | 2.9 | 1.5 | <!----> | virginica |\n| 397 | 3.9 | 2.3 | 2.5 | 1.4 | setosa    |\n| 398 | 4.0 | 3.8 | 2.9 | 0.3 | setosa    |\n| 399 | 4.1 | 2.8 | 1.6 | <!----> | setosa    |\n| 400 | 5.1 |  NA | 2.1 | 0.9 | virginica |\n| 401 | 5.7 | 2.7 | 2.8 | 2.3 | virginica |\n| 402 | 5.4 | 3.7 |  NA | 2.6 | setosa    |\n| 403 | 4.7 | 2.0 | 1.8 | 1.6 | setosa    |\n| 404 | 4.8 | 3.2 | 2.9 | 0.6 | virginica |\n| 405 | 4.9 | 4.0 |  NA | 0.4 | <!----> |\n| 406 | 3.2 |  NA | 1.7 | 0.8 | setosa    |\n| 407 | 3.3 | 2.1 | 1.8 | 1.9 | virginica |\n| 408 | 3.2 | 3.4 |  NA | 0.7 | virginica |\n| 409 | 3.3 | 3.4 | 2.5 | 2.5 | virginica |\n| 410 | 4.5 | 3.4 | 1.9 | 1.7 | setosa    |\n| 411 | 4.8 | 2.6 | 1.9 | 0.9 | setosa    |\n| 412 |  NA | 3.6 | 2.9 | 0.5 | virginica |\n| 413 | 5.8 | 2.7 | 2.0 | 0.1 | virginica |\n| 414 | 3.3 | 3.7 | 1.3 | 2.8 | setosa    |\n| 415 | 3.1 |  NA | 1.1 | <!----> | virginica |\n| 416 | 4.3 | 2.5 | 1.3 | 1   | setosa    |\n\n",
            "text/latex": "A data.frame: 1316 × 6\n\\begin{tabular}{llllll}\n id & sepal\\_length & sepal\\_width & petal\\_length & petal\\_width & species\\\\\n <int> & <dbl> & <dbl> & <dbl> & <chr> & <chr>\\\\\n\\hline\n\t  1 & 3.5 & 2.9 & 1.4 & 0.5  & virginica\\\\\n\t  2 & 3.6 & 3.2 & 3.0 & 0.5  & setosa   \\\\\n\t  3 & 3.8 &  NA & 2.2 & 1.5  & setosa   \\\\\n\t  4 & 5.8 & 2.7 & 2.6 & 1.2  & virginica\\\\\n\t  5 & 4.9 & 3.6 & 3.0 & 1.2  & virginica\\\\\n\t  6 & 5.0 & 2.7 & 1.4 & 2.3  & setosa   \\\\\n\t  7 & 4.8 & 3.0 & 2.6 & 1.4  & setosa   \\\\\n\t  8 & 5.5 & 2.2 & 2.1 & 2.1  & virginica\\\\\n\t  9 & 5.5 & 2.9 & 1.1 & 3    & setosa   \\\\\n\t 10 &  NA & 3.4 & 2.6 & 1.9  & virginica\\\\\n\t 11 & 3.7 & 2.1 & 1.4 & 1.3  & setosa   \\\\\n\t 12 &  NA & 3.5 & 1.6 & gg28 & setosa   \\\\\n\t 13 & 4.7 & 2.0 & 1.2 & 1.9  & virginica\\\\\n\t 14 & 6.0 &  NA & 1.1 & 2.6  & virginica\\\\\n\t 15 & 3.3 & 2.7 & 2.9 & 0.4  & setosa   \\\\\n\t 16 & 4.1 & 3.5 & 1.9 & 0.7  & virginica\\\\\n\t 17 & 4.6 & 2.9 & 2.1 & 2.6  & virginica\\\\\n\t 18 & 3.7 & 2.6 & 1.3 & 0.9  & setosa   \\\\\n\t 19 & 5.5 & 2.5 & 1.8 & 1.8  & virginica\\\\\n\t 20 & 3.7 & 2.4 & 1.2 &      & setosa   \\\\\n\t 21 & 3.1 & 2.4 & 1.4 & 0.7  & setosa   \\\\\n\t 22 & 4.4 & 2.1 & 2.8 & 1.9  & virginica\\\\\n\t 23 & 5.7 & 3.0 & 2.5 & gg29 & setosa   \\\\\n\t 24 & 5.6 & 3.3 & 1.2 & 0.3  & virginica\\\\\n\t 25 & 3.2 & 3.3 & 2.0 & 0.7  & virginica\\\\\n\t 26 & 5.0 & 3.3 & 2.4 & 2.2  & virginica\\\\\n\t 27 & 3.9 & 3.2 & 2.7 & 0.1  & setosa   \\\\\n\t 28 &  NA & 2.2 & 1.5 & 1.2  & virginica\\\\\n\t 29 & 5.8 & 2.6 & 2.3 & 2.3  & setosa   \\\\\n\t 30 & 4.7 & 3.7 & 1.8 & 2.7  & virginica\\\\\n\t ⋮ & ⋮ & ⋮ & ⋮ & ⋮ & ⋮\\\\\n\t 387 & 4.7 & 2.4 & 2.3 & 1.7 & setosa   \\\\\n\t 388 & 4.9 & 2.1 & 1.5 & 1.7 & setosa   \\\\\n\t 389 & 3.6 & 3.3 & 1.8 &     & virginica\\\\\n\t 390 & 5.3 & 2.2 & 2.0 & 2.1 & virginica\\\\\n\t 391 & 4.5 & 3.3 &  NA & 2.3 & virginica\\\\\n\t 392 & 4.1 &  NA & 1.8 & 0.2 & setosa   \\\\\n\t 393 & 4.0 & 3.0 & 1.8 & 2.5 & virginica\\\\\n\t 394 & 4.8 &  NA & 1.5 & 2   & virginica\\\\\n\t 395 & 3.4 & 2.8 & 3.0 & 1   & setosa   \\\\\n\t 396 &  NA & 2.9 & 1.5 &     & virginica\\\\\n\t 397 & 3.9 & 2.3 & 2.5 & 1.4 & setosa   \\\\\n\t 398 & 4.0 & 3.8 & 2.9 & 0.3 & setosa   \\\\\n\t 399 & 4.1 & 2.8 & 1.6 &     & setosa   \\\\\n\t 400 & 5.1 &  NA & 2.1 & 0.9 & virginica\\\\\n\t 401 & 5.7 & 2.7 & 2.8 & 2.3 & virginica\\\\\n\t 402 & 5.4 & 3.7 &  NA & 2.6 & setosa   \\\\\n\t 403 & 4.7 & 2.0 & 1.8 & 1.6 & setosa   \\\\\n\t 404 & 4.8 & 3.2 & 2.9 & 0.6 & virginica\\\\\n\t 405 & 4.9 & 4.0 &  NA & 0.4 &          \\\\\n\t 406 & 3.2 &  NA & 1.7 & 0.8 & setosa   \\\\\n\t 407 & 3.3 & 2.1 & 1.8 & 1.9 & virginica\\\\\n\t 408 & 3.2 & 3.4 &  NA & 0.7 & virginica\\\\\n\t 409 & 3.3 & 3.4 & 2.5 & 2.5 & virginica\\\\\n\t 410 & 4.5 & 3.4 & 1.9 & 1.7 & setosa   \\\\\n\t 411 & 4.8 & 2.6 & 1.9 & 0.9 & setosa   \\\\\n\t 412 &  NA & 3.6 & 2.9 & 0.5 & virginica\\\\\n\t 413 & 5.8 & 2.7 & 2.0 & 0.1 & virginica\\\\\n\t 414 & 3.3 & 3.7 & 1.3 & 2.8 & setosa   \\\\\n\t 415 & 3.1 &  NA & 1.1 &     & virginica\\\\\n\t 416 & 4.3 & 2.5 & 1.3 & 1   & setosa   \\\\\n\\end{tabular}\n",
            "text/plain": [
              "     id  sepal_length sepal_width petal_length petal_width species  \n",
              "1     1  3.5          2.9         1.4          0.5         virginica\n",
              "2     2  3.6          3.2         3.0          0.5         setosa   \n",
              "3     3  3.8           NA         2.2          1.5         setosa   \n",
              "4     4  5.8          2.7         2.6          1.2         virginica\n",
              "5     5  4.9          3.6         3.0          1.2         virginica\n",
              "6     6  5.0          2.7         1.4          2.3         setosa   \n",
              "7     7  4.8          3.0         2.6          1.4         setosa   \n",
              "8     8  5.5          2.2         2.1          2.1         virginica\n",
              "9     9  5.5          2.9         1.1          3           setosa   \n",
              "10   10   NA          3.4         2.6          1.9         virginica\n",
              "11   11  3.7          2.1         1.4          1.3         setosa   \n",
              "12   12   NA          3.5         1.6          gg28        setosa   \n",
              "13   13  4.7          2.0         1.2          1.9         virginica\n",
              "14   14  6.0           NA         1.1          2.6         virginica\n",
              "15   15  3.3          2.7         2.9          0.4         setosa   \n",
              "16   16  4.1          3.5         1.9          0.7         virginica\n",
              "17   17  4.6          2.9         2.1          2.6         virginica\n",
              "18   18  3.7          2.6         1.3          0.9         setosa   \n",
              "19   19  5.5          2.5         1.8          1.8         virginica\n",
              "20   20  3.7          2.4         1.2                      setosa   \n",
              "21   21  3.1          2.4         1.4          0.7         setosa   \n",
              "22   22  4.4          2.1         2.8          1.9         virginica\n",
              "23   23  5.7          3.0         2.5          gg29        setosa   \n",
              "24   24  5.6          3.3         1.2          0.3         virginica\n",
              "25   25  3.2          3.3         2.0          0.7         virginica\n",
              "26   26  5.0          3.3         2.4          2.2         virginica\n",
              "27   27  3.9          3.2         2.7          0.1         setosa   \n",
              "28   28   NA          2.2         1.5          1.2         virginica\n",
              "29   29  5.8          2.6         2.3          2.3         setosa   \n",
              "30   30  4.7          3.7         1.8          2.7         virginica\n",
              "⋮    ⋮   ⋮            ⋮           ⋮            ⋮           ⋮        \n",
              "1287 387 4.7          2.4         2.3          1.7         setosa   \n",
              "1288 388 4.9          2.1         1.5          1.7         setosa   \n",
              "1289 389 3.6          3.3         1.8                      virginica\n",
              "1290 390 5.3          2.2         2.0          2.1         virginica\n",
              "1291 391 4.5          3.3          NA          2.3         virginica\n",
              "1292 392 4.1           NA         1.8          0.2         setosa   \n",
              "1293 393 4.0          3.0         1.8          2.5         virginica\n",
              "1294 394 4.8           NA         1.5          2           virginica\n",
              "1295 395 3.4          2.8         3.0          1           setosa   \n",
              "1296 396  NA          2.9         1.5                      virginica\n",
              "1297 397 3.9          2.3         2.5          1.4         setosa   \n",
              "1298 398 4.0          3.8         2.9          0.3         setosa   \n",
              "1299 399 4.1          2.8         1.6                      setosa   \n",
              "1300 400 5.1           NA         2.1          0.9         virginica\n",
              "1301 401 5.7          2.7         2.8          2.3         virginica\n",
              "1302 402 5.4          3.7          NA          2.6         setosa   \n",
              "1303 403 4.7          2.0         1.8          1.6         setosa   \n",
              "1304 404 4.8          3.2         2.9          0.6         virginica\n",
              "1305 405 4.9          4.0          NA          0.4                  \n",
              "1306 406 3.2           NA         1.7          0.8         setosa   \n",
              "1307 407 3.3          2.1         1.8          1.9         virginica\n",
              "1308 408 3.2          3.4          NA          0.7         virginica\n",
              "1309 409 3.3          3.4         2.5          2.5         virginica\n",
              "1310 410 4.5          3.4         1.9          1.7         setosa   \n",
              "1311 411 4.8          2.6         1.9          0.9         setosa   \n",
              "1312 412  NA          3.6         2.9          0.5         virginica\n",
              "1313 413 5.8          2.7         2.0          0.1         virginica\n",
              "1314 414 3.3          3.7         1.3          2.8         setosa   \n",
              "1315 415 3.1           NA         1.1                      virginica\n",
              "1316 416 4.3          2.5         1.3          1           setosa   "
            ]
          },
          "metadata": {}
        }
      ]
    },
    {
      "cell_type": "markdown",
      "source": [
        "### Duplicate Rows\n",
        "\n",
        "To remove duplicate rows from a data frame there is a simple one-line command. This will select all NON-duplicated rows from the `df` data frame and pass them into a new data frame named `df2`:"
      ],
      "metadata": {
        "id": "W3uWBP-PJ5kX"
      }
    },
    {
      "cell_type": "code",
      "source": [
        "# number of duplicated rows\n",
        "nrow(df[duplicated(df), ])\n",
        "# non duplicated rows\n",
        "df2<- df[!duplicated(df),]\n",
        "str(df2)"
      ],
      "metadata": {
        "id": "JQhEDLd3J8--",
        "colab": {
          "base_uri": "https://localhost:8080/",
          "height": 191
        },
        "outputId": "3a05dc30-a6b0-41bb-a7ca-3db9e0cab07b"
      },
      "execution_count": 47,
      "outputs": [
        {
          "output_type": "stream",
          "name": "stderr",
          "text": [
            "Warning message in eval(expr, envir, enclos):\n",
            "“NAs introduced by coercion”\n"
          ]
        },
        {
          "output_type": "display_data",
          "data": {
            "text/html": [
              "231"
            ],
            "text/markdown": "231",
            "text/latex": "231",
            "text/plain": [
              "[1] 231"
            ]
          },
          "metadata": {}
        },
        {
          "output_type": "stream",
          "name": "stdout",
          "text": [
            "'data.frame':\t711 obs. of  6 variables:\n",
            " $ id          : int  1 2 4 5 6 7 8 9 11 13 ...\n",
            " $ sepal_length: num  3.5 3.6 5.8 4.9 5 4.8 5.5 5.5 3.7 4.7 ...\n",
            " $ sepal_width : num  2.9 3.2 2.7 3.6 2.7 3 2.2 2.9 2.1 2 ...\n",
            " $ petal_length: num  1.4 3 2.6 3 1.4 2.6 2.1 1.1 1.4 1.2 ...\n",
            " $ petal_width : chr  \"0.5\" \"0.5\" \"1.2\" \"1.2\" ...\n",
            " $ species     : chr  \"virginica\" \"setosa\" \"virginica\" \"virginica\" ...\n"
          ]
        }
      ]
    },
    {
      "cell_type": "code",
      "source": [
        "# or, using dplyr, pass the\n",
        "library(dplyr)\n",
        "df_nduplicate<- df%>%distinct()\n",
        "df_nduplicate"
      ],
      "metadata": {
        "id": "otf7k58QM28B",
        "colab": {
          "base_uri": "https://localhost:8080/",
          "height": 1000
        },
        "outputId": "137bcdc6-d750-4cdf-f741-cbda08c0b6a1"
      },
      "execution_count": 57,
      "outputs": [
        {
          "output_type": "display_data",
          "data": {
            "text/html": [
              "<table class=\"dataframe\">\n",
              "<caption>A data.frame: 711 × 6</caption>\n",
              "<thead>\n",
              "\t<tr><th scope=col>id</th><th scope=col>sepal_length</th><th scope=col>sepal_width</th><th scope=col>petal_length</th><th scope=col>petal_width</th><th scope=col>species</th></tr>\n",
              "\t<tr><th scope=col>&lt;int&gt;</th><th scope=col>&lt;dbl&gt;</th><th scope=col>&lt;dbl&gt;</th><th scope=col>&lt;dbl&gt;</th><th scope=col>&lt;chr&gt;</th><th scope=col>&lt;chr&gt;</th></tr>\n",
              "</thead>\n",
              "<tbody>\n",
              "\t<tr><td> 1</td><td>3.5</td><td>2.9</td><td>1.4</td><td>0.5 </td><td>virginica</td></tr>\n",
              "\t<tr><td> 2</td><td>3.6</td><td>3.2</td><td>3.0</td><td>0.5 </td><td>setosa   </td></tr>\n",
              "\t<tr><td> 4</td><td>5.8</td><td>2.7</td><td>2.6</td><td>1.2 </td><td>virginica</td></tr>\n",
              "\t<tr><td> 5</td><td>4.9</td><td>3.6</td><td>3.0</td><td>1.2 </td><td>virginica</td></tr>\n",
              "\t<tr><td> 6</td><td>5.0</td><td>2.7</td><td>1.4</td><td>2.3 </td><td>setosa   </td></tr>\n",
              "\t<tr><td> 7</td><td>4.8</td><td>3.0</td><td>2.6</td><td>1.4 </td><td>setosa   </td></tr>\n",
              "\t<tr><td> 8</td><td>5.5</td><td>2.2</td><td>2.1</td><td>2.1 </td><td>virginica</td></tr>\n",
              "\t<tr><td> 9</td><td>5.5</td><td>2.9</td><td>1.1</td><td>3   </td><td>setosa   </td></tr>\n",
              "\t<tr><td>11</td><td>3.7</td><td>2.1</td><td>1.4</td><td>1.3 </td><td>setosa   </td></tr>\n",
              "\t<tr><td>13</td><td>4.7</td><td>2.0</td><td>1.2</td><td>1.9 </td><td>virginica</td></tr>\n",
              "\t<tr><td>15</td><td>3.3</td><td>2.7</td><td>2.9</td><td>0.4 </td><td>setosa   </td></tr>\n",
              "\t<tr><td>16</td><td>4.1</td><td>3.5</td><td>1.9</td><td>0.7 </td><td>virginica</td></tr>\n",
              "\t<tr><td>17</td><td>4.6</td><td>2.9</td><td>2.1</td><td>2.6 </td><td>virginica</td></tr>\n",
              "\t<tr><td>18</td><td>3.7</td><td>2.6</td><td>1.3</td><td>0.9 </td><td>setosa   </td></tr>\n",
              "\t<tr><td>19</td><td>5.5</td><td>2.5</td><td>1.8</td><td>1.8 </td><td>virginica</td></tr>\n",
              "\t<tr><td>20</td><td>3.7</td><td>2.4</td><td>1.2</td><td>    </td><td>setosa   </td></tr>\n",
              "\t<tr><td>21</td><td>3.1</td><td>2.4</td><td>1.4</td><td>0.7 </td><td>setosa   </td></tr>\n",
              "\t<tr><td>22</td><td>4.4</td><td>2.1</td><td>2.8</td><td>1.9 </td><td>virginica</td></tr>\n",
              "\t<tr><td>23</td><td>5.7</td><td>3.0</td><td>2.5</td><td>gg29</td><td>setosa   </td></tr>\n",
              "\t<tr><td>24</td><td>5.6</td><td>3.3</td><td>1.2</td><td>0.3 </td><td>virginica</td></tr>\n",
              "\t<tr><td>25</td><td>3.2</td><td>3.3</td><td>2.0</td><td>0.7 </td><td>virginica</td></tr>\n",
              "\t<tr><td>26</td><td>5.0</td><td>3.3</td><td>2.4</td><td>2.2 </td><td>virginica</td></tr>\n",
              "\t<tr><td>27</td><td>3.9</td><td>3.2</td><td>2.7</td><td>0.1 </td><td>setosa   </td></tr>\n",
              "\t<tr><td>29</td><td>5.8</td><td>2.6</td><td>2.3</td><td>2.3 </td><td>setosa   </td></tr>\n",
              "\t<tr><td>30</td><td>4.7</td><td>3.7</td><td>1.8</td><td>2.7 </td><td>virginica</td></tr>\n",
              "\t<tr><td>31</td><td>5.9</td><td>2.1</td><td>2.2</td><td>2.6 </td><td>         </td></tr>\n",
              "\t<tr><td>33</td><td>4.0</td><td>2.1</td><td>1.6</td><td>0.1 </td><td>virginica</td></tr>\n",
              "\t<tr><td>34</td><td>5.6</td><td>2.9</td><td>2.4</td><td>1.3 </td><td>setosa   </td></tr>\n",
              "\t<tr><td>36</td><td>3.1</td><td>3.4</td><td>2.0</td><td>    </td><td>setosa   </td></tr>\n",
              "\t<tr><td>37</td><td>4.8</td><td>3.1</td><td>2.9</td><td>2.2 </td><td>virginica</td></tr>\n",
              "\t<tr><td>⋮</td><td>⋮</td><td>⋮</td><td>⋮</td><td>⋮</td><td>⋮</td></tr>\n",
              "\t<tr><td> 961</td><td>4.2</td><td>2.7</td><td>1.7</td><td>1.6</td><td>virginica</td></tr>\n",
              "\t<tr><td> 962</td><td>4.8</td><td>3.9</td><td>1.3</td><td>1.7</td><td>setosa   </td></tr>\n",
              "\t<tr><td> 963</td><td>5.2</td><td>2.1</td><td>3.0</td><td>0.7</td><td>virginica</td></tr>\n",
              "\t<tr><td> 964</td><td>4.5</td><td>3.4</td><td>1.2</td><td>   </td><td>         </td></tr>\n",
              "\t<tr><td> 965</td><td>5.8</td><td>2.4</td><td>1.3</td><td>2.2</td><td>virginica</td></tr>\n",
              "\t<tr><td> 966</td><td>4.4</td><td>2.6</td><td>1.6</td><td>0.4</td><td>virginica</td></tr>\n",
              "\t<tr><td> 967</td><td>4.6</td><td>3.3</td><td>2.3</td><td>1.3</td><td>setosa   </td></tr>\n",
              "\t<tr><td> 968</td><td>3.3</td><td>2.2</td><td>1.5</td><td>2.6</td><td>setosa   </td></tr>\n",
              "\t<tr><td> 969</td><td>4.1</td><td>3.0</td><td>2.9</td><td>0.3</td><td>setosa   </td></tr>\n",
              "\t<tr><td> 970</td><td>4.6</td><td>2.2</td><td>2.5</td><td>0.7</td><td>virginica</td></tr>\n",
              "\t<tr><td> 971</td><td>3.4</td><td>3.5</td><td>2.8</td><td>2.5</td><td>         </td></tr>\n",
              "\t<tr><td> 972</td><td>4.3</td><td>2.7</td><td>1.6</td><td>0  </td><td>setosa   </td></tr>\n",
              "\t<tr><td> 974</td><td>3.9</td><td>3.6</td><td>2.3</td><td>   </td><td>setosa   </td></tr>\n",
              "\t<tr><td> 975</td><td>3.8</td><td>2.4</td><td>3.0</td><td>2.5</td><td>virginica</td></tr>\n",
              "\t<tr><td> 977</td><td>3.4</td><td>3.7</td><td>3.0</td><td>3  </td><td>setosa   </td></tr>\n",
              "\t<tr><td> 978</td><td>4.8</td><td>3.3</td><td>2.0</td><td>0.9</td><td>virginica</td></tr>\n",
              "\t<tr><td> 981</td><td>3.6</td><td>2.6</td><td>2.3</td><td>0.9</td><td>virginica</td></tr>\n",
              "\t<tr><td> 982</td><td>4.0</td><td>2.6</td><td>1.9</td><td>   </td><td>setosa   </td></tr>\n",
              "\t<tr><td> 984</td><td>5.9</td><td>2.4</td><td>1.1</td><td>2.3</td><td>setosa   </td></tr>\n",
              "\t<tr><td> 985</td><td>3.3</td><td>2.4</td><td>1.6</td><td>2.8</td><td>setosa   </td></tr>\n",
              "\t<tr><td> 986</td><td>4.6</td><td>3.9</td><td>2.4</td><td>1.8</td><td>setosa   </td></tr>\n",
              "\t<tr><td> 987</td><td>3.2</td><td>2.8</td><td>1.5</td><td>2.9</td><td>setosa   </td></tr>\n",
              "\t<tr><td> 989</td><td>5.5</td><td>2.6</td><td>2.6</td><td>0.5</td><td>setosa   </td></tr>\n",
              "\t<tr><td> 990</td><td>3.8</td><td>3.6</td><td>1.4</td><td>0.6</td><td>virginica</td></tr>\n",
              "\t<tr><td> 992</td><td>3.7</td><td>2.5</td><td>2.6</td><td>2.8</td><td>virginica</td></tr>\n",
              "\t<tr><td> 994</td><td>4.5</td><td>3.7</td><td>1.2</td><td>0.3</td><td>virginica</td></tr>\n",
              "\t<tr><td> 995</td><td>4.0</td><td>2.9</td><td>1.0</td><td>0.2</td><td>virginica</td></tr>\n",
              "\t<tr><td> 998</td><td>5.9</td><td>2.5</td><td>2.1</td><td>2.5</td><td>virginica</td></tr>\n",
              "\t<tr><td> 999</td><td>5.0</td><td>2.6</td><td>1.9</td><td>   </td><td>         </td></tr>\n",
              "\t<tr><td>1000</td><td>3.4</td><td>3.9</td><td>1.9</td><td>1.5</td><td>setosa   </td></tr>\n",
              "</tbody>\n",
              "</table>\n"
            ],
            "text/markdown": "\nA data.frame: 711 × 6\n\n| id &lt;int&gt; | sepal_length &lt;dbl&gt; | sepal_width &lt;dbl&gt; | petal_length &lt;dbl&gt; | petal_width &lt;chr&gt; | species &lt;chr&gt; |\n|---|---|---|---|---|---|\n|  1 | 3.5 | 2.9 | 1.4 | 0.5  | virginica |\n|  2 | 3.6 | 3.2 | 3.0 | 0.5  | setosa    |\n|  4 | 5.8 | 2.7 | 2.6 | 1.2  | virginica |\n|  5 | 4.9 | 3.6 | 3.0 | 1.2  | virginica |\n|  6 | 5.0 | 2.7 | 1.4 | 2.3  | setosa    |\n|  7 | 4.8 | 3.0 | 2.6 | 1.4  | setosa    |\n|  8 | 5.5 | 2.2 | 2.1 | 2.1  | virginica |\n|  9 | 5.5 | 2.9 | 1.1 | 3    | setosa    |\n| 11 | 3.7 | 2.1 | 1.4 | 1.3  | setosa    |\n| 13 | 4.7 | 2.0 | 1.2 | 1.9  | virginica |\n| 15 | 3.3 | 2.7 | 2.9 | 0.4  | setosa    |\n| 16 | 4.1 | 3.5 | 1.9 | 0.7  | virginica |\n| 17 | 4.6 | 2.9 | 2.1 | 2.6  | virginica |\n| 18 | 3.7 | 2.6 | 1.3 | 0.9  | setosa    |\n| 19 | 5.5 | 2.5 | 1.8 | 1.8  | virginica |\n| 20 | 3.7 | 2.4 | 1.2 | <!----> | setosa    |\n| 21 | 3.1 | 2.4 | 1.4 | 0.7  | setosa    |\n| 22 | 4.4 | 2.1 | 2.8 | 1.9  | virginica |\n| 23 | 5.7 | 3.0 | 2.5 | gg29 | setosa    |\n| 24 | 5.6 | 3.3 | 1.2 | 0.3  | virginica |\n| 25 | 3.2 | 3.3 | 2.0 | 0.7  | virginica |\n| 26 | 5.0 | 3.3 | 2.4 | 2.2  | virginica |\n| 27 | 3.9 | 3.2 | 2.7 | 0.1  | setosa    |\n| 29 | 5.8 | 2.6 | 2.3 | 2.3  | setosa    |\n| 30 | 4.7 | 3.7 | 1.8 | 2.7  | virginica |\n| 31 | 5.9 | 2.1 | 2.2 | 2.6  | <!----> |\n| 33 | 4.0 | 2.1 | 1.6 | 0.1  | virginica |\n| 34 | 5.6 | 2.9 | 2.4 | 1.3  | setosa    |\n| 36 | 3.1 | 3.4 | 2.0 | <!----> | setosa    |\n| 37 | 4.8 | 3.1 | 2.9 | 2.2  | virginica |\n| ⋮ | ⋮ | ⋮ | ⋮ | ⋮ | ⋮ |\n|  961 | 4.2 | 2.7 | 1.7 | 1.6 | virginica |\n|  962 | 4.8 | 3.9 | 1.3 | 1.7 | setosa    |\n|  963 | 5.2 | 2.1 | 3.0 | 0.7 | virginica |\n|  964 | 4.5 | 3.4 | 1.2 | <!----> | <!----> |\n|  965 | 5.8 | 2.4 | 1.3 | 2.2 | virginica |\n|  966 | 4.4 | 2.6 | 1.6 | 0.4 | virginica |\n|  967 | 4.6 | 3.3 | 2.3 | 1.3 | setosa    |\n|  968 | 3.3 | 2.2 | 1.5 | 2.6 | setosa    |\n|  969 | 4.1 | 3.0 | 2.9 | 0.3 | setosa    |\n|  970 | 4.6 | 2.2 | 2.5 | 0.7 | virginica |\n|  971 | 3.4 | 3.5 | 2.8 | 2.5 | <!----> |\n|  972 | 4.3 | 2.7 | 1.6 | 0   | setosa    |\n|  974 | 3.9 | 3.6 | 2.3 | <!----> | setosa    |\n|  975 | 3.8 | 2.4 | 3.0 | 2.5 | virginica |\n|  977 | 3.4 | 3.7 | 3.0 | 3   | setosa    |\n|  978 | 4.8 | 3.3 | 2.0 | 0.9 | virginica |\n|  981 | 3.6 | 2.6 | 2.3 | 0.9 | virginica |\n|  982 | 4.0 | 2.6 | 1.9 | <!----> | setosa    |\n|  984 | 5.9 | 2.4 | 1.1 | 2.3 | setosa    |\n|  985 | 3.3 | 2.4 | 1.6 | 2.8 | setosa    |\n|  986 | 4.6 | 3.9 | 2.4 | 1.8 | setosa    |\n|  987 | 3.2 | 2.8 | 1.5 | 2.9 | setosa    |\n|  989 | 5.5 | 2.6 | 2.6 | 0.5 | setosa    |\n|  990 | 3.8 | 3.6 | 1.4 | 0.6 | virginica |\n|  992 | 3.7 | 2.5 | 2.6 | 2.8 | virginica |\n|  994 | 4.5 | 3.7 | 1.2 | 0.3 | virginica |\n|  995 | 4.0 | 2.9 | 1.0 | 0.2 | virginica |\n|  998 | 5.9 | 2.5 | 2.1 | 2.5 | virginica |\n|  999 | 5.0 | 2.6 | 1.9 | <!----> | <!----> |\n| 1000 | 3.4 | 3.9 | 1.9 | 1.5 | setosa    |\n\n",
            "text/latex": "A data.frame: 711 × 6\n\\begin{tabular}{llllll}\n id & sepal\\_length & sepal\\_width & petal\\_length & petal\\_width & species\\\\\n <int> & <dbl> & <dbl> & <dbl> & <chr> & <chr>\\\\\n\\hline\n\t  1 & 3.5 & 2.9 & 1.4 & 0.5  & virginica\\\\\n\t  2 & 3.6 & 3.2 & 3.0 & 0.5  & setosa   \\\\\n\t  4 & 5.8 & 2.7 & 2.6 & 1.2  & virginica\\\\\n\t  5 & 4.9 & 3.6 & 3.0 & 1.2  & virginica\\\\\n\t  6 & 5.0 & 2.7 & 1.4 & 2.3  & setosa   \\\\\n\t  7 & 4.8 & 3.0 & 2.6 & 1.4  & setosa   \\\\\n\t  8 & 5.5 & 2.2 & 2.1 & 2.1  & virginica\\\\\n\t  9 & 5.5 & 2.9 & 1.1 & 3    & setosa   \\\\\n\t 11 & 3.7 & 2.1 & 1.4 & 1.3  & setosa   \\\\\n\t 13 & 4.7 & 2.0 & 1.2 & 1.9  & virginica\\\\\n\t 15 & 3.3 & 2.7 & 2.9 & 0.4  & setosa   \\\\\n\t 16 & 4.1 & 3.5 & 1.9 & 0.7  & virginica\\\\\n\t 17 & 4.6 & 2.9 & 2.1 & 2.6  & virginica\\\\\n\t 18 & 3.7 & 2.6 & 1.3 & 0.9  & setosa   \\\\\n\t 19 & 5.5 & 2.5 & 1.8 & 1.8  & virginica\\\\\n\t 20 & 3.7 & 2.4 & 1.2 &      & setosa   \\\\\n\t 21 & 3.1 & 2.4 & 1.4 & 0.7  & setosa   \\\\\n\t 22 & 4.4 & 2.1 & 2.8 & 1.9  & virginica\\\\\n\t 23 & 5.7 & 3.0 & 2.5 & gg29 & setosa   \\\\\n\t 24 & 5.6 & 3.3 & 1.2 & 0.3  & virginica\\\\\n\t 25 & 3.2 & 3.3 & 2.0 & 0.7  & virginica\\\\\n\t 26 & 5.0 & 3.3 & 2.4 & 2.2  & virginica\\\\\n\t 27 & 3.9 & 3.2 & 2.7 & 0.1  & setosa   \\\\\n\t 29 & 5.8 & 2.6 & 2.3 & 2.3  & setosa   \\\\\n\t 30 & 4.7 & 3.7 & 1.8 & 2.7  & virginica\\\\\n\t 31 & 5.9 & 2.1 & 2.2 & 2.6  &          \\\\\n\t 33 & 4.0 & 2.1 & 1.6 & 0.1  & virginica\\\\\n\t 34 & 5.6 & 2.9 & 2.4 & 1.3  & setosa   \\\\\n\t 36 & 3.1 & 3.4 & 2.0 &      & setosa   \\\\\n\t 37 & 4.8 & 3.1 & 2.9 & 2.2  & virginica\\\\\n\t ⋮ & ⋮ & ⋮ & ⋮ & ⋮ & ⋮\\\\\n\t  961 & 4.2 & 2.7 & 1.7 & 1.6 & virginica\\\\\n\t  962 & 4.8 & 3.9 & 1.3 & 1.7 & setosa   \\\\\n\t  963 & 5.2 & 2.1 & 3.0 & 0.7 & virginica\\\\\n\t  964 & 4.5 & 3.4 & 1.2 &     &          \\\\\n\t  965 & 5.8 & 2.4 & 1.3 & 2.2 & virginica\\\\\n\t  966 & 4.4 & 2.6 & 1.6 & 0.4 & virginica\\\\\n\t  967 & 4.6 & 3.3 & 2.3 & 1.3 & setosa   \\\\\n\t  968 & 3.3 & 2.2 & 1.5 & 2.6 & setosa   \\\\\n\t  969 & 4.1 & 3.0 & 2.9 & 0.3 & setosa   \\\\\n\t  970 & 4.6 & 2.2 & 2.5 & 0.7 & virginica\\\\\n\t  971 & 3.4 & 3.5 & 2.8 & 2.5 &          \\\\\n\t  972 & 4.3 & 2.7 & 1.6 & 0   & setosa   \\\\\n\t  974 & 3.9 & 3.6 & 2.3 &     & setosa   \\\\\n\t  975 & 3.8 & 2.4 & 3.0 & 2.5 & virginica\\\\\n\t  977 & 3.4 & 3.7 & 3.0 & 3   & setosa   \\\\\n\t  978 & 4.8 & 3.3 & 2.0 & 0.9 & virginica\\\\\n\t  981 & 3.6 & 2.6 & 2.3 & 0.9 & virginica\\\\\n\t  982 & 4.0 & 2.6 & 1.9 &     & setosa   \\\\\n\t  984 & 5.9 & 2.4 & 1.1 & 2.3 & setosa   \\\\\n\t  985 & 3.3 & 2.4 & 1.6 & 2.8 & setosa   \\\\\n\t  986 & 4.6 & 3.9 & 2.4 & 1.8 & setosa   \\\\\n\t  987 & 3.2 & 2.8 & 1.5 & 2.9 & setosa   \\\\\n\t  989 & 5.5 & 2.6 & 2.6 & 0.5 & setosa   \\\\\n\t  990 & 3.8 & 3.6 & 1.4 & 0.6 & virginica\\\\\n\t  992 & 3.7 & 2.5 & 2.6 & 2.8 & virginica\\\\\n\t  994 & 4.5 & 3.7 & 1.2 & 0.3 & virginica\\\\\n\t  995 & 4.0 & 2.9 & 1.0 & 0.2 & virginica\\\\\n\t  998 & 5.9 & 2.5 & 2.1 & 2.5 & virginica\\\\\n\t  999 & 5.0 & 2.6 & 1.9 &     &          \\\\\n\t 1000 & 3.4 & 3.9 & 1.9 & 1.5 & setosa   \\\\\n\\end{tabular}\n",
            "text/plain": [
              "    id   sepal_length sepal_width petal_length petal_width species  \n",
              "1    1   3.5          2.9         1.4          0.5         virginica\n",
              "2    2   3.6          3.2         3.0          0.5         setosa   \n",
              "3    4   5.8          2.7         2.6          1.2         virginica\n",
              "4    5   4.9          3.6         3.0          1.2         virginica\n",
              "5    6   5.0          2.7         1.4          2.3         setosa   \n",
              "6    7   4.8          3.0         2.6          1.4         setosa   \n",
              "7    8   5.5          2.2         2.1          2.1         virginica\n",
              "8    9   5.5          2.9         1.1          3           setosa   \n",
              "9   11   3.7          2.1         1.4          1.3         setosa   \n",
              "10  13   4.7          2.0         1.2          1.9         virginica\n",
              "11  15   3.3          2.7         2.9          0.4         setosa   \n",
              "12  16   4.1          3.5         1.9          0.7         virginica\n",
              "13  17   4.6          2.9         2.1          2.6         virginica\n",
              "14  18   3.7          2.6         1.3          0.9         setosa   \n",
              "15  19   5.5          2.5         1.8          1.8         virginica\n",
              "16  20   3.7          2.4         1.2                      setosa   \n",
              "17  21   3.1          2.4         1.4          0.7         setosa   \n",
              "18  22   4.4          2.1         2.8          1.9         virginica\n",
              "19  23   5.7          3.0         2.5          gg29        setosa   \n",
              "20  24   5.6          3.3         1.2          0.3         virginica\n",
              "21  25   3.2          3.3         2.0          0.7         virginica\n",
              "22  26   5.0          3.3         2.4          2.2         virginica\n",
              "23  27   3.9          3.2         2.7          0.1         setosa   \n",
              "24  29   5.8          2.6         2.3          2.3         setosa   \n",
              "25  30   4.7          3.7         1.8          2.7         virginica\n",
              "26  31   5.9          2.1         2.2          2.6                  \n",
              "27  33   4.0          2.1         1.6          0.1         virginica\n",
              "28  34   5.6          2.9         2.4          1.3         setosa   \n",
              "29  36   3.1          3.4         2.0                      setosa   \n",
              "30  37   4.8          3.1         2.9          2.2         virginica\n",
              "⋮   ⋮    ⋮            ⋮           ⋮            ⋮           ⋮        \n",
              "682  961 4.2          2.7         1.7          1.6         virginica\n",
              "683  962 4.8          3.9         1.3          1.7         setosa   \n",
              "684  963 5.2          2.1         3.0          0.7         virginica\n",
              "685  964 4.5          3.4         1.2                               \n",
              "686  965 5.8          2.4         1.3          2.2         virginica\n",
              "687  966 4.4          2.6         1.6          0.4         virginica\n",
              "688  967 4.6          3.3         2.3          1.3         setosa   \n",
              "689  968 3.3          2.2         1.5          2.6         setosa   \n",
              "690  969 4.1          3.0         2.9          0.3         setosa   \n",
              "691  970 4.6          2.2         2.5          0.7         virginica\n",
              "692  971 3.4          3.5         2.8          2.5                  \n",
              "693  972 4.3          2.7         1.6          0           setosa   \n",
              "694  974 3.9          3.6         2.3                      setosa   \n",
              "695  975 3.8          2.4         3.0          2.5         virginica\n",
              "696  977 3.4          3.7         3.0          3           setosa   \n",
              "697  978 4.8          3.3         2.0          0.9         virginica\n",
              "698  981 3.6          2.6         2.3          0.9         virginica\n",
              "699  982 4.0          2.6         1.9                      setosa   \n",
              "700  984 5.9          2.4         1.1          2.3         setosa   \n",
              "701  985 3.3          2.4         1.6          2.8         setosa   \n",
              "702  986 4.6          3.9         2.4          1.8         setosa   \n",
              "703  987 3.2          2.8         1.5          2.9         setosa   \n",
              "704  989 5.5          2.6         2.6          0.5         setosa   \n",
              "705  990 3.8          3.6         1.4          0.6         virginica\n",
              "706  992 3.7          2.5         2.6          2.8         virginica\n",
              "707  994 4.5          3.7         1.2          0.3         virginica\n",
              "708  995 4.0          2.9         1.0          0.2         virginica\n",
              "709  998 5.9          2.5         2.1          2.5         virginica\n",
              "710  999 5.0          2.6         1.9                               \n",
              "711 1000 3.4          3.9         1.9          1.5         setosa   "
            ]
          },
          "metadata": {}
        }
      ]
    },
    {
      "cell_type": "markdown",
      "source": [
        "### Look for Irregularities\n",
        "\n",
        "Sometimes a row value will be out of the bounds of expected data values. A good example of this might be a `logical` column where you expect to see `TRUE` and `FALSE`. It's useful to look at a list of the distinct values from a column. Use the `unique()` function to return these."
      ],
      "metadata": {
        "id": "_dgJNtovCLv6"
      }
    },
    {
      "cell_type": "code",
      "source": [
        "unique(df2$id)\n",
        "unique(df2$sepal_length)\n",
        "unique(df2$petal_width)\n",
        "unique(df2$petal_length)\n",
        "unique(df2$sepal_width)\n",
        "unique(df2$species)"
      ],
      "metadata": {
        "id": "7CU8EpepCLZI",
        "colab": {
          "base_uri": "https://localhost:8080/",
          "height": 277
        },
        "outputId": "15249634-0417-4fc7-9857-3e2246f655ee"
      },
      "execution_count": 58,
      "outputs": [
        {
          "output_type": "display_data",
          "data": {
            "text/html": [
              "<style>\n",
              ".list-inline {list-style: none; margin:0; padding: 0}\n",
              ".list-inline>li {display: inline-block}\n",
              ".list-inline>li:not(:last-child)::after {content: \"\\00b7\"; padding: 0 .5ex}\n",
              "</style>\n",
              "<ol class=list-inline><li>1</li><li>2</li><li>4</li><li>5</li><li>6</li><li>7</li><li>8</li><li>9</li><li>11</li><li>13</li><li>15</li><li>16</li><li>17</li><li>18</li><li>19</li><li>20</li><li>21</li><li>22</li><li>23</li><li>24</li><li>25</li><li>26</li><li>27</li><li>29</li><li>30</li><li>31</li><li>33</li><li>34</li><li>36</li><li>37</li><li>38</li><li>39</li><li>40</li><li>41</li><li>42</li><li>44</li><li>45</li><li>46</li><li>47</li><li>48</li><li>49</li><li>50</li><li>52</li><li>53</li><li>55</li><li>56</li><li>58</li><li>60</li><li>61</li><li>62</li><li>63</li><li>64</li><li>66</li><li>67</li><li>68</li><li>69</li><li>70</li><li>71</li><li>72</li><li>73</li><li>76</li><li>77</li><li>78</li><li>79</li><li>80</li><li>81</li><li>82</li><li>84</li><li>85</li><li>86</li><li>87</li><li>89</li><li>90</li><li>91</li><li>92</li><li>93</li><li>94</li><li>95</li><li>96</li><li>97</li><li>100</li><li>102</li><li>103</li><li>104</li><li>107</li><li>108</li><li>109</li><li>110</li><li>111</li><li>112</li><li>113</li><li>114</li><li>116</li><li>117</li><li>118</li><li>119</li><li>120</li><li>121</li><li>122</li><li>123</li><li>124</li><li>125</li><li>126</li><li>127</li><li>128</li><li>129</li><li>131</li><li>134</li><li>135</li><li>137</li><li>138</li><li>139</li><li>140</li><li>141</li><li>143</li><li>144</li><li>145</li><li>147</li><li>151</li><li>154</li><li>155</li><li>156</li><li>157</li><li>158</li><li>159</li><li>160</li><li>161</li><li>162</li><li>164</li><li>165</li><li>166</li><li>167</li><li>168</li><li>169</li><li>170</li><li>171</li><li>172</li><li>173</li><li>174</li><li>175</li><li>178</li><li>180</li><li>182</li><li>183</li><li>184</li><li>185</li><li>187</li><li>188</li><li>189</li><li>190</li><li>191</li><li>192</li><li>193</li><li>196</li><li>197</li><li>198</li><li>200</li><li>201</li><li>202</li><li>203</li><li>204</li><li>205</li><li>206</li><li>207</li><li>208</li><li>210</li><li>212</li><li>213</li><li>214</li><li>215</li><li>216</li><li>217</li><li>218</li><li>220</li><li>222</li><li>224</li><li>225</li><li>226</li><li>227</li><li>228</li><li>229</li><li>232</li><li>233</li><li>235</li><li>237</li><li>239</li><li>240</li><li>241</li><li>242</li><li>243</li><li>245</li><li>246</li><li>248</li><li>249</li><li>250</li><li>251</li><li>252</li><li>253</li><li>254</li><li>255</li><li>⋯</li><li>712</li><li>713</li><li>714</li><li>717</li><li>718</li><li>719</li><li>721</li><li>722</li><li>723</li><li>725</li><li>726</li><li>728</li><li>729</li><li>730</li><li>733</li><li>736</li><li>737</li><li>738</li><li>739</li><li>740</li><li>742</li><li>743</li><li>745</li><li>746</li><li>747</li><li>749</li><li>750</li><li>751</li><li>752</li><li>753</li><li>754</li><li>756</li><li>757</li><li>758</li><li>759</li><li>760</li><li>761</li><li>762</li><li>763</li><li>764</li><li>765</li><li>766</li><li>768</li><li>771</li><li>773</li><li>774</li><li>775</li><li>777</li><li>779</li><li>784</li><li>786</li><li>788</li><li>790</li><li>791</li><li>792</li><li>794</li><li>796</li><li>797</li><li>798</li><li>799</li><li>800</li><li>802</li><li>804</li><li>805</li><li>806</li><li>807</li><li>808</li><li>810</li><li>811</li><li>812</li><li>813</li><li>815</li><li>817</li><li>818</li><li>819</li><li>820</li><li>821</li><li>822</li><li>826</li><li>828</li><li>832</li><li>833</li><li>834</li><li>835</li><li>836</li><li>837</li><li>838</li><li>840</li><li>841</li><li>844</li><li>845</li><li>846</li><li>849</li><li>853</li><li>854</li><li>855</li><li>856</li><li>857</li><li>858</li><li>859</li><li>860</li><li>861</li><li>864</li><li>865</li><li>866</li><li>869</li><li>870</li><li>872</li><li>873</li><li>874</li><li>878</li><li>879</li><li>880</li><li>882</li><li>884</li><li>886</li><li>887</li><li>889</li><li>890</li><li>891</li><li>893</li><li>894</li><li>895</li><li>897</li><li>899</li><li>902</li><li>903</li><li>904</li><li>905</li><li>906</li><li>908</li><li>909</li><li>911</li><li>912</li><li>914</li><li>917</li><li>918</li><li>919</li><li>920</li><li>921</li><li>922</li><li>923</li><li>926</li><li>928</li><li>929</li><li>930</li><li>931</li><li>932</li><li>933</li><li>934</li><li>935</li><li>936</li><li>938</li><li>939</li><li>940</li><li>941</li><li>942</li><li>943</li><li>944</li><li>945</li><li>946</li><li>947</li><li>948</li><li>950</li><li>951</li><li>952</li><li>953</li><li>956</li><li>957</li><li>959</li><li>961</li><li>962</li><li>963</li><li>964</li><li>965</li><li>966</li><li>967</li><li>968</li><li>969</li><li>970</li><li>971</li><li>972</li><li>974</li><li>975</li><li>977</li><li>978</li><li>981</li><li>982</li><li>984</li><li>985</li><li>986</li><li>987</li><li>989</li><li>990</li><li>992</li><li>994</li><li>995</li><li>998</li><li>999</li><li>1000</li></ol>\n"
            ],
            "text/markdown": "1. 1\n2. 2\n3. 4\n4. 5\n5. 6\n6. 7\n7. 8\n8. 9\n9. 11\n10. 13\n11. 15\n12. 16\n13. 17\n14. 18\n15. 19\n16. 20\n17. 21\n18. 22\n19. 23\n20. 24\n21. 25\n22. 26\n23. 27\n24. 29\n25. 30\n26. 31\n27. 33\n28. 34\n29. 36\n30. 37\n31. 38\n32. 39\n33. 40\n34. 41\n35. 42\n36. 44\n37. 45\n38. 46\n39. 47\n40. 48\n41. 49\n42. 50\n43. 52\n44. 53\n45. 55\n46. 56\n47. 58\n48. 60\n49. 61\n50. 62\n51. 63\n52. 64\n53. 66\n54. 67\n55. 68\n56. 69\n57. 70\n58. 71\n59. 72\n60. 73\n61. 76\n62. 77\n63. 78\n64. 79\n65. 80\n66. 81\n67. 82\n68. 84\n69. 85\n70. 86\n71. 87\n72. 89\n73. 90\n74. 91\n75. 92\n76. 93\n77. 94\n78. 95\n79. 96\n80. 97\n81. 100\n82. 102\n83. 103\n84. 104\n85. 107\n86. 108\n87. 109\n88. 110\n89. 111\n90. 112\n91. 113\n92. 114\n93. 116\n94. 117\n95. 118\n96. 119\n97. 120\n98. 121\n99. 122\n100. 123\n101. 124\n102. 125\n103. 126\n104. 127\n105. 128\n106. 129\n107. 131\n108. 134\n109. 135\n110. 137\n111. 138\n112. 139\n113. 140\n114. 141\n115. 143\n116. 144\n117. 145\n118. 147\n119. 151\n120. 154\n121. 155\n122. 156\n123. 157\n124. 158\n125. 159\n126. 160\n127. 161\n128. 162\n129. 164\n130. 165\n131. 166\n132. 167\n133. 168\n134. 169\n135. 170\n136. 171\n137. 172\n138. 173\n139. 174\n140. 175\n141. 178\n142. 180\n143. 182\n144. 183\n145. 184\n146. 185\n147. 187\n148. 188\n149. 189\n150. 190\n151. 191\n152. 192\n153. 193\n154. 196\n155. 197\n156. 198\n157. 200\n158. 201\n159. 202\n160. 203\n161. 204\n162. 205\n163. 206\n164. 207\n165. 208\n166. 210\n167. 212\n168. 213\n169. 214\n170. 215\n171. 216\n172. 217\n173. 218\n174. 220\n175. 222\n176. 224\n177. 225\n178. 226\n179. 227\n180. 228\n181. 229\n182. 232\n183. 233\n184. 235\n185. 237\n186. 239\n187. 240\n188. 241\n189. 242\n190. 243\n191. 245\n192. 246\n193. 248\n194. 249\n195. 250\n196. 251\n197. 252\n198. 253\n199. 254\n200. 255\n201. ⋯\n202. 712\n203. 713\n204. 714\n205. 717\n206. 718\n207. 719\n208. 721\n209. 722\n210. 723\n211. 725\n212. 726\n213. 728\n214. 729\n215. 730\n216. 733\n217. 736\n218. 737\n219. 738\n220. 739\n221. 740\n222. 742\n223. 743\n224. 745\n225. 746\n226. 747\n227. 749\n228. 750\n229. 751\n230. 752\n231. 753\n232. 754\n233. 756\n234. 757\n235. 758\n236. 759\n237. 760\n238. 761\n239. 762\n240. 763\n241. 764\n242. 765\n243. 766\n244. 768\n245. 771\n246. 773\n247. 774\n248. 775\n249. 777\n250. 779\n251. 784\n252. 786\n253. 788\n254. 790\n255. 791\n256. 792\n257. 794\n258. 796\n259. 797\n260. 798\n261. 799\n262. 800\n263. 802\n264. 804\n265. 805\n266. 806\n267. 807\n268. 808\n269. 810\n270. 811\n271. 812\n272. 813\n273. 815\n274. 817\n275. 818\n276. 819\n277. 820\n278. 821\n279. 822\n280. 826\n281. 828\n282. 832\n283. 833\n284. 834\n285. 835\n286. 836\n287. 837\n288. 838\n289. 840\n290. 841\n291. 844\n292. 845\n293. 846\n294. 849\n295. 853\n296. 854\n297. 855\n298. 856\n299. 857\n300. 858\n301. 859\n302. 860\n303. 861\n304. 864\n305. 865\n306. 866\n307. 869\n308. 870\n309. 872\n310. 873\n311. 874\n312. 878\n313. 879\n314. 880\n315. 882\n316. 884\n317. 886\n318. 887\n319. 889\n320. 890\n321. 891\n322. 893\n323. 894\n324. 895\n325. 897\n326. 899\n327. 902\n328. 903\n329. 904\n330. 905\n331. 906\n332. 908\n333. 909\n334. 911\n335. 912\n336. 914\n337. 917\n338. 918\n339. 919\n340. 920\n341. 921\n342. 922\n343. 923\n344. 926\n345. 928\n346. 929\n347. 930\n348. 931\n349. 932\n350. 933\n351. 934\n352. 935\n353. 936\n354. 938\n355. 939\n356. 940\n357. 941\n358. 942\n359. 943\n360. 944\n361. 945\n362. 946\n363. 947\n364. 948\n365. 950\n366. 951\n367. 952\n368. 953\n369. 956\n370. 957\n371. 959\n372. 961\n373. 962\n374. 963\n375. 964\n376. 965\n377. 966\n378. 967\n379. 968\n380. 969\n381. 970\n382. 971\n383. 972\n384. 974\n385. 975\n386. 977\n387. 978\n388. 981\n389. 982\n390. 984\n391. 985\n392. 986\n393. 987\n394. 989\n395. 990\n396. 992\n397. 994\n398. 995\n399. 998\n400. 999\n401. 1000\n\n\n",
            "text/latex": "\\begin{enumerate*}\n\\item 1\n\\item 2\n\\item 4\n\\item 5\n\\item 6\n\\item 7\n\\item 8\n\\item 9\n\\item 11\n\\item 13\n\\item 15\n\\item 16\n\\item 17\n\\item 18\n\\item 19\n\\item 20\n\\item 21\n\\item 22\n\\item 23\n\\item 24\n\\item 25\n\\item 26\n\\item 27\n\\item 29\n\\item 30\n\\item 31\n\\item 33\n\\item 34\n\\item 36\n\\item 37\n\\item 38\n\\item 39\n\\item 40\n\\item 41\n\\item 42\n\\item 44\n\\item 45\n\\item 46\n\\item 47\n\\item 48\n\\item 49\n\\item 50\n\\item 52\n\\item 53\n\\item 55\n\\item 56\n\\item 58\n\\item 60\n\\item 61\n\\item 62\n\\item 63\n\\item 64\n\\item 66\n\\item 67\n\\item 68\n\\item 69\n\\item 70\n\\item 71\n\\item 72\n\\item 73\n\\item 76\n\\item 77\n\\item 78\n\\item 79\n\\item 80\n\\item 81\n\\item 82\n\\item 84\n\\item 85\n\\item 86\n\\item 87\n\\item 89\n\\item 90\n\\item 91\n\\item 92\n\\item 93\n\\item 94\n\\item 95\n\\item 96\n\\item 97\n\\item 100\n\\item 102\n\\item 103\n\\item 104\n\\item 107\n\\item 108\n\\item 109\n\\item 110\n\\item 111\n\\item 112\n\\item 113\n\\item 114\n\\item 116\n\\item 117\n\\item 118\n\\item 119\n\\item 120\n\\item 121\n\\item 122\n\\item 123\n\\item 124\n\\item 125\n\\item 126\n\\item 127\n\\item 128\n\\item 129\n\\item 131\n\\item 134\n\\item 135\n\\item 137\n\\item 138\n\\item 139\n\\item 140\n\\item 141\n\\item 143\n\\item 144\n\\item 145\n\\item 147\n\\item 151\n\\item 154\n\\item 155\n\\item 156\n\\item 157\n\\item 158\n\\item 159\n\\item 160\n\\item 161\n\\item 162\n\\item 164\n\\item 165\n\\item 166\n\\item 167\n\\item 168\n\\item 169\n\\item 170\n\\item 171\n\\item 172\n\\item 173\n\\item 174\n\\item 175\n\\item 178\n\\item 180\n\\item 182\n\\item 183\n\\item 184\n\\item 185\n\\item 187\n\\item 188\n\\item 189\n\\item 190\n\\item 191\n\\item 192\n\\item 193\n\\item 196\n\\item 197\n\\item 198\n\\item 200\n\\item 201\n\\item 202\n\\item 203\n\\item 204\n\\item 205\n\\item 206\n\\item 207\n\\item 208\n\\item 210\n\\item 212\n\\item 213\n\\item 214\n\\item 215\n\\item 216\n\\item 217\n\\item 218\n\\item 220\n\\item 222\n\\item 224\n\\item 225\n\\item 226\n\\item 227\n\\item 228\n\\item 229\n\\item 232\n\\item 233\n\\item 235\n\\item 237\n\\item 239\n\\item 240\n\\item 241\n\\item 242\n\\item 243\n\\item 245\n\\item 246\n\\item 248\n\\item 249\n\\item 250\n\\item 251\n\\item 252\n\\item 253\n\\item 254\n\\item 255\n\\item ⋯\n\\item 712\n\\item 713\n\\item 714\n\\item 717\n\\item 718\n\\item 719\n\\item 721\n\\item 722\n\\item 723\n\\item 725\n\\item 726\n\\item 728\n\\item 729\n\\item 730\n\\item 733\n\\item 736\n\\item 737\n\\item 738\n\\item 739\n\\item 740\n\\item 742\n\\item 743\n\\item 745\n\\item 746\n\\item 747\n\\item 749\n\\item 750\n\\item 751\n\\item 752\n\\item 753\n\\item 754\n\\item 756\n\\item 757\n\\item 758\n\\item 759\n\\item 760\n\\item 761\n\\item 762\n\\item 763\n\\item 764\n\\item 765\n\\item 766\n\\item 768\n\\item 771\n\\item 773\n\\item 774\n\\item 775\n\\item 777\n\\item 779\n\\item 784\n\\item 786\n\\item 788\n\\item 790\n\\item 791\n\\item 792\n\\item 794\n\\item 796\n\\item 797\n\\item 798\n\\item 799\n\\item 800\n\\item 802\n\\item 804\n\\item 805\n\\item 806\n\\item 807\n\\item 808\n\\item 810\n\\item 811\n\\item 812\n\\item 813\n\\item 815\n\\item 817\n\\item 818\n\\item 819\n\\item 820\n\\item 821\n\\item 822\n\\item 826\n\\item 828\n\\item 832\n\\item 833\n\\item 834\n\\item 835\n\\item 836\n\\item 837\n\\item 838\n\\item 840\n\\item 841\n\\item 844\n\\item 845\n\\item 846\n\\item 849\n\\item 853\n\\item 854\n\\item 855\n\\item 856\n\\item 857\n\\item 858\n\\item 859\n\\item 860\n\\item 861\n\\item 864\n\\item 865\n\\item 866\n\\item 869\n\\item 870\n\\item 872\n\\item 873\n\\item 874\n\\item 878\n\\item 879\n\\item 880\n\\item 882\n\\item 884\n\\item 886\n\\item 887\n\\item 889\n\\item 890\n\\item 891\n\\item 893\n\\item 894\n\\item 895\n\\item 897\n\\item 899\n\\item 902\n\\item 903\n\\item 904\n\\item 905\n\\item 906\n\\item 908\n\\item 909\n\\item 911\n\\item 912\n\\item 914\n\\item 917\n\\item 918\n\\item 919\n\\item 920\n\\item 921\n\\item 922\n\\item 923\n\\item 926\n\\item 928\n\\item 929\n\\item 930\n\\item 931\n\\item 932\n\\item 933\n\\item 934\n\\item 935\n\\item 936\n\\item 938\n\\item 939\n\\item 940\n\\item 941\n\\item 942\n\\item 943\n\\item 944\n\\item 945\n\\item 946\n\\item 947\n\\item 948\n\\item 950\n\\item 951\n\\item 952\n\\item 953\n\\item 956\n\\item 957\n\\item 959\n\\item 961\n\\item 962\n\\item 963\n\\item 964\n\\item 965\n\\item 966\n\\item 967\n\\item 968\n\\item 969\n\\item 970\n\\item 971\n\\item 972\n\\item 974\n\\item 975\n\\item 977\n\\item 978\n\\item 981\n\\item 982\n\\item 984\n\\item 985\n\\item 986\n\\item 987\n\\item 989\n\\item 990\n\\item 992\n\\item 994\n\\item 995\n\\item 998\n\\item 999\n\\item 1000\n\\end{enumerate*}\n",
            "text/plain": [
              "  [1]    1    2    4    5    6    7    8    9   11   13   15   16   17   18   19\n",
              " [16]   20   21   22   23   24   25   26   27   29   30   31   33   34   36   37\n",
              " [31]   38   39   40   41   42   44   45   46   47   48   49   50   52   53   55\n",
              " [46]   56   58   60   61   62   63   64   66   67   68   69   70   71   72   73\n",
              " [61]   76   77   78   79   80   81   82   84   85   86   87   89   90   91   92\n",
              " [76]   93   94   95   96   97  100  102  103  104  107  108  109  110  111  112\n",
              " [91]  113  114  116  117  118  119  120  121  122  123  124  125  126  127  128\n",
              "[106]  129  131  134  135  137  138  139  140  141  143  144  145  147  151  154\n",
              "[121]  155  156  157  158  159  160  161  162  164  165  166  167  168  169  170\n",
              "[136]  171  172  173  174  175  178  180  182  183  184  185  187  188  189  190\n",
              "[151]  191  192  193  196  197  198  200  201  202  203  204  205  206  207  208\n",
              "[166]  210  212  213  214  215  216  217  218  220  222  224  225  226  227  228\n",
              "[181]  229  232  233  235  237  239  240  241  242  243  245  246  248  249  250\n",
              "[196]  251  252  253  254  255  256  261  262  263  264  267  269  270  271  273\n",
              "[211]  274  275  276  277  279  281  282  284  285  286  287  288  289  290  292\n",
              "[226]  293  295  296  298  299  300  303  304  307  308  310  311  312  314  315\n",
              "[241]  319  320  321  322  323  324  326  327  328  329  330  331  333  334  335\n",
              "[256]  336  337  339  342  344  345  346  347  348  349  350  351  352  353  355\n",
              "[271]  358  359  360  361  362  364  366  370  371  372  373  374  375  376  378\n",
              "[286]  379  380  381  382  383  384  385  386  387  388  389  390  393  395  397\n",
              "[301]  398  399  401  403  404  407  409  410  411  413  414  416  417  420  421\n",
              "[316]  422  424  425  426  427  428  429  431  433  434  435  438  439  440  442\n",
              "[331]  443  445  446  447  449  450  451  453  454  457  459  460  461  466  468\n",
              "[346]  470  471  472  473  474  476  477  479  480  481  484  485  486  487  488\n",
              "[361]  489  490  491  493  494  495  496  498  500  502  503  506  507  509  510\n",
              "[376]  511  512  513  514  515  516  517  518  520  521  523  524  525  526  530\n",
              "[391]  531  532  533  534  537  538  539  544  545  547  548  549  550  551  554\n",
              "[406]  556  557  558  560  564  565  566  567  568  569  570  572  573  574  575\n",
              "[421]  576  578  579  581  582  584  585  587  588  589  590  591  592  593  594\n",
              "[436]  595  596  597  599  601  604  605  608  609  611  612  613  614  618  619\n",
              "[451]  620  623  626  627  628  630  631  632  634  635  639  640  641  642  643\n",
              "[466]  645  646  647  648  650  652  654  655  656  658  659  660  661  662  663\n",
              "[481]  665  666  667  668  669  670  671  673  674  676  677  678  679  680  684\n",
              "[496]  686  687  690  691  692  693  694  696  697  698  699  700  703  704  706\n",
              "[511]  710  712  713  714  717  718  719  721  722  723  725  726  728  729  730\n",
              "[526]  733  736  737  738  739  740  742  743  745  746  747  749  750  751  752\n",
              "[541]  753  754  756  757  758  759  760  761  762  763  764  765  766  768  771\n",
              "[556]  773  774  775  777  779  784  786  788  790  791  792  794  796  797  798\n",
              "[571]  799  800  802  804  805  806  807  808  810  811  812  813  815  817  818\n",
              "[586]  819  820  821  822  826  828  832  833  834  835  836  837  838  840  841\n",
              "[601]  844  845  846  849  853  854  855  856  857  858  859  860  861  864  865\n",
              "[616]  866  869  870  872  873  874  878  879  880  882  884  886  887  889  890\n",
              "[631]  891  893  894  895  897  899  902  903  904  905  906  908  909  911  912\n",
              "[646]  914  917  918  919  920  921  922  923  926  928  929  930  931  932  933\n",
              "[661]  934  935  936  938  939  940  941  942  943  944  945  946  947  948  950\n",
              "[676]  951  952  953  956  957  959  961  962  963  964  965  966  967  968  969\n",
              "[691]  970  971  972  974  975  977  978  981  982  984  985  986  987  989  990\n",
              "[706]  992  994  995  998  999 1000"
            ]
          },
          "metadata": {}
        },
        {
          "output_type": "display_data",
          "data": {
            "text/html": [
              "<style>\n",
              ".list-inline {list-style: none; margin:0; padding: 0}\n",
              ".list-inline>li {display: inline-block}\n",
              ".list-inline>li:not(:last-child)::after {content: \"\\00b7\"; padding: 0 .5ex}\n",
              "</style>\n",
              "<ol class=list-inline><li>3.5</li><li>3.6</li><li>5.8</li><li>4.9</li><li>5</li><li>4.8</li><li>5.5</li><li>3.7</li><li>4.7</li><li>3.3</li><li>4.1</li><li>4.6</li><li>3.1</li><li>4.4</li><li>5.7</li><li>5.6</li><li>3.2</li><li>3.9</li><li>5.9</li><li>4</li><li>5.4</li><li>5.3</li><li>5.2</li><li>3</li><li>4.3</li><li>3.8</li><li>5.1</li><li>4.2</li><li>3.4</li><li>6</li><li>4.5</li></ol>\n"
            ],
            "text/markdown": "1. 3.5\n2. 3.6\n3. 5.8\n4. 4.9\n5. 5\n6. 4.8\n7. 5.5\n8. 3.7\n9. 4.7\n10. 3.3\n11. 4.1\n12. 4.6\n13. 3.1\n14. 4.4\n15. 5.7\n16. 5.6\n17. 3.2\n18. 3.9\n19. 5.9\n20. 4\n21. 5.4\n22. 5.3\n23. 5.2\n24. 3\n25. 4.3\n26. 3.8\n27. 5.1\n28. 4.2\n29. 3.4\n30. 6\n31. 4.5\n\n\n",
            "text/latex": "\\begin{enumerate*}\n\\item 3.5\n\\item 3.6\n\\item 5.8\n\\item 4.9\n\\item 5\n\\item 4.8\n\\item 5.5\n\\item 3.7\n\\item 4.7\n\\item 3.3\n\\item 4.1\n\\item 4.6\n\\item 3.1\n\\item 4.4\n\\item 5.7\n\\item 5.6\n\\item 3.2\n\\item 3.9\n\\item 5.9\n\\item 4\n\\item 5.4\n\\item 5.3\n\\item 5.2\n\\item 3\n\\item 4.3\n\\item 3.8\n\\item 5.1\n\\item 4.2\n\\item 3.4\n\\item 6\n\\item 4.5\n\\end{enumerate*}\n",
            "text/plain": [
              " [1] 3.5 3.6 5.8 4.9 5.0 4.8 5.5 3.7 4.7 3.3 4.1 4.6 3.1 4.4 5.7 5.6 3.2 3.9 5.9\n",
              "[20] 4.0 5.4 5.3 5.2 3.0 4.3 3.8 5.1 4.2 3.4 6.0 4.5"
            ]
          },
          "metadata": {}
        },
        {
          "output_type": "display_data",
          "data": {
            "text/html": [
              "<style>\n",
              ".list-inline {list-style: none; margin:0; padding: 0}\n",
              ".list-inline>li {display: inline-block}\n",
              ".list-inline>li:not(:last-child)::after {content: \"\\00b7\"; padding: 0 .5ex}\n",
              "</style>\n",
              "<ol class=list-inline><li>0.5</li><li>1.2</li><li>2.3</li><li>1.4</li><li>2.1</li><li>3</li><li>1.3</li><li>1.9</li><li>0.4</li><li>0.7</li><li>2.6</li><li>0.9</li><li>1.8</li><li>1.56872110939908</li><li>0.3</li><li>2.2</li><li>0.1</li><li>2.7</li><li>1</li><li>1.6</li><li>2.4</li><li>2.9</li><li>2</li><li>0.6</li><li>0.8</li><li>2.8</li><li>0.2</li><li>1.7</li><li>1.5</li><li>2.5</li><li>0</li><li>1.1</li></ol>\n"
            ],
            "text/markdown": "1. 0.5\n2. 1.2\n3. 2.3\n4. 1.4\n5. 2.1\n6. 3\n7. 1.3\n8. 1.9\n9. 0.4\n10. 0.7\n11. 2.6\n12. 0.9\n13. 1.8\n14. 1.56872110939908\n15. 0.3\n16. 2.2\n17. 0.1\n18. 2.7\n19. 1\n20. 1.6\n21. 2.4\n22. 2.9\n23. 2\n24. 0.6\n25. 0.8\n26. 2.8\n27. 0.2\n28. 1.7\n29. 1.5\n30. 2.5\n31. 0\n32. 1.1\n\n\n",
            "text/latex": "\\begin{enumerate*}\n\\item 0.5\n\\item 1.2\n\\item 2.3\n\\item 1.4\n\\item 2.1\n\\item 3\n\\item 1.3\n\\item 1.9\n\\item 0.4\n\\item 0.7\n\\item 2.6\n\\item 0.9\n\\item 1.8\n\\item 1.56872110939908\n\\item 0.3\n\\item 2.2\n\\item 0.1\n\\item 2.7\n\\item 1\n\\item 1.6\n\\item 2.4\n\\item 2.9\n\\item 2\n\\item 0.6\n\\item 0.8\n\\item 2.8\n\\item 0.2\n\\item 1.7\n\\item 1.5\n\\item 2.5\n\\item 0\n\\item 1.1\n\\end{enumerate*}\n",
            "text/plain": [
              " [1] 0.500000 1.200000 2.300000 1.400000 2.100000 3.000000 1.300000 1.900000\n",
              " [9] 0.400000 0.700000 2.600000 0.900000 1.800000 1.568721 0.300000 2.200000\n",
              "[17] 0.100000 2.700000 1.000000 1.600000 2.400000 2.900000 2.000000 0.600000\n",
              "[25] 0.800000 2.800000 0.200000 1.700000 1.500000 2.500000 0.000000 1.100000"
            ]
          },
          "metadata": {}
        },
        {
          "output_type": "display_data",
          "data": {
            "text/html": [
              "<style>\n",
              ".list-inline {list-style: none; margin:0; padding: 0}\n",
              ".list-inline>li {display: inline-block}\n",
              ".list-inline>li:not(:last-child)::after {content: \"\\00b7\"; padding: 0 .5ex}\n",
              "</style>\n",
              "<ol class=list-inline><li>1.4</li><li>3</li><li>2.6</li><li>2.1</li><li>1.1</li><li>1.2</li><li>2.9</li><li>1.9</li><li>1.3</li><li>1.8</li><li>2.8</li><li>2.5</li><li>2</li><li>2.4</li><li>2.7</li><li>2.3</li><li>2.2</li><li>1.6</li><li>1.7</li><li>1.5</li><li>1</li></ol>\n"
            ],
            "text/markdown": "1. 1.4\n2. 3\n3. 2.6\n4. 2.1\n5. 1.1\n6. 1.2\n7. 2.9\n8. 1.9\n9. 1.3\n10. 1.8\n11. 2.8\n12. 2.5\n13. 2\n14. 2.4\n15. 2.7\n16. 2.3\n17. 2.2\n18. 1.6\n19. 1.7\n20. 1.5\n21. 1\n\n\n",
            "text/latex": "\\begin{enumerate*}\n\\item 1.4\n\\item 3\n\\item 2.6\n\\item 2.1\n\\item 1.1\n\\item 1.2\n\\item 2.9\n\\item 1.9\n\\item 1.3\n\\item 1.8\n\\item 2.8\n\\item 2.5\n\\item 2\n\\item 2.4\n\\item 2.7\n\\item 2.3\n\\item 2.2\n\\item 1.6\n\\item 1.7\n\\item 1.5\n\\item 1\n\\end{enumerate*}\n",
            "text/plain": [
              " [1] 1.4 3.0 2.6 2.1 1.1 1.2 2.9 1.9 1.3 1.8 2.8 2.5 2.0 2.4 2.7 2.3 2.2 1.6 1.7\n",
              "[20] 1.5 1.0"
            ]
          },
          "metadata": {}
        },
        {
          "output_type": "display_data",
          "data": {
            "text/html": [
              "<style>\n",
              ".list-inline {list-style: none; margin:0; padding: 0}\n",
              ".list-inline>li {display: inline-block}\n",
              ".list-inline>li:not(:last-child)::after {content: \"\\00b7\"; padding: 0 .5ex}\n",
              "</style>\n",
              "<ol class=list-inline><li>2.9</li><li>3.2</li><li>2.7</li><li>3.6</li><li>3</li><li>2.2</li><li>2.1</li><li>2</li><li>3.5</li><li>2.6</li><li>2.5</li><li>2.4</li><li>3.3</li><li>3.7</li><li>3.4</li><li>3.1</li><li>2.8</li><li>3.8</li><li>4</li><li>3.9</li><li>2.3</li></ol>\n"
            ],
            "text/markdown": "1. 2.9\n2. 3.2\n3. 2.7\n4. 3.6\n5. 3\n6. 2.2\n7. 2.1\n8. 2\n9. 3.5\n10. 2.6\n11. 2.5\n12. 2.4\n13. 3.3\n14. 3.7\n15. 3.4\n16. 3.1\n17. 2.8\n18. 3.8\n19. 4\n20. 3.9\n21. 2.3\n\n\n",
            "text/latex": "\\begin{enumerate*}\n\\item 2.9\n\\item 3.2\n\\item 2.7\n\\item 3.6\n\\item 3\n\\item 2.2\n\\item 2.1\n\\item 2\n\\item 3.5\n\\item 2.6\n\\item 2.5\n\\item 2.4\n\\item 3.3\n\\item 3.7\n\\item 3.4\n\\item 3.1\n\\item 2.8\n\\item 3.8\n\\item 4\n\\item 3.9\n\\item 2.3\n\\end{enumerate*}\n",
            "text/plain": [
              " [1] 2.9 3.2 2.7 3.6 3.0 2.2 2.1 2.0 3.5 2.6 2.5 2.4 3.3 3.7 3.4 3.1 2.8 3.8 4.0\n",
              "[20] 3.9 2.3"
            ]
          },
          "metadata": {}
        },
        {
          "output_type": "display_data",
          "data": {
            "text/html": [
              "<style>\n",
              ".list-inline {list-style: none; margin:0; padding: 0}\n",
              ".list-inline>li {display: inline-block}\n",
              ".list-inline>li:not(:last-child)::after {content: \"\\00b7\"; padding: 0 .5ex}\n",
              "</style>\n",
              "<ol class=list-inline><li>'virginica'</li><li>'setosa'</li><li>NA</li></ol>\n"
            ],
            "text/markdown": "1. 'virginica'\n2. 'setosa'\n3. NA\n\n\n",
            "text/latex": "\\begin{enumerate*}\n\\item 'virginica'\n\\item 'setosa'\n\\item NA\n\\end{enumerate*}\n",
            "text/plain": [
              "[1] \"virginica\" \"setosa\"    NA         "
            ]
          },
          "metadata": {}
        }
      ]
    },
    {
      "cell_type": "markdown",
      "source": [
        "### Update Values As Needed\n",
        "\n",
        "To remove or `NA` a specific value within an observation, simply map a new value to a `df` search.\n",
        "\n",
        "Suppose you want to remove \"empty\" values and replace them with `NA`, use this syntax:\n",
        "\n",
        "```\n",
        "df2[df2==\"\"] <- NA\n",
        "```"
      ],
      "metadata": {
        "id": "OtmrntDUEO8l"
      }
    },
    {
      "cell_type": "code",
      "source": [
        "df2[df2==\"gg28\"]<- NA\n",
        "df2[df2==\"gg29\"]<- NA\n",
        "df2[df2==\"\"] <- NA\n",
        "head(df2)\n",
        "# make petal width numeric\n",
        "df2$petal_width<- as.numeric(df$petal_width)"
      ],
      "metadata": {
        "id": "ptD4mthjEnyk",
        "colab": {
          "base_uri": "https://localhost:8080/",
          "height": 1000
        },
        "outputId": "d1a9b709-6bd5-4d01-f0d8-96739f6a2537"
      },
      "execution_count": 61,
      "outputs": [
        {
          "output_type": "display_data",
          "data": {
            "text/html": [
              "<table class=\"dataframe\">\n",
              "<caption>A data.frame: 6 × 6</caption>\n",
              "<thead>\n",
              "\t<tr><th></th><th scope=col>id</th><th scope=col>sepal_length</th><th scope=col>sepal_width</th><th scope=col>petal_length</th><th scope=col>petal_width</th><th scope=col>species</th></tr>\n",
              "\t<tr><th></th><th scope=col>&lt;int&gt;</th><th scope=col>&lt;dbl&gt;</th><th scope=col>&lt;dbl&gt;</th><th scope=col>&lt;dbl&gt;</th><th scope=col>&lt;dbl&gt;</th><th scope=col>&lt;chr&gt;</th></tr>\n",
              "</thead>\n",
              "<tbody>\n",
              "\t<tr><th scope=row>1</th><td>1</td><td>3.5</td><td>2.9</td><td>1.4</td><td>0.5</td><td>virginica</td></tr>\n",
              "\t<tr><th scope=row>2</th><td>2</td><td>3.6</td><td>3.2</td><td>3.0</td><td>0.5</td><td>setosa   </td></tr>\n",
              "\t<tr><th scope=row>3</th><td>4</td><td>5.8</td><td>2.7</td><td>2.6</td><td>1.2</td><td>virginica</td></tr>\n",
              "\t<tr><th scope=row>4</th><td>5</td><td>4.9</td><td>3.6</td><td>3.0</td><td>1.2</td><td>virginica</td></tr>\n",
              "\t<tr><th scope=row>5</th><td>6</td><td>5.0</td><td>2.7</td><td>1.4</td><td>2.3</td><td>setosa   </td></tr>\n",
              "\t<tr><th scope=row>6</th><td>7</td><td>4.8</td><td>3.0</td><td>2.6</td><td>1.4</td><td>setosa   </td></tr>\n",
              "</tbody>\n",
              "</table>\n"
            ],
            "text/markdown": "\nA data.frame: 6 × 6\n\n| <!--/--> | id &lt;int&gt; | sepal_length &lt;dbl&gt; | sepal_width &lt;dbl&gt; | petal_length &lt;dbl&gt; | petal_width &lt;dbl&gt; | species &lt;chr&gt; |\n|---|---|---|---|---|---|---|\n| 1 | 1 | 3.5 | 2.9 | 1.4 | 0.5 | virginica |\n| 2 | 2 | 3.6 | 3.2 | 3.0 | 0.5 | setosa    |\n| 3 | 4 | 5.8 | 2.7 | 2.6 | 1.2 | virginica |\n| 4 | 5 | 4.9 | 3.6 | 3.0 | 1.2 | virginica |\n| 5 | 6 | 5.0 | 2.7 | 1.4 | 2.3 | setosa    |\n| 6 | 7 | 4.8 | 3.0 | 2.6 | 1.4 | setosa    |\n\n",
            "text/latex": "A data.frame: 6 × 6\n\\begin{tabular}{r|llllll}\n  & id & sepal\\_length & sepal\\_width & petal\\_length & petal\\_width & species\\\\\n  & <int> & <dbl> & <dbl> & <dbl> & <dbl> & <chr>\\\\\n\\hline\n\t1 & 1 & 3.5 & 2.9 & 1.4 & 0.5 & virginica\\\\\n\t2 & 2 & 3.6 & 3.2 & 3.0 & 0.5 & setosa   \\\\\n\t3 & 4 & 5.8 & 2.7 & 2.6 & 1.2 & virginica\\\\\n\t4 & 5 & 4.9 & 3.6 & 3.0 & 1.2 & virginica\\\\\n\t5 & 6 & 5.0 & 2.7 & 1.4 & 2.3 & setosa   \\\\\n\t6 & 7 & 4.8 & 3.0 & 2.6 & 1.4 & setosa   \\\\\n\\end{tabular}\n",
            "text/plain": [
              "  id sepal_length sepal_width petal_length petal_width species  \n",
              "1 1  3.5          2.9         1.4          0.5         virginica\n",
              "2 2  3.6          3.2         3.0          0.5         setosa   \n",
              "3 4  5.8          2.7         2.6          1.2         virginica\n",
              "4 5  4.9          3.6         3.0          1.2         virginica\n",
              "5 6  5.0          2.7         1.4          2.3         setosa   \n",
              "6 7  4.8          3.0         2.6          1.4         setosa   "
            ]
          },
          "metadata": {}
        },
        {
          "output_type": "stream",
          "name": "stderr",
          "text": [
            "Warning message in eval(expr, envir, enclos):\n",
            "“NAs introduced by coercion”\n"
          ]
        },
        {
          "output_type": "error",
          "ename": "ERROR",
          "evalue": "ignored",
          "traceback": [
            "Error in `$<-.data.frame`(`*tmp*`, petal_width, value = c(0.5, 0.5, 1.2, : replacement has 942 rows, data has 711\nTraceback:\n",
            "1. `$<-`(`*tmp*`, petal_width, value = c(0.5, 0.5, 1.2, 1.2, 2.3, \n . 1.4, 2.1, 3, 1.3, 1.9, 0.4, 0.7, 2.6, 0.9, 1.8, NA, 0.7, 1.9, \n . NA, 0.3, 0.7, 2.2, 0.1, 2.3, 2.7, 2.6, 0.1, 1.3, NA, 2.2, 1, \n . 1.6, 0.7, 1.9, 2.4, 1.9, 2.9, 2, 0.6, 2.9, 2.2, 0.8, 3, 2.7, \n . 2.4, 2.8, 2.2, 0.2, NA, 2.4, NA, 1.7, 0.6, 1.9, NA, 0.1, 0.7, \n . 1.6, 2.2, NA, 1.6, 0.9, 1.5, 2.3, 2.9, 2.8, 2.5, 1.5, 1.4, 2.7, \n . 2.9, NA, 0.3, 1.6, 1.9, 0.5, 0.2, 2.3, 2.5, 0.5, 1.5, 0.1, 3, \n . 0.7, 1.2, 2.1, 0.2, 0, 0.8, 1.7, 0.3, 2.7, 0.3, 2.4, NA, NA, \n . 2.8, 2.8, NA, 1.3, 1.5, 0.7, 0.9, 2.1, NA, 0.3, 2.3, 2.3, 2.8, \n . 0.8, 0.1, NA, 0.9, 2.9, 0.6, 0.2, 0.4, NA, 2.3, 1.1, 0.3, 0.8, \n . 2.8, 0, 2.8, 2.3, 2.8, 1.5, NA, 0.8, 2.9, 1.5, 1.8, 2.7, 0.5, \n . 1.6, 0.5, 0.8, NA, 0.5, 2.4, 1, 1.5, 2.4, 2.5, 0.3, 0.7, 2.2, \n . 1.3, 2.8, 1.1, 1.4, 0.7, 1.5, NA, 1.9, 1.5, 1.9, 0.3, 2, 1.2, \n . 0.5, 1.7, 2.4, 1.8, NA, 2.6, 2.8, 2.8, 1.2, 1.2, 1.7, 0.9, 1.5, \n . 0.4, 1.1, 1.7, 2.1, 2.4, 2.6, 2.4, 0.7, 1, 1.7, 2.8, 2.9, NA, \n . 0.2, 0.1, 0.6, NA, 2.8, 0.3, 1.9, 2.5, 0.1, 2.4, 2.7, 1.9, 0.9, \n . 1.4, 0.5, 2.6, 1.1, 2.9, 3, NA, 2.5, 0.1, 2.6, 0.6, 2.5, 0.6, \n . 1.2, 1.1, NA, NA, 0.2, 2.5, 1.9, 1.1, NA, 2.7, 3, 1.6, 2.3, 2.5, \n . 1.7, 0.1, 1.4, 2.6, 0, 1.1, 1.8, NA, 2.8, 2.8, 1, 0.7, 0.4, 2.7, \n . 2.4, 2.3, 2.6, 2.4, 0.4, 1.4, 2.3, 1.3, 1.6, 1.6, 1.8, 1, 0.8, \n . 1.4, 2, 0.2, 0.8, NA, 1.9, 1.4, NA, NA, NA, 1.1, 1.7, 0, 1.4, \n . 1.2, 1.9, 0.8, 2.6, 0.2, 2.5, 1.4, 2.4, NA, 3, 1.1, 2.4, NA, \n . 0.6, 0.6, 1.3, 3, 2.4, 2.6, 0.5, 2, 2.9, 1, 0.1, 0.7, 1.7, 1.7, \n . NA, 2.1, 2.5, 1, 1.4, 0.3, NA, 2.3, 1.6, 0.6, 1.9, 2.5, 1.7, \n . 0.9, 0.1, 2.8, 1, 2.4, 1.3, 2.5, 2.1, 2.2, 0.7, NA, 1.7, 2.7, \n . 2.4, 0.9, 1.7, 2.9, 0.1, 0.6, 2.9, 0.1, 0.6, 0.9, 2.8, 0.3, 2.4, \n . 1.3, 2, 0, 1, 1.2, 2.6, 2.4, 0, 0.1, 1, 2.8, 2.8, 0.8, 1.7, 1.2, \n . 2.6, NA, 1.7, 1.8, 2, 2.6, 1.7, 1.1, 1.1, 1.9, 2, 2.6, NA, 2.6, \n . 0.3, 0.2, 0.7, 0, 0.6, 1.1, 0.5, 2.3, NA, 1.1, 2.8, 2.1, 2.5, \n . 2.6, 1.7, 2.3, 0.6, 1.3, 2, 0.3, 0.5, 2.3, 1.2, 2.8, 1.2, 0.3, \n . 2, 2.7, 1, 1.5, 1, 0.3, 0.4, NA, 0.5, 1.7, 2.6, 1.8, 2.2, 1.2, \n . 2.9, 0.3, 1, 1, 2.9, 2.7, 2.5, 1.8, 2.2, 0.4, 0.2, 2.6, 2.9, \n . 2.4, 0.5, 2, 2.4, 2.8, 2.1, 1.1, 1.5, 1.5, 1.2, 2.9, 1, 0.5, \n . 2.1, 2, 1.6, 1.1, 0.5, 1.3, 1, 2.4, 0.6, 2.8, 2, 2.4, 2.5, 2.6, \n . 0.5, 1.1, 2.7, 0, 2.7, 2.1, NA, 2.2, 0.7, 2.4, NA, 0.4, 2.1, \n . 1.1, 2.8, 2.2, 0.8, 1.7, 0.3, 0.1, 2.7, NA, 2.8, 1.5, 1.3, 0.2, \n . 2.9, 2.3, 1.5, 2.8, 0.3, 0.6, 1.4, 2.6, 1.7, 2.5, 1.6, 1.6, 2.9, \n . 0, 0.4, 0.1, NA, 2.3, 0.2, 2.5, 1.2, 0, 1.2, 1.4, 1, 2, 0.2, \n . 0.2, 1.1, 3, NA, 0, 1.3, 2.7, 1.1, 1.4, 2.4, 1.3, 1.7, 0.6, 1.9, \n . 2.4, 3, NA, 1.5, 1.7, 0.3, 2.1, NA, 2.2, NA, 0.1, 2, NA, 1.9, \n . 0, 2.9, 2.5, 0.1, 0.6, 0.1, 0.4, 1.7, 0.5, 2.8, 2, 1.4, 0.2, \n . 1.4, 1, 0.4, 1.9, 1.5, 2.5, 2, 2.9, 0.8, 2.7, 0.6, 0.7, NA, 1.5, \n . 2.7, 2, 0, 2.1, 2.6, 1.3, 3, 1.7, 0.2, 1.8, 2.1, 3, 2.7, 1.5, \n . 1.8, 2.1, NA, 2.2, 0.7, 2.8, 1.3, NA, 0.2, 0.8, 2.7, 2.5, 0.1, \n . 1.6, 2.3, 0.9, 0.2, 0.3, 2.6, 2.6, 2.8, 1.8, 2.8, 0.2, 1.9, 2.1, \n . 2.8, 2.8, 2.5, 2.4, 1.8, 1.8, 1, 2.4, 0.8, 0.8, 0.5, 2.9, NA, \n . 2.5, 1.1, 1.5, 1.3, 1, 1.7, 1.5, 1.3, 1, NA, 2.1, 2.5, NA, 2.6, \n . 0.9, 1.6, 0.1, 1.4, 0.9, 0, 0.6, 1.1, 2.3, 0.2, 0.9, 0.5, 2.8, \n . 1.4, 0.4, 1.7, 1.3, 2.2, 2.5, 1.7, 1.9, 1, 0.5, 2.8, 2.7, 2.2, \n . 0.7, 1.3, NA, 0.9, NA, 2.5, 2.1, 2.2, 0.8, 1.4, 0.3, 1.5, 1.6, \n . 0.8, 0.9, 2.3, NA, 2.7, 1.3, 2.2, 2.6, 2.9, 0.7, 0.8, NA, 2.4, \n . 0.5, 2.6, 1.9, 2.2, 2, 2, 2.3, 1.4, 2.7, NA, 1.4, 1.6, 1.7, 0.7, \n . NA, 2.2, 0.4, 1.3, 2.6, 0.3, 0.7, 2.5, 0, NA, 2.5, 3, 0.9, 0.9, \n . NA, 2.3, 2.8, 1.8, 2.9, 0.5, 0.6, 2.8, 0.3, 0.2, 2.5, NA, 1.5, \n . 0.1, 3, 0.7, 1.2, 2.1, 0.2, 0, 0.8, 1.7, 0.3, 2.7, 0.3, 2.4, \n . NA, NA, 2.8, 2.8, NA, 1.3, 1.5, 0.7, 0.9, 2.1, NA, 0.3, 2.3, \n . 2.3, 2.8, 0.8, 0.1, NA, 0.9, 2.9, 0.6, 0.2, 0.4, NA, 2.3, 1.1, \n . 0.3, 0.8, 2.8, 0, 2.8, 2.3, 2.8, 1.5, NA, 0.8, 2.9, 1.5, 1.8, \n . 2.7, 0.5, 1.6, 0.5, 0.8, NA, 0.5, 2.4, 1, 1.5, 2.4, 2.5, 0.3, \n . 0.7, 2.2, 1.3, 2.8, 1.1, 1.4, 0.7, 1.5, NA, 1.9, 1.5, 1.9, 0.3, \n . 2, 1.2, 0.5, 1.7, 2.4, 1.8, NA, 2.6, 2.8, 2.8, 1.2, 1.2, 1.7, \n . 0.9, 1.5, 0.4, 1.1, 1.7, 2.1, 2.4, 2.6, 2.4, 0.7, 1, 1.7, 2.8, \n . 2.9, NA, 0.2, 0.1, 0.6, NA, 2.8, 0.3, 1.9, 2.5, 0.1, 2.4, 2.7, \n . 1.9, 0.9, 1.4, 0.5, 2.6, 1.1, 2.9, 3, NA, 2.5, 0.1, 2.6, 0.6, \n . 2.5, 0.6, 1.2, 1.1, NA, NA, 0.2, 2.5, 1.9, 1.1, NA, 2.7, 3, 1.6, \n . 2.3, 2.5, 1.7, 0.1, 1.4, 2.6, 0, 1.1, 1.8, NA, 2.8, 2.8, 1, 0.7, \n . 0.4, 2.7, 2.4, 2.3, 2.6, 2.4, 0.4, 1.4, 2.3, 1.3, 1.6, 1.6, 1.8, \n . 1, 0.8, 1.4, 2, 0.2, 0.8, NA, 1.9, 1.4, NA, NA, NA, 1.1, 1.7, \n . 0, 1.4, 1.2, 1.9, 0.8, 2.6, 0.2, 2.5, 1.4, 2.4, NA, 3, 1.1, 2.4, \n . NA, 0.6, 0.6, 1.3, 3, 2.4, 2.6, 0.5, 2, 2.9, 1, 0.1, 0.7, 1.7, \n . 1.7, NA, 2.1, 2.5, 1, 1.4, 0.3, NA, 2.3, 1.6, 0.6, 1.9, 2.5, \n . 1.7, 0.9, 0.1, 2.8, 1))",
            "2. `$<-.data.frame`(`*tmp*`, petal_width, value = c(0.5, 0.5, 1.2, \n . 1.2, 2.3, 1.4, 2.1, 3, 1.3, 1.9, 0.4, 0.7, 2.6, 0.9, 1.8, NA, \n . 0.7, 1.9, NA, 0.3, 0.7, 2.2, 0.1, 2.3, 2.7, 2.6, 0.1, 1.3, NA, \n . 2.2, 1, 1.6, 0.7, 1.9, 2.4, 1.9, 2.9, 2, 0.6, 2.9, 2.2, 0.8, \n . 3, 2.7, 2.4, 2.8, 2.2, 0.2, NA, 2.4, NA, 1.7, 0.6, 1.9, NA, 0.1, \n . 0.7, 1.6, 2.2, NA, 1.6, 0.9, 1.5, 2.3, 2.9, 2.8, 2.5, 1.5, 1.4, \n . 2.7, 2.9, NA, 0.3, 1.6, 1.9, 0.5, 0.2, 2.3, 2.5, 0.5, 1.5, 0.1, \n . 3, 0.7, 1.2, 2.1, 0.2, 0, 0.8, 1.7, 0.3, 2.7, 0.3, 2.4, NA, NA, \n . 2.8, 2.8, NA, 1.3, 1.5, 0.7, 0.9, 2.1, NA, 0.3, 2.3, 2.3, 2.8, \n . 0.8, 0.1, NA, 0.9, 2.9, 0.6, 0.2, 0.4, NA, 2.3, 1.1, 0.3, 0.8, \n . 2.8, 0, 2.8, 2.3, 2.8, 1.5, NA, 0.8, 2.9, 1.5, 1.8, 2.7, 0.5, \n . 1.6, 0.5, 0.8, NA, 0.5, 2.4, 1, 1.5, 2.4, 2.5, 0.3, 0.7, 2.2, \n . 1.3, 2.8, 1.1, 1.4, 0.7, 1.5, NA, 1.9, 1.5, 1.9, 0.3, 2, 1.2, \n . 0.5, 1.7, 2.4, 1.8, NA, 2.6, 2.8, 2.8, 1.2, 1.2, 1.7, 0.9, 1.5, \n . 0.4, 1.1, 1.7, 2.1, 2.4, 2.6, 2.4, 0.7, 1, 1.7, 2.8, 2.9, NA, \n . 0.2, 0.1, 0.6, NA, 2.8, 0.3, 1.9, 2.5, 0.1, 2.4, 2.7, 1.9, 0.9, \n . 1.4, 0.5, 2.6, 1.1, 2.9, 3, NA, 2.5, 0.1, 2.6, 0.6, 2.5, 0.6, \n . 1.2, 1.1, NA, NA, 0.2, 2.5, 1.9, 1.1, NA, 2.7, 3, 1.6, 2.3, 2.5, \n . 1.7, 0.1, 1.4, 2.6, 0, 1.1, 1.8, NA, 2.8, 2.8, 1, 0.7, 0.4, 2.7, \n . 2.4, 2.3, 2.6, 2.4, 0.4, 1.4, 2.3, 1.3, 1.6, 1.6, 1.8, 1, 0.8, \n . 1.4, 2, 0.2, 0.8, NA, 1.9, 1.4, NA, NA, NA, 1.1, 1.7, 0, 1.4, \n . 1.2, 1.9, 0.8, 2.6, 0.2, 2.5, 1.4, 2.4, NA, 3, 1.1, 2.4, NA, \n . 0.6, 0.6, 1.3, 3, 2.4, 2.6, 0.5, 2, 2.9, 1, 0.1, 0.7, 1.7, 1.7, \n . NA, 2.1, 2.5, 1, 1.4, 0.3, NA, 2.3, 1.6, 0.6, 1.9, 2.5, 1.7, \n . 0.9, 0.1, 2.8, 1, 2.4, 1.3, 2.5, 2.1, 2.2, 0.7, NA, 1.7, 2.7, \n . 2.4, 0.9, 1.7, 2.9, 0.1, 0.6, 2.9, 0.1, 0.6, 0.9, 2.8, 0.3, 2.4, \n . 1.3, 2, 0, 1, 1.2, 2.6, 2.4, 0, 0.1, 1, 2.8, 2.8, 0.8, 1.7, 1.2, \n . 2.6, NA, 1.7, 1.8, 2, 2.6, 1.7, 1.1, 1.1, 1.9, 2, 2.6, NA, 2.6, \n . 0.3, 0.2, 0.7, 0, 0.6, 1.1, 0.5, 2.3, NA, 1.1, 2.8, 2.1, 2.5, \n . 2.6, 1.7, 2.3, 0.6, 1.3, 2, 0.3, 0.5, 2.3, 1.2, 2.8, 1.2, 0.3, \n . 2, 2.7, 1, 1.5, 1, 0.3, 0.4, NA, 0.5, 1.7, 2.6, 1.8, 2.2, 1.2, \n . 2.9, 0.3, 1, 1, 2.9, 2.7, 2.5, 1.8, 2.2, 0.4, 0.2, 2.6, 2.9, \n . 2.4, 0.5, 2, 2.4, 2.8, 2.1, 1.1, 1.5, 1.5, 1.2, 2.9, 1, 0.5, \n . 2.1, 2, 1.6, 1.1, 0.5, 1.3, 1, 2.4, 0.6, 2.8, 2, 2.4, 2.5, 2.6, \n . 0.5, 1.1, 2.7, 0, 2.7, 2.1, NA, 2.2, 0.7, 2.4, NA, 0.4, 2.1, \n . 1.1, 2.8, 2.2, 0.8, 1.7, 0.3, 0.1, 2.7, NA, 2.8, 1.5, 1.3, 0.2, \n . 2.9, 2.3, 1.5, 2.8, 0.3, 0.6, 1.4, 2.6, 1.7, 2.5, 1.6, 1.6, 2.9, \n . 0, 0.4, 0.1, NA, 2.3, 0.2, 2.5, 1.2, 0, 1.2, 1.4, 1, 2, 0.2, \n . 0.2, 1.1, 3, NA, 0, 1.3, 2.7, 1.1, 1.4, 2.4, 1.3, 1.7, 0.6, 1.9, \n . 2.4, 3, NA, 1.5, 1.7, 0.3, 2.1, NA, 2.2, NA, 0.1, 2, NA, 1.9, \n . 0, 2.9, 2.5, 0.1, 0.6, 0.1, 0.4, 1.7, 0.5, 2.8, 2, 1.4, 0.2, \n . 1.4, 1, 0.4, 1.9, 1.5, 2.5, 2, 2.9, 0.8, 2.7, 0.6, 0.7, NA, 1.5, \n . 2.7, 2, 0, 2.1, 2.6, 1.3, 3, 1.7, 0.2, 1.8, 2.1, 3, 2.7, 1.5, \n . 1.8, 2.1, NA, 2.2, 0.7, 2.8, 1.3, NA, 0.2, 0.8, 2.7, 2.5, 0.1, \n . 1.6, 2.3, 0.9, 0.2, 0.3, 2.6, 2.6, 2.8, 1.8, 2.8, 0.2, 1.9, 2.1, \n . 2.8, 2.8, 2.5, 2.4, 1.8, 1.8, 1, 2.4, 0.8, 0.8, 0.5, 2.9, NA, \n . 2.5, 1.1, 1.5, 1.3, 1, 1.7, 1.5, 1.3, 1, NA, 2.1, 2.5, NA, 2.6, \n . 0.9, 1.6, 0.1, 1.4, 0.9, 0, 0.6, 1.1, 2.3, 0.2, 0.9, 0.5, 2.8, \n . 1.4, 0.4, 1.7, 1.3, 2.2, 2.5, 1.7, 1.9, 1, 0.5, 2.8, 2.7, 2.2, \n . 0.7, 1.3, NA, 0.9, NA, 2.5, 2.1, 2.2, 0.8, 1.4, 0.3, 1.5, 1.6, \n . 0.8, 0.9, 2.3, NA, 2.7, 1.3, 2.2, 2.6, 2.9, 0.7, 0.8, NA, 2.4, \n . 0.5, 2.6, 1.9, 2.2, 2, 2, 2.3, 1.4, 2.7, NA, 1.4, 1.6, 1.7, 0.7, \n . NA, 2.2, 0.4, 1.3, 2.6, 0.3, 0.7, 2.5, 0, NA, 2.5, 3, 0.9, 0.9, \n . NA, 2.3, 2.8, 1.8, 2.9, 0.5, 0.6, 2.8, 0.3, 0.2, 2.5, NA, 1.5, \n . 0.1, 3, 0.7, 1.2, 2.1, 0.2, 0, 0.8, 1.7, 0.3, 2.7, 0.3, 2.4, \n . NA, NA, 2.8, 2.8, NA, 1.3, 1.5, 0.7, 0.9, 2.1, NA, 0.3, 2.3, \n . 2.3, 2.8, 0.8, 0.1, NA, 0.9, 2.9, 0.6, 0.2, 0.4, NA, 2.3, 1.1, \n . 0.3, 0.8, 2.8, 0, 2.8, 2.3, 2.8, 1.5, NA, 0.8, 2.9, 1.5, 1.8, \n . 2.7, 0.5, 1.6, 0.5, 0.8, NA, 0.5, 2.4, 1, 1.5, 2.4, 2.5, 0.3, \n . 0.7, 2.2, 1.3, 2.8, 1.1, 1.4, 0.7, 1.5, NA, 1.9, 1.5, 1.9, 0.3, \n . 2, 1.2, 0.5, 1.7, 2.4, 1.8, NA, 2.6, 2.8, 2.8, 1.2, 1.2, 1.7, \n . 0.9, 1.5, 0.4, 1.1, 1.7, 2.1, 2.4, 2.6, 2.4, 0.7, 1, 1.7, 2.8, \n . 2.9, NA, 0.2, 0.1, 0.6, NA, 2.8, 0.3, 1.9, 2.5, 0.1, 2.4, 2.7, \n . 1.9, 0.9, 1.4, 0.5, 2.6, 1.1, 2.9, 3, NA, 2.5, 0.1, 2.6, 0.6, \n . 2.5, 0.6, 1.2, 1.1, NA, NA, 0.2, 2.5, 1.9, 1.1, NA, 2.7, 3, 1.6, \n . 2.3, 2.5, 1.7, 0.1, 1.4, 2.6, 0, 1.1, 1.8, NA, 2.8, 2.8, 1, 0.7, \n . 0.4, 2.7, 2.4, 2.3, 2.6, 2.4, 0.4, 1.4, 2.3, 1.3, 1.6, 1.6, 1.8, \n . 1, 0.8, 1.4, 2, 0.2, 0.8, NA, 1.9, 1.4, NA, NA, NA, 1.1, 1.7, \n . 0, 1.4, 1.2, 1.9, 0.8, 2.6, 0.2, 2.5, 1.4, 2.4, NA, 3, 1.1, 2.4, \n . NA, 0.6, 0.6, 1.3, 3, 2.4, 2.6, 0.5, 2, 2.9, 1, 0.1, 0.7, 1.7, \n . 1.7, NA, 2.1, 2.5, 1, 1.4, 0.3, NA, 2.3, 1.6, 0.6, 1.9, 2.5, \n . 1.7, 0.9, 0.1, 2.8, 1))",
            "3. stop(sprintf(ngettext(N, \"replacement has %d row, data has %d\", \n .     \"replacement has %d rows, data has %d\"), N, nrows), domain = NA)"
          ]
        }
      ]
    },
    {
      "cell_type": "markdown",
      "source": [
        "The above method is useful whenever you need to push a replacement value into specific cells."
      ],
      "metadata": {
        "id": "CAHCu7zayHnj"
      }
    },
    {
      "cell_type": "markdown",
      "source": [
        "### Remove Rows with `NA` values\n",
        "\n",
        "A simple way to do this is to extract only valid data out of the data frame with the `na.omit` method:\n",
        "\n",
        "**This is a destructive action!**"
      ],
      "metadata": {
        "id": "s6WvxPKhNqUz"
      }
    },
    {
      "cell_type": "code",
      "source": [
        "df4<- na.omit(df2)\n",
        "df4"
      ],
      "metadata": {
        "id": "Y-2QsnGONqEv",
        "colab": {
          "base_uri": "https://localhost:8080/",
          "height": 1000
        },
        "outputId": "014479bc-5224-4658-ba17-21f69a88015b"
      },
      "execution_count": 62,
      "outputs": [
        {
          "output_type": "display_data",
          "data": {
            "text/html": [
              "<table class=\"dataframe\">\n",
              "<caption>A data.frame: 665 × 6</caption>\n",
              "<thead>\n",
              "\t<tr><th></th><th scope=col>id</th><th scope=col>sepal_length</th><th scope=col>sepal_width</th><th scope=col>petal_length</th><th scope=col>petal_width</th><th scope=col>species</th></tr>\n",
              "\t<tr><th></th><th scope=col>&lt;int&gt;</th><th scope=col>&lt;dbl&gt;</th><th scope=col>&lt;dbl&gt;</th><th scope=col>&lt;dbl&gt;</th><th scope=col>&lt;dbl&gt;</th><th scope=col>&lt;chr&gt;</th></tr>\n",
              "</thead>\n",
              "<tbody>\n",
              "\t<tr><th scope=row>1</th><td> 1</td><td>3.5</td><td>2.9</td><td>1.4</td><td>0.500000</td><td>virginica</td></tr>\n",
              "\t<tr><th scope=row>2</th><td> 2</td><td>3.6</td><td>3.2</td><td>3.0</td><td>0.500000</td><td>setosa   </td></tr>\n",
              "\t<tr><th scope=row>3</th><td> 4</td><td>5.8</td><td>2.7</td><td>2.6</td><td>1.200000</td><td>virginica</td></tr>\n",
              "\t<tr><th scope=row>4</th><td> 5</td><td>4.9</td><td>3.6</td><td>3.0</td><td>1.200000</td><td>virginica</td></tr>\n",
              "\t<tr><th scope=row>5</th><td> 6</td><td>5.0</td><td>2.7</td><td>1.4</td><td>2.300000</td><td>setosa   </td></tr>\n",
              "\t<tr><th scope=row>6</th><td> 7</td><td>4.8</td><td>3.0</td><td>2.6</td><td>1.400000</td><td>setosa   </td></tr>\n",
              "\t<tr><th scope=row>7</th><td> 8</td><td>5.5</td><td>2.2</td><td>2.1</td><td>2.100000</td><td>virginica</td></tr>\n",
              "\t<tr><th scope=row>8</th><td> 9</td><td>5.5</td><td>2.9</td><td>1.1</td><td>3.000000</td><td>setosa   </td></tr>\n",
              "\t<tr><th scope=row>9</th><td>11</td><td>3.7</td><td>2.1</td><td>1.4</td><td>1.300000</td><td>setosa   </td></tr>\n",
              "\t<tr><th scope=row>10</th><td>13</td><td>4.7</td><td>2.0</td><td>1.2</td><td>1.900000</td><td>virginica</td></tr>\n",
              "\t<tr><th scope=row>11</th><td>15</td><td>3.3</td><td>2.7</td><td>2.9</td><td>0.400000</td><td>setosa   </td></tr>\n",
              "\t<tr><th scope=row>12</th><td>16</td><td>4.1</td><td>3.5</td><td>1.9</td><td>0.700000</td><td>virginica</td></tr>\n",
              "\t<tr><th scope=row>13</th><td>17</td><td>4.6</td><td>2.9</td><td>2.1</td><td>2.600000</td><td>virginica</td></tr>\n",
              "\t<tr><th scope=row>14</th><td>18</td><td>3.7</td><td>2.6</td><td>1.3</td><td>0.900000</td><td>setosa   </td></tr>\n",
              "\t<tr><th scope=row>15</th><td>19</td><td>5.5</td><td>2.5</td><td>1.8</td><td>1.800000</td><td>virginica</td></tr>\n",
              "\t<tr><th scope=row>16</th><td>20</td><td>3.7</td><td>2.4</td><td>1.2</td><td>1.568721</td><td>setosa   </td></tr>\n",
              "\t<tr><th scope=row>17</th><td>21</td><td>3.1</td><td>2.4</td><td>1.4</td><td>0.700000</td><td>setosa   </td></tr>\n",
              "\t<tr><th scope=row>18</th><td>22</td><td>4.4</td><td>2.1</td><td>2.8</td><td>1.900000</td><td>virginica</td></tr>\n",
              "\t<tr><th scope=row>19</th><td>23</td><td>5.7</td><td>3.0</td><td>2.5</td><td>1.568721</td><td>setosa   </td></tr>\n",
              "\t<tr><th scope=row>20</th><td>24</td><td>5.6</td><td>3.3</td><td>1.2</td><td>0.300000</td><td>virginica</td></tr>\n",
              "\t<tr><th scope=row>21</th><td>25</td><td>3.2</td><td>3.3</td><td>2.0</td><td>0.700000</td><td>virginica</td></tr>\n",
              "\t<tr><th scope=row>22</th><td>26</td><td>5.0</td><td>3.3</td><td>2.4</td><td>2.200000</td><td>virginica</td></tr>\n",
              "\t<tr><th scope=row>23</th><td>27</td><td>3.9</td><td>3.2</td><td>2.7</td><td>0.100000</td><td>setosa   </td></tr>\n",
              "\t<tr><th scope=row>24</th><td>29</td><td>5.8</td><td>2.6</td><td>2.3</td><td>2.300000</td><td>setosa   </td></tr>\n",
              "\t<tr><th scope=row>25</th><td>30</td><td>4.7</td><td>3.7</td><td>1.8</td><td>2.700000</td><td>virginica</td></tr>\n",
              "\t<tr><th scope=row>27</th><td>33</td><td>4.0</td><td>2.1</td><td>1.6</td><td>0.100000</td><td>virginica</td></tr>\n",
              "\t<tr><th scope=row>28</th><td>34</td><td>5.6</td><td>2.9</td><td>2.4</td><td>1.300000</td><td>setosa   </td></tr>\n",
              "\t<tr><th scope=row>29</th><td>36</td><td>3.1</td><td>3.4</td><td>2.0</td><td>1.568721</td><td>setosa   </td></tr>\n",
              "\t<tr><th scope=row>30</th><td>37</td><td>4.8</td><td>3.1</td><td>2.9</td><td>2.200000</td><td>virginica</td></tr>\n",
              "\t<tr><th scope=row>31</th><td>38</td><td>5.4</td><td>2.7</td><td>2.2</td><td>1.000000</td><td>virginica</td></tr>\n",
              "\t<tr><th scope=row>⋮</th><td>⋮</td><td>⋮</td><td>⋮</td><td>⋮</td><td>⋮</td><td>⋮</td></tr>\n",
              "\t<tr><th scope=row>679</th><td> 956</td><td>3.6</td><td>3.3</td><td>1.8</td><td>2.700000</td><td>virginica</td></tr>\n",
              "\t<tr><th scope=row>680</th><td> 957</td><td>4.7</td><td>2.5</td><td>2.2</td><td>1.568721</td><td>virginica</td></tr>\n",
              "\t<tr><th scope=row>681</th><td> 959</td><td>5.0</td><td>2.0</td><td>1.2</td><td>1.400000</td><td>virginica</td></tr>\n",
              "\t<tr><th scope=row>682</th><td> 961</td><td>4.2</td><td>2.7</td><td>1.7</td><td>1.600000</td><td>virginica</td></tr>\n",
              "\t<tr><th scope=row>683</th><td> 962</td><td>4.8</td><td>3.9</td><td>1.3</td><td>1.700000</td><td>setosa   </td></tr>\n",
              "\t<tr><th scope=row>684</th><td> 963</td><td>5.2</td><td>2.1</td><td>3.0</td><td>0.700000</td><td>virginica</td></tr>\n",
              "\t<tr><th scope=row>686</th><td> 965</td><td>5.8</td><td>2.4</td><td>1.3</td><td>2.200000</td><td>virginica</td></tr>\n",
              "\t<tr><th scope=row>687</th><td> 966</td><td>4.4</td><td>2.6</td><td>1.6</td><td>0.400000</td><td>virginica</td></tr>\n",
              "\t<tr><th scope=row>688</th><td> 967</td><td>4.6</td><td>3.3</td><td>2.3</td><td>1.300000</td><td>setosa   </td></tr>\n",
              "\t<tr><th scope=row>689</th><td> 968</td><td>3.3</td><td>2.2</td><td>1.5</td><td>2.600000</td><td>setosa   </td></tr>\n",
              "\t<tr><th scope=row>690</th><td> 969</td><td>4.1</td><td>3.0</td><td>2.9</td><td>0.300000</td><td>setosa   </td></tr>\n",
              "\t<tr><th scope=row>691</th><td> 970</td><td>4.6</td><td>2.2</td><td>2.5</td><td>0.700000</td><td>virginica</td></tr>\n",
              "\t<tr><th scope=row>693</th><td> 972</td><td>4.3</td><td>2.7</td><td>1.6</td><td>0.000000</td><td>setosa   </td></tr>\n",
              "\t<tr><th scope=row>694</th><td> 974</td><td>3.9</td><td>3.6</td><td>2.3</td><td>1.568721</td><td>setosa   </td></tr>\n",
              "\t<tr><th scope=row>695</th><td> 975</td><td>3.8</td><td>2.4</td><td>3.0</td><td>2.500000</td><td>virginica</td></tr>\n",
              "\t<tr><th scope=row>696</th><td> 977</td><td>3.4</td><td>3.7</td><td>3.0</td><td>3.000000</td><td>setosa   </td></tr>\n",
              "\t<tr><th scope=row>697</th><td> 978</td><td>4.8</td><td>3.3</td><td>2.0</td><td>0.900000</td><td>virginica</td></tr>\n",
              "\t<tr><th scope=row>698</th><td> 981</td><td>3.6</td><td>2.6</td><td>2.3</td><td>0.900000</td><td>virginica</td></tr>\n",
              "\t<tr><th scope=row>699</th><td> 982</td><td>4.0</td><td>2.6</td><td>1.9</td><td>1.568721</td><td>setosa   </td></tr>\n",
              "\t<tr><th scope=row>700</th><td> 984</td><td>5.9</td><td>2.4</td><td>1.1</td><td>2.300000</td><td>setosa   </td></tr>\n",
              "\t<tr><th scope=row>701</th><td> 985</td><td>3.3</td><td>2.4</td><td>1.6</td><td>2.800000</td><td>setosa   </td></tr>\n",
              "\t<tr><th scope=row>702</th><td> 986</td><td>4.6</td><td>3.9</td><td>2.4</td><td>1.800000</td><td>setosa   </td></tr>\n",
              "\t<tr><th scope=row>703</th><td> 987</td><td>3.2</td><td>2.8</td><td>1.5</td><td>2.900000</td><td>setosa   </td></tr>\n",
              "\t<tr><th scope=row>704</th><td> 989</td><td>5.5</td><td>2.6</td><td>2.6</td><td>0.500000</td><td>setosa   </td></tr>\n",
              "\t<tr><th scope=row>705</th><td> 990</td><td>3.8</td><td>3.6</td><td>1.4</td><td>0.600000</td><td>virginica</td></tr>\n",
              "\t<tr><th scope=row>706</th><td> 992</td><td>3.7</td><td>2.5</td><td>2.6</td><td>2.800000</td><td>virginica</td></tr>\n",
              "\t<tr><th scope=row>707</th><td> 994</td><td>4.5</td><td>3.7</td><td>1.2</td><td>0.300000</td><td>virginica</td></tr>\n",
              "\t<tr><th scope=row>708</th><td> 995</td><td>4.0</td><td>2.9</td><td>1.0</td><td>0.200000</td><td>virginica</td></tr>\n",
              "\t<tr><th scope=row>709</th><td> 998</td><td>5.9</td><td>2.5</td><td>2.1</td><td>2.500000</td><td>virginica</td></tr>\n",
              "\t<tr><th scope=row>711</th><td>1000</td><td>3.4</td><td>3.9</td><td>1.9</td><td>1.500000</td><td>setosa   </td></tr>\n",
              "</tbody>\n",
              "</table>\n"
            ],
            "text/markdown": "\nA data.frame: 665 × 6\n\n| <!--/--> | id &lt;int&gt; | sepal_length &lt;dbl&gt; | sepal_width &lt;dbl&gt; | petal_length &lt;dbl&gt; | petal_width &lt;dbl&gt; | species &lt;chr&gt; |\n|---|---|---|---|---|---|---|\n| 1 |  1 | 3.5 | 2.9 | 1.4 | 0.500000 | virginica |\n| 2 |  2 | 3.6 | 3.2 | 3.0 | 0.500000 | setosa    |\n| 3 |  4 | 5.8 | 2.7 | 2.6 | 1.200000 | virginica |\n| 4 |  5 | 4.9 | 3.6 | 3.0 | 1.200000 | virginica |\n| 5 |  6 | 5.0 | 2.7 | 1.4 | 2.300000 | setosa    |\n| 6 |  7 | 4.8 | 3.0 | 2.6 | 1.400000 | setosa    |\n| 7 |  8 | 5.5 | 2.2 | 2.1 | 2.100000 | virginica |\n| 8 |  9 | 5.5 | 2.9 | 1.1 | 3.000000 | setosa    |\n| 9 | 11 | 3.7 | 2.1 | 1.4 | 1.300000 | setosa    |\n| 10 | 13 | 4.7 | 2.0 | 1.2 | 1.900000 | virginica |\n| 11 | 15 | 3.3 | 2.7 | 2.9 | 0.400000 | setosa    |\n| 12 | 16 | 4.1 | 3.5 | 1.9 | 0.700000 | virginica |\n| 13 | 17 | 4.6 | 2.9 | 2.1 | 2.600000 | virginica |\n| 14 | 18 | 3.7 | 2.6 | 1.3 | 0.900000 | setosa    |\n| 15 | 19 | 5.5 | 2.5 | 1.8 | 1.800000 | virginica |\n| 16 | 20 | 3.7 | 2.4 | 1.2 | 1.568721 | setosa    |\n| 17 | 21 | 3.1 | 2.4 | 1.4 | 0.700000 | setosa    |\n| 18 | 22 | 4.4 | 2.1 | 2.8 | 1.900000 | virginica |\n| 19 | 23 | 5.7 | 3.0 | 2.5 | 1.568721 | setosa    |\n| 20 | 24 | 5.6 | 3.3 | 1.2 | 0.300000 | virginica |\n| 21 | 25 | 3.2 | 3.3 | 2.0 | 0.700000 | virginica |\n| 22 | 26 | 5.0 | 3.3 | 2.4 | 2.200000 | virginica |\n| 23 | 27 | 3.9 | 3.2 | 2.7 | 0.100000 | setosa    |\n| 24 | 29 | 5.8 | 2.6 | 2.3 | 2.300000 | setosa    |\n| 25 | 30 | 4.7 | 3.7 | 1.8 | 2.700000 | virginica |\n| 27 | 33 | 4.0 | 2.1 | 1.6 | 0.100000 | virginica |\n| 28 | 34 | 5.6 | 2.9 | 2.4 | 1.300000 | setosa    |\n| 29 | 36 | 3.1 | 3.4 | 2.0 | 1.568721 | setosa    |\n| 30 | 37 | 4.8 | 3.1 | 2.9 | 2.200000 | virginica |\n| 31 | 38 | 5.4 | 2.7 | 2.2 | 1.000000 | virginica |\n| ⋮ | ⋮ | ⋮ | ⋮ | ⋮ | ⋮ | ⋮ |\n| 679 |  956 | 3.6 | 3.3 | 1.8 | 2.700000 | virginica |\n| 680 |  957 | 4.7 | 2.5 | 2.2 | 1.568721 | virginica |\n| 681 |  959 | 5.0 | 2.0 | 1.2 | 1.400000 | virginica |\n| 682 |  961 | 4.2 | 2.7 | 1.7 | 1.600000 | virginica |\n| 683 |  962 | 4.8 | 3.9 | 1.3 | 1.700000 | setosa    |\n| 684 |  963 | 5.2 | 2.1 | 3.0 | 0.700000 | virginica |\n| 686 |  965 | 5.8 | 2.4 | 1.3 | 2.200000 | virginica |\n| 687 |  966 | 4.4 | 2.6 | 1.6 | 0.400000 | virginica |\n| 688 |  967 | 4.6 | 3.3 | 2.3 | 1.300000 | setosa    |\n| 689 |  968 | 3.3 | 2.2 | 1.5 | 2.600000 | setosa    |\n| 690 |  969 | 4.1 | 3.0 | 2.9 | 0.300000 | setosa    |\n| 691 |  970 | 4.6 | 2.2 | 2.5 | 0.700000 | virginica |\n| 693 |  972 | 4.3 | 2.7 | 1.6 | 0.000000 | setosa    |\n| 694 |  974 | 3.9 | 3.6 | 2.3 | 1.568721 | setosa    |\n| 695 |  975 | 3.8 | 2.4 | 3.0 | 2.500000 | virginica |\n| 696 |  977 | 3.4 | 3.7 | 3.0 | 3.000000 | setosa    |\n| 697 |  978 | 4.8 | 3.3 | 2.0 | 0.900000 | virginica |\n| 698 |  981 | 3.6 | 2.6 | 2.3 | 0.900000 | virginica |\n| 699 |  982 | 4.0 | 2.6 | 1.9 | 1.568721 | setosa    |\n| 700 |  984 | 5.9 | 2.4 | 1.1 | 2.300000 | setosa    |\n| 701 |  985 | 3.3 | 2.4 | 1.6 | 2.800000 | setosa    |\n| 702 |  986 | 4.6 | 3.9 | 2.4 | 1.800000 | setosa    |\n| 703 |  987 | 3.2 | 2.8 | 1.5 | 2.900000 | setosa    |\n| 704 |  989 | 5.5 | 2.6 | 2.6 | 0.500000 | setosa    |\n| 705 |  990 | 3.8 | 3.6 | 1.4 | 0.600000 | virginica |\n| 706 |  992 | 3.7 | 2.5 | 2.6 | 2.800000 | virginica |\n| 707 |  994 | 4.5 | 3.7 | 1.2 | 0.300000 | virginica |\n| 708 |  995 | 4.0 | 2.9 | 1.0 | 0.200000 | virginica |\n| 709 |  998 | 5.9 | 2.5 | 2.1 | 2.500000 | virginica |\n| 711 | 1000 | 3.4 | 3.9 | 1.9 | 1.500000 | setosa    |\n\n",
            "text/latex": "A data.frame: 665 × 6\n\\begin{tabular}{r|llllll}\n  & id & sepal\\_length & sepal\\_width & petal\\_length & petal\\_width & species\\\\\n  & <int> & <dbl> & <dbl> & <dbl> & <dbl> & <chr>\\\\\n\\hline\n\t1 &  1 & 3.5 & 2.9 & 1.4 & 0.500000 & virginica\\\\\n\t2 &  2 & 3.6 & 3.2 & 3.0 & 0.500000 & setosa   \\\\\n\t3 &  4 & 5.8 & 2.7 & 2.6 & 1.200000 & virginica\\\\\n\t4 &  5 & 4.9 & 3.6 & 3.0 & 1.200000 & virginica\\\\\n\t5 &  6 & 5.0 & 2.7 & 1.4 & 2.300000 & setosa   \\\\\n\t6 &  7 & 4.8 & 3.0 & 2.6 & 1.400000 & setosa   \\\\\n\t7 &  8 & 5.5 & 2.2 & 2.1 & 2.100000 & virginica\\\\\n\t8 &  9 & 5.5 & 2.9 & 1.1 & 3.000000 & setosa   \\\\\n\t9 & 11 & 3.7 & 2.1 & 1.4 & 1.300000 & setosa   \\\\\n\t10 & 13 & 4.7 & 2.0 & 1.2 & 1.900000 & virginica\\\\\n\t11 & 15 & 3.3 & 2.7 & 2.9 & 0.400000 & setosa   \\\\\n\t12 & 16 & 4.1 & 3.5 & 1.9 & 0.700000 & virginica\\\\\n\t13 & 17 & 4.6 & 2.9 & 2.1 & 2.600000 & virginica\\\\\n\t14 & 18 & 3.7 & 2.6 & 1.3 & 0.900000 & setosa   \\\\\n\t15 & 19 & 5.5 & 2.5 & 1.8 & 1.800000 & virginica\\\\\n\t16 & 20 & 3.7 & 2.4 & 1.2 & 1.568721 & setosa   \\\\\n\t17 & 21 & 3.1 & 2.4 & 1.4 & 0.700000 & setosa   \\\\\n\t18 & 22 & 4.4 & 2.1 & 2.8 & 1.900000 & virginica\\\\\n\t19 & 23 & 5.7 & 3.0 & 2.5 & 1.568721 & setosa   \\\\\n\t20 & 24 & 5.6 & 3.3 & 1.2 & 0.300000 & virginica\\\\\n\t21 & 25 & 3.2 & 3.3 & 2.0 & 0.700000 & virginica\\\\\n\t22 & 26 & 5.0 & 3.3 & 2.4 & 2.200000 & virginica\\\\\n\t23 & 27 & 3.9 & 3.2 & 2.7 & 0.100000 & setosa   \\\\\n\t24 & 29 & 5.8 & 2.6 & 2.3 & 2.300000 & setosa   \\\\\n\t25 & 30 & 4.7 & 3.7 & 1.8 & 2.700000 & virginica\\\\\n\t27 & 33 & 4.0 & 2.1 & 1.6 & 0.100000 & virginica\\\\\n\t28 & 34 & 5.6 & 2.9 & 2.4 & 1.300000 & setosa   \\\\\n\t29 & 36 & 3.1 & 3.4 & 2.0 & 1.568721 & setosa   \\\\\n\t30 & 37 & 4.8 & 3.1 & 2.9 & 2.200000 & virginica\\\\\n\t31 & 38 & 5.4 & 2.7 & 2.2 & 1.000000 & virginica\\\\\n\t⋮ & ⋮ & ⋮ & ⋮ & ⋮ & ⋮ & ⋮\\\\\n\t679 &  956 & 3.6 & 3.3 & 1.8 & 2.700000 & virginica\\\\\n\t680 &  957 & 4.7 & 2.5 & 2.2 & 1.568721 & virginica\\\\\n\t681 &  959 & 5.0 & 2.0 & 1.2 & 1.400000 & virginica\\\\\n\t682 &  961 & 4.2 & 2.7 & 1.7 & 1.600000 & virginica\\\\\n\t683 &  962 & 4.8 & 3.9 & 1.3 & 1.700000 & setosa   \\\\\n\t684 &  963 & 5.2 & 2.1 & 3.0 & 0.700000 & virginica\\\\\n\t686 &  965 & 5.8 & 2.4 & 1.3 & 2.200000 & virginica\\\\\n\t687 &  966 & 4.4 & 2.6 & 1.6 & 0.400000 & virginica\\\\\n\t688 &  967 & 4.6 & 3.3 & 2.3 & 1.300000 & setosa   \\\\\n\t689 &  968 & 3.3 & 2.2 & 1.5 & 2.600000 & setosa   \\\\\n\t690 &  969 & 4.1 & 3.0 & 2.9 & 0.300000 & setosa   \\\\\n\t691 &  970 & 4.6 & 2.2 & 2.5 & 0.700000 & virginica\\\\\n\t693 &  972 & 4.3 & 2.7 & 1.6 & 0.000000 & setosa   \\\\\n\t694 &  974 & 3.9 & 3.6 & 2.3 & 1.568721 & setosa   \\\\\n\t695 &  975 & 3.8 & 2.4 & 3.0 & 2.500000 & virginica\\\\\n\t696 &  977 & 3.4 & 3.7 & 3.0 & 3.000000 & setosa   \\\\\n\t697 &  978 & 4.8 & 3.3 & 2.0 & 0.900000 & virginica\\\\\n\t698 &  981 & 3.6 & 2.6 & 2.3 & 0.900000 & virginica\\\\\n\t699 &  982 & 4.0 & 2.6 & 1.9 & 1.568721 & setosa   \\\\\n\t700 &  984 & 5.9 & 2.4 & 1.1 & 2.300000 & setosa   \\\\\n\t701 &  985 & 3.3 & 2.4 & 1.6 & 2.800000 & setosa   \\\\\n\t702 &  986 & 4.6 & 3.9 & 2.4 & 1.800000 & setosa   \\\\\n\t703 &  987 & 3.2 & 2.8 & 1.5 & 2.900000 & setosa   \\\\\n\t704 &  989 & 5.5 & 2.6 & 2.6 & 0.500000 & setosa   \\\\\n\t705 &  990 & 3.8 & 3.6 & 1.4 & 0.600000 & virginica\\\\\n\t706 &  992 & 3.7 & 2.5 & 2.6 & 2.800000 & virginica\\\\\n\t707 &  994 & 4.5 & 3.7 & 1.2 & 0.300000 & virginica\\\\\n\t708 &  995 & 4.0 & 2.9 & 1.0 & 0.200000 & virginica\\\\\n\t709 &  998 & 5.9 & 2.5 & 2.1 & 2.500000 & virginica\\\\\n\t711 & 1000 & 3.4 & 3.9 & 1.9 & 1.500000 & setosa   \\\\\n\\end{tabular}\n",
            "text/plain": [
              "    id   sepal_length sepal_width petal_length petal_width species  \n",
              "1    1   3.5          2.9         1.4          0.500000    virginica\n",
              "2    2   3.6          3.2         3.0          0.500000    setosa   \n",
              "3    4   5.8          2.7         2.6          1.200000    virginica\n",
              "4    5   4.9          3.6         3.0          1.200000    virginica\n",
              "5    6   5.0          2.7         1.4          2.300000    setosa   \n",
              "6    7   4.8          3.0         2.6          1.400000    setosa   \n",
              "7    8   5.5          2.2         2.1          2.100000    virginica\n",
              "8    9   5.5          2.9         1.1          3.000000    setosa   \n",
              "9   11   3.7          2.1         1.4          1.300000    setosa   \n",
              "10  13   4.7          2.0         1.2          1.900000    virginica\n",
              "11  15   3.3          2.7         2.9          0.400000    setosa   \n",
              "12  16   4.1          3.5         1.9          0.700000    virginica\n",
              "13  17   4.6          2.9         2.1          2.600000    virginica\n",
              "14  18   3.7          2.6         1.3          0.900000    setosa   \n",
              "15  19   5.5          2.5         1.8          1.800000    virginica\n",
              "16  20   3.7          2.4         1.2          1.568721    setosa   \n",
              "17  21   3.1          2.4         1.4          0.700000    setosa   \n",
              "18  22   4.4          2.1         2.8          1.900000    virginica\n",
              "19  23   5.7          3.0         2.5          1.568721    setosa   \n",
              "20  24   5.6          3.3         1.2          0.300000    virginica\n",
              "21  25   3.2          3.3         2.0          0.700000    virginica\n",
              "22  26   5.0          3.3         2.4          2.200000    virginica\n",
              "23  27   3.9          3.2         2.7          0.100000    setosa   \n",
              "24  29   5.8          2.6         2.3          2.300000    setosa   \n",
              "25  30   4.7          3.7         1.8          2.700000    virginica\n",
              "27  33   4.0          2.1         1.6          0.100000    virginica\n",
              "28  34   5.6          2.9         2.4          1.300000    setosa   \n",
              "29  36   3.1          3.4         2.0          1.568721    setosa   \n",
              "30  37   4.8          3.1         2.9          2.200000    virginica\n",
              "31  38   5.4          2.7         2.2          1.000000    virginica\n",
              "⋮   ⋮    ⋮            ⋮           ⋮            ⋮           ⋮        \n",
              "679  956 3.6          3.3         1.8          2.700000    virginica\n",
              "680  957 4.7          2.5         2.2          1.568721    virginica\n",
              "681  959 5.0          2.0         1.2          1.400000    virginica\n",
              "682  961 4.2          2.7         1.7          1.600000    virginica\n",
              "683  962 4.8          3.9         1.3          1.700000    setosa   \n",
              "684  963 5.2          2.1         3.0          0.700000    virginica\n",
              "686  965 5.8          2.4         1.3          2.200000    virginica\n",
              "687  966 4.4          2.6         1.6          0.400000    virginica\n",
              "688  967 4.6          3.3         2.3          1.300000    setosa   \n",
              "689  968 3.3          2.2         1.5          2.600000    setosa   \n",
              "690  969 4.1          3.0         2.9          0.300000    setosa   \n",
              "691  970 4.6          2.2         2.5          0.700000    virginica\n",
              "693  972 4.3          2.7         1.6          0.000000    setosa   \n",
              "694  974 3.9          3.6         2.3          1.568721    setosa   \n",
              "695  975 3.8          2.4         3.0          2.500000    virginica\n",
              "696  977 3.4          3.7         3.0          3.000000    setosa   \n",
              "697  978 4.8          3.3         2.0          0.900000    virginica\n",
              "698  981 3.6          2.6         2.3          0.900000    virginica\n",
              "699  982 4.0          2.6         1.9          1.568721    setosa   \n",
              "700  984 5.9          2.4         1.1          2.300000    setosa   \n",
              "701  985 3.3          2.4         1.6          2.800000    setosa   \n",
              "702  986 4.6          3.9         2.4          1.800000    setosa   \n",
              "703  987 3.2          2.8         1.5          2.900000    setosa   \n",
              "704  989 5.5          2.6         2.6          0.500000    setosa   \n",
              "705  990 3.8          3.6         1.4          0.600000    virginica\n",
              "706  992 3.7          2.5         2.6          2.800000    virginica\n",
              "707  994 4.5          3.7         1.2          0.300000    virginica\n",
              "708  995 4.0          2.9         1.0          0.200000    virginica\n",
              "709  998 5.9          2.5         2.1          2.500000    virginica\n",
              "711 1000 3.4          3.9         1.9          1.500000    setosa   "
            ]
          },
          "metadata": {}
        }
      ]
    },
    {
      "cell_type": "code",
      "source": [
        "# Two other methods to achieve this:\n",
        "\n",
        "#Remove rows with NA's using complete.cases\n",
        "df <- df[complete.cases(df), ]\n",
        "df\n",
        "#Remove rows with NA's using rowSums()\n",
        "df <- df[rowSums(is.na(df)) == 0, ]\n",
        "\n",
        "# Or with the tidyverse library\n",
        "library(\"tidyr\")\n",
        "\n",
        "#Remove rows with NA's using drop_na()\n",
        "df <- df %>% drop_na()"
      ],
      "metadata": {
        "id": "8MqVoIinOPR-",
        "colab": {
          "base_uri": "https://localhost:8080/",
          "height": 1000
        },
        "outputId": "ec99db61-3ff2-4b67-a2a1-02677aa709ee"
      },
      "execution_count": 63,
      "outputs": [
        {
          "output_type": "display_data",
          "data": {
            "text/html": [
              "<table class=\"dataframe\">\n",
              "<caption>A data.frame: 942 × 6</caption>\n",
              "<thead>\n",
              "\t<tr><th></th><th scope=col>id</th><th scope=col>sepal_length</th><th scope=col>sepal_width</th><th scope=col>petal_length</th><th scope=col>petal_width</th><th scope=col>species</th></tr>\n",
              "\t<tr><th></th><th scope=col>&lt;int&gt;</th><th scope=col>&lt;dbl&gt;</th><th scope=col>&lt;dbl&gt;</th><th scope=col>&lt;dbl&gt;</th><th scope=col>&lt;chr&gt;</th><th scope=col>&lt;chr&gt;</th></tr>\n",
              "</thead>\n",
              "<tbody>\n",
              "\t<tr><th scope=row>1</th><td> 1</td><td>3.5</td><td>2.9</td><td>1.4</td><td>0.5 </td><td>virginica</td></tr>\n",
              "\t<tr><th scope=row>2</th><td> 2</td><td>3.6</td><td>3.2</td><td>3.0</td><td>0.5 </td><td>setosa   </td></tr>\n",
              "\t<tr><th scope=row>3</th><td> 4</td><td>5.8</td><td>2.7</td><td>2.6</td><td>1.2 </td><td>virginica</td></tr>\n",
              "\t<tr><th scope=row>4</th><td> 5</td><td>4.9</td><td>3.6</td><td>3.0</td><td>1.2 </td><td>virginica</td></tr>\n",
              "\t<tr><th scope=row>5</th><td> 6</td><td>5.0</td><td>2.7</td><td>1.4</td><td>2.3 </td><td>setosa   </td></tr>\n",
              "\t<tr><th scope=row>6</th><td> 7</td><td>4.8</td><td>3.0</td><td>2.6</td><td>1.4 </td><td>setosa   </td></tr>\n",
              "\t<tr><th scope=row>7</th><td> 8</td><td>5.5</td><td>2.2</td><td>2.1</td><td>2.1 </td><td>virginica</td></tr>\n",
              "\t<tr><th scope=row>8</th><td> 9</td><td>5.5</td><td>2.9</td><td>1.1</td><td>3   </td><td>setosa   </td></tr>\n",
              "\t<tr><th scope=row>9</th><td>11</td><td>3.7</td><td>2.1</td><td>1.4</td><td>1.3 </td><td>setosa   </td></tr>\n",
              "\t<tr><th scope=row>10</th><td>13</td><td>4.7</td><td>2.0</td><td>1.2</td><td>1.9 </td><td>virginica</td></tr>\n",
              "\t<tr><th scope=row>11</th><td>15</td><td>3.3</td><td>2.7</td><td>2.9</td><td>0.4 </td><td>setosa   </td></tr>\n",
              "\t<tr><th scope=row>12</th><td>16</td><td>4.1</td><td>3.5</td><td>1.9</td><td>0.7 </td><td>virginica</td></tr>\n",
              "\t<tr><th scope=row>13</th><td>17</td><td>4.6</td><td>2.9</td><td>2.1</td><td>2.6 </td><td>virginica</td></tr>\n",
              "\t<tr><th scope=row>14</th><td>18</td><td>3.7</td><td>2.6</td><td>1.3</td><td>0.9 </td><td>setosa   </td></tr>\n",
              "\t<tr><th scope=row>15</th><td>19</td><td>5.5</td><td>2.5</td><td>1.8</td><td>1.8 </td><td>virginica</td></tr>\n",
              "\t<tr><th scope=row>16</th><td>20</td><td>3.7</td><td>2.4</td><td>1.2</td><td>    </td><td>setosa   </td></tr>\n",
              "\t<tr><th scope=row>17</th><td>21</td><td>3.1</td><td>2.4</td><td>1.4</td><td>0.7 </td><td>setosa   </td></tr>\n",
              "\t<tr><th scope=row>18</th><td>22</td><td>4.4</td><td>2.1</td><td>2.8</td><td>1.9 </td><td>virginica</td></tr>\n",
              "\t<tr><th scope=row>19</th><td>23</td><td>5.7</td><td>3.0</td><td>2.5</td><td>gg29</td><td>setosa   </td></tr>\n",
              "\t<tr><th scope=row>20</th><td>24</td><td>5.6</td><td>3.3</td><td>1.2</td><td>0.3 </td><td>virginica</td></tr>\n",
              "\t<tr><th scope=row>21</th><td>25</td><td>3.2</td><td>3.3</td><td>2.0</td><td>0.7 </td><td>virginica</td></tr>\n",
              "\t<tr><th scope=row>22</th><td>26</td><td>5.0</td><td>3.3</td><td>2.4</td><td>2.2 </td><td>virginica</td></tr>\n",
              "\t<tr><th scope=row>23</th><td>27</td><td>3.9</td><td>3.2</td><td>2.7</td><td>0.1 </td><td>setosa   </td></tr>\n",
              "\t<tr><th scope=row>24</th><td>29</td><td>5.8</td><td>2.6</td><td>2.3</td><td>2.3 </td><td>setosa   </td></tr>\n",
              "\t<tr><th scope=row>25</th><td>30</td><td>4.7</td><td>3.7</td><td>1.8</td><td>2.7 </td><td>virginica</td></tr>\n",
              "\t<tr><th scope=row>26</th><td>31</td><td>5.9</td><td>2.1</td><td>2.2</td><td>2.6 </td><td>         </td></tr>\n",
              "\t<tr><th scope=row>27</th><td>33</td><td>4.0</td><td>2.1</td><td>1.6</td><td>0.1 </td><td>virginica</td></tr>\n",
              "\t<tr><th scope=row>28</th><td>34</td><td>5.6</td><td>2.9</td><td>2.4</td><td>1.3 </td><td>setosa   </td></tr>\n",
              "\t<tr><th scope=row>29</th><td>36</td><td>3.1</td><td>3.4</td><td>2.0</td><td>    </td><td>setosa   </td></tr>\n",
              "\t<tr><th scope=row>30</th><td>37</td><td>4.8</td><td>3.1</td><td>2.9</td><td>2.2 </td><td>virginica</td></tr>\n",
              "\t<tr><th scope=row>⋮</th><td>⋮</td><td>⋮</td><td>⋮</td><td>⋮</td><td>⋮</td><td>⋮</td></tr>\n",
              "\t<tr><th scope=row>913</th><td>375</td><td>4.9</td><td>3.5</td><td>2.6</td><td>0.6</td><td>virginica</td></tr>\n",
              "\t<tr><th scope=row>914</th><td>376</td><td>4.5</td><td>3.3</td><td>2.0</td><td>1.3</td><td>         </td></tr>\n",
              "\t<tr><th scope=row>915</th><td>378</td><td>4.3</td><td>3.0</td><td>1.1</td><td>3  </td><td>setosa   </td></tr>\n",
              "\t<tr><th scope=row>916</th><td>379</td><td>4.8</td><td>3.7</td><td>2.1</td><td>2.4</td><td>virginica</td></tr>\n",
              "\t<tr><th scope=row>917</th><td>380</td><td>5.8</td><td>3.2</td><td>2.4</td><td>2.6</td><td>setosa   </td></tr>\n",
              "\t<tr><th scope=row>918</th><td>381</td><td>5.5</td><td>3.4</td><td>2.5</td><td>0.5</td><td>setosa   </td></tr>\n",
              "\t<tr><th scope=row>919</th><td>382</td><td>4.1</td><td>3.9</td><td>1.7</td><td>2  </td><td>virginica</td></tr>\n",
              "\t<tr><th scope=row>920</th><td>383</td><td>4.6</td><td>3.3</td><td>2.9</td><td>2.9</td><td>setosa   </td></tr>\n",
              "\t<tr><th scope=row>921</th><td>384</td><td>3.7</td><td>2.6</td><td>1.1</td><td>1  </td><td>virginica</td></tr>\n",
              "\t<tr><th scope=row>922</th><td>385</td><td>3.4</td><td>3.9</td><td>2.0</td><td>0.1</td><td>setosa   </td></tr>\n",
              "\t<tr><th scope=row>923</th><td>386</td><td>3.4</td><td>3.6</td><td>1.0</td><td>0.7</td><td>virginica</td></tr>\n",
              "\t<tr><th scope=row>924</th><td>387</td><td>4.7</td><td>2.4</td><td>2.3</td><td>1.7</td><td>setosa   </td></tr>\n",
              "\t<tr><th scope=row>925</th><td>388</td><td>4.9</td><td>2.1</td><td>1.5</td><td>1.7</td><td>setosa   </td></tr>\n",
              "\t<tr><th scope=row>926</th><td>389</td><td>3.6</td><td>3.3</td><td>1.8</td><td>   </td><td>virginica</td></tr>\n",
              "\t<tr><th scope=row>927</th><td>390</td><td>5.3</td><td>2.2</td><td>2.0</td><td>2.1</td><td>virginica</td></tr>\n",
              "\t<tr><th scope=row>928</th><td>393</td><td>4.0</td><td>3.0</td><td>1.8</td><td>2.5</td><td>virginica</td></tr>\n",
              "\t<tr><th scope=row>929</th><td>395</td><td>3.4</td><td>2.8</td><td>3.0</td><td>1  </td><td>setosa   </td></tr>\n",
              "\t<tr><th scope=row>930</th><td>397</td><td>3.9</td><td>2.3</td><td>2.5</td><td>1.4</td><td>setosa   </td></tr>\n",
              "\t<tr><th scope=row>931</th><td>398</td><td>4.0</td><td>3.8</td><td>2.9</td><td>0.3</td><td>setosa   </td></tr>\n",
              "\t<tr><th scope=row>932</th><td>399</td><td>4.1</td><td>2.8</td><td>1.6</td><td>   </td><td>setosa   </td></tr>\n",
              "\t<tr><th scope=row>933</th><td>401</td><td>5.7</td><td>2.7</td><td>2.8</td><td>2.3</td><td>virginica</td></tr>\n",
              "\t<tr><th scope=row>934</th><td>403</td><td>4.7</td><td>2.0</td><td>1.8</td><td>1.6</td><td>setosa   </td></tr>\n",
              "\t<tr><th scope=row>935</th><td>404</td><td>4.8</td><td>3.2</td><td>2.9</td><td>0.6</td><td>virginica</td></tr>\n",
              "\t<tr><th scope=row>936</th><td>407</td><td>3.3</td><td>2.1</td><td>1.8</td><td>1.9</td><td>virginica</td></tr>\n",
              "\t<tr><th scope=row>937</th><td>409</td><td>3.3</td><td>3.4</td><td>2.5</td><td>2.5</td><td>virginica</td></tr>\n",
              "\t<tr><th scope=row>938</th><td>410</td><td>4.5</td><td>3.4</td><td>1.9</td><td>1.7</td><td>setosa   </td></tr>\n",
              "\t<tr><th scope=row>939</th><td>411</td><td>4.8</td><td>2.6</td><td>1.9</td><td>0.9</td><td>setosa   </td></tr>\n",
              "\t<tr><th scope=row>940</th><td>413</td><td>5.8</td><td>2.7</td><td>2.0</td><td>0.1</td><td>virginica</td></tr>\n",
              "\t<tr><th scope=row>941</th><td>414</td><td>3.3</td><td>3.7</td><td>1.3</td><td>2.8</td><td>setosa   </td></tr>\n",
              "\t<tr><th scope=row>942</th><td>416</td><td>4.3</td><td>2.5</td><td>1.3</td><td>1  </td><td>setosa   </td></tr>\n",
              "</tbody>\n",
              "</table>\n"
            ],
            "text/markdown": "\nA data.frame: 942 × 6\n\n| <!--/--> | id &lt;int&gt; | sepal_length &lt;dbl&gt; | sepal_width &lt;dbl&gt; | petal_length &lt;dbl&gt; | petal_width &lt;chr&gt; | species &lt;chr&gt; |\n|---|---|---|---|---|---|---|\n| 1 |  1 | 3.5 | 2.9 | 1.4 | 0.5  | virginica |\n| 2 |  2 | 3.6 | 3.2 | 3.0 | 0.5  | setosa    |\n| 3 |  4 | 5.8 | 2.7 | 2.6 | 1.2  | virginica |\n| 4 |  5 | 4.9 | 3.6 | 3.0 | 1.2  | virginica |\n| 5 |  6 | 5.0 | 2.7 | 1.4 | 2.3  | setosa    |\n| 6 |  7 | 4.8 | 3.0 | 2.6 | 1.4  | setosa    |\n| 7 |  8 | 5.5 | 2.2 | 2.1 | 2.1  | virginica |\n| 8 |  9 | 5.5 | 2.9 | 1.1 | 3    | setosa    |\n| 9 | 11 | 3.7 | 2.1 | 1.4 | 1.3  | setosa    |\n| 10 | 13 | 4.7 | 2.0 | 1.2 | 1.9  | virginica |\n| 11 | 15 | 3.3 | 2.7 | 2.9 | 0.4  | setosa    |\n| 12 | 16 | 4.1 | 3.5 | 1.9 | 0.7  | virginica |\n| 13 | 17 | 4.6 | 2.9 | 2.1 | 2.6  | virginica |\n| 14 | 18 | 3.7 | 2.6 | 1.3 | 0.9  | setosa    |\n| 15 | 19 | 5.5 | 2.5 | 1.8 | 1.8  | virginica |\n| 16 | 20 | 3.7 | 2.4 | 1.2 | <!----> | setosa    |\n| 17 | 21 | 3.1 | 2.4 | 1.4 | 0.7  | setosa    |\n| 18 | 22 | 4.4 | 2.1 | 2.8 | 1.9  | virginica |\n| 19 | 23 | 5.7 | 3.0 | 2.5 | gg29 | setosa    |\n| 20 | 24 | 5.6 | 3.3 | 1.2 | 0.3  | virginica |\n| 21 | 25 | 3.2 | 3.3 | 2.0 | 0.7  | virginica |\n| 22 | 26 | 5.0 | 3.3 | 2.4 | 2.2  | virginica |\n| 23 | 27 | 3.9 | 3.2 | 2.7 | 0.1  | setosa    |\n| 24 | 29 | 5.8 | 2.6 | 2.3 | 2.3  | setosa    |\n| 25 | 30 | 4.7 | 3.7 | 1.8 | 2.7  | virginica |\n| 26 | 31 | 5.9 | 2.1 | 2.2 | 2.6  | <!----> |\n| 27 | 33 | 4.0 | 2.1 | 1.6 | 0.1  | virginica |\n| 28 | 34 | 5.6 | 2.9 | 2.4 | 1.3  | setosa    |\n| 29 | 36 | 3.1 | 3.4 | 2.0 | <!----> | setosa    |\n| 30 | 37 | 4.8 | 3.1 | 2.9 | 2.2  | virginica |\n| ⋮ | ⋮ | ⋮ | ⋮ | ⋮ | ⋮ | ⋮ |\n| 913 | 375 | 4.9 | 3.5 | 2.6 | 0.6 | virginica |\n| 914 | 376 | 4.5 | 3.3 | 2.0 | 1.3 | <!----> |\n| 915 | 378 | 4.3 | 3.0 | 1.1 | 3   | setosa    |\n| 916 | 379 | 4.8 | 3.7 | 2.1 | 2.4 | virginica |\n| 917 | 380 | 5.8 | 3.2 | 2.4 | 2.6 | setosa    |\n| 918 | 381 | 5.5 | 3.4 | 2.5 | 0.5 | setosa    |\n| 919 | 382 | 4.1 | 3.9 | 1.7 | 2   | virginica |\n| 920 | 383 | 4.6 | 3.3 | 2.9 | 2.9 | setosa    |\n| 921 | 384 | 3.7 | 2.6 | 1.1 | 1   | virginica |\n| 922 | 385 | 3.4 | 3.9 | 2.0 | 0.1 | setosa    |\n| 923 | 386 | 3.4 | 3.6 | 1.0 | 0.7 | virginica |\n| 924 | 387 | 4.7 | 2.4 | 2.3 | 1.7 | setosa    |\n| 925 | 388 | 4.9 | 2.1 | 1.5 | 1.7 | setosa    |\n| 926 | 389 | 3.6 | 3.3 | 1.8 | <!----> | virginica |\n| 927 | 390 | 5.3 | 2.2 | 2.0 | 2.1 | virginica |\n| 928 | 393 | 4.0 | 3.0 | 1.8 | 2.5 | virginica |\n| 929 | 395 | 3.4 | 2.8 | 3.0 | 1   | setosa    |\n| 930 | 397 | 3.9 | 2.3 | 2.5 | 1.4 | setosa    |\n| 931 | 398 | 4.0 | 3.8 | 2.9 | 0.3 | setosa    |\n| 932 | 399 | 4.1 | 2.8 | 1.6 | <!----> | setosa    |\n| 933 | 401 | 5.7 | 2.7 | 2.8 | 2.3 | virginica |\n| 934 | 403 | 4.7 | 2.0 | 1.8 | 1.6 | setosa    |\n| 935 | 404 | 4.8 | 3.2 | 2.9 | 0.6 | virginica |\n| 936 | 407 | 3.3 | 2.1 | 1.8 | 1.9 | virginica |\n| 937 | 409 | 3.3 | 3.4 | 2.5 | 2.5 | virginica |\n| 938 | 410 | 4.5 | 3.4 | 1.9 | 1.7 | setosa    |\n| 939 | 411 | 4.8 | 2.6 | 1.9 | 0.9 | setosa    |\n| 940 | 413 | 5.8 | 2.7 | 2.0 | 0.1 | virginica |\n| 941 | 414 | 3.3 | 3.7 | 1.3 | 2.8 | setosa    |\n| 942 | 416 | 4.3 | 2.5 | 1.3 | 1   | setosa    |\n\n",
            "text/latex": "A data.frame: 942 × 6\n\\begin{tabular}{r|llllll}\n  & id & sepal\\_length & sepal\\_width & petal\\_length & petal\\_width & species\\\\\n  & <int> & <dbl> & <dbl> & <dbl> & <chr> & <chr>\\\\\n\\hline\n\t1 &  1 & 3.5 & 2.9 & 1.4 & 0.5  & virginica\\\\\n\t2 &  2 & 3.6 & 3.2 & 3.0 & 0.5  & setosa   \\\\\n\t3 &  4 & 5.8 & 2.7 & 2.6 & 1.2  & virginica\\\\\n\t4 &  5 & 4.9 & 3.6 & 3.0 & 1.2  & virginica\\\\\n\t5 &  6 & 5.0 & 2.7 & 1.4 & 2.3  & setosa   \\\\\n\t6 &  7 & 4.8 & 3.0 & 2.6 & 1.4  & setosa   \\\\\n\t7 &  8 & 5.5 & 2.2 & 2.1 & 2.1  & virginica\\\\\n\t8 &  9 & 5.5 & 2.9 & 1.1 & 3    & setosa   \\\\\n\t9 & 11 & 3.7 & 2.1 & 1.4 & 1.3  & setosa   \\\\\n\t10 & 13 & 4.7 & 2.0 & 1.2 & 1.9  & virginica\\\\\n\t11 & 15 & 3.3 & 2.7 & 2.9 & 0.4  & setosa   \\\\\n\t12 & 16 & 4.1 & 3.5 & 1.9 & 0.7  & virginica\\\\\n\t13 & 17 & 4.6 & 2.9 & 2.1 & 2.6  & virginica\\\\\n\t14 & 18 & 3.7 & 2.6 & 1.3 & 0.9  & setosa   \\\\\n\t15 & 19 & 5.5 & 2.5 & 1.8 & 1.8  & virginica\\\\\n\t16 & 20 & 3.7 & 2.4 & 1.2 &      & setosa   \\\\\n\t17 & 21 & 3.1 & 2.4 & 1.4 & 0.7  & setosa   \\\\\n\t18 & 22 & 4.4 & 2.1 & 2.8 & 1.9  & virginica\\\\\n\t19 & 23 & 5.7 & 3.0 & 2.5 & gg29 & setosa   \\\\\n\t20 & 24 & 5.6 & 3.3 & 1.2 & 0.3  & virginica\\\\\n\t21 & 25 & 3.2 & 3.3 & 2.0 & 0.7  & virginica\\\\\n\t22 & 26 & 5.0 & 3.3 & 2.4 & 2.2  & virginica\\\\\n\t23 & 27 & 3.9 & 3.2 & 2.7 & 0.1  & setosa   \\\\\n\t24 & 29 & 5.8 & 2.6 & 2.3 & 2.3  & setosa   \\\\\n\t25 & 30 & 4.7 & 3.7 & 1.8 & 2.7  & virginica\\\\\n\t26 & 31 & 5.9 & 2.1 & 2.2 & 2.6  &          \\\\\n\t27 & 33 & 4.0 & 2.1 & 1.6 & 0.1  & virginica\\\\\n\t28 & 34 & 5.6 & 2.9 & 2.4 & 1.3  & setosa   \\\\\n\t29 & 36 & 3.1 & 3.4 & 2.0 &      & setosa   \\\\\n\t30 & 37 & 4.8 & 3.1 & 2.9 & 2.2  & virginica\\\\\n\t⋮ & ⋮ & ⋮ & ⋮ & ⋮ & ⋮ & ⋮\\\\\n\t913 & 375 & 4.9 & 3.5 & 2.6 & 0.6 & virginica\\\\\n\t914 & 376 & 4.5 & 3.3 & 2.0 & 1.3 &          \\\\\n\t915 & 378 & 4.3 & 3.0 & 1.1 & 3   & setosa   \\\\\n\t916 & 379 & 4.8 & 3.7 & 2.1 & 2.4 & virginica\\\\\n\t917 & 380 & 5.8 & 3.2 & 2.4 & 2.6 & setosa   \\\\\n\t918 & 381 & 5.5 & 3.4 & 2.5 & 0.5 & setosa   \\\\\n\t919 & 382 & 4.1 & 3.9 & 1.7 & 2   & virginica\\\\\n\t920 & 383 & 4.6 & 3.3 & 2.9 & 2.9 & setosa   \\\\\n\t921 & 384 & 3.7 & 2.6 & 1.1 & 1   & virginica\\\\\n\t922 & 385 & 3.4 & 3.9 & 2.0 & 0.1 & setosa   \\\\\n\t923 & 386 & 3.4 & 3.6 & 1.0 & 0.7 & virginica\\\\\n\t924 & 387 & 4.7 & 2.4 & 2.3 & 1.7 & setosa   \\\\\n\t925 & 388 & 4.9 & 2.1 & 1.5 & 1.7 & setosa   \\\\\n\t926 & 389 & 3.6 & 3.3 & 1.8 &     & virginica\\\\\n\t927 & 390 & 5.3 & 2.2 & 2.0 & 2.1 & virginica\\\\\n\t928 & 393 & 4.0 & 3.0 & 1.8 & 2.5 & virginica\\\\\n\t929 & 395 & 3.4 & 2.8 & 3.0 & 1   & setosa   \\\\\n\t930 & 397 & 3.9 & 2.3 & 2.5 & 1.4 & setosa   \\\\\n\t931 & 398 & 4.0 & 3.8 & 2.9 & 0.3 & setosa   \\\\\n\t932 & 399 & 4.1 & 2.8 & 1.6 &     & setosa   \\\\\n\t933 & 401 & 5.7 & 2.7 & 2.8 & 2.3 & virginica\\\\\n\t934 & 403 & 4.7 & 2.0 & 1.8 & 1.6 & setosa   \\\\\n\t935 & 404 & 4.8 & 3.2 & 2.9 & 0.6 & virginica\\\\\n\t936 & 407 & 3.3 & 2.1 & 1.8 & 1.9 & virginica\\\\\n\t937 & 409 & 3.3 & 3.4 & 2.5 & 2.5 & virginica\\\\\n\t938 & 410 & 4.5 & 3.4 & 1.9 & 1.7 & setosa   \\\\\n\t939 & 411 & 4.8 & 2.6 & 1.9 & 0.9 & setosa   \\\\\n\t940 & 413 & 5.8 & 2.7 & 2.0 & 0.1 & virginica\\\\\n\t941 & 414 & 3.3 & 3.7 & 1.3 & 2.8 & setosa   \\\\\n\t942 & 416 & 4.3 & 2.5 & 1.3 & 1   & setosa   \\\\\n\\end{tabular}\n",
            "text/plain": [
              "    id  sepal_length sepal_width petal_length petal_width species  \n",
              "1    1  3.5          2.9         1.4          0.5         virginica\n",
              "2    2  3.6          3.2         3.0          0.5         setosa   \n",
              "3    4  5.8          2.7         2.6          1.2         virginica\n",
              "4    5  4.9          3.6         3.0          1.2         virginica\n",
              "5    6  5.0          2.7         1.4          2.3         setosa   \n",
              "6    7  4.8          3.0         2.6          1.4         setosa   \n",
              "7    8  5.5          2.2         2.1          2.1         virginica\n",
              "8    9  5.5          2.9         1.1          3           setosa   \n",
              "9   11  3.7          2.1         1.4          1.3         setosa   \n",
              "10  13  4.7          2.0         1.2          1.9         virginica\n",
              "11  15  3.3          2.7         2.9          0.4         setosa   \n",
              "12  16  4.1          3.5         1.9          0.7         virginica\n",
              "13  17  4.6          2.9         2.1          2.6         virginica\n",
              "14  18  3.7          2.6         1.3          0.9         setosa   \n",
              "15  19  5.5          2.5         1.8          1.8         virginica\n",
              "16  20  3.7          2.4         1.2                      setosa   \n",
              "17  21  3.1          2.4         1.4          0.7         setosa   \n",
              "18  22  4.4          2.1         2.8          1.9         virginica\n",
              "19  23  5.7          3.0         2.5          gg29        setosa   \n",
              "20  24  5.6          3.3         1.2          0.3         virginica\n",
              "21  25  3.2          3.3         2.0          0.7         virginica\n",
              "22  26  5.0          3.3         2.4          2.2         virginica\n",
              "23  27  3.9          3.2         2.7          0.1         setosa   \n",
              "24  29  5.8          2.6         2.3          2.3         setosa   \n",
              "25  30  4.7          3.7         1.8          2.7         virginica\n",
              "26  31  5.9          2.1         2.2          2.6                  \n",
              "27  33  4.0          2.1         1.6          0.1         virginica\n",
              "28  34  5.6          2.9         2.4          1.3         setosa   \n",
              "29  36  3.1          3.4         2.0                      setosa   \n",
              "30  37  4.8          3.1         2.9          2.2         virginica\n",
              "⋮   ⋮   ⋮            ⋮           ⋮            ⋮           ⋮        \n",
              "913 375 4.9          3.5         2.6          0.6         virginica\n",
              "914 376 4.5          3.3         2.0          1.3                  \n",
              "915 378 4.3          3.0         1.1          3           setosa   \n",
              "916 379 4.8          3.7         2.1          2.4         virginica\n",
              "917 380 5.8          3.2         2.4          2.6         setosa   \n",
              "918 381 5.5          3.4         2.5          0.5         setosa   \n",
              "919 382 4.1          3.9         1.7          2           virginica\n",
              "920 383 4.6          3.3         2.9          2.9         setosa   \n",
              "921 384 3.7          2.6         1.1          1           virginica\n",
              "922 385 3.4          3.9         2.0          0.1         setosa   \n",
              "923 386 3.4          3.6         1.0          0.7         virginica\n",
              "924 387 4.7          2.4         2.3          1.7         setosa   \n",
              "925 388 4.9          2.1         1.5          1.7         setosa   \n",
              "926 389 3.6          3.3         1.8                      virginica\n",
              "927 390 5.3          2.2         2.0          2.1         virginica\n",
              "928 393 4.0          3.0         1.8          2.5         virginica\n",
              "929 395 3.4          2.8         3.0          1           setosa   \n",
              "930 397 3.9          2.3         2.5          1.4         setosa   \n",
              "931 398 4.0          3.8         2.9          0.3         setosa   \n",
              "932 399 4.1          2.8         1.6                      setosa   \n",
              "933 401 5.7          2.7         2.8          2.3         virginica\n",
              "934 403 4.7          2.0         1.8          1.6         setosa   \n",
              "935 404 4.8          3.2         2.9          0.6         virginica\n",
              "936 407 3.3          2.1         1.8          1.9         virginica\n",
              "937 409 3.3          3.4         2.5          2.5         virginica\n",
              "938 410 4.5          3.4         1.9          1.7         setosa   \n",
              "939 411 4.8          2.6         1.9          0.9         setosa   \n",
              "940 413 5.8          2.7         2.0          0.1         virginica\n",
              "941 414 3.3          3.7         1.3          2.8         setosa   \n",
              "942 416 4.3          2.5         1.3          1           setosa   "
            ]
          },
          "metadata": {}
        }
      ]
    },
    {
      "cell_type": "markdown",
      "source": [
        "### Imputate Missing Data\n",
        "\n",
        "The question surrounding imputation is WHAT to replace `NA` values with. This question is a data/statistical one and should not be treated lightly. The answer can throw off results greatly.\n",
        "\n",
        "With that caveat in mind, here is the method for imputing missing values and replacing them with the mean of the rest of the data.\n",
        "\n",
        "The R below will update the sepal and petal columns by replacing empty values with the mean of the valid values within each column."
      ],
      "metadata": {
        "id": "s_Afm57POv94"
      }
    },
    {
      "cell_type": "code",
      "source": [
        "df2$sepal_length[is.na(df2$sepal_length)] <- mean(df2$sepal_length, na.rm = TRUE)\n",
        "\n",
        "df2$sepal_width[is.na(df2$sepal_width)] <- mean(df2$sepal_width, na.rm = T)\n",
        "df2$petal_length[is.na(df2$petal_length)] <- mean(df2$petal_length, na.rm = T)\n",
        "df2$petal_width[is.na(df2$petal_width)] <- mean(df2$petal_width, na.rm = T)"
      ],
      "metadata": {
        "id": "V0wiEKJQPOMY"
      },
      "execution_count": 52,
      "outputs": []
    },
    {
      "cell_type": "code",
      "source": [
        "# Another way to achieve this is using the Hmisc package\n",
        "\n",
        "df3 <- read.csv(\"https://raw.githubusercontent.com/nmagee/ds1002/main/data/very-messy-data.csv\")\n",
        "df3 <- df3[!duplicated(df3), ]\n",
        "\n",
        "install.packages(\"Hmisc\")\n",
        "library(Hmisc)"
      ],
      "metadata": {
        "id": "pBmdD9kLQdy2",
        "colab": {
          "base_uri": "https://localhost:8080/"
        },
        "outputId": "02193e56-45f1-4e95-9668-e9ca9a207f73"
      },
      "execution_count": 55,
      "outputs": [
        {
          "output_type": "stream",
          "name": "stderr",
          "text": [
            "Installing package into ‘/usr/local/lib/R/site-library’\n",
            "(as ‘lib’ is unspecified)\n",
            "\n"
          ]
        }
      ]
    },
    {
      "cell_type": "code",
      "source": [
        "df3$sepal_length <- impute(df3$sepal_length, median)\n",
        "df3$sepal_width <- impute(df3$sepal_width, median)\n",
        "df3$petal_length <- impute(df3$petal_length, median)\n",
        "df3$petal_width <- impute(df3$petal_width, median)"
      ],
      "metadata": {
        "id": "VcFfllhyxt3c"
      },
      "execution_count": 65,
      "outputs": []
    },
    {
      "cell_type": "code",
      "source": [
        "# what has changed?\n",
        "structure(df3)"
      ],
      "metadata": {
        "id": "qsu6VcGeTaHN",
        "colab": {
          "base_uri": "https://localhost:8080/",
          "height": 1000
        },
        "outputId": "cb836e35-3526-4afd-c187-3ffeddc51c24"
      },
      "execution_count": 66,
      "outputs": [
        {
          "output_type": "display_data",
          "data": {
            "text/html": [
              "<table class=\"dataframe\">\n",
              "<caption>A data.frame: 1000 × 6</caption>\n",
              "<thead>\n",
              "\t<tr><th></th><th scope=col>id</th><th scope=col>sepal_length</th><th scope=col>sepal_width</th><th scope=col>petal_length</th><th scope=col>petal_width</th><th scope=col>species</th></tr>\n",
              "\t<tr><th></th><th scope=col>&lt;int&gt;</th><th scope=col>&lt;impute&gt;</th><th scope=col>&lt;impute&gt;</th><th scope=col>&lt;impute&gt;</th><th scope=col>&lt;impute&gt;</th><th scope=col>&lt;chr&gt;</th></tr>\n",
              "</thead>\n",
              "<tbody>\n",
              "\t<tr><th scope=row>1</th><td> 1</td><td>3.5</td><td>2.9</td><td>1.4</td><td>0.5</td><td>virginica</td></tr>\n",
              "\t<tr><th scope=row>2</th><td> 2</td><td>3.6</td><td>3.2</td><td>3.0</td><td>0.5</td><td>setosa   </td></tr>\n",
              "\t<tr><th scope=row>3</th><td> 3</td><td>3.8</td><td>3.0</td><td>2.2</td><td>1.5</td><td>setosa   </td></tr>\n",
              "\t<tr><th scope=row>4</th><td> 4</td><td>5.8</td><td>2.7</td><td>2.6</td><td>1.2</td><td>virginica</td></tr>\n",
              "\t<tr><th scope=row>5</th><td> 5</td><td>4.9</td><td>3.6</td><td>3.0</td><td>1.2</td><td>virginica</td></tr>\n",
              "\t<tr><th scope=row>6</th><td> 6</td><td>5.0</td><td>2.7</td><td>1.4</td><td>2.3</td><td>setosa   </td></tr>\n",
              "\t<tr><th scope=row>7</th><td> 7</td><td>4.8</td><td>3.0</td><td>2.6</td><td>1.4</td><td>setosa   </td></tr>\n",
              "\t<tr><th scope=row>8</th><td> 8</td><td>5.5</td><td>2.2</td><td>2.1</td><td>2.1</td><td>virginica</td></tr>\n",
              "\t<tr><th scope=row>9</th><td> 9</td><td>5.5</td><td>2.9</td><td>1.1</td><td>3.0</td><td>setosa   </td></tr>\n",
              "\t<tr><th scope=row>10</th><td>10</td><td>4.6</td><td>3.4</td><td>2.6</td><td>1.9</td><td>virginica</td></tr>\n",
              "\t<tr><th scope=row>11</th><td>11</td><td>3.7</td><td>2.1</td><td>1.4</td><td>1.3</td><td>setosa   </td></tr>\n",
              "\t<tr><th scope=row>12</th><td>12</td><td>4.6</td><td>3.5</td><td>1.6</td><td>2.9</td><td>setosa   </td></tr>\n",
              "\t<tr><th scope=row>13</th><td>13</td><td>4.7</td><td>2.0</td><td>1.2</td><td>1.9</td><td>virginica</td></tr>\n",
              "\t<tr><th scope=row>14</th><td>14</td><td>6.0</td><td>3.0</td><td>1.1</td><td>2.6</td><td>virginica</td></tr>\n",
              "\t<tr><th scope=row>15</th><td>15</td><td>3.3</td><td>2.7</td><td>2.9</td><td>0.4</td><td>setosa   </td></tr>\n",
              "\t<tr><th scope=row>16</th><td>16</td><td>4.1</td><td>3.5</td><td>1.9</td><td>0.7</td><td>virginica</td></tr>\n",
              "\t<tr><th scope=row>17</th><td>17</td><td>4.6</td><td>2.9</td><td>2.1</td><td>2.6</td><td>virginica</td></tr>\n",
              "\t<tr><th scope=row>18</th><td>18</td><td>3.7</td><td>2.6</td><td>1.3</td><td>0.9</td><td>setosa   </td></tr>\n",
              "\t<tr><th scope=row>19</th><td>19</td><td>5.5</td><td>2.5</td><td>1.8</td><td>1.8</td><td>virginica</td></tr>\n",
              "\t<tr><th scope=row>20</th><td>20</td><td>3.7</td><td>2.4</td><td>1.2</td><td>1.6</td><td>setosa   </td></tr>\n",
              "\t<tr><th scope=row>21</th><td>21</td><td>3.1</td><td>2.4</td><td>1.4</td><td>0.7</td><td>setosa   </td></tr>\n",
              "\t<tr><th scope=row>22</th><td>22</td><td>4.4</td><td>2.1</td><td>2.8</td><td>1.9</td><td>virginica</td></tr>\n",
              "\t<tr><th scope=row>23</th><td>23</td><td>5.7</td><td>3.0</td><td>2.5</td><td>1.4</td><td>setosa   </td></tr>\n",
              "\t<tr><th scope=row>24</th><td>24</td><td>5.6</td><td>3.3</td><td>1.2</td><td>0.3</td><td>virginica</td></tr>\n",
              "\t<tr><th scope=row>25</th><td>25</td><td>3.2</td><td>3.3</td><td>2.0</td><td>0.7</td><td>virginica</td></tr>\n",
              "\t<tr><th scope=row>26</th><td>26</td><td>5.0</td><td>3.3</td><td>2.4</td><td>2.2</td><td>virginica</td></tr>\n",
              "\t<tr><th scope=row>27</th><td>27</td><td>3.9</td><td>3.2</td><td>2.7</td><td>0.1</td><td>setosa   </td></tr>\n",
              "\t<tr><th scope=row>28</th><td>28</td><td>4.6</td><td>2.2</td><td>1.5</td><td>1.2</td><td>virginica</td></tr>\n",
              "\t<tr><th scope=row>29</th><td>29</td><td>5.8</td><td>2.6</td><td>2.3</td><td>2.3</td><td>setosa   </td></tr>\n",
              "\t<tr><th scope=row>30</th><td>30</td><td>4.7</td><td>3.7</td><td>1.8</td><td>2.7</td><td>virginica</td></tr>\n",
              "\t<tr><th scope=row>⋮</th><td>⋮</td><td>⋮</td><td>⋮</td><td>⋮</td><td>⋮</td><td>⋮</td></tr>\n",
              "\t<tr><th scope=row>971</th><td> 971</td><td>3.4</td><td>3.5</td><td>2.8</td><td>2.5</td><td>         </td></tr>\n",
              "\t<tr><th scope=row>972</th><td> 972</td><td>4.3</td><td>2.7</td><td>1.6</td><td>0.0</td><td>setosa   </td></tr>\n",
              "\t<tr><th scope=row>973</th><td> 973</td><td>3.7</td><td>3.0</td><td>2.3</td><td>0.6</td><td>virginica</td></tr>\n",
              "\t<tr><th scope=row>974</th><td> 974</td><td>3.9</td><td>3.6</td><td>2.3</td><td>1.6</td><td>setosa   </td></tr>\n",
              "\t<tr><th scope=row>975</th><td> 975</td><td>3.8</td><td>2.4</td><td>3.0</td><td>2.5</td><td>virginica</td></tr>\n",
              "\t<tr><th scope=row>976</th><td> 976</td><td>3.1</td><td>4.0</td><td>2.0</td><td>0.6</td><td>setosa   </td></tr>\n",
              "\t<tr><th scope=row>977</th><td> 977</td><td>3.4</td><td>3.7</td><td>3.0</td><td>3.0</td><td>setosa   </td></tr>\n",
              "\t<tr><th scope=row>978</th><td> 978</td><td>4.8</td><td>3.3</td><td>2.0</td><td>0.9</td><td>virginica</td></tr>\n",
              "\t<tr><th scope=row>979</th><td> 979</td><td>4.6</td><td>2.6</td><td>1.4</td><td>1.3</td><td>virginica</td></tr>\n",
              "\t<tr><th scope=row>980</th><td> 980</td><td>5.7</td><td>3.0</td><td>2.6</td><td>0.6</td><td>virginica</td></tr>\n",
              "\t<tr><th scope=row>981</th><td> 981</td><td>3.6</td><td>2.6</td><td>2.3</td><td>0.9</td><td>virginica</td></tr>\n",
              "\t<tr><th scope=row>982</th><td> 982</td><td>4.0</td><td>2.6</td><td>1.9</td><td>1.6</td><td>setosa   </td></tr>\n",
              "\t<tr><th scope=row>983</th><td> 983</td><td>4.5</td><td>3.0</td><td>2.0</td><td>0.3</td><td>setosa   </td></tr>\n",
              "\t<tr><th scope=row>984</th><td> 984</td><td>5.9</td><td>2.4</td><td>1.1</td><td>2.3</td><td>setosa   </td></tr>\n",
              "\t<tr><th scope=row>985</th><td> 985</td><td>3.3</td><td>2.4</td><td>1.6</td><td>2.8</td><td>setosa   </td></tr>\n",
              "\t<tr><th scope=row>986</th><td> 986</td><td>4.6</td><td>3.9</td><td>2.4</td><td>1.8</td><td>setosa   </td></tr>\n",
              "\t<tr><th scope=row>987</th><td> 987</td><td>3.2</td><td>2.8</td><td>1.5</td><td>2.9</td><td>setosa   </td></tr>\n",
              "\t<tr><th scope=row>988</th><td> 988</td><td>4.8</td><td>3.0</td><td>2.5</td><td>2.1</td><td>virginica</td></tr>\n",
              "\t<tr><th scope=row>989</th><td> 989</td><td>5.5</td><td>2.6</td><td>2.6</td><td>0.5</td><td>setosa   </td></tr>\n",
              "\t<tr><th scope=row>990</th><td> 990</td><td>3.8</td><td>3.6</td><td>1.4</td><td>0.6</td><td>virginica</td></tr>\n",
              "\t<tr><th scope=row>991</th><td> 991</td><td>3.6</td><td>3.0</td><td>2.1</td><td>2.9</td><td>setosa   </td></tr>\n",
              "\t<tr><th scope=row>992</th><td> 992</td><td>3.7</td><td>2.5</td><td>2.6</td><td>2.8</td><td>virginica</td></tr>\n",
              "\t<tr><th scope=row>993</th><td> 993</td><td>3.2</td><td>2.4</td><td>2.0</td><td>1.2</td><td>virginica</td></tr>\n",
              "\t<tr><th scope=row>994</th><td> 994</td><td>4.5</td><td>3.7</td><td>1.2</td><td>0.3</td><td>virginica</td></tr>\n",
              "\t<tr><th scope=row>995</th><td> 995</td><td>4.0</td><td>2.9</td><td>1.0</td><td>0.2</td><td>virginica</td></tr>\n",
              "\t<tr><th scope=row>996</th><td> 996</td><td>4.5</td><td>3.6</td><td>2.0</td><td>2.7</td><td>setosa   </td></tr>\n",
              "\t<tr><th scope=row>997</th><td> 997</td><td>4.0</td><td>2.1</td><td>2.0</td><td>2.1</td><td>setosa   </td></tr>\n",
              "\t<tr><th scope=row>998</th><td> 998</td><td>5.9</td><td>2.5</td><td>2.1</td><td>2.5</td><td>virginica</td></tr>\n",
              "\t<tr><th scope=row>999</th><td> 999</td><td>5.0</td><td>2.6</td><td>1.9</td><td>1.6</td><td>         </td></tr>\n",
              "\t<tr><th scope=row>1000</th><td>1000</td><td>3.4</td><td>3.9</td><td>1.9</td><td>1.5</td><td>setosa   </td></tr>\n",
              "</tbody>\n",
              "</table>\n"
            ],
            "text/markdown": "\nA data.frame: 1000 × 6\n\n| <!--/--> | id &lt;int&gt; | sepal_length &lt;impute&gt; | sepal_width &lt;impute&gt; | petal_length &lt;impute&gt; | petal_width &lt;impute&gt; | species &lt;chr&gt; |\n|---|---|---|---|---|---|---|\n| 1 |  1 | 3.5 | 2.9 | 1.4 | 0.5 | virginica |\n| 2 |  2 | 3.6 | 3.2 | 3.0 | 0.5 | setosa    |\n| 3 |  3 | 3.8 | 3.0 | 2.2 | 1.5 | setosa    |\n| 4 |  4 | 5.8 | 2.7 | 2.6 | 1.2 | virginica |\n| 5 |  5 | 4.9 | 3.6 | 3.0 | 1.2 | virginica |\n| 6 |  6 | 5.0 | 2.7 | 1.4 | 2.3 | setosa    |\n| 7 |  7 | 4.8 | 3.0 | 2.6 | 1.4 | setosa    |\n| 8 |  8 | 5.5 | 2.2 | 2.1 | 2.1 | virginica |\n| 9 |  9 | 5.5 | 2.9 | 1.1 | 3.0 | setosa    |\n| 10 | 10 | 4.6 | 3.4 | 2.6 | 1.9 | virginica |\n| 11 | 11 | 3.7 | 2.1 | 1.4 | 1.3 | setosa    |\n| 12 | 12 | 4.6 | 3.5 | 1.6 | 2.9 | setosa    |\n| 13 | 13 | 4.7 | 2.0 | 1.2 | 1.9 | virginica |\n| 14 | 14 | 6.0 | 3.0 | 1.1 | 2.6 | virginica |\n| 15 | 15 | 3.3 | 2.7 | 2.9 | 0.4 | setosa    |\n| 16 | 16 | 4.1 | 3.5 | 1.9 | 0.7 | virginica |\n| 17 | 17 | 4.6 | 2.9 | 2.1 | 2.6 | virginica |\n| 18 | 18 | 3.7 | 2.6 | 1.3 | 0.9 | setosa    |\n| 19 | 19 | 5.5 | 2.5 | 1.8 | 1.8 | virginica |\n| 20 | 20 | 3.7 | 2.4 | 1.2 | 1.6 | setosa    |\n| 21 | 21 | 3.1 | 2.4 | 1.4 | 0.7 | setosa    |\n| 22 | 22 | 4.4 | 2.1 | 2.8 | 1.9 | virginica |\n| 23 | 23 | 5.7 | 3.0 | 2.5 | 1.4 | setosa    |\n| 24 | 24 | 5.6 | 3.3 | 1.2 | 0.3 | virginica |\n| 25 | 25 | 3.2 | 3.3 | 2.0 | 0.7 | virginica |\n| 26 | 26 | 5.0 | 3.3 | 2.4 | 2.2 | virginica |\n| 27 | 27 | 3.9 | 3.2 | 2.7 | 0.1 | setosa    |\n| 28 | 28 | 4.6 | 2.2 | 1.5 | 1.2 | virginica |\n| 29 | 29 | 5.8 | 2.6 | 2.3 | 2.3 | setosa    |\n| 30 | 30 | 4.7 | 3.7 | 1.8 | 2.7 | virginica |\n| ⋮ | ⋮ | ⋮ | ⋮ | ⋮ | ⋮ | ⋮ |\n| 971 |  971 | 3.4 | 3.5 | 2.8 | 2.5 | <!----> |\n| 972 |  972 | 4.3 | 2.7 | 1.6 | 0.0 | setosa    |\n| 973 |  973 | 3.7 | 3.0 | 2.3 | 0.6 | virginica |\n| 974 |  974 | 3.9 | 3.6 | 2.3 | 1.6 | setosa    |\n| 975 |  975 | 3.8 | 2.4 | 3.0 | 2.5 | virginica |\n| 976 |  976 | 3.1 | 4.0 | 2.0 | 0.6 | setosa    |\n| 977 |  977 | 3.4 | 3.7 | 3.0 | 3.0 | setosa    |\n| 978 |  978 | 4.8 | 3.3 | 2.0 | 0.9 | virginica |\n| 979 |  979 | 4.6 | 2.6 | 1.4 | 1.3 | virginica |\n| 980 |  980 | 5.7 | 3.0 | 2.6 | 0.6 | virginica |\n| 981 |  981 | 3.6 | 2.6 | 2.3 | 0.9 | virginica |\n| 982 |  982 | 4.0 | 2.6 | 1.9 | 1.6 | setosa    |\n| 983 |  983 | 4.5 | 3.0 | 2.0 | 0.3 | setosa    |\n| 984 |  984 | 5.9 | 2.4 | 1.1 | 2.3 | setosa    |\n| 985 |  985 | 3.3 | 2.4 | 1.6 | 2.8 | setosa    |\n| 986 |  986 | 4.6 | 3.9 | 2.4 | 1.8 | setosa    |\n| 987 |  987 | 3.2 | 2.8 | 1.5 | 2.9 | setosa    |\n| 988 |  988 | 4.8 | 3.0 | 2.5 | 2.1 | virginica |\n| 989 |  989 | 5.5 | 2.6 | 2.6 | 0.5 | setosa    |\n| 990 |  990 | 3.8 | 3.6 | 1.4 | 0.6 | virginica |\n| 991 |  991 | 3.6 | 3.0 | 2.1 | 2.9 | setosa    |\n| 992 |  992 | 3.7 | 2.5 | 2.6 | 2.8 | virginica |\n| 993 |  993 | 3.2 | 2.4 | 2.0 | 1.2 | virginica |\n| 994 |  994 | 4.5 | 3.7 | 1.2 | 0.3 | virginica |\n| 995 |  995 | 4.0 | 2.9 | 1.0 | 0.2 | virginica |\n| 996 |  996 | 4.5 | 3.6 | 2.0 | 2.7 | setosa    |\n| 997 |  997 | 4.0 | 2.1 | 2.0 | 2.1 | setosa    |\n| 998 |  998 | 5.9 | 2.5 | 2.1 | 2.5 | virginica |\n| 999 |  999 | 5.0 | 2.6 | 1.9 | 1.6 | <!----> |\n| 1000 | 1000 | 3.4 | 3.9 | 1.9 | 1.5 | setosa    |\n\n",
            "text/latex": "A data.frame: 1000 × 6\n\\begin{tabular}{r|llllll}\n  & id & sepal\\_length & sepal\\_width & petal\\_length & petal\\_width & species\\\\\n  & <int> & <impute> & <impute> & <impute> & <impute> & <chr>\\\\\n\\hline\n\t1 &  1 & 3.5 & 2.9 & 1.4 & 0.5 & virginica\\\\\n\t2 &  2 & 3.6 & 3.2 & 3.0 & 0.5 & setosa   \\\\\n\t3 &  3 & 3.8 & 3.0 & 2.2 & 1.5 & setosa   \\\\\n\t4 &  4 & 5.8 & 2.7 & 2.6 & 1.2 & virginica\\\\\n\t5 &  5 & 4.9 & 3.6 & 3.0 & 1.2 & virginica\\\\\n\t6 &  6 & 5.0 & 2.7 & 1.4 & 2.3 & setosa   \\\\\n\t7 &  7 & 4.8 & 3.0 & 2.6 & 1.4 & setosa   \\\\\n\t8 &  8 & 5.5 & 2.2 & 2.1 & 2.1 & virginica\\\\\n\t9 &  9 & 5.5 & 2.9 & 1.1 & 3.0 & setosa   \\\\\n\t10 & 10 & 4.6 & 3.4 & 2.6 & 1.9 & virginica\\\\\n\t11 & 11 & 3.7 & 2.1 & 1.4 & 1.3 & setosa   \\\\\n\t12 & 12 & 4.6 & 3.5 & 1.6 & 2.9 & setosa   \\\\\n\t13 & 13 & 4.7 & 2.0 & 1.2 & 1.9 & virginica\\\\\n\t14 & 14 & 6.0 & 3.0 & 1.1 & 2.6 & virginica\\\\\n\t15 & 15 & 3.3 & 2.7 & 2.9 & 0.4 & setosa   \\\\\n\t16 & 16 & 4.1 & 3.5 & 1.9 & 0.7 & virginica\\\\\n\t17 & 17 & 4.6 & 2.9 & 2.1 & 2.6 & virginica\\\\\n\t18 & 18 & 3.7 & 2.6 & 1.3 & 0.9 & setosa   \\\\\n\t19 & 19 & 5.5 & 2.5 & 1.8 & 1.8 & virginica\\\\\n\t20 & 20 & 3.7 & 2.4 & 1.2 & 1.6 & setosa   \\\\\n\t21 & 21 & 3.1 & 2.4 & 1.4 & 0.7 & setosa   \\\\\n\t22 & 22 & 4.4 & 2.1 & 2.8 & 1.9 & virginica\\\\\n\t23 & 23 & 5.7 & 3.0 & 2.5 & 1.4 & setosa   \\\\\n\t24 & 24 & 5.6 & 3.3 & 1.2 & 0.3 & virginica\\\\\n\t25 & 25 & 3.2 & 3.3 & 2.0 & 0.7 & virginica\\\\\n\t26 & 26 & 5.0 & 3.3 & 2.4 & 2.2 & virginica\\\\\n\t27 & 27 & 3.9 & 3.2 & 2.7 & 0.1 & setosa   \\\\\n\t28 & 28 & 4.6 & 2.2 & 1.5 & 1.2 & virginica\\\\\n\t29 & 29 & 5.8 & 2.6 & 2.3 & 2.3 & setosa   \\\\\n\t30 & 30 & 4.7 & 3.7 & 1.8 & 2.7 & virginica\\\\\n\t⋮ & ⋮ & ⋮ & ⋮ & ⋮ & ⋮ & ⋮\\\\\n\t971 &  971 & 3.4 & 3.5 & 2.8 & 2.5 &          \\\\\n\t972 &  972 & 4.3 & 2.7 & 1.6 & 0.0 & setosa   \\\\\n\t973 &  973 & 3.7 & 3.0 & 2.3 & 0.6 & virginica\\\\\n\t974 &  974 & 3.9 & 3.6 & 2.3 & 1.6 & setosa   \\\\\n\t975 &  975 & 3.8 & 2.4 & 3.0 & 2.5 & virginica\\\\\n\t976 &  976 & 3.1 & 4.0 & 2.0 & 0.6 & setosa   \\\\\n\t977 &  977 & 3.4 & 3.7 & 3.0 & 3.0 & setosa   \\\\\n\t978 &  978 & 4.8 & 3.3 & 2.0 & 0.9 & virginica\\\\\n\t979 &  979 & 4.6 & 2.6 & 1.4 & 1.3 & virginica\\\\\n\t980 &  980 & 5.7 & 3.0 & 2.6 & 0.6 & virginica\\\\\n\t981 &  981 & 3.6 & 2.6 & 2.3 & 0.9 & virginica\\\\\n\t982 &  982 & 4.0 & 2.6 & 1.9 & 1.6 & setosa   \\\\\n\t983 &  983 & 4.5 & 3.0 & 2.0 & 0.3 & setosa   \\\\\n\t984 &  984 & 5.9 & 2.4 & 1.1 & 2.3 & setosa   \\\\\n\t985 &  985 & 3.3 & 2.4 & 1.6 & 2.8 & setosa   \\\\\n\t986 &  986 & 4.6 & 3.9 & 2.4 & 1.8 & setosa   \\\\\n\t987 &  987 & 3.2 & 2.8 & 1.5 & 2.9 & setosa   \\\\\n\t988 &  988 & 4.8 & 3.0 & 2.5 & 2.1 & virginica\\\\\n\t989 &  989 & 5.5 & 2.6 & 2.6 & 0.5 & setosa   \\\\\n\t990 &  990 & 3.8 & 3.6 & 1.4 & 0.6 & virginica\\\\\n\t991 &  991 & 3.6 & 3.0 & 2.1 & 2.9 & setosa   \\\\\n\t992 &  992 & 3.7 & 2.5 & 2.6 & 2.8 & virginica\\\\\n\t993 &  993 & 3.2 & 2.4 & 2.0 & 1.2 & virginica\\\\\n\t994 &  994 & 4.5 & 3.7 & 1.2 & 0.3 & virginica\\\\\n\t995 &  995 & 4.0 & 2.9 & 1.0 & 0.2 & virginica\\\\\n\t996 &  996 & 4.5 & 3.6 & 2.0 & 2.7 & setosa   \\\\\n\t997 &  997 & 4.0 & 2.1 & 2.0 & 2.1 & setosa   \\\\\n\t998 &  998 & 5.9 & 2.5 & 2.1 & 2.5 & virginica\\\\\n\t999 &  999 & 5.0 & 2.6 & 1.9 & 1.6 &          \\\\\n\t1000 & 1000 & 3.4 & 3.9 & 1.9 & 1.5 & setosa   \\\\\n\\end{tabular}\n",
            "text/plain": [
              "     id   sepal_length sepal_width petal_length petal_width species  \n",
              "1     1   3.5          2.9         1.4          0.5         virginica\n",
              "2     2   3.6          3.2         3.0          0.5         setosa   \n",
              "3     3   3.8          3.0         2.2          1.5         setosa   \n",
              "4     4   5.8          2.7         2.6          1.2         virginica\n",
              "5     5   4.9          3.6         3.0          1.2         virginica\n",
              "6     6   5.0          2.7         1.4          2.3         setosa   \n",
              "7     7   4.8          3.0         2.6          1.4         setosa   \n",
              "8     8   5.5          2.2         2.1          2.1         virginica\n",
              "9     9   5.5          2.9         1.1          3.0         setosa   \n",
              "10   10   4.6          3.4         2.6          1.9         virginica\n",
              "11   11   3.7          2.1         1.4          1.3         setosa   \n",
              "12   12   4.6          3.5         1.6          2.9         setosa   \n",
              "13   13   4.7          2.0         1.2          1.9         virginica\n",
              "14   14   6.0          3.0         1.1          2.6         virginica\n",
              "15   15   3.3          2.7         2.9          0.4         setosa   \n",
              "16   16   4.1          3.5         1.9          0.7         virginica\n",
              "17   17   4.6          2.9         2.1          2.6         virginica\n",
              "18   18   3.7          2.6         1.3          0.9         setosa   \n",
              "19   19   5.5          2.5         1.8          1.8         virginica\n",
              "20   20   3.7          2.4         1.2          1.6         setosa   \n",
              "21   21   3.1          2.4         1.4          0.7         setosa   \n",
              "22   22   4.4          2.1         2.8          1.9         virginica\n",
              "23   23   5.7          3.0         2.5          1.4         setosa   \n",
              "24   24   5.6          3.3         1.2          0.3         virginica\n",
              "25   25   3.2          3.3         2.0          0.7         virginica\n",
              "26   26   5.0          3.3         2.4          2.2         virginica\n",
              "27   27   3.9          3.2         2.7          0.1         setosa   \n",
              "28   28   4.6          2.2         1.5          1.2         virginica\n",
              "29   29   5.8          2.6         2.3          2.3         setosa   \n",
              "30   30   4.7          3.7         1.8          2.7         virginica\n",
              "⋮    ⋮    ⋮            ⋮           ⋮            ⋮           ⋮        \n",
              "971   971 3.4          3.5         2.8          2.5                  \n",
              "972   972 4.3          2.7         1.6          0.0         setosa   \n",
              "973   973 3.7          3.0         2.3          0.6         virginica\n",
              "974   974 3.9          3.6         2.3          1.6         setosa   \n",
              "975   975 3.8          2.4         3.0          2.5         virginica\n",
              "976   976 3.1          4.0         2.0          0.6         setosa   \n",
              "977   977 3.4          3.7         3.0          3.0         setosa   \n",
              "978   978 4.8          3.3         2.0          0.9         virginica\n",
              "979   979 4.6          2.6         1.4          1.3         virginica\n",
              "980   980 5.7          3.0         2.6          0.6         virginica\n",
              "981   981 3.6          2.6         2.3          0.9         virginica\n",
              "982   982 4.0          2.6         1.9          1.6         setosa   \n",
              "983   983 4.5          3.0         2.0          0.3         setosa   \n",
              "984   984 5.9          2.4         1.1          2.3         setosa   \n",
              "985   985 3.3          2.4         1.6          2.8         setosa   \n",
              "986   986 4.6          3.9         2.4          1.8         setosa   \n",
              "987   987 3.2          2.8         1.5          2.9         setosa   \n",
              "988   988 4.8          3.0         2.5          2.1         virginica\n",
              "989   989 5.5          2.6         2.6          0.5         setosa   \n",
              "990   990 3.8          3.6         1.4          0.6         virginica\n",
              "991   991 3.6          3.0         2.1          2.9         setosa   \n",
              "992   992 3.7          2.5         2.6          2.8         virginica\n",
              "993   993 3.2          2.4         2.0          1.2         virginica\n",
              "994   994 4.5          3.7         1.2          0.3         virginica\n",
              "995   995 4.0          2.9         1.0          0.2         virginica\n",
              "996   996 4.5          3.6         2.0          2.7         setosa   \n",
              "997   997 4.0          2.1         2.0          2.1         setosa   \n",
              "998   998 5.9          2.5         2.1          2.5         virginica\n",
              "999   999 5.0          2.6         1.9          1.6                  \n",
              "1000 1000 3.4          3.9         1.9          1.5         setosa   "
            ]
          },
          "metadata": {}
        }
      ]
    },
    {
      "cell_type": "markdown",
      "source": [
        "### Remove Whitespace\n",
        "\n",
        "Create a simple data frame with extra space characters thrown in:"
      ],
      "metadata": {
        "id": "QCdErmY7zDL1"
      }
    },
    {
      "cell_type": "code",
      "source": [
        "df_space <- data.frame(first  = c(\"Boston \", \" Chicago \", \"New York \", \" Minneapolis\", \" Portland\"),\n",
        "                        second = c(\"Massachusetts\", \" Illinois\", \"New  York\", \"Minnesota\", \"  Oregon\"),\n",
        "                        third = c(\"New England  \", \"Mid-West\", \" New England\", \"Mid-West\", \"North-West \")\n",
        "                      )"
      ],
      "metadata": {
        "id": "_RXDPBwxzv4I"
      },
      "execution_count": 37,
      "outputs": []
    },
    {
      "cell_type": "code",
      "source": [
        "df_space$first"
      ],
      "metadata": {
        "id": "TMeQLuCCz3Aa",
        "colab": {
          "base_uri": "https://localhost:8080/",
          "height": 34
        },
        "outputId": "dd00f3ac-869c-480f-fe91-2404b83a492e"
      },
      "execution_count": 40,
      "outputs": [
        {
          "output_type": "display_data",
          "data": {
            "text/html": [
              "<style>\n",
              ".list-inline {list-style: none; margin:0; padding: 0}\n",
              ".list-inline>li {display: inline-block}\n",
              ".list-inline>li:not(:last-child)::after {content: \"\\00b7\"; padding: 0 .5ex}\n",
              "</style>\n",
              "<ol class=list-inline><li>'Boston '</li><li>' Chicago '</li><li>'New York '</li><li>' Minneapolis'</li><li>' Portland'</li></ol>\n"
            ],
            "text/markdown": "1. 'Boston '\n2. ' Chicago '\n3. 'New York '\n4. ' Minneapolis'\n5. ' Portland'\n\n\n",
            "text/latex": "\\begin{enumerate*}\n\\item 'Boston '\n\\item ' Chicago '\n\\item 'New York '\n\\item ' Minneapolis'\n\\item ' Portland'\n\\end{enumerate*}\n",
            "text/plain": [
              "[1] \"Boston \"      \" Chicago \"    \"New York \"    \" Minneapolis\" \" Portland\"   "
            ]
          },
          "metadata": {}
        }
      ]
    },
    {
      "cell_type": "code",
      "source": [
        "library(stringr)\n",
        "df_trim= df_space%>%mutate(across(where(is.character), str_trim))"
      ],
      "metadata": {
        "id": "bmu6AgdZzB_L",
        "colab": {
          "base_uri": "https://localhost:8080/",
          "height": 255
        },
        "outputId": "6e907e71-26b5-4be2-882a-a2cc45cfee88"
      },
      "execution_count": 42,
      "outputs": [
        {
          "output_type": "display_data",
          "data": {
            "text/html": [
              "<table class=\"dataframe\">\n",
              "<caption>A data.frame: 5 × 3</caption>\n",
              "<thead>\n",
              "\t<tr><th scope=col>first</th><th scope=col>second</th><th scope=col>third</th></tr>\n",
              "\t<tr><th scope=col>&lt;chr&gt;</th><th scope=col>&lt;chr&gt;</th><th scope=col>&lt;chr&gt;</th></tr>\n",
              "</thead>\n",
              "<tbody>\n",
              "\t<tr><td>Boston     </td><td>Massachusetts</td><td>New England</td></tr>\n",
              "\t<tr><td>Chicago    </td><td>Illinois     </td><td>Mid-West   </td></tr>\n",
              "\t<tr><td>New York   </td><td>New  York    </td><td>New England</td></tr>\n",
              "\t<tr><td>Minneapolis</td><td>Minnesota    </td><td>Mid-West   </td></tr>\n",
              "\t<tr><td>Portland   </td><td>Oregon       </td><td>North-West </td></tr>\n",
              "</tbody>\n",
              "</table>\n"
            ],
            "text/markdown": "\nA data.frame: 5 × 3\n\n| first &lt;chr&gt; | second &lt;chr&gt; | third &lt;chr&gt; |\n|---|---|---|\n| Boston      | Massachusetts | New England |\n| Chicago     | Illinois      | Mid-West    |\n| New York    | New  York     | New England |\n| Minneapolis | Minnesota     | Mid-West    |\n| Portland    | Oregon        | North-West  |\n\n",
            "text/latex": "A data.frame: 5 × 3\n\\begin{tabular}{lll}\n first & second & third\\\\\n <chr> & <chr> & <chr>\\\\\n\\hline\n\t Boston      & Massachusetts & New England\\\\\n\t Chicago     & Illinois      & Mid-West   \\\\\n\t New York    & New  York     & New England\\\\\n\t Minneapolis & Minnesota     & Mid-West   \\\\\n\t Portland    & Oregon        & North-West \\\\\n\\end{tabular}\n",
            "text/plain": [
              "  first       second        third      \n",
              "1 Boston      Massachusetts New England\n",
              "2 Chicago     Illinois      Mid-West   \n",
              "3 New York    New  York     New England\n",
              "4 Minneapolis Minnesota     Mid-West   \n",
              "5 Portland    Oregon        North-West "
            ]
          },
          "metadata": {}
        }
      ]
    },
    {
      "cell_type": "code",
      "source": [
        "df_trim"
      ],
      "metadata": {
        "id": "MCizoSuRz-A6",
        "colab": {
          "base_uri": "https://localhost:8080/",
          "height": 255
        },
        "outputId": "f048ef3e-55bf-492e-acdd-fc3097ac3009"
      },
      "execution_count": 43,
      "outputs": [
        {
          "output_type": "display_data",
          "data": {
            "text/html": [
              "<table class=\"dataframe\">\n",
              "<caption>A data.frame: 5 × 3</caption>\n",
              "<thead>\n",
              "\t<tr><th scope=col>first</th><th scope=col>second</th><th scope=col>third</th></tr>\n",
              "\t<tr><th scope=col>&lt;chr&gt;</th><th scope=col>&lt;chr&gt;</th><th scope=col>&lt;chr&gt;</th></tr>\n",
              "</thead>\n",
              "<tbody>\n",
              "\t<tr><td>Boston     </td><td>Massachusetts</td><td>New England</td></tr>\n",
              "\t<tr><td>Chicago    </td><td>Illinois     </td><td>Mid-West   </td></tr>\n",
              "\t<tr><td>New York   </td><td>New  York    </td><td>New England</td></tr>\n",
              "\t<tr><td>Minneapolis</td><td>Minnesota    </td><td>Mid-West   </td></tr>\n",
              "\t<tr><td>Portland   </td><td>Oregon       </td><td>North-West </td></tr>\n",
              "</tbody>\n",
              "</table>\n"
            ],
            "text/markdown": "\nA data.frame: 5 × 3\n\n| first &lt;chr&gt; | second &lt;chr&gt; | third &lt;chr&gt; |\n|---|---|---|\n| Boston      | Massachusetts | New England |\n| Chicago     | Illinois      | Mid-West    |\n| New York    | New  York     | New England |\n| Minneapolis | Minnesota     | Mid-West    |\n| Portland    | Oregon        | North-West  |\n\n",
            "text/latex": "A data.frame: 5 × 3\n\\begin{tabular}{lll}\n first & second & third\\\\\n <chr> & <chr> & <chr>\\\\\n\\hline\n\t Boston      & Massachusetts & New England\\\\\n\t Chicago     & Illinois      & Mid-West   \\\\\n\t New York    & New  York     & New England\\\\\n\t Minneapolis & Minnesota     & Mid-West   \\\\\n\t Portland    & Oregon        & North-West \\\\\n\\end{tabular}\n",
            "text/plain": [
              "  first       second        third      \n",
              "1 Boston      Massachusetts New England\n",
              "2 Chicago     Illinois      Mid-West   \n",
              "3 New York    New  York     New England\n",
              "4 Minneapolis Minnesota     Mid-West   \n",
              "5 Portland    Oregon        North-West "
            ]
          },
          "metadata": {}
        }
      ]
    },
    {
      "cell_type": "markdown",
      "source": [
        "## Extracting Row Data back into Vector\n",
        "\n",
        "To extract a column of attributes back into a vector, call it out by appending `$ColName` to the data frame."
      ],
      "metadata": {
        "id": "LIRrb60I_CQI"
      }
    },
    {
      "cell_type": "code",
      "source": [
        "# simply view the vector\n",
        "df$petal_width\n",
        "\n",
        "# save to a var\n",
        "petal_length_extracted <- df$petal_length"
      ],
      "metadata": {
        "id": "YBS7y1jZ-yBF",
        "colab": {
          "base_uri": "https://localhost:8080/",
          "height": 191
        },
        "outputId": "0a00975d-cf5b-45e8-ea08-1739dda88205"
      },
      "execution_count": 38,
      "outputs": [
        {
          "output_type": "display_data",
          "data": {
            "text/html": [
              "<style>\n",
              ".list-inline {list-style: none; margin:0; padding: 0}\n",
              ".list-inline>li {display: inline-block}\n",
              ".list-inline>li:not(:last-child)::after {content: \"\\00b7\"; padding: 0 .5ex}\n",
              "</style>\n",
              "<ol class=list-inline><li>'0.5'</li><li>'0.5'</li><li>'1.2'</li><li>'1.2'</li><li>'2.3'</li><li>'1.4'</li><li>'2.1'</li><li>'3'</li><li>'1.3'</li><li>'1.9'</li><li>'0.4'</li><li>'0.7'</li><li>'2.6'</li><li>'0.9'</li><li>'1.8'</li><li>''</li><li>'0.7'</li><li>'1.9'</li><li>'gg29'</li><li>'0.3'</li><li>'0.7'</li><li>'2.2'</li><li>'0.1'</li><li>'2.3'</li><li>'2.7'</li><li>'2.6'</li><li>'0.1'</li><li>'1.3'</li><li>''</li><li>'2.2'</li><li>'1'</li><li>'1.6'</li><li>'0.7'</li><li>'1.9'</li><li>'2.4'</li><li>'1.9'</li><li>'2.9'</li><li>'2'</li><li>'0.6'</li><li>'2.9'</li><li>'2.2'</li><li>'0.8'</li><li>'3'</li><li>'2.7'</li><li>'2.4'</li><li>'2.8'</li><li>'2.2'</li><li>'0.2'</li><li>''</li><li>'2.4'</li><li>''</li><li>'1.7'</li><li>'0.6'</li><li>'1.9'</li><li>''</li><li>'0.1'</li><li>'0.7'</li><li>'1.6'</li><li>'2.2'</li><li>''</li><li>'1.6'</li><li>'0.9'</li><li>'1.5'</li><li>'2.3'</li><li>'2.9'</li><li>'2.8'</li><li>'2.5'</li><li>'1.5'</li><li>'1.4'</li><li>'2.7'</li><li>'2.9'</li><li>''</li><li>'0.3'</li><li>'1.6'</li><li>'1.9'</li><li>'0.5'</li><li>'0.2'</li><li>'2.3'</li><li>'2.5'</li><li>'0.5'</li><li>'1.5'</li><li>'0.1'</li><li>'3'</li><li>'0.7'</li><li>'1.2'</li><li>'2.1'</li><li>'0.2'</li><li>'0'</li><li>'0.8'</li><li>'1.7'</li><li>'0.3'</li><li>'2.7'</li><li>'0.3'</li><li>'2.4'</li><li>''</li><li>''</li><li>'2.8'</li><li>'2.8'</li><li>''</li><li>'1.3'</li><li>'1.5'</li><li>'0.7'</li><li>'0.9'</li><li>'2.1'</li><li>''</li><li>'0.3'</li><li>'2.3'</li><li>'2.3'</li><li>'2.8'</li><li>'0.8'</li><li>'0.1'</li><li>''</li><li>'0.9'</li><li>'2.9'</li><li>'0.6'</li><li>'0.2'</li><li>'0.4'</li><li>''</li><li>'2.3'</li><li>'1.1'</li><li>'0.3'</li><li>'0.8'</li><li>'2.8'</li><li>'0'</li><li>'2.8'</li><li>'2.3'</li><li>'2.8'</li><li>'1.5'</li><li>''</li><li>'0.8'</li><li>'2.9'</li><li>'1.5'</li><li>'1.8'</li><li>'2.7'</li><li>'0.5'</li><li>'1.6'</li><li>'0.5'</li><li>'0.8'</li><li>''</li><li>'0.5'</li><li>'2.4'</li><li>'1'</li><li>'1.5'</li><li>'2.4'</li><li>'2.5'</li><li>'0.3'</li><li>'0.7'</li><li>'2.2'</li><li>'1.3'</li><li>'2.8'</li><li>'1.1'</li><li>'1.4'</li><li>'0.7'</li><li>'1.5'</li><li>''</li><li>'1.9'</li><li>'1.5'</li><li>'1.9'</li><li>'0.3'</li><li>'2'</li><li>'1.2'</li><li>'0.5'</li><li>'1.7'</li><li>'2.4'</li><li>'1.8'</li><li>''</li><li>'2.6'</li><li>'2.8'</li><li>'2.8'</li><li>'1.2'</li><li>'1.2'</li><li>'1.7'</li><li>'0.9'</li><li>'1.5'</li><li>'0.4'</li><li>'1.1'</li><li>'1.7'</li><li>'2.1'</li><li>'2.4'</li><li>'2.6'</li><li>'2.4'</li><li>'0.7'</li><li>'1'</li><li>'1.7'</li><li>'2.8'</li><li>'2.9'</li><li>''</li><li>'0.2'</li><li>'0.1'</li><li>'0.6'</li><li>''</li><li>'2.8'</li><li>'0.3'</li><li>'1.9'</li><li>'2.5'</li><li>'0.1'</li><li>'2.4'</li><li>'2.7'</li><li>'1.9'</li><li>'0.9'</li><li>⋯</li><li>'0.9'</li><li>'2.9'</li><li>'0.6'</li><li>'0.2'</li><li>'0.4'</li><li>''</li><li>'2.3'</li><li>'1.1'</li><li>'0.3'</li><li>'0.8'</li><li>'2.8'</li><li>'0'</li><li>'2.8'</li><li>'2.3'</li><li>'2.8'</li><li>'1.5'</li><li>''</li><li>'0.8'</li><li>'2.9'</li><li>'1.5'</li><li>'1.8'</li><li>'2.7'</li><li>'0.5'</li><li>'1.6'</li><li>'0.5'</li><li>'0.8'</li><li>''</li><li>'0.5'</li><li>'2.4'</li><li>'1'</li><li>'1.5'</li><li>'2.4'</li><li>'2.5'</li><li>'0.3'</li><li>'0.7'</li><li>'2.2'</li><li>'1.3'</li><li>'2.8'</li><li>'1.1'</li><li>'1.4'</li><li>'0.7'</li><li>'1.5'</li><li>''</li><li>'1.9'</li><li>'1.5'</li><li>'1.9'</li><li>'0.3'</li><li>'2'</li><li>'1.2'</li><li>'0.5'</li><li>'1.7'</li><li>'2.4'</li><li>'1.8'</li><li>''</li><li>'2.6'</li><li>'2.8'</li><li>'2.8'</li><li>'1.2'</li><li>'1.2'</li><li>'1.7'</li><li>'0.9'</li><li>'1.5'</li><li>'0.4'</li><li>'1.1'</li><li>'1.7'</li><li>'2.1'</li><li>'2.4'</li><li>'2.6'</li><li>'2.4'</li><li>'0.7'</li><li>'1'</li><li>'1.7'</li><li>'2.8'</li><li>'2.9'</li><li>''</li><li>'0.2'</li><li>'0.1'</li><li>'0.6'</li><li>''</li><li>'2.8'</li><li>'0.3'</li><li>'1.9'</li><li>'2.5'</li><li>'0.1'</li><li>'2.4'</li><li>'2.7'</li><li>'1.9'</li><li>'0.9'</li><li>'1.4'</li><li>'0.5'</li><li>'2.6'</li><li>'1.1'</li><li>'2.9'</li><li>'3'</li><li>''</li><li>'2.5'</li><li>'0.1'</li><li>'2.6'</li><li>'0.6'</li><li>'2.5'</li><li>'0.6'</li><li>'1.2'</li><li>'1.1'</li><li>''</li><li>''</li><li>'0.2'</li><li>'2.5'</li><li>'1.9'</li><li>'1.1'</li><li>''</li><li>'2.7'</li><li>'3'</li><li>'1.6'</li><li>'2.3'</li><li>'2.5'</li><li>'1.7'</li><li>'0.1'</li><li>'1.4'</li><li>'2.6'</li><li>'0'</li><li>'1.1'</li><li>'1.8'</li><li>''</li><li>'2.8'</li><li>'2.8'</li><li>'1'</li><li>'0.7'</li><li>'0.4'</li><li>'2.7'</li><li>'2.4'</li><li>'2.3'</li><li>'2.6'</li><li>'2.4'</li><li>'0.4'</li><li>'1.4'</li><li>'2.3'</li><li>'1.3'</li><li>'1.6'</li><li>'1.6'</li><li>'1.8'</li><li>'1'</li><li>'0.8'</li><li>'1.4'</li><li>'2'</li><li>'0.2'</li><li>'0.8'</li><li>''</li><li>'1.9'</li><li>'1.4'</li><li>''</li><li>''</li><li>''</li><li>'1.1'</li><li>'1.7'</li><li>'0'</li><li>'1.4'</li><li>'1.2'</li><li>'1.9'</li><li>'0.8'</li><li>'2.6'</li><li>'0.2'</li><li>'2.5'</li><li>'1.4'</li><li>'2.4'</li><li>''</li><li>'3'</li><li>'1.1'</li><li>'2.4'</li><li>''</li><li>'0.6'</li><li>'0.6'</li><li>'1.3'</li><li>'3'</li><li>'2.4'</li><li>'2.6'</li><li>'0.5'</li><li>'2'</li><li>'2.9'</li><li>'1'</li><li>'0.1'</li><li>'0.7'</li><li>'1.7'</li><li>'1.7'</li><li>''</li><li>'2.1'</li><li>'2.5'</li><li>'1'</li><li>'1.4'</li><li>'0.3'</li><li>''</li><li>'2.3'</li><li>'1.6'</li><li>'0.6'</li><li>'1.9'</li><li>'2.5'</li><li>'1.7'</li><li>'0.9'</li><li>'0.1'</li><li>'2.8'</li><li>'1'</li></ol>\n"
            ],
            "text/markdown": "1. '0.5'\n2. '0.5'\n3. '1.2'\n4. '1.2'\n5. '2.3'\n6. '1.4'\n7. '2.1'\n8. '3'\n9. '1.3'\n10. '1.9'\n11. '0.4'\n12. '0.7'\n13. '2.6'\n14. '0.9'\n15. '1.8'\n16. ''\n17. '0.7'\n18. '1.9'\n19. 'gg29'\n20. '0.3'\n21. '0.7'\n22. '2.2'\n23. '0.1'\n24. '2.3'\n25. '2.7'\n26. '2.6'\n27. '0.1'\n28. '1.3'\n29. ''\n30. '2.2'\n31. '1'\n32. '1.6'\n33. '0.7'\n34. '1.9'\n35. '2.4'\n36. '1.9'\n37. '2.9'\n38. '2'\n39. '0.6'\n40. '2.9'\n41. '2.2'\n42. '0.8'\n43. '3'\n44. '2.7'\n45. '2.4'\n46. '2.8'\n47. '2.2'\n48. '0.2'\n49. ''\n50. '2.4'\n51. ''\n52. '1.7'\n53. '0.6'\n54. '1.9'\n55. ''\n56. '0.1'\n57. '0.7'\n58. '1.6'\n59. '2.2'\n60. ''\n61. '1.6'\n62. '0.9'\n63. '1.5'\n64. '2.3'\n65. '2.9'\n66. '2.8'\n67. '2.5'\n68. '1.5'\n69. '1.4'\n70. '2.7'\n71. '2.9'\n72. ''\n73. '0.3'\n74. '1.6'\n75. '1.9'\n76. '0.5'\n77. '0.2'\n78. '2.3'\n79. '2.5'\n80. '0.5'\n81. '1.5'\n82. '0.1'\n83. '3'\n84. '0.7'\n85. '1.2'\n86. '2.1'\n87. '0.2'\n88. '0'\n89. '0.8'\n90. '1.7'\n91. '0.3'\n92. '2.7'\n93. '0.3'\n94. '2.4'\n95. ''\n96. ''\n97. '2.8'\n98. '2.8'\n99. ''\n100. '1.3'\n101. '1.5'\n102. '0.7'\n103. '0.9'\n104. '2.1'\n105. ''\n106. '0.3'\n107. '2.3'\n108. '2.3'\n109. '2.8'\n110. '0.8'\n111. '0.1'\n112. ''\n113. '0.9'\n114. '2.9'\n115. '0.6'\n116. '0.2'\n117. '0.4'\n118. ''\n119. '2.3'\n120. '1.1'\n121. '0.3'\n122. '0.8'\n123. '2.8'\n124. '0'\n125. '2.8'\n126. '2.3'\n127. '2.8'\n128. '1.5'\n129. ''\n130. '0.8'\n131. '2.9'\n132. '1.5'\n133. '1.8'\n134. '2.7'\n135. '0.5'\n136. '1.6'\n137. '0.5'\n138. '0.8'\n139. ''\n140. '0.5'\n141. '2.4'\n142. '1'\n143. '1.5'\n144. '2.4'\n145. '2.5'\n146. '0.3'\n147. '0.7'\n148. '2.2'\n149. '1.3'\n150. '2.8'\n151. '1.1'\n152. '1.4'\n153. '0.7'\n154. '1.5'\n155. ''\n156. '1.9'\n157. '1.5'\n158. '1.9'\n159. '0.3'\n160. '2'\n161. '1.2'\n162. '0.5'\n163. '1.7'\n164. '2.4'\n165. '1.8'\n166. ''\n167. '2.6'\n168. '2.8'\n169. '2.8'\n170. '1.2'\n171. '1.2'\n172. '1.7'\n173. '0.9'\n174. '1.5'\n175. '0.4'\n176. '1.1'\n177. '1.7'\n178. '2.1'\n179. '2.4'\n180. '2.6'\n181. '2.4'\n182. '0.7'\n183. '1'\n184. '1.7'\n185. '2.8'\n186. '2.9'\n187. ''\n188. '0.2'\n189. '0.1'\n190. '0.6'\n191. ''\n192. '2.8'\n193. '0.3'\n194. '1.9'\n195. '2.5'\n196. '0.1'\n197. '2.4'\n198. '2.7'\n199. '1.9'\n200. '0.9'\n201. ⋯\n202. '0.9'\n203. '2.9'\n204. '0.6'\n205. '0.2'\n206. '0.4'\n207. ''\n208. '2.3'\n209. '1.1'\n210. '0.3'\n211. '0.8'\n212. '2.8'\n213. '0'\n214. '2.8'\n215. '2.3'\n216. '2.8'\n217. '1.5'\n218. ''\n219. '0.8'\n220. '2.9'\n221. '1.5'\n222. '1.8'\n223. '2.7'\n224. '0.5'\n225. '1.6'\n226. '0.5'\n227. '0.8'\n228. ''\n229. '0.5'\n230. '2.4'\n231. '1'\n232. '1.5'\n233. '2.4'\n234. '2.5'\n235. '0.3'\n236. '0.7'\n237. '2.2'\n238. '1.3'\n239. '2.8'\n240. '1.1'\n241. '1.4'\n242. '0.7'\n243. '1.5'\n244. ''\n245. '1.9'\n246. '1.5'\n247. '1.9'\n248. '0.3'\n249. '2'\n250. '1.2'\n251. '0.5'\n252. '1.7'\n253. '2.4'\n254. '1.8'\n255. ''\n256. '2.6'\n257. '2.8'\n258. '2.8'\n259. '1.2'\n260. '1.2'\n261. '1.7'\n262. '0.9'\n263. '1.5'\n264. '0.4'\n265. '1.1'\n266. '1.7'\n267. '2.1'\n268. '2.4'\n269. '2.6'\n270. '2.4'\n271. '0.7'\n272. '1'\n273. '1.7'\n274. '2.8'\n275. '2.9'\n276. ''\n277. '0.2'\n278. '0.1'\n279. '0.6'\n280. ''\n281. '2.8'\n282. '0.3'\n283. '1.9'\n284. '2.5'\n285. '0.1'\n286. '2.4'\n287. '2.7'\n288. '1.9'\n289. '0.9'\n290. '1.4'\n291. '0.5'\n292. '2.6'\n293. '1.1'\n294. '2.9'\n295. '3'\n296. ''\n297. '2.5'\n298. '0.1'\n299. '2.6'\n300. '0.6'\n301. '2.5'\n302. '0.6'\n303. '1.2'\n304. '1.1'\n305. ''\n306. ''\n307. '0.2'\n308. '2.5'\n309. '1.9'\n310. '1.1'\n311. ''\n312. '2.7'\n313. '3'\n314. '1.6'\n315. '2.3'\n316. '2.5'\n317. '1.7'\n318. '0.1'\n319. '1.4'\n320. '2.6'\n321. '0'\n322. '1.1'\n323. '1.8'\n324. ''\n325. '2.8'\n326. '2.8'\n327. '1'\n328. '0.7'\n329. '0.4'\n330. '2.7'\n331. '2.4'\n332. '2.3'\n333. '2.6'\n334. '2.4'\n335. '0.4'\n336. '1.4'\n337. '2.3'\n338. '1.3'\n339. '1.6'\n340. '1.6'\n341. '1.8'\n342. '1'\n343. '0.8'\n344. '1.4'\n345. '2'\n346. '0.2'\n347. '0.8'\n348. ''\n349. '1.9'\n350. '1.4'\n351. ''\n352. ''\n353. ''\n354. '1.1'\n355. '1.7'\n356. '0'\n357. '1.4'\n358. '1.2'\n359. '1.9'\n360. '0.8'\n361. '2.6'\n362. '0.2'\n363. '2.5'\n364. '1.4'\n365. '2.4'\n366. ''\n367. '3'\n368. '1.1'\n369. '2.4'\n370. ''\n371. '0.6'\n372. '0.6'\n373. '1.3'\n374. '3'\n375. '2.4'\n376. '2.6'\n377. '0.5'\n378. '2'\n379. '2.9'\n380. '1'\n381. '0.1'\n382. '0.7'\n383. '1.7'\n384. '1.7'\n385. ''\n386. '2.1'\n387. '2.5'\n388. '1'\n389. '1.4'\n390. '0.3'\n391. ''\n392. '2.3'\n393. '1.6'\n394. '0.6'\n395. '1.9'\n396. '2.5'\n397. '1.7'\n398. '0.9'\n399. '0.1'\n400. '2.8'\n401. '1'\n\n\n",
            "text/latex": "\\begin{enumerate*}\n\\item '0.5'\n\\item '0.5'\n\\item '1.2'\n\\item '1.2'\n\\item '2.3'\n\\item '1.4'\n\\item '2.1'\n\\item '3'\n\\item '1.3'\n\\item '1.9'\n\\item '0.4'\n\\item '0.7'\n\\item '2.6'\n\\item '0.9'\n\\item '1.8'\n\\item ''\n\\item '0.7'\n\\item '1.9'\n\\item 'gg29'\n\\item '0.3'\n\\item '0.7'\n\\item '2.2'\n\\item '0.1'\n\\item '2.3'\n\\item '2.7'\n\\item '2.6'\n\\item '0.1'\n\\item '1.3'\n\\item ''\n\\item '2.2'\n\\item '1'\n\\item '1.6'\n\\item '0.7'\n\\item '1.9'\n\\item '2.4'\n\\item '1.9'\n\\item '2.9'\n\\item '2'\n\\item '0.6'\n\\item '2.9'\n\\item '2.2'\n\\item '0.8'\n\\item '3'\n\\item '2.7'\n\\item '2.4'\n\\item '2.8'\n\\item '2.2'\n\\item '0.2'\n\\item ''\n\\item '2.4'\n\\item ''\n\\item '1.7'\n\\item '0.6'\n\\item '1.9'\n\\item ''\n\\item '0.1'\n\\item '0.7'\n\\item '1.6'\n\\item '2.2'\n\\item ''\n\\item '1.6'\n\\item '0.9'\n\\item '1.5'\n\\item '2.3'\n\\item '2.9'\n\\item '2.8'\n\\item '2.5'\n\\item '1.5'\n\\item '1.4'\n\\item '2.7'\n\\item '2.9'\n\\item ''\n\\item '0.3'\n\\item '1.6'\n\\item '1.9'\n\\item '0.5'\n\\item '0.2'\n\\item '2.3'\n\\item '2.5'\n\\item '0.5'\n\\item '1.5'\n\\item '0.1'\n\\item '3'\n\\item '0.7'\n\\item '1.2'\n\\item '2.1'\n\\item '0.2'\n\\item '0'\n\\item '0.8'\n\\item '1.7'\n\\item '0.3'\n\\item '2.7'\n\\item '0.3'\n\\item '2.4'\n\\item ''\n\\item ''\n\\item '2.8'\n\\item '2.8'\n\\item ''\n\\item '1.3'\n\\item '1.5'\n\\item '0.7'\n\\item '0.9'\n\\item '2.1'\n\\item ''\n\\item '0.3'\n\\item '2.3'\n\\item '2.3'\n\\item '2.8'\n\\item '0.8'\n\\item '0.1'\n\\item ''\n\\item '0.9'\n\\item '2.9'\n\\item '0.6'\n\\item '0.2'\n\\item '0.4'\n\\item ''\n\\item '2.3'\n\\item '1.1'\n\\item '0.3'\n\\item '0.8'\n\\item '2.8'\n\\item '0'\n\\item '2.8'\n\\item '2.3'\n\\item '2.8'\n\\item '1.5'\n\\item ''\n\\item '0.8'\n\\item '2.9'\n\\item '1.5'\n\\item '1.8'\n\\item '2.7'\n\\item '0.5'\n\\item '1.6'\n\\item '0.5'\n\\item '0.8'\n\\item ''\n\\item '0.5'\n\\item '2.4'\n\\item '1'\n\\item '1.5'\n\\item '2.4'\n\\item '2.5'\n\\item '0.3'\n\\item '0.7'\n\\item '2.2'\n\\item '1.3'\n\\item '2.8'\n\\item '1.1'\n\\item '1.4'\n\\item '0.7'\n\\item '1.5'\n\\item ''\n\\item '1.9'\n\\item '1.5'\n\\item '1.9'\n\\item '0.3'\n\\item '2'\n\\item '1.2'\n\\item '0.5'\n\\item '1.7'\n\\item '2.4'\n\\item '1.8'\n\\item ''\n\\item '2.6'\n\\item '2.8'\n\\item '2.8'\n\\item '1.2'\n\\item '1.2'\n\\item '1.7'\n\\item '0.9'\n\\item '1.5'\n\\item '0.4'\n\\item '1.1'\n\\item '1.7'\n\\item '2.1'\n\\item '2.4'\n\\item '2.6'\n\\item '2.4'\n\\item '0.7'\n\\item '1'\n\\item '1.7'\n\\item '2.8'\n\\item '2.9'\n\\item ''\n\\item '0.2'\n\\item '0.1'\n\\item '0.6'\n\\item ''\n\\item '2.8'\n\\item '0.3'\n\\item '1.9'\n\\item '2.5'\n\\item '0.1'\n\\item '2.4'\n\\item '2.7'\n\\item '1.9'\n\\item '0.9'\n\\item ⋯\n\\item '0.9'\n\\item '2.9'\n\\item '0.6'\n\\item '0.2'\n\\item '0.4'\n\\item ''\n\\item '2.3'\n\\item '1.1'\n\\item '0.3'\n\\item '0.8'\n\\item '2.8'\n\\item '0'\n\\item '2.8'\n\\item '2.3'\n\\item '2.8'\n\\item '1.5'\n\\item ''\n\\item '0.8'\n\\item '2.9'\n\\item '1.5'\n\\item '1.8'\n\\item '2.7'\n\\item '0.5'\n\\item '1.6'\n\\item '0.5'\n\\item '0.8'\n\\item ''\n\\item '0.5'\n\\item '2.4'\n\\item '1'\n\\item '1.5'\n\\item '2.4'\n\\item '2.5'\n\\item '0.3'\n\\item '0.7'\n\\item '2.2'\n\\item '1.3'\n\\item '2.8'\n\\item '1.1'\n\\item '1.4'\n\\item '0.7'\n\\item '1.5'\n\\item ''\n\\item '1.9'\n\\item '1.5'\n\\item '1.9'\n\\item '0.3'\n\\item '2'\n\\item '1.2'\n\\item '0.5'\n\\item '1.7'\n\\item '2.4'\n\\item '1.8'\n\\item ''\n\\item '2.6'\n\\item '2.8'\n\\item '2.8'\n\\item '1.2'\n\\item '1.2'\n\\item '1.7'\n\\item '0.9'\n\\item '1.5'\n\\item '0.4'\n\\item '1.1'\n\\item '1.7'\n\\item '2.1'\n\\item '2.4'\n\\item '2.6'\n\\item '2.4'\n\\item '0.7'\n\\item '1'\n\\item '1.7'\n\\item '2.8'\n\\item '2.9'\n\\item ''\n\\item '0.2'\n\\item '0.1'\n\\item '0.6'\n\\item ''\n\\item '2.8'\n\\item '0.3'\n\\item '1.9'\n\\item '2.5'\n\\item '0.1'\n\\item '2.4'\n\\item '2.7'\n\\item '1.9'\n\\item '0.9'\n\\item '1.4'\n\\item '0.5'\n\\item '2.6'\n\\item '1.1'\n\\item '2.9'\n\\item '3'\n\\item ''\n\\item '2.5'\n\\item '0.1'\n\\item '2.6'\n\\item '0.6'\n\\item '2.5'\n\\item '0.6'\n\\item '1.2'\n\\item '1.1'\n\\item ''\n\\item ''\n\\item '0.2'\n\\item '2.5'\n\\item '1.9'\n\\item '1.1'\n\\item ''\n\\item '2.7'\n\\item '3'\n\\item '1.6'\n\\item '2.3'\n\\item '2.5'\n\\item '1.7'\n\\item '0.1'\n\\item '1.4'\n\\item '2.6'\n\\item '0'\n\\item '1.1'\n\\item '1.8'\n\\item ''\n\\item '2.8'\n\\item '2.8'\n\\item '1'\n\\item '0.7'\n\\item '0.4'\n\\item '2.7'\n\\item '2.4'\n\\item '2.3'\n\\item '2.6'\n\\item '2.4'\n\\item '0.4'\n\\item '1.4'\n\\item '2.3'\n\\item '1.3'\n\\item '1.6'\n\\item '1.6'\n\\item '1.8'\n\\item '1'\n\\item '0.8'\n\\item '1.4'\n\\item '2'\n\\item '0.2'\n\\item '0.8'\n\\item ''\n\\item '1.9'\n\\item '1.4'\n\\item ''\n\\item ''\n\\item ''\n\\item '1.1'\n\\item '1.7'\n\\item '0'\n\\item '1.4'\n\\item '1.2'\n\\item '1.9'\n\\item '0.8'\n\\item '2.6'\n\\item '0.2'\n\\item '2.5'\n\\item '1.4'\n\\item '2.4'\n\\item ''\n\\item '3'\n\\item '1.1'\n\\item '2.4'\n\\item ''\n\\item '0.6'\n\\item '0.6'\n\\item '1.3'\n\\item '3'\n\\item '2.4'\n\\item '2.6'\n\\item '0.5'\n\\item '2'\n\\item '2.9'\n\\item '1'\n\\item '0.1'\n\\item '0.7'\n\\item '1.7'\n\\item '1.7'\n\\item ''\n\\item '2.1'\n\\item '2.5'\n\\item '1'\n\\item '1.4'\n\\item '0.3'\n\\item ''\n\\item '2.3'\n\\item '1.6'\n\\item '0.6'\n\\item '1.9'\n\\item '2.5'\n\\item '1.7'\n\\item '0.9'\n\\item '0.1'\n\\item '2.8'\n\\item '1'\n\\end{enumerate*}\n",
            "text/plain": [
              "  [1] \"0.5\"  \"0.5\"  \"1.2\"  \"1.2\"  \"2.3\"  \"1.4\"  \"2.1\"  \"3\"    \"1.3\"  \"1.9\" \n",
              " [11] \"0.4\"  \"0.7\"  \"2.6\"  \"0.9\"  \"1.8\"  \"\"     \"0.7\"  \"1.9\"  \"gg29\" \"0.3\" \n",
              " [21] \"0.7\"  \"2.2\"  \"0.1\"  \"2.3\"  \"2.7\"  \"2.6\"  \"0.1\"  \"1.3\"  \"\"     \"2.2\" \n",
              " [31] \"1\"    \"1.6\"  \"0.7\"  \"1.9\"  \"2.4\"  \"1.9\"  \"2.9\"  \"2\"    \"0.6\"  \"2.9\" \n",
              " [41] \"2.2\"  \"0.8\"  \"3\"    \"2.7\"  \"2.4\"  \"2.8\"  \"2.2\"  \"0.2\"  \"\"     \"2.4\" \n",
              " [51] \"\"     \"1.7\"  \"0.6\"  \"1.9\"  \"\"     \"0.1\"  \"0.7\"  \"1.6\"  \"2.2\"  \"\"    \n",
              " [61] \"1.6\"  \"0.9\"  \"1.5\"  \"2.3\"  \"2.9\"  \"2.8\"  \"2.5\"  \"1.5\"  \"1.4\"  \"2.7\" \n",
              " [71] \"2.9\"  \"\"     \"0.3\"  \"1.6\"  \"1.9\"  \"0.5\"  \"0.2\"  \"2.3\"  \"2.5\"  \"0.5\" \n",
              " [81] \"1.5\"  \"0.1\"  \"3\"    \"0.7\"  \"1.2\"  \"2.1\"  \"0.2\"  \"0\"    \"0.8\"  \"1.7\" \n",
              " [91] \"0.3\"  \"2.7\"  \"0.3\"  \"2.4\"  \"\"     \"\"     \"2.8\"  \"2.8\"  \"\"     \"1.3\" \n",
              "[101] \"1.5\"  \"0.7\"  \"0.9\"  \"2.1\"  \"\"     \"0.3\"  \"2.3\"  \"2.3\"  \"2.8\"  \"0.8\" \n",
              "[111] \"0.1\"  \"\"     \"0.9\"  \"2.9\"  \"0.6\"  \"0.2\"  \"0.4\"  \"\"     \"2.3\"  \"1.1\" \n",
              "[121] \"0.3\"  \"0.8\"  \"2.8\"  \"0\"    \"2.8\"  \"2.3\"  \"2.8\"  \"1.5\"  \"\"     \"0.8\" \n",
              "[131] \"2.9\"  \"1.5\"  \"1.8\"  \"2.7\"  \"0.5\"  \"1.6\"  \"0.5\"  \"0.8\"  \"\"     \"0.5\" \n",
              "[141] \"2.4\"  \"1\"    \"1.5\"  \"2.4\"  \"2.5\"  \"0.3\"  \"0.7\"  \"2.2\"  \"1.3\"  \"2.8\" \n",
              "[151] \"1.1\"  \"1.4\"  \"0.7\"  \"1.5\"  \"\"     \"1.9\"  \"1.5\"  \"1.9\"  \"0.3\"  \"2\"   \n",
              "[161] \"1.2\"  \"0.5\"  \"1.7\"  \"2.4\"  \"1.8\"  \"\"     \"2.6\"  \"2.8\"  \"2.8\"  \"1.2\" \n",
              "[171] \"1.2\"  \"1.7\"  \"0.9\"  \"1.5\"  \"0.4\"  \"1.1\"  \"1.7\"  \"2.1\"  \"2.4\"  \"2.6\" \n",
              "[181] \"2.4\"  \"0.7\"  \"1\"    \"1.7\"  \"2.8\"  \"2.9\"  \"\"     \"0.2\"  \"0.1\"  \"0.6\" \n",
              "[191] \"\"     \"2.8\"  \"0.3\"  \"1.9\"  \"2.5\"  \"0.1\"  \"2.4\"  \"2.7\"  \"1.9\"  \"0.9\" \n",
              "[201] \"1.4\"  \"0.5\"  \"2.6\"  \"1.1\"  \"2.9\"  \"3\"    \"\"     \"2.5\"  \"0.1\"  \"2.6\" \n",
              "[211] \"0.6\"  \"2.5\"  \"0.6\"  \"1.2\"  \"1.1\"  \"\"     \"\"     \"0.2\"  \"2.5\"  \"1.9\" \n",
              "[221] \"1.1\"  \"\"     \"2.7\"  \"3\"    \"1.6\"  \"2.3\"  \"2.5\"  \"1.7\"  \"0.1\"  \"1.4\" \n",
              "[231] \"2.6\"  \"0\"    \"1.1\"  \"1.8\"  \"\"     \"2.8\"  \"2.8\"  \"1\"    \"0.7\"  \"0.4\" \n",
              "[241] \"2.7\"  \"2.4\"  \"2.3\"  \"2.6\"  \"2.4\"  \"0.4\"  \"1.4\"  \"2.3\"  \"1.3\"  \"1.6\" \n",
              "[251] \"1.6\"  \"1.8\"  \"1\"    \"0.8\"  \"1.4\"  \"2\"    \"0.2\"  \"0.8\"  \"\"     \"1.9\" \n",
              "[261] \"1.4\"  \"\"     \"\"     \"\"     \"1.1\"  \"1.7\"  \"0\"    \"1.4\"  \"1.2\"  \"1.9\" \n",
              "[271] \"0.8\"  \"2.6\"  \"0.2\"  \"2.5\"  \"1.4\"  \"2.4\"  \"\"     \"3\"    \"1.1\"  \"2.4\" \n",
              "[281] \"\"     \"0.6\"  \"0.6\"  \"1.3\"  \"3\"    \"2.4\"  \"2.6\"  \"0.5\"  \"2\"    \"2.9\" \n",
              "[291] \"1\"    \"0.1\"  \"0.7\"  \"1.7\"  \"1.7\"  \"\"     \"2.1\"  \"2.5\"  \"1\"    \"1.4\" \n",
              "[301] \"0.3\"  \"\"     \"2.3\"  \"1.6\"  \"0.6\"  \"1.9\"  \"2.5\"  \"1.7\"  \"0.9\"  \"0.1\" \n",
              "[311] \"2.8\"  \"1\"    \"2.4\"  \"1.3\"  \"2.5\"  \"2.1\"  \"2.2\"  \"0.7\"  \"\"     \"1.7\" \n",
              "[321] \"2.7\"  \"2.4\"  \"0.9\"  \"1.7\"  \"2.9\"  \"0.1\"  \"0.6\"  \"2.9\"  \"0.1\"  \"0.6\" \n",
              "[331] \"0.9\"  \"2.8\"  \"0.3\"  \"2.4\"  \"1.3\"  \"2\"    \"0\"    \"1\"    \"1.2\"  \"2.6\" \n",
              "[341] \"2.4\"  \"0\"    \"0.1\"  \"1\"    \"2.8\"  \"2.8\"  \"0.8\"  \"1.7\"  \"1.2\"  \"2.6\" \n",
              "[351] \"\"     \"1.7\"  \"1.8\"  \"2\"    \"2.6\"  \"1.7\"  \"1.1\"  \"1.1\"  \"1.9\"  \"2\"   \n",
              "[361] \"2.6\"  \"\"     \"2.6\"  \"0.3\"  \"0.2\"  \"0.7\"  \"0\"    \"0.6\"  \"1.1\"  \"0.5\" \n",
              "[371] \"2.3\"  \"\"     \"1.1\"  \"2.8\"  \"2.1\"  \"2.5\"  \"2.6\"  \"1.7\"  \"2.3\"  \"0.6\" \n",
              "[381] \"1.3\"  \"2\"    \"0.3\"  \"0.5\"  \"2.3\"  \"1.2\"  \"2.8\"  \"1.2\"  \"0.3\"  \"2\"   \n",
              "[391] \"2.7\"  \"1\"    \"1.5\"  \"1\"    \"0.3\"  \"0.4\"  \"\"     \"0.5\"  \"1.7\"  \"2.6\" \n",
              "[401] \"1.8\"  \"2.2\"  \"1.2\"  \"2.9\"  \"0.3\"  \"1\"    \"1\"    \"2.9\"  \"2.7\"  \"2.5\" \n",
              "[411] \"1.8\"  \"2.2\"  \"0.4\"  \"0.2\"  \"2.6\"  \"2.9\"  \"2.4\"  \"0.5\"  \"2\"    \"2.4\" \n",
              "[421] \"2.8\"  \"2.1\"  \"1.1\"  \"1.5\"  \"1.5\"  \"1.2\"  \"2.9\"  \"1\"    \"0.5\"  \"2.1\" \n",
              "[431] \"2\"    \"1.6\"  \"1.1\"  \"0.5\"  \"1.3\"  \"1\"    \"2.4\"  \"0.6\"  \"2.8\"  \"2\"   \n",
              "[441] \"2.4\"  \"2.5\"  \"2.6\"  \"0.5\"  \"1.1\"  \"2.7\"  \"0\"    \"2.7\"  \"2.1\"  \"\"    \n",
              "[451] \"2.2\"  \"0.7\"  \"2.4\"  \"\"     \"0.4\"  \"2.1\"  \"1.1\"  \"2.8\"  \"2.2\"  \"0.8\" \n",
              "[461] \"1.7\"  \"0.3\"  \"0.1\"  \"2.7\"  \"\"     \"2.8\"  \"1.5\"  \"1.3\"  \"0.2\"  \"2.9\" \n",
              "[471] \"2.3\"  \"1.5\"  \"2.8\"  \"0.3\"  \"0.6\"  \"1.4\"  \"2.6\"  \"1.7\"  \"2.5\"  \"1.6\" \n",
              "[481] \"1.6\"  \"2.9\"  \"0\"    \"0.4\"  \"0.1\"  \"\"     \"2.3\"  \"0.2\"  \"2.5\"  \"1.2\" \n",
              "[491] \"0\"    \"1.2\"  \"1.4\"  \"1\"    \"2\"    \"0.2\"  \"0.2\"  \"1.1\"  \"3\"    \"\"    \n",
              "[501] \"0\"    \"1.3\"  \"2.7\"  \"1.1\"  \"1.4\"  \"2.4\"  \"1.3\"  \"1.7\"  \"0.6\"  \"1.9\" \n",
              "[511] \"2.4\"  \"3\"    \"\"     \"1.5\"  \"1.7\"  \"0.3\"  \"2.1\"  \"\"     \"2.2\"  \"\"    \n",
              "[521] \"0.1\"  \"2\"    \"\"     \"1.9\"  \"0\"    \"2.9\"  \"2.5\"  \"0.1\"  \"0.6\"  \"0.1\" \n",
              "[531] \"0.4\"  \"1.7\"  \"0.5\"  \"2.8\"  \"2\"    \"1.4\"  \"0.2\"  \"1.4\"  \"1\"    \"0.4\" \n",
              "[541] \"1.9\"  \"1.5\"  \"2.5\"  \"2\"    \"2.9\"  \"0.8\"  \"2.7\"  \"0.6\"  \"0.7\"  \"\"    \n",
              "[551] \"1.5\"  \"2.7\"  \"2\"    \"0\"    \"2.1\"  \"2.6\"  \"1.3\"  \"3\"    \"1.7\"  \"0.2\" \n",
              "[561] \"1.8\"  \"2.1\"  \"3\"    \"2.7\"  \"1.5\"  \"1.8\"  \"2.1\"  \"\"     \"2.2\"  \"0.7\" \n",
              "[571] \"2.8\"  \"1.3\"  \"\"     \"0.2\"  \"0.8\"  \"2.7\"  \"2.5\"  \"0.1\"  \"1.6\"  \"2.3\" \n",
              "[581] \"0.9\"  \"0.2\"  \"0.3\"  \"2.6\"  \"2.6\"  \"2.8\"  \"1.8\"  \"2.8\"  \"0.2\"  \"1.9\" \n",
              "[591] \"2.1\"  \"2.8\"  \"2.8\"  \"2.5\"  \"2.4\"  \"1.8\"  \"1.8\"  \"1\"    \"2.4\"  \"0.8\" \n",
              "[601] \"0.8\"  \"0.5\"  \"2.9\"  \"\"     \"2.5\"  \"1.1\"  \"1.5\"  \"1.3\"  \"1\"    \"1.7\" \n",
              "[611] \"1.5\"  \"1.3\"  \"1\"    \"\"     \"2.1\"  \"2.5\"  \"\"     \"2.6\"  \"0.9\"  \"1.6\" \n",
              "[621] \"0.1\"  \"1.4\"  \"0.9\"  \"0\"    \"0.6\"  \"1.1\"  \"2.3\"  \"0.2\"  \"0.9\"  \"0.5\" \n",
              "[631] \"2.8\"  \"1.4\"  \"0.4\"  \"1.7\"  \"1.3\"  \"2.2\"  \"2.5\"  \"1.7\"  \"1.9\"  \"1\"   \n",
              "[641] \"0.5\"  \"2.8\"  \"2.7\"  \"2.2\"  \"0.7\"  \"1.3\"  \"\"     \"0.9\"  \"\"     \"2.5\" \n",
              "[651] \"2.1\"  \"2.2\"  \"0.8\"  \"1.4\"  \"0.3\"  \"1.5\"  \"1.6\"  \"0.8\"  \"0.9\"  \"2.3\" \n",
              "[661] \"\"     \"2.7\"  \"1.3\"  \"2.2\"  \"2.6\"  \"2.9\"  \"0.7\"  \"0.8\"  \"\"     \"2.4\" \n",
              "[671] \"0.5\"  \"2.6\"  \"1.9\"  \"2.2\"  \"2\"    \"2\"    \"2.3\"  \"1.4\"  \"2.7\"  \"\"    \n",
              "[681] \"1.4\"  \"1.6\"  \"1.7\"  \"0.7\"  \"\"     \"2.2\"  \"0.4\"  \"1.3\"  \"2.6\"  \"0.3\" \n",
              "[691] \"0.7\"  \"2.5\"  \"0\"    \"\"     \"2.5\"  \"3\"    \"0.9\"  \"0.9\"  \"\"     \"2.3\" \n",
              "[701] \"2.8\"  \"1.8\"  \"2.9\"  \"0.5\"  \"0.6\"  \"2.8\"  \"0.3\"  \"0.2\"  \"2.5\"  \"\"    \n",
              "[711] \"1.5\"  \"0.1\"  \"3\"    \"0.7\"  \"1.2\"  \"2.1\"  \"0.2\"  \"0\"    \"0.8\"  \"1.7\" \n",
              "[721] \"0.3\"  \"2.7\"  \"0.3\"  \"2.4\"  \"\"     \"\"     \"2.8\"  \"2.8\"  \"\"     \"1.3\" \n",
              "[731] \"1.5\"  \"0.7\"  \"0.9\"  \"2.1\"  \"\"     \"0.3\"  \"2.3\"  \"2.3\"  \"2.8\"  \"0.8\" \n",
              "[741] \"0.1\"  \"\"     \"0.9\"  \"2.9\"  \"0.6\"  \"0.2\"  \"0.4\"  \"\"     \"2.3\"  \"1.1\" \n",
              "[751] \"0.3\"  \"0.8\"  \"2.8\"  \"0\"    \"2.8\"  \"2.3\"  \"2.8\"  \"1.5\"  \"\"     \"0.8\" \n",
              "[761] \"2.9\"  \"1.5\"  \"1.8\"  \"2.7\"  \"0.5\"  \"1.6\"  \"0.5\"  \"0.8\"  \"\"     \"0.5\" \n",
              "[771] \"2.4\"  \"1\"    \"1.5\"  \"2.4\"  \"2.5\"  \"0.3\"  \"0.7\"  \"2.2\"  \"1.3\"  \"2.8\" \n",
              "[781] \"1.1\"  \"1.4\"  \"0.7\"  \"1.5\"  \"\"     \"1.9\"  \"1.5\"  \"1.9\"  \"0.3\"  \"2\"   \n",
              "[791] \"1.2\"  \"0.5\"  \"1.7\"  \"2.4\"  \"1.8\"  \"\"     \"2.6\"  \"2.8\"  \"2.8\"  \"1.2\" \n",
              "[801] \"1.2\"  \"1.7\"  \"0.9\"  \"1.5\"  \"0.4\"  \"1.1\"  \"1.7\"  \"2.1\"  \"2.4\"  \"2.6\" \n",
              "[811] \"2.4\"  \"0.7\"  \"1\"    \"1.7\"  \"2.8\"  \"2.9\"  \"\"     \"0.2\"  \"0.1\"  \"0.6\" \n",
              "[821] \"\"     \"2.8\"  \"0.3\"  \"1.9\"  \"2.5\"  \"0.1\"  \"2.4\"  \"2.7\"  \"1.9\"  \"0.9\" \n",
              "[831] \"1.4\"  \"0.5\"  \"2.6\"  \"1.1\"  \"2.9\"  \"3\"    \"\"     \"2.5\"  \"0.1\"  \"2.6\" \n",
              "[841] \"0.6\"  \"2.5\"  \"0.6\"  \"1.2\"  \"1.1\"  \"\"     \"\"     \"0.2\"  \"2.5\"  \"1.9\" \n",
              "[851] \"1.1\"  \"\"     \"2.7\"  \"3\"    \"1.6\"  \"2.3\"  \"2.5\"  \"1.7\"  \"0.1\"  \"1.4\" \n",
              "[861] \"2.6\"  \"0\"    \"1.1\"  \"1.8\"  \"\"     \"2.8\"  \"2.8\"  \"1\"    \"0.7\"  \"0.4\" \n",
              "[871] \"2.7\"  \"2.4\"  \"2.3\"  \"2.6\"  \"2.4\"  \"0.4\"  \"1.4\"  \"2.3\"  \"1.3\"  \"1.6\" \n",
              "[881] \"1.6\"  \"1.8\"  \"1\"    \"0.8\"  \"1.4\"  \"2\"    \"0.2\"  \"0.8\"  \"\"     \"1.9\" \n",
              "[891] \"1.4\"  \"\"     \"\"     \"\"     \"1.1\"  \"1.7\"  \"0\"    \"1.4\"  \"1.2\"  \"1.9\" \n",
              "[901] \"0.8\"  \"2.6\"  \"0.2\"  \"2.5\"  \"1.4\"  \"2.4\"  \"\"     \"3\"    \"1.1\"  \"2.4\" \n",
              "[911] \"\"     \"0.6\"  \"0.6\"  \"1.3\"  \"3\"    \"2.4\"  \"2.6\"  \"0.5\"  \"2\"    \"2.9\" \n",
              "[921] \"1\"    \"0.1\"  \"0.7\"  \"1.7\"  \"1.7\"  \"\"     \"2.1\"  \"2.5\"  \"1\"    \"1.4\" \n",
              "[931] \"0.3\"  \"\"     \"2.3\"  \"1.6\"  \"0.6\"  \"1.9\"  \"2.5\"  \"1.7\"  \"0.9\"  \"0.1\" \n",
              "[941] \"2.8\"  \"1\"   "
            ]
          },
          "metadata": {}
        }
      ]
    }
  ]
}
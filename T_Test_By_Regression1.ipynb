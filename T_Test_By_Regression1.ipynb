{
  "nbformat": 4,
  "nbformat_minor": 0,
  "metadata": {
    "colab": {
      "provenance": [],
      "authorship_tag": "ABX9TyNPYW8RzvC9lR8dy8HBGRvV",
      "include_colab_link": true
    },
    "kernelspec": {
      "name": "ir",
      "display_name": "R"
    },
    "language_info": {
      "name": "R"
    }
  },
  "cells": [
    {
      "cell_type": "markdown",
      "metadata": {
        "id": "view-in-github",
        "colab_type": "text"
      },
      "source": [
        "<a href=\"https://colab.research.google.com/github/Cann-Emma/DS1002-zgb8ts/blob/main/T_Test_By_Regression1.ipynb\" target=\"_parent\"><img src=\"https://colab.research.google.com/assets/colab-badge.svg\" alt=\"Open In Colab\"/></a>"
      ]
    },
    {
      "cell_type": "markdown",
      "source": [
        "# T-TEST BY REGRESSION\n",
        "\n",
        "Data Description:\n",
        "\n",
        "Own.Home: H = Yes; U = No or unknown.\n",
        "• Age: Age in years.\n",
        "• Sex : Coded M for males and F for females.\n",
        "• Children: Counts of number of children.\n",
        "• Other.Gifts: Counts of other gifts donated.\n",
        "• Income. Income levels of donors: 1= Lowest, 7=Highest.\n",
        "• Time.Between.Gifts: Time between gifts, in months.\n",
        "• Smallest.Gift, Largest.Gift, Current.Gift. All in dollars.\n"
      ],
      "metadata": {
        "id": "hbNTiq7HoOmJ"
      }
    },
    {
      "cell_type": "code",
      "execution_count": 15,
      "metadata": {
        "colab": {
          "base_uri": "https://localhost:8080/"
        },
        "id": "Gq0LKPK7moxv",
        "outputId": "aff6c7f3-dde5-4b39-a2c1-002ef7757a86"
      },
      "outputs": [
        {
          "output_type": "stream",
          "name": "stderr",
          "text": [
            "Installing package into ‘/usr/local/lib/R/site-library’\n",
            "(as ‘lib’ is unspecified)\n",
            "\n",
            "Installing package into ‘/usr/local/lib/R/site-library’\n",
            "(as ‘lib’ is unspecified)\n",
            "\n",
            "Installing package into ‘/usr/local/lib/R/site-library’\n",
            "(as ‘lib’ is unspecified)\n",
            "\n",
            "Loading required package: carData\n",
            "\n",
            "\n",
            "Attaching package: ‘car’\n",
            "\n",
            "\n",
            "The following object is masked from ‘package:psych’:\n",
            "\n",
            "    logit\n",
            "\n",
            "\n",
            "The following object is masked from ‘package:dplyr’:\n",
            "\n",
            "    recode\n",
            "\n",
            "\n"
          ]
        }
      ],
      "source": [
        "install.packages('psych')\n",
        "install.packages('ggfortify')\n",
        "install.packages('car')\n",
        "library(dplyr)\n",
        "library(psych)\n",
        "library(ggfortify)\n",
        "library(car)\n",
        "PVA= read.csv('PVA (1).csv')"
      ]
    },
    {
      "cell_type": "code",
      "source": [
        "install.packages('pwr')\n",
        "library(pwr)"
      ],
      "metadata": {
        "colab": {
          "base_uri": "https://localhost:8080/"
        },
        "id": "-hpJ-ykSuFMy",
        "outputId": "45a67164-f3cf-4ddc-9c26-ce143222f794"
      },
      "execution_count": 16,
      "outputs": [
        {
          "output_type": "stream",
          "name": "stderr",
          "text": [
            "Installing package into ‘/usr/local/lib/R/site-library’\n",
            "(as ‘lib’ is unspecified)\n",
            "\n"
          ]
        }
      ]
    },
    {
      "cell_type": "markdown",
      "source": [
        "# Pre-Power Analysis"
      ],
      "metadata": {
        "id": "Rl4GQv3lstY-"
      }
    },
    {
      "cell_type": "code",
      "source": [
        "pwr.t.test(d= .8, sig.level= .05, n= NULL, power= .80, type = \"two.sample\", alternative = \"greater\")"
      ],
      "metadata": {
        "colab": {
          "base_uri": "https://localhost:8080/",
          "height": 191
        },
        "id": "v4Ow6MKorfWo",
        "outputId": "21f42bf1-affc-4184-f817-0f2f89005f2b"
      },
      "execution_count": 21,
      "outputs": [
        {
          "output_type": "display_data",
          "data": {
            "text/plain": [
              "\n",
              "     Two-sample t test power calculation \n",
              "\n",
              "              n = 20.03277\n",
              "              d = 0.8\n",
              "      sig.level = 0.05\n",
              "          power = 0.8\n",
              "    alternative = greater\n",
              "\n",
              "NOTE: n is number in *each* group\n"
            ]
          },
          "metadata": {}
        }
      ]
    },
    {
      "cell_type": "code",
      "source": [
        "nrow(Home)\n",
        "nrow(Rent)"
      ],
      "metadata": {
        "colab": {
          "base_uri": "https://localhost:8080/",
          "height": 52
        },
        "id": "wPRf7ZTVvPdV",
        "outputId": "4e832796-36cf-4207-8abc-9df3851cf9b6"
      },
      "execution_count": 20,
      "outputs": [
        {
          "output_type": "display_data",
          "data": {
            "text/html": [
              "5120"
            ],
            "text/markdown": "5120",
            "text/latex": "5120",
            "text/plain": [
              "[1] 5120"
            ]
          },
          "metadata": {}
        },
        {
          "output_type": "display_data",
          "data": {
            "text/html": [
              "2480"
            ],
            "text/markdown": "2480",
            "text/latex": "2480",
            "text/plain": [
              "[1] 2480"
            ]
          },
          "metadata": {}
        }
      ]
    },
    {
      "cell_type": "markdown",
      "source": [
        "# Data Shaping and Preparation"
      ],
      "metadata": {
        "id": "MSuFsG8x3Cbj"
      }
    },
    {
      "cell_type": "code",
      "source": [
        "# Selecting variables of interest\n",
        "PVA1= PVA%>%select(Own.Home, Largest.Gift)"
      ],
      "metadata": {
        "id": "DqfiOEuTn9q3"
      },
      "execution_count": 6,
      "outputs": []
    },
    {
      "cell_type": "code",
      "source": [
        "Home= PVA1%>%filter(Own.Home== 'H')\n",
        "Rent= PVA1%>%filter(Own.Home== 'U')"
      ],
      "metadata": {
        "id": "lPXccjyAn91p"
      },
      "execution_count": 11,
      "outputs": []
    },
    {
      "cell_type": "code",
      "source": [
        "# Shapiro Test takes datasets 3 to 5000 observations. Since one of our datasets excedes these limits,\n",
        "#These are the Measures taken so the Shapiro Test will work.\n",
        "na.omit(Home)\n",
        "Home= Home%>%slice(1:2480)\n",
        "nrow(Home)"
      ],
      "metadata": {
        "colab": {
          "base_uri": "https://localhost:8080/",
          "height": 1000
        },
        "id": "jp8maHP1yFJM",
        "outputId": "530e046b-ef10-4a51-87f9-d706d6da102a"
      },
      "execution_count": 52,
      "outputs": [
        {
          "output_type": "display_data",
          "data": {
            "text/html": [
              "<table class=\"dataframe\">\n",
              "<caption>A data.frame: 4000 × 2</caption>\n",
              "<thead>\n",
              "\t<tr><th></th><th scope=col>Own.Home</th><th scope=col>Largest.Gift</th></tr>\n",
              "\t<tr><th></th><th scope=col>&lt;chr&gt;</th><th scope=col>&lt;dbl&gt;</th></tr>\n",
              "</thead>\n",
              "<tbody>\n",
              "\t<tr><th scope=row>1</th><td>H</td><td>300</td></tr>\n",
              "\t<tr><th scope=row>2</th><td>H</td><td>250</td></tr>\n",
              "\t<tr><th scope=row>3</th><td>H</td><td> 25</td></tr>\n",
              "\t<tr><th scope=row>4</th><td>H</td><td>100</td></tr>\n",
              "\t<tr><th scope=row>5</th><td>H</td><td>200</td></tr>\n",
              "\t<tr><th scope=row>6</th><td>H</td><td>100</td></tr>\n",
              "\t<tr><th scope=row>7</th><td>H</td><td>100</td></tr>\n",
              "\t<tr><th scope=row>8</th><td>H</td><td>100</td></tr>\n",
              "\t<tr><th scope=row>9</th><td>H</td><td> 30</td></tr>\n",
              "\t<tr><th scope=row>10</th><td>H</td><td>200</td></tr>\n",
              "\t<tr><th scope=row>11</th><td>H</td><td> 30</td></tr>\n",
              "\t<tr><th scope=row>12</th><td>H</td><td> 50</td></tr>\n",
              "\t<tr><th scope=row>13</th><td>H</td><td>100</td></tr>\n",
              "\t<tr><th scope=row>14</th><td>H</td><td> 25</td></tr>\n",
              "\t<tr><th scope=row>15</th><td>H</td><td>100</td></tr>\n",
              "\t<tr><th scope=row>16</th><td>H</td><td> 25</td></tr>\n",
              "\t<tr><th scope=row>17</th><td>H</td><td>100</td></tr>\n",
              "\t<tr><th scope=row>18</th><td>H</td><td>200</td></tr>\n",
              "\t<tr><th scope=row>19</th><td>H</td><td> 50</td></tr>\n",
              "\t<tr><th scope=row>20</th><td>H</td><td>100</td></tr>\n",
              "\t<tr><th scope=row>21</th><td>H</td><td> 50</td></tr>\n",
              "\t<tr><th scope=row>22</th><td>H</td><td> 50</td></tr>\n",
              "\t<tr><th scope=row>23</th><td>H</td><td> 45</td></tr>\n",
              "\t<tr><th scope=row>24</th><td>H</td><td> 40</td></tr>\n",
              "\t<tr><th scope=row>25</th><td>H</td><td> 60</td></tr>\n",
              "\t<tr><th scope=row>26</th><td>H</td><td> 36</td></tr>\n",
              "\t<tr><th scope=row>27</th><td>H</td><td> 15</td></tr>\n",
              "\t<tr><th scope=row>28</th><td>H</td><td> 36</td></tr>\n",
              "\t<tr><th scope=row>29</th><td>H</td><td> 50</td></tr>\n",
              "\t<tr><th scope=row>30</th><td>H</td><td> 50</td></tr>\n",
              "\t<tr><th scope=row>⋮</th><td>⋮</td><td>⋮</td></tr>\n",
              "\t<tr><th scope=row>3971</th><td>H</td><td> 35</td></tr>\n",
              "\t<tr><th scope=row>3972</th><td>H</td><td> 15</td></tr>\n",
              "\t<tr><th scope=row>3973</th><td>H</td><td> 25</td></tr>\n",
              "\t<tr><th scope=row>3974</th><td>H</td><td> 25</td></tr>\n",
              "\t<tr><th scope=row>3975</th><td>H</td><td> 20</td></tr>\n",
              "\t<tr><th scope=row>3976</th><td>H</td><td> 20</td></tr>\n",
              "\t<tr><th scope=row>3977</th><td>H</td><td> 20</td></tr>\n",
              "\t<tr><th scope=row>3978</th><td>H</td><td> 16</td></tr>\n",
              "\t<tr><th scope=row>3979</th><td>H</td><td> 15</td></tr>\n",
              "\t<tr><th scope=row>3980</th><td>H</td><td> 20</td></tr>\n",
              "\t<tr><th scope=row>3981</th><td>H</td><td> 10</td></tr>\n",
              "\t<tr><th scope=row>3982</th><td>H</td><td> 13</td></tr>\n",
              "\t<tr><th scope=row>3983</th><td>H</td><td> 14</td></tr>\n",
              "\t<tr><th scope=row>3984</th><td>H</td><td> 20</td></tr>\n",
              "\t<tr><th scope=row>3985</th><td>H</td><td> 15</td></tr>\n",
              "\t<tr><th scope=row>3986</th><td>H</td><td> 11</td></tr>\n",
              "\t<tr><th scope=row>3987</th><td>H</td><td> 12</td></tr>\n",
              "\t<tr><th scope=row>3988</th><td>H</td><td> 10</td></tr>\n",
              "\t<tr><th scope=row>3989</th><td>H</td><td> 15</td></tr>\n",
              "\t<tr><th scope=row>3990</th><td>H</td><td> 15</td></tr>\n",
              "\t<tr><th scope=row>3991</th><td>H</td><td> 16</td></tr>\n",
              "\t<tr><th scope=row>3992</th><td>H</td><td> 20</td></tr>\n",
              "\t<tr><th scope=row>3993</th><td>H</td><td> 15</td></tr>\n",
              "\t<tr><th scope=row>3994</th><td>H</td><td>100</td></tr>\n",
              "\t<tr><th scope=row>3995</th><td>H</td><td> 30</td></tr>\n",
              "\t<tr><th scope=row>3996</th><td>H</td><td> 17</td></tr>\n",
              "\t<tr><th scope=row>3997</th><td>H</td><td> 20</td></tr>\n",
              "\t<tr><th scope=row>3998</th><td>H</td><td> 10</td></tr>\n",
              "\t<tr><th scope=row>3999</th><td>H</td><td> 15</td></tr>\n",
              "\t<tr><th scope=row>4000</th><td>H</td><td> 10</td></tr>\n",
              "</tbody>\n",
              "</table>\n"
            ],
            "text/markdown": "\nA data.frame: 4000 × 2\n\n| <!--/--> | Own.Home &lt;chr&gt; | Largest.Gift &lt;dbl&gt; |\n|---|---|---|\n| 1 | H | 300 |\n| 2 | H | 250 |\n| 3 | H |  25 |\n| 4 | H | 100 |\n| 5 | H | 200 |\n| 6 | H | 100 |\n| 7 | H | 100 |\n| 8 | H | 100 |\n| 9 | H |  30 |\n| 10 | H | 200 |\n| 11 | H |  30 |\n| 12 | H |  50 |\n| 13 | H | 100 |\n| 14 | H |  25 |\n| 15 | H | 100 |\n| 16 | H |  25 |\n| 17 | H | 100 |\n| 18 | H | 200 |\n| 19 | H |  50 |\n| 20 | H | 100 |\n| 21 | H |  50 |\n| 22 | H |  50 |\n| 23 | H |  45 |\n| 24 | H |  40 |\n| 25 | H |  60 |\n| 26 | H |  36 |\n| 27 | H |  15 |\n| 28 | H |  36 |\n| 29 | H |  50 |\n| 30 | H |  50 |\n| ⋮ | ⋮ | ⋮ |\n| 3971 | H |  35 |\n| 3972 | H |  15 |\n| 3973 | H |  25 |\n| 3974 | H |  25 |\n| 3975 | H |  20 |\n| 3976 | H |  20 |\n| 3977 | H |  20 |\n| 3978 | H |  16 |\n| 3979 | H |  15 |\n| 3980 | H |  20 |\n| 3981 | H |  10 |\n| 3982 | H |  13 |\n| 3983 | H |  14 |\n| 3984 | H |  20 |\n| 3985 | H |  15 |\n| 3986 | H |  11 |\n| 3987 | H |  12 |\n| 3988 | H |  10 |\n| 3989 | H |  15 |\n| 3990 | H |  15 |\n| 3991 | H |  16 |\n| 3992 | H |  20 |\n| 3993 | H |  15 |\n| 3994 | H | 100 |\n| 3995 | H |  30 |\n| 3996 | H |  17 |\n| 3997 | H |  20 |\n| 3998 | H |  10 |\n| 3999 | H |  15 |\n| 4000 | H |  10 |\n\n",
            "text/latex": "A data.frame: 4000 × 2\n\\begin{tabular}{r|ll}\n  & Own.Home & Largest.Gift\\\\\n  & <chr> & <dbl>\\\\\n\\hline\n\t1 & H & 300\\\\\n\t2 & H & 250\\\\\n\t3 & H &  25\\\\\n\t4 & H & 100\\\\\n\t5 & H & 200\\\\\n\t6 & H & 100\\\\\n\t7 & H & 100\\\\\n\t8 & H & 100\\\\\n\t9 & H &  30\\\\\n\t10 & H & 200\\\\\n\t11 & H &  30\\\\\n\t12 & H &  50\\\\\n\t13 & H & 100\\\\\n\t14 & H &  25\\\\\n\t15 & H & 100\\\\\n\t16 & H &  25\\\\\n\t17 & H & 100\\\\\n\t18 & H & 200\\\\\n\t19 & H &  50\\\\\n\t20 & H & 100\\\\\n\t21 & H &  50\\\\\n\t22 & H &  50\\\\\n\t23 & H &  45\\\\\n\t24 & H &  40\\\\\n\t25 & H &  60\\\\\n\t26 & H &  36\\\\\n\t27 & H &  15\\\\\n\t28 & H &  36\\\\\n\t29 & H &  50\\\\\n\t30 & H &  50\\\\\n\t⋮ & ⋮ & ⋮\\\\\n\t3971 & H &  35\\\\\n\t3972 & H &  15\\\\\n\t3973 & H &  25\\\\\n\t3974 & H &  25\\\\\n\t3975 & H &  20\\\\\n\t3976 & H &  20\\\\\n\t3977 & H &  20\\\\\n\t3978 & H &  16\\\\\n\t3979 & H &  15\\\\\n\t3980 & H &  20\\\\\n\t3981 & H &  10\\\\\n\t3982 & H &  13\\\\\n\t3983 & H &  14\\\\\n\t3984 & H &  20\\\\\n\t3985 & H &  15\\\\\n\t3986 & H &  11\\\\\n\t3987 & H &  12\\\\\n\t3988 & H &  10\\\\\n\t3989 & H &  15\\\\\n\t3990 & H &  15\\\\\n\t3991 & H &  16\\\\\n\t3992 & H &  20\\\\\n\t3993 & H &  15\\\\\n\t3994 & H & 100\\\\\n\t3995 & H &  30\\\\\n\t3996 & H &  17\\\\\n\t3997 & H &  20\\\\\n\t3998 & H &  10\\\\\n\t3999 & H &  15\\\\\n\t4000 & H &  10\\\\\n\\end{tabular}\n",
            "text/plain": [
              "     Own.Home Largest.Gift\n",
              "1    H        300         \n",
              "2    H        250         \n",
              "3    H         25         \n",
              "4    H        100         \n",
              "5    H        200         \n",
              "6    H        100         \n",
              "7    H        100         \n",
              "8    H        100         \n",
              "9    H         30         \n",
              "10   H        200         \n",
              "11   H         30         \n",
              "12   H         50         \n",
              "13   H        100         \n",
              "14   H         25         \n",
              "15   H        100         \n",
              "16   H         25         \n",
              "17   H        100         \n",
              "18   H        200         \n",
              "19   H         50         \n",
              "20   H        100         \n",
              "21   H         50         \n",
              "22   H         50         \n",
              "23   H         45         \n",
              "24   H         40         \n",
              "25   H         60         \n",
              "26   H         36         \n",
              "27   H         15         \n",
              "28   H         36         \n",
              "29   H         50         \n",
              "30   H         50         \n",
              "⋮    ⋮        ⋮           \n",
              "3971 H         35         \n",
              "3972 H         15         \n",
              "3973 H         25         \n",
              "3974 H         25         \n",
              "3975 H         20         \n",
              "3976 H         20         \n",
              "3977 H         20         \n",
              "3978 H         16         \n",
              "3979 H         15         \n",
              "3980 H         20         \n",
              "3981 H         10         \n",
              "3982 H         13         \n",
              "3983 H         14         \n",
              "3984 H         20         \n",
              "3985 H         15         \n",
              "3986 H         11         \n",
              "3987 H         12         \n",
              "3988 H         10         \n",
              "3989 H         15         \n",
              "3990 H         15         \n",
              "3991 H         16         \n",
              "3992 H         20         \n",
              "3993 H         15         \n",
              "3994 H        100         \n",
              "3995 H         30         \n",
              "3996 H         17         \n",
              "3997 H         20         \n",
              "3998 H         10         \n",
              "3999 H         15         \n",
              "4000 H         10         "
            ]
          },
          "metadata": {}
        },
        {
          "output_type": "display_data",
          "data": {
            "text/html": [
              "2480"
            ],
            "text/markdown": "2480",
            "text/latex": "2480",
            "text/plain": [
              "[1] 2480"
            ]
          },
          "metadata": {}
        }
      ]
    },
    {
      "cell_type": "code",
      "source": [
        "xi= c(rep(1, 2480), rep(-1,2480))\n",
        "yi= c(Home$Largest.Gift, Rent$Largest.Gift)\n",
        "Gift= data.frame(\"Group\"=c(rep('Own Home', 2480), rep('Rent', 2480)), 'xi'= xi, 'Largest.Gift'= yi)\n",
        "View(Gift)"
      ],
      "metadata": {
        "colab": {
          "base_uri": "https://localhost:8080/",
          "height": 1000
        },
        "id": "xLVmF0393CGy",
        "outputId": "970e85a8-55ae-45da-8b8f-3b09cf55b560"
      },
      "execution_count": 55,
      "outputs": [
        {
          "output_type": "display_data",
          "data": {
            "text/plain": [
              "     Group    xi Largest.Gift\n",
              "1    Own Home 1  300         \n",
              "2    Own Home 1  250         \n",
              "3    Own Home 1   25         \n",
              "4    Own Home 1  100         \n",
              "5    Own Home 1  200         \n",
              "6    Own Home 1  100         \n",
              "7    Own Home 1  100         \n",
              "8    Own Home 1  100         \n",
              "9    Own Home 1   30         \n",
              "10   Own Home 1  200         \n",
              "11   Own Home 1   30         \n",
              "12   Own Home 1   50         \n",
              "13   Own Home 1  100         \n",
              "14   Own Home 1   25         \n",
              "15   Own Home 1  100         \n",
              "16   Own Home 1   25         \n",
              "17   Own Home 1  100         \n",
              "18   Own Home 1  200         \n",
              "19   Own Home 1   50         \n",
              "20   Own Home 1  100         \n",
              "21   Own Home 1   50         \n",
              "22   Own Home 1   50         \n",
              "23   Own Home 1   45         \n",
              "24   Own Home 1   40         \n",
              "25   Own Home 1   60         \n",
              "26   Own Home 1   36         \n",
              "27   Own Home 1   15         \n",
              "28   Own Home 1   36         \n",
              "29   Own Home 1   50         \n",
              "30   Own Home 1   50         \n",
              "⋮    ⋮        ⋮  ⋮           \n",
              "4931 Rent     -1 25.00       \n",
              "4932 Rent     -1 42.73       \n",
              "4933 Rent     -1 40.00       \n",
              "4934 Rent     -1 10.00       \n",
              "4935 Rent     -1 20.00       \n",
              "4936 Rent     -1 16.00       \n",
              "4937 Rent     -1 21.20       \n",
              "4938 Rent     -1 20.00       \n",
              "4939 Rent     -1 30.00       \n",
              "4940 Rent     -1 21.00       \n",
              "4941 Rent     -1 30.00       \n",
              "4942 Rent     -1 25.00       \n",
              "4943 Rent     -1 20.00       \n",
              "4944 Rent     -1 20.00       \n",
              "4945 Rent     -1 35.00       \n",
              "4946 Rent     -1 32.00       \n",
              "4947 Rent     -1 50.00       \n",
              "4948 Rent     -1 15.00       \n",
              "4949 Rent     -1 21.00       \n",
              "4950 Rent     -1 24.00       \n",
              "4951 Rent     -1 16.00       \n",
              "4952 Rent     -1 20.00       \n",
              "4953 Rent     -1 10.00       \n",
              "4954 Rent     -1 15.00       \n",
              "4955 Rent     -1 20.00       \n",
              "4956 Rent     -1 13.00       \n",
              "4957 Rent     -1 10.00       \n",
              "4958 Rent     -1 10.00       \n",
              "4959 Rent     -1 25.00       \n",
              "4960 Rent     -1 25.00       "
            ],
            "text/html": [
              "<table class=\"dataframe\">\n",
              "<caption>A data.frame: 4960 × 3</caption>\n",
              "<thead>\n",
              "\t<tr><th scope=col>Group</th><th scope=col>xi</th><th scope=col>Largest.Gift</th></tr>\n",
              "\t<tr><th scope=col>&lt;chr&gt;</th><th scope=col>&lt;dbl&gt;</th><th scope=col>&lt;dbl&gt;</th></tr>\n",
              "</thead>\n",
              "<tbody>\n",
              "\t<tr><td>Own Home</td><td>1</td><td>300</td></tr>\n",
              "\t<tr><td>Own Home</td><td>1</td><td>250</td></tr>\n",
              "\t<tr><td>Own Home</td><td>1</td><td> 25</td></tr>\n",
              "\t<tr><td>Own Home</td><td>1</td><td>100</td></tr>\n",
              "\t<tr><td>Own Home</td><td>1</td><td>200</td></tr>\n",
              "\t<tr><td>Own Home</td><td>1</td><td>100</td></tr>\n",
              "\t<tr><td>Own Home</td><td>1</td><td>100</td></tr>\n",
              "\t<tr><td>Own Home</td><td>1</td><td>100</td></tr>\n",
              "\t<tr><td>Own Home</td><td>1</td><td> 30</td></tr>\n",
              "\t<tr><td>Own Home</td><td>1</td><td>200</td></tr>\n",
              "\t<tr><td>Own Home</td><td>1</td><td> 30</td></tr>\n",
              "\t<tr><td>Own Home</td><td>1</td><td> 50</td></tr>\n",
              "\t<tr><td>Own Home</td><td>1</td><td>100</td></tr>\n",
              "\t<tr><td>Own Home</td><td>1</td><td> 25</td></tr>\n",
              "\t<tr><td>Own Home</td><td>1</td><td>100</td></tr>\n",
              "\t<tr><td>Own Home</td><td>1</td><td> 25</td></tr>\n",
              "\t<tr><td>Own Home</td><td>1</td><td>100</td></tr>\n",
              "\t<tr><td>Own Home</td><td>1</td><td>200</td></tr>\n",
              "\t<tr><td>Own Home</td><td>1</td><td> 50</td></tr>\n",
              "\t<tr><td>Own Home</td><td>1</td><td>100</td></tr>\n",
              "\t<tr><td>Own Home</td><td>1</td><td> 50</td></tr>\n",
              "\t<tr><td>Own Home</td><td>1</td><td> 50</td></tr>\n",
              "\t<tr><td>Own Home</td><td>1</td><td> 45</td></tr>\n",
              "\t<tr><td>Own Home</td><td>1</td><td> 40</td></tr>\n",
              "\t<tr><td>Own Home</td><td>1</td><td> 60</td></tr>\n",
              "\t<tr><td>Own Home</td><td>1</td><td> 36</td></tr>\n",
              "\t<tr><td>Own Home</td><td>1</td><td> 15</td></tr>\n",
              "\t<tr><td>Own Home</td><td>1</td><td> 36</td></tr>\n",
              "\t<tr><td>Own Home</td><td>1</td><td> 50</td></tr>\n",
              "\t<tr><td>Own Home</td><td>1</td><td> 50</td></tr>\n",
              "\t<tr><td>⋮</td><td>⋮</td><td>⋮</td></tr>\n",
              "\t<tr><td>Rent</td><td>-1</td><td>25.00</td></tr>\n",
              "\t<tr><td>Rent</td><td>-1</td><td>42.73</td></tr>\n",
              "\t<tr><td>Rent</td><td>-1</td><td>40.00</td></tr>\n",
              "\t<tr><td>Rent</td><td>-1</td><td>10.00</td></tr>\n",
              "\t<tr><td>Rent</td><td>-1</td><td>20.00</td></tr>\n",
              "\t<tr><td>Rent</td><td>-1</td><td>16.00</td></tr>\n",
              "\t<tr><td>Rent</td><td>-1</td><td>21.20</td></tr>\n",
              "\t<tr><td>Rent</td><td>-1</td><td>20.00</td></tr>\n",
              "\t<tr><td>Rent</td><td>-1</td><td>30.00</td></tr>\n",
              "\t<tr><td>Rent</td><td>-1</td><td>21.00</td></tr>\n",
              "\t<tr><td>Rent</td><td>-1</td><td>30.00</td></tr>\n",
              "\t<tr><td>Rent</td><td>-1</td><td>25.00</td></tr>\n",
              "\t<tr><td>Rent</td><td>-1</td><td>20.00</td></tr>\n",
              "\t<tr><td>Rent</td><td>-1</td><td>20.00</td></tr>\n",
              "\t<tr><td>Rent</td><td>-1</td><td>35.00</td></tr>\n",
              "\t<tr><td>Rent</td><td>-1</td><td>32.00</td></tr>\n",
              "\t<tr><td>Rent</td><td>-1</td><td>50.00</td></tr>\n",
              "\t<tr><td>Rent</td><td>-1</td><td>15.00</td></tr>\n",
              "\t<tr><td>Rent</td><td>-1</td><td>21.00</td></tr>\n",
              "\t<tr><td>Rent</td><td>-1</td><td>24.00</td></tr>\n",
              "\t<tr><td>Rent</td><td>-1</td><td>16.00</td></tr>\n",
              "\t<tr><td>Rent</td><td>-1</td><td>20.00</td></tr>\n",
              "\t<tr><td>Rent</td><td>-1</td><td>10.00</td></tr>\n",
              "\t<tr><td>Rent</td><td>-1</td><td>15.00</td></tr>\n",
              "\t<tr><td>Rent</td><td>-1</td><td>20.00</td></tr>\n",
              "\t<tr><td>Rent</td><td>-1</td><td>13.00</td></tr>\n",
              "\t<tr><td>Rent</td><td>-1</td><td>10.00</td></tr>\n",
              "\t<tr><td>Rent</td><td>-1</td><td>10.00</td></tr>\n",
              "\t<tr><td>Rent</td><td>-1</td><td>25.00</td></tr>\n",
              "\t<tr><td>Rent</td><td>-1</td><td>25.00</td></tr>\n",
              "</tbody>\n",
              "</table>\n"
            ],
            "text/markdown": "\nA data.frame: 4960 × 3\n\n| Group &lt;chr&gt; | xi &lt;dbl&gt; | Largest.Gift &lt;dbl&gt; |\n|---|---|---|\n| Own Home | 1 | 300 |\n| Own Home | 1 | 250 |\n| Own Home | 1 |  25 |\n| Own Home | 1 | 100 |\n| Own Home | 1 | 200 |\n| Own Home | 1 | 100 |\n| Own Home | 1 | 100 |\n| Own Home | 1 | 100 |\n| Own Home | 1 |  30 |\n| Own Home | 1 | 200 |\n| Own Home | 1 |  30 |\n| Own Home | 1 |  50 |\n| Own Home | 1 | 100 |\n| Own Home | 1 |  25 |\n| Own Home | 1 | 100 |\n| Own Home | 1 |  25 |\n| Own Home | 1 | 100 |\n| Own Home | 1 | 200 |\n| Own Home | 1 |  50 |\n| Own Home | 1 | 100 |\n| Own Home | 1 |  50 |\n| Own Home | 1 |  50 |\n| Own Home | 1 |  45 |\n| Own Home | 1 |  40 |\n| Own Home | 1 |  60 |\n| Own Home | 1 |  36 |\n| Own Home | 1 |  15 |\n| Own Home | 1 |  36 |\n| Own Home | 1 |  50 |\n| Own Home | 1 |  50 |\n| ⋮ | ⋮ | ⋮ |\n| Rent | -1 | 25.00 |\n| Rent | -1 | 42.73 |\n| Rent | -1 | 40.00 |\n| Rent | -1 | 10.00 |\n| Rent | -1 | 20.00 |\n| Rent | -1 | 16.00 |\n| Rent | -1 | 21.20 |\n| Rent | -1 | 20.00 |\n| Rent | -1 | 30.00 |\n| Rent | -1 | 21.00 |\n| Rent | -1 | 30.00 |\n| Rent | -1 | 25.00 |\n| Rent | -1 | 20.00 |\n| Rent | -1 | 20.00 |\n| Rent | -1 | 35.00 |\n| Rent | -1 | 32.00 |\n| Rent | -1 | 50.00 |\n| Rent | -1 | 15.00 |\n| Rent | -1 | 21.00 |\n| Rent | -1 | 24.00 |\n| Rent | -1 | 16.00 |\n| Rent | -1 | 20.00 |\n| Rent | -1 | 10.00 |\n| Rent | -1 | 15.00 |\n| Rent | -1 | 20.00 |\n| Rent | -1 | 13.00 |\n| Rent | -1 | 10.00 |\n| Rent | -1 | 10.00 |\n| Rent | -1 | 25.00 |\n| Rent | -1 | 25.00 |\n\n",
            "text/latex": "A data.frame: 4960 × 3\n\\begin{tabular}{lll}\n Group & xi & Largest.Gift\\\\\n <chr> & <dbl> & <dbl>\\\\\n\\hline\n\t Own Home & 1 & 300\\\\\n\t Own Home & 1 & 250\\\\\n\t Own Home & 1 &  25\\\\\n\t Own Home & 1 & 100\\\\\n\t Own Home & 1 & 200\\\\\n\t Own Home & 1 & 100\\\\\n\t Own Home & 1 & 100\\\\\n\t Own Home & 1 & 100\\\\\n\t Own Home & 1 &  30\\\\\n\t Own Home & 1 & 200\\\\\n\t Own Home & 1 &  30\\\\\n\t Own Home & 1 &  50\\\\\n\t Own Home & 1 & 100\\\\\n\t Own Home & 1 &  25\\\\\n\t Own Home & 1 & 100\\\\\n\t Own Home & 1 &  25\\\\\n\t Own Home & 1 & 100\\\\\n\t Own Home & 1 & 200\\\\\n\t Own Home & 1 &  50\\\\\n\t Own Home & 1 & 100\\\\\n\t Own Home & 1 &  50\\\\\n\t Own Home & 1 &  50\\\\\n\t Own Home & 1 &  45\\\\\n\t Own Home & 1 &  40\\\\\n\t Own Home & 1 &  60\\\\\n\t Own Home & 1 &  36\\\\\n\t Own Home & 1 &  15\\\\\n\t Own Home & 1 &  36\\\\\n\t Own Home & 1 &  50\\\\\n\t Own Home & 1 &  50\\\\\n\t ⋮ & ⋮ & ⋮\\\\\n\t Rent & -1 & 25.00\\\\\n\t Rent & -1 & 42.73\\\\\n\t Rent & -1 & 40.00\\\\\n\t Rent & -1 & 10.00\\\\\n\t Rent & -1 & 20.00\\\\\n\t Rent & -1 & 16.00\\\\\n\t Rent & -1 & 21.20\\\\\n\t Rent & -1 & 20.00\\\\\n\t Rent & -1 & 30.00\\\\\n\t Rent & -1 & 21.00\\\\\n\t Rent & -1 & 30.00\\\\\n\t Rent & -1 & 25.00\\\\\n\t Rent & -1 & 20.00\\\\\n\t Rent & -1 & 20.00\\\\\n\t Rent & -1 & 35.00\\\\\n\t Rent & -1 & 32.00\\\\\n\t Rent & -1 & 50.00\\\\\n\t Rent & -1 & 15.00\\\\\n\t Rent & -1 & 21.00\\\\\n\t Rent & -1 & 24.00\\\\\n\t Rent & -1 & 16.00\\\\\n\t Rent & -1 & 20.00\\\\\n\t Rent & -1 & 10.00\\\\\n\t Rent & -1 & 15.00\\\\\n\t Rent & -1 & 20.00\\\\\n\t Rent & -1 & 13.00\\\\\n\t Rent & -1 & 10.00\\\\\n\t Rent & -1 & 10.00\\\\\n\t Rent & -1 & 25.00\\\\\n\t Rent & -1 & 25.00\\\\\n\\end{tabular}\n"
          },
          "metadata": {}
        }
      ]
    },
    {
      "cell_type": "code",
      "source": [],
      "metadata": {
        "id": "C7Bp1dBb3Mcv"
      },
      "execution_count": null,
      "outputs": []
    },
    {
      "cell_type": "markdown",
      "source": [
        "# Summary and Data Visualization"
      ],
      "metadata": {
        "id": "IYYZZQhitnd2"
      }
    },
    {
      "cell_type": "code",
      "source": [
        "describe(Home)"
      ],
      "metadata": {
        "colab": {
          "base_uri": "https://localhost:8080/",
          "height": 161
        },
        "id": "pWSsVaFLrfDb",
        "outputId": "623df134-35db-481d-d383-358d298f3f72"
      },
      "execution_count": 12,
      "outputs": [
        {
          "output_type": "display_data",
          "data": {
            "text/html": [
              "<table class=\"dataframe\">\n",
              "<caption>A psych: 2 × 13</caption>\n",
              "<thead>\n",
              "\t<tr><th></th><th scope=col>vars</th><th scope=col>n</th><th scope=col>mean</th><th scope=col>sd</th><th scope=col>median</th><th scope=col>trimmed</th><th scope=col>mad</th><th scope=col>min</th><th scope=col>max</th><th scope=col>range</th><th scope=col>skew</th><th scope=col>kurtosis</th><th scope=col>se</th></tr>\n",
              "\t<tr><th></th><th scope=col>&lt;int&gt;</th><th scope=col>&lt;dbl&gt;</th><th scope=col>&lt;dbl&gt;</th><th scope=col>&lt;dbl&gt;</th><th scope=col>&lt;dbl&gt;</th><th scope=col>&lt;dbl&gt;</th><th scope=col>&lt;dbl&gt;</th><th scope=col>&lt;dbl&gt;</th><th scope=col>&lt;dbl&gt;</th><th scope=col>&lt;dbl&gt;</th><th scope=col>&lt;dbl&gt;</th><th scope=col>&lt;dbl&gt;</th><th scope=col>&lt;dbl&gt;</th></tr>\n",
              "</thead>\n",
              "<tbody>\n",
              "\t<tr><th scope=row>Own.Home*</th><td>1</td><td>5120</td><td> 1.00000</td><td> 0.00000</td><td> 1</td><td> 1.0000</td><td>0.0000</td><td>1</td><td>  1</td><td>  0</td><td>     NaN</td><td>     NaN</td><td>0.0000000</td></tr>\n",
              "\t<tr><th scope=row>Largest.Gift</th><td>2</td><td>5120</td><td>19.08361</td><td>16.87659</td><td>16</td><td>17.0758</td><td>5.9304</td><td>5</td><td>500</td><td>495</td><td>12.34759</td><td>261.0223</td><td>0.2358575</td></tr>\n",
              "</tbody>\n",
              "</table>\n"
            ],
            "text/markdown": "\nA psych: 2 × 13\n\n| <!--/--> | vars &lt;int&gt; | n &lt;dbl&gt; | mean &lt;dbl&gt; | sd &lt;dbl&gt; | median &lt;dbl&gt; | trimmed &lt;dbl&gt; | mad &lt;dbl&gt; | min &lt;dbl&gt; | max &lt;dbl&gt; | range &lt;dbl&gt; | skew &lt;dbl&gt; | kurtosis &lt;dbl&gt; | se &lt;dbl&gt; |\n|---|---|---|---|---|---|---|---|---|---|---|---|---|---|\n| Own.Home* | 1 | 5120 |  1.00000 |  0.00000 |  1 |  1.0000 | 0.0000 | 1 |   1 |   0 |      NaN |      NaN | 0.0000000 |\n| Largest.Gift | 2 | 5120 | 19.08361 | 16.87659 | 16 | 17.0758 | 5.9304 | 5 | 500 | 495 | 12.34759 | 261.0223 | 0.2358575 |\n\n",
            "text/latex": "A psych: 2 × 13\n\\begin{tabular}{r|lllllllllllll}\n  & vars & n & mean & sd & median & trimmed & mad & min & max & range & skew & kurtosis & se\\\\\n  & <int> & <dbl> & <dbl> & <dbl> & <dbl> & <dbl> & <dbl> & <dbl> & <dbl> & <dbl> & <dbl> & <dbl> & <dbl>\\\\\n\\hline\n\tOwn.Home* & 1 & 5120 &  1.00000 &  0.00000 &  1 &  1.0000 & 0.0000 & 1 &   1 &   0 &      NaN &      NaN & 0.0000000\\\\\n\tLargest.Gift & 2 & 5120 & 19.08361 & 16.87659 & 16 & 17.0758 & 5.9304 & 5 & 500 & 495 & 12.34759 & 261.0223 & 0.2358575\\\\\n\\end{tabular}\n",
            "text/plain": [
              "             vars n    mean     sd       median trimmed mad    min max range\n",
              "Own.Home*    1    5120  1.00000  0.00000  1      1.0000 0.0000 1     1   0  \n",
              "Largest.Gift 2    5120 19.08361 16.87659 16     17.0758 5.9304 5   500 495  \n",
              "             skew     kurtosis se       \n",
              "Own.Home*         NaN      NaN 0.0000000\n",
              "Largest.Gift 12.34759 261.0223 0.2358575"
            ]
          },
          "metadata": {}
        }
      ]
    },
    {
      "cell_type": "code",
      "source": [
        "describe(Rent)"
      ],
      "metadata": {
        "colab": {
          "base_uri": "https://localhost:8080/",
          "height": 161
        },
        "id": "GEcH_ti4rfQK",
        "outputId": "b1bd1c6b-4189-4952-90a0-8045c8fa93f5"
      },
      "execution_count": 13,
      "outputs": [
        {
          "output_type": "display_data",
          "data": {
            "text/html": [
              "<table class=\"dataframe\">\n",
              "<caption>A psych: 2 × 13</caption>\n",
              "<thead>\n",
              "\t<tr><th></th><th scope=col>vars</th><th scope=col>n</th><th scope=col>mean</th><th scope=col>sd</th><th scope=col>median</th><th scope=col>trimmed</th><th scope=col>mad</th><th scope=col>min</th><th scope=col>max</th><th scope=col>range</th><th scope=col>skew</th><th scope=col>kurtosis</th><th scope=col>se</th></tr>\n",
              "\t<tr><th></th><th scope=col>&lt;int&gt;</th><th scope=col>&lt;dbl&gt;</th><th scope=col>&lt;dbl&gt;</th><th scope=col>&lt;dbl&gt;</th><th scope=col>&lt;dbl&gt;</th><th scope=col>&lt;dbl&gt;</th><th scope=col>&lt;dbl&gt;</th><th scope=col>&lt;dbl&gt;</th><th scope=col>&lt;dbl&gt;</th><th scope=col>&lt;dbl&gt;</th><th scope=col>&lt;dbl&gt;</th><th scope=col>&lt;dbl&gt;</th><th scope=col>&lt;dbl&gt;</th></tr>\n",
              "</thead>\n",
              "<tbody>\n",
              "\t<tr><th scope=row>Own.Home*</th><td>1</td><td>2480</td><td> 1.00000</td><td> 0.00000</td><td> 1</td><td> 1.00000</td><td>0.000</td><td>1</td><td>   1</td><td>  0</td><td>     NaN</td><td>     NaN</td><td>0.0000000</td></tr>\n",
              "\t<tr><th scope=row>Largest.Gift</th><td>2</td><td>2480</td><td>18.90959</td><td>25.26844</td><td>15</td><td>16.53081</td><td>7.413</td><td>5</td><td>1000</td><td>995</td><td>27.01028</td><td>969.4084</td><td>0.5074025</td></tr>\n",
              "</tbody>\n",
              "</table>\n"
            ],
            "text/markdown": "\nA psych: 2 × 13\n\n| <!--/--> | vars &lt;int&gt; | n &lt;dbl&gt; | mean &lt;dbl&gt; | sd &lt;dbl&gt; | median &lt;dbl&gt; | trimmed &lt;dbl&gt; | mad &lt;dbl&gt; | min &lt;dbl&gt; | max &lt;dbl&gt; | range &lt;dbl&gt; | skew &lt;dbl&gt; | kurtosis &lt;dbl&gt; | se &lt;dbl&gt; |\n|---|---|---|---|---|---|---|---|---|---|---|---|---|---|\n| Own.Home* | 1 | 2480 |  1.00000 |  0.00000 |  1 |  1.00000 | 0.000 | 1 |    1 |   0 |      NaN |      NaN | 0.0000000 |\n| Largest.Gift | 2 | 2480 | 18.90959 | 25.26844 | 15 | 16.53081 | 7.413 | 5 | 1000 | 995 | 27.01028 | 969.4084 | 0.5074025 |\n\n",
            "text/latex": "A psych: 2 × 13\n\\begin{tabular}{r|lllllllllllll}\n  & vars & n & mean & sd & median & trimmed & mad & min & max & range & skew & kurtosis & se\\\\\n  & <int> & <dbl> & <dbl> & <dbl> & <dbl> & <dbl> & <dbl> & <dbl> & <dbl> & <dbl> & <dbl> & <dbl> & <dbl>\\\\\n\\hline\n\tOwn.Home* & 1 & 2480 &  1.00000 &  0.00000 &  1 &  1.00000 & 0.000 & 1 &    1 &   0 &      NaN &      NaN & 0.0000000\\\\\n\tLargest.Gift & 2 & 2480 & 18.90959 & 25.26844 & 15 & 16.53081 & 7.413 & 5 & 1000 & 995 & 27.01028 & 969.4084 & 0.5074025\\\\\n\\end{tabular}\n",
            "text/plain": [
              "             vars n    mean     sd       median trimmed  mad   min max  range\n",
              "Own.Home*    1    2480  1.00000  0.00000  1      1.00000 0.000 1      1   0  \n",
              "Largest.Gift 2    2480 18.90959 25.26844 15     16.53081 7.413 5   1000 995  \n",
              "             skew     kurtosis se       \n",
              "Own.Home*         NaN      NaN 0.0000000\n",
              "Largest.Gift 27.01028 969.4084 0.5074025"
            ]
          },
          "metadata": {}
        }
      ]
    },
    {
      "cell_type": "code",
      "source": [
        "# The means of the two groups are close(H= 19.08, U= 18.91) but let's see if they are significant or not."
      ],
      "metadata": {
        "id": "Y936cM0nrfTJ"
      },
      "execution_count": null,
      "outputs": []
    },
    {
      "cell_type": "code",
      "source": [
        "ggplot(Home)+geom_histogram(aes(x= Largest.Gift),color= 'black', fill= 'green', binwidth = 10)+ xlab('Home Owners')+ theme_bw()+theme(panel.grid= element_blank())\n",
        "ggplot(Rent)+geom_histogram(aes(x= Largest.Gift), color= 'black',fill= 'blue',binwidth = 20)+ xlab('Renters')+theme_bw()+theme(panel.grid= element_blank())"
      ],
      "metadata": {
        "colab": {
          "base_uri": "https://localhost:8080/",
          "height": 857
        },
        "id": "Ofcir5f5ttQs",
        "outputId": "ab85550f-9c87-4020-e1e8-e5c3cfba5cbe"
      },
      "execution_count": 33,
      "outputs": [
        {
          "output_type": "display_data",
          "data": {
            "text/plain": [
              "plot without title"
            ],
            "image/png": "[encoded data removed]"
          },
          "metadata": {
            "image/png": {
              "width": 420,
              "height": 420
            }
          }
        },
        {
          "output_type": "display_data",
          "data": {
            "text/plain": [
              "plot without title"
            ],
            "image/png": "[encoded data removed]"
          },
          "metadata": {
            "image/png": {
              "width": 420,
              "height": 420
            }
          }
        }
      ]
    },
    {
      "cell_type": "markdown",
      "source": [
        "#Checking for Assumption Violations\n",
        "\n",
        "Two Assumptions: Homogeneity of variance and normality of population distribution"
      ],
      "metadata": {
        "id": "Dg6wmDNgyE2-"
      }
    },
    {
      "cell_type": "code",
      "source": [
        "Rent1= Gift%>%filter(Group== 'Rent')\n",
        "Home1= Gift%>%filter(Group== 'Own Home')"
      ],
      "metadata": {
        "id": "Nf7L0-xB7Lmu"
      },
      "execution_count": 66,
      "outputs": []
    },
    {
      "cell_type": "code",
      "source": [
        "# Test for Normality\n",
        "shapiro.test(Rent1$Largest.Gift)\n",
        "shapiro.test(Home1$Largest.Gift)\n",
        "\n",
        "# since the p values are showing significant results, there is a violation of the normal distribution assumption\n"
      ],
      "metadata": {
        "colab": {
          "base_uri": "https://localhost:8080/",
          "height": 191
        },
        "id": "oaGOjP9jyFmd",
        "outputId": "8f6611e6-34fe-419c-fc16-8a50001c6cc9"
      },
      "execution_count": 67,
      "outputs": [
        {
          "output_type": "display_data",
          "data": {
            "text/plain": [
              "\n",
              "\tShapiro-Wilk normality test\n",
              "\n",
              "data:  Rent1$Largest.Gift\n",
              "W = 0.21871, p-value < 2.2e-16\n"
            ]
          },
          "metadata": {}
        },
        {
          "output_type": "display_data",
          "data": {
            "text/plain": [
              "\n",
              "\tShapiro-Wilk normality test\n",
              "\n",
              "data:  Home1$Largest.Gift\n",
              "W = 0.39166, p-value < 2.2e-16\n"
            ]
          },
          "metadata": {}
        }
      ]
    },
    {
      "cell_type": "code",
      "source": [
        "# Test for Homogeneity of Variance\n",
        "leveneTest(yi~as.factor(xi))\n",
        "# No violation of Homogeneity of Variance."
      ],
      "metadata": {
        "colab": {
          "base_uri": "https://localhost:8080/",
          "height": 161
        },
        "id": "KJwohfxy2N8x",
        "outputId": "d5e343bb-081c-401a-b8b0-6782b67f3195"
      },
      "execution_count": 58,
      "outputs": [
        {
          "output_type": "display_data",
          "data": {
            "text/html": [
              "<table class=\"dataframe\">\n",
              "<caption>A anova: 2 × 3</caption>\n",
              "<thead>\n",
              "\t<tr><th></th><th scope=col>Df</th><th scope=col>F value</th><th scope=col>Pr(&gt;F)</th></tr>\n",
              "\t<tr><th></th><th scope=col>&lt;int&gt;</th><th scope=col>&lt;dbl&gt;</th><th scope=col>&lt;dbl&gt;</th></tr>\n",
              "</thead>\n",
              "<tbody>\n",
              "\t<tr><th scope=row>group</th><td>   1</td><td>0.410559</td><td>0.5217155</td></tr>\n",
              "\t<tr><th scope=row> </th><td>4958</td><td>      NA</td><td>       NA</td></tr>\n",
              "</tbody>\n",
              "</table>\n"
            ],
            "text/markdown": "\nA anova: 2 × 3\n\n| <!--/--> | Df &lt;int&gt; | F value &lt;dbl&gt; | Pr(&gt;F) &lt;dbl&gt; |\n|---|---|---|---|\n| group |    1 | 0.410559 | 0.5217155 |\n| <!----> | 4958 |       NA |        NA |\n\n",
            "text/latex": "A anova: 2 × 3\n\\begin{tabular}{r|lll}\n  & Df & F value & Pr(>F)\\\\\n  & <int> & <dbl> & <dbl>\\\\\n\\hline\n\tgroup &    1 & 0.410559 & 0.5217155\\\\\n\t  & 4958 &       NA &        NA\\\\\n\\end{tabular}\n",
            "text/plain": [
              "      Df   F value  Pr(>F)   \n",
              "group    1 0.410559 0.5217155\n",
              "      4958       NA        NA"
            ]
          },
          "metadata": {}
        }
      ]
    },
    {
      "cell_type": "markdown",
      "source": [
        "# Data Transformation\n",
        "\n",
        "To fix the issue of the normality violation, transform the data by taking its square root, log or inverse when it is positively skewed."
      ],
      "metadata": {
        "id": "Y1VXSmUD9o7_"
      }
    },
    {
      "cell_type": "code",
      "source": [
        "Gift= Gift%>%mutate(Largest.Root= sqrt(Gift$Largest.Gift))"
      ],
      "metadata": {
        "id": "l5idLZ7T9-J0"
      },
      "execution_count": 75,
      "outputs": []
    },
    {
      "cell_type": "code",
      "source": [
        "Gift= Gift%>%mutate(Largest.log= log10(Gift$Largest.Gift))"
      ],
      "metadata": {
        "id": "wRGFKA6-A6Pa"
      },
      "execution_count": 78,
      "outputs": []
    },
    {
      "cell_type": "code",
      "source": [
        "Gift= Gift%>%mutate(Largest.inv= 1/(-1)*(Gift$Largest.Gift))"
      ],
      "metadata": {
        "id": "6tt9CuAtA57M"
      },
      "execution_count": 80,
      "outputs": []
    },
    {
      "cell_type": "code",
      "source": [
        "# lets try Shapiro again\n",
        "shapiro.test(Gift$Largest.Root)\n",
        "shapiro.test(Gift$Largest.log)\n",
        "shapiro.test(Gift$Largest.inv)"
      ],
      "metadata": {
        "colab": {
          "base_uri": "https://localhost:8080/",
          "height": 277
        },
        "id": "dwgTKli69-Bv",
        "outputId": "58f4195d-0beb-4ffd-efbb-ebbd5aad211c"
      },
      "execution_count": 81,
      "outputs": [
        {
          "output_type": "display_data",
          "data": {
            "text/plain": [
              "\n",
              "\tShapiro-Wilk normality test\n",
              "\n",
              "data:  Gift$Largest.Root\n",
              "W = 0.71471, p-value < 2.2e-16\n"
            ]
          },
          "metadata": {}
        },
        {
          "output_type": "display_data",
          "data": {
            "text/plain": [
              "\n",
              "\tShapiro-Wilk normality test\n",
              "\n",
              "data:  Gift$Largest.log\n",
              "W = 0.93618, p-value < 2.2e-16\n"
            ]
          },
          "metadata": {}
        },
        {
          "output_type": "display_data",
          "data": {
            "text/plain": [
              "\n",
              "\tShapiro-Wilk normality test\n",
              "\n",
              "data:  Gift$Largest.inv\n",
              "W = 0.27721, p-value < 2.2e-16\n"
            ]
          },
          "metadata": {}
        }
      ]
    },
    {
      "cell_type": "code",
      "source": [
        "# Is our data transformed?\n",
        "ggplot(Gift)+geom_histogram(aes(x= Largest.Root),color= 'black',fill= 'blue', binwidth = 5)+theme_bw()+theme(panel.grid= element_blank())\n",
        "ggplot(Gift)+geom_histogram(aes(x= Largest.log),color= 'black',fill= 'blue', binwidth = 5)+theme_bw()+theme(panel.grid= element_blank())\n",
        "ggplot(Gift)+geom_histogram(aes(x= Largest.inv),color= 'black',fill= 'blue', binwidth = 5)+theme_bw()+theme(panel.grid= element_blank())\n",
        "\n",
        "# Looking at the graphs below, the square root seemed to have worked best for our data."
      ],
      "metadata": {
        "colab": {
          "base_uri": "https://localhost:8080/",
          "height": 1000
        },
        "id": "kqE3xOwoAYsw",
        "outputId": "34ac6655-e77e-47f7-9ad1-4fcfce0fd646"
      },
      "execution_count": 83,
      "outputs": [
        {
          "output_type": "display_data",
          "data": {
            "text/plain": [
              "plot without title"
            ],
            "image/png": "[encoded data removed]"
          },
          "metadata": {
            "image/png": {
              "width": 420,
              "height": 420
            }
          }
        },
        {
          "output_type": "display_data",
          "data": {
            "text/plain": [
              "plot without title"
            ],
            "image/png": "[encoded data removed]"
          },
          "metadata": {
            "image/png": {
              "width": 420,
              "height": 420
            }
          }
        },
        {
          "output_type": "display_data",
          "data": {
            "text/plain": [
              "plot without title"
            ],
            "image/png": "[encoded data removed]"
          },
          "metadata": {
            "image/png": {
              "width": 420,
              "height": 420
            }
          }
        }
      ]
    }
  ]
}
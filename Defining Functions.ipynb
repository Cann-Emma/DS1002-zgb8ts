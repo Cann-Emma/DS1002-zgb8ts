{
  "nbformat": 4,
  "nbformat_minor": 0,
  "metadata": {
    "colab": {
      "provenance": [],
      "authorship_tag": "ABX9TyMAyR5R8jcs4AHl9iqmm2lH",
      "include_colab_link": true
    },
    "kernelspec": {
      "name": "python3",
      "display_name": "Python 3"
    },
    "language_info": {
      "name": "python"
    }
  },
  "cells": [
    {
      "cell_type": "markdown",
      "metadata": {
        "id": "view-in-github",
        "colab_type": "text"
      },
      "source": [
        "<a href=\"https://colab.research.google.com/github/Cann-Emma/DS1002-zgb8ts/blob/main/Defining%20Functions.ipynb\" target=\"_parent\"><img src=\"https://colab.research.google.com/assets/colab-badge.svg\" alt=\"Open In Colab\"/></a>"
      ]
    },
    {
      "cell_type": "code",
      "execution_count": null,
      "metadata": {
        "colab": {
          "base_uri": "https://localhost:8080/"
        },
        "id": "hu6yWW5Jj4cF",
        "outputId": "d71308ee-35e0-4fe4-94ef-7ec1baa4be39"
      },
      "outputs": [
        {
          "output_type": "execute_result",
          "data": {
            "text/plain": [
              "27000"
            ]
          },
          "metadata": {},
          "execution_count": 3
        }
      ],
      "source": [
        "def cube(x):\n",
        "  return x*x*x\n",
        "cube(30)"
      ]
    },
    {
      "cell_type": "code",
      "source": [
        "def power(num,x=1):\n",
        "  result= 1\n",
        "  for i in range(x):\n",
        "    result= result*num\n",
        "  return result\n",
        "print(power(4))\n",
        "print(power(4,4))"
      ],
      "metadata": {
        "colab": {
          "base_uri": "https://localhost:8080/"
        },
        "id": "_jtqw84PkLrP",
        "outputId": "6ddbe8e3-cc99-4b83-bdce-1810db174cac"
      },
      "execution_count": null,
      "outputs": [
        {
          "output_type": "stream",
          "name": "stdout",
          "text": [
            "4\n",
            "256\n"
          ]
        }
      ]
    },
    {
      "cell_type": "code",
      "source": [
        "def factorial(num):\n",
        "  if type(num) is not int:\n",
        "    return None\n",
        "  if num<0:\n",
        "    return None\n",
        "  if num==0:\n",
        "    return 1\n",
        "  return num*factorial(num-1)\n",
        "\n",
        "# Lines 1 to 5 are for setting up what arguments the factorial function can take\n",
        "#For instance, if num was a character/string and or less than 0,\n",
        "#the function would not work because the ans would be undefined.\n",
        "#The lines after tell the function what to do when conditions are met"
      ],
      "metadata": {
        "id": "ALnI-Vpzla_8"
      },
      "execution_count": null,
      "outputs": []
    },
    {
      "cell_type": "code",
      "source": [
        "print(factorial(6))\n",
        "print(factorial(4))"
      ],
      "metadata": {
        "colab": {
          "base_uri": "https://localhost:8080/"
        },
        "id": "IKR2tQGJqIbB",
        "outputId": "7f7cb9f1-588d-4063-e3ed-102e49ecbba3"
      },
      "execution_count": null,
      "outputs": [
        {
          "output_type": "stream",
          "name": "stdout",
          "text": [
            "720\n",
            "24\n"
          ]
        }
      ]
    },
    {
      "cell_type": "code",
      "source": [
        "fruits= [\"blueberries\",\"cherries\",\"strawberries\",\"grapes\",\"mandarin oranges\"]\n",
        "numbers= {1,2,3,4,5}\n",
        "myset= {2,3,4,4}\n",
        "{2,3,4,4}=={3,4,2,4}\n",
        "bag= (\"notebook\", \"pen\", \"pencil\")\n",
        "vocabulary= {\"apple\": \"red\", \"dog\":\"bark\", \"cat\": \"meow\"}\n",
        "# Order in sets does not matter, as far as elements in set are the same.\n",
        "# Order in lists and tuples matter"
      ],
      "metadata": {
        "id": "zVLJak5TxHwQ"
      },
      "execution_count": null,
      "outputs": []
    },
    {
      "cell_type": "code",
      "source": [
        "print(4//2)\n",
        "print(4/2)\n",
        "print(256%13)"
      ],
      "metadata": {
        "colab": {
          "base_uri": "https://localhost:8080/"
        },
        "id": "4nHNn7QP0aoc",
        "outputId": "21b19df7-d98e-46b6-d27d-9e1246fea33a"
      },
      "execution_count": null,
      "outputs": [
        {
          "output_type": "stream",
          "name": "stdout",
          "text": [
            "2\n",
            "2.0\n",
            "9\n"
          ]
        }
      ]
    },
    {
      "cell_type": "code",
      "source": [
        "\"2\"+\"22\"\n",
        "print(456%10)"
      ],
      "metadata": {
        "colab": {
          "base_uri": "https://localhost:8080/"
        },
        "id": "AkHcmrzI3L-k",
        "outputId": "27e9894f-e406-4214-8226-f7532f89caca"
      },
      "execution_count": null,
      "outputs": [
        {
          "output_type": "stream",
          "name": "stdout",
          "text": [
            "6\n"
          ]
        }
      ]
    }
  ]
}
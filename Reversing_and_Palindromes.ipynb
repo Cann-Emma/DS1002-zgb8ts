{
  "nbformat": 4,
  "nbformat_minor": 0,
  "metadata": {
    "colab": {
      "provenance": [],
      "authorship_tag": "ABX9TyNe7qhJRkaHXSOq3nRjnqpQ",
      "include_colab_link": true
    },
    "kernelspec": {
      "name": "python3",
      "display_name": "Python 3"
    },
    "language_info": {
      "name": "python"
    }
  },
  "cells": [
    {
      "cell_type": "markdown",
      "metadata": {
        "id": "view-in-github",
        "colab_type": "text"
      },
      "source": [
        "<a href=\"https://colab.research.google.com/github/Cann-Emma/DS1002-zgb8ts/blob/main/Reversing_and_Palindromes.ipynb\" target=\"_parent\"><img src=\"https://colab.research.google.com/assets/colab-badge.svg\" alt=\"Open In Colab\"/></a>"
      ]
    },
    {
      "cell_type": "code",
      "source": [
        "import string"
      ],
      "metadata": {
        "id": "DEABTFyvsId6"
      },
      "execution_count": 36,
      "outputs": []
    },
    {
      "cell_type": "code",
      "execution_count": 39,
      "metadata": {
        "colab": {
          "base_uri": "https://localhost:8080/"
        },
        "id": "MaKPcDxIiIyD",
        "outputId": "69b3aeac-cad5-4b78-f7e1-157e6fd88f1e"
      },
      "outputs": [
        {
          "output_type": "stream",
          "name": "stdout",
          "text": [
            "z\n",
            "y\n",
            "x\n",
            "w\n",
            "v\n",
            "u\n",
            "t\n",
            "s\n",
            "r\n",
            "q\n",
            "p\n",
            "o\n",
            "n\n",
            "m\n",
            "l\n",
            "k\n",
            "j\n",
            "i\n",
            "h\n",
            "g\n",
            "f\n",
            "e\n",
            "d\n",
            "c\n",
            "b\n",
            "a\n"
          ]
        }
      ],
      "source": [
        "mylist= string.ascii_letters[:26]\n",
        "for i in range(len(mylist)-1,-1, -1):\n",
        "  print(mylist[i])"
      ]
    },
    {
      "cell_type": "code",
      "source": [
        "num_str= input(\"Enter letter : \")\n",
        "reverse_num= num_str[::-1]\n",
        "print(reverse_num)"
      ],
      "metadata": {
        "colab": {
          "base_uri": "https://localhost:8080/"
        },
        "id": "asjPp-B_iN9M",
        "outputId": "f710eabc-f578-4e44-dabc-1b1a3cf592e6"
      },
      "execution_count": 13,
      "outputs": [
        {
          "output_type": "stream",
          "name": "stdout",
          "text": [
            "Enter letter : abba\n",
            "abba\n"
          ]
        }
      ]
    },
    {
      "cell_type": "code",
      "source": [
        "# Palindrome\n",
        "User= input(\"Enter value : \")\n",
        "User_reversed= User[::-1]\n",
        "\n",
        "if User== User_reversed:\n",
        "  print(\"Palindrome\")\n",
        "else:\n",
        "  print(\"Not palindrome\")"
      ],
      "metadata": {
        "colab": {
          "base_uri": "https://localhost:8080/"
        },
        "id": "CMtAAn4Dk1yy",
        "outputId": "3dc6c996-eab5-41ed-9035-18d5dfc7052b"
      },
      "execution_count": 21,
      "outputs": [
        {
          "output_type": "stream",
          "name": "stdout",
          "text": [
            "Enter value : appa\n",
            "Palindrome\n"
          ]
        }
      ]
    }
  ]
}
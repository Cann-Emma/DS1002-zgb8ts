{
  "nbformat": 4,
  "nbformat_minor": 0,
  "metadata": {
    "colab": {
      "provenance": [],
      "authorship_tag": "ABX9TyOSKg8EA4lR3zOGW/BgNNvN",
      "include_colab_link": true
    },
    "kernelspec": {
      "name": "python3",
      "display_name": "Python 3"
    },
    "language_info": {
      "name": "python"
    }
  },
  "cells": [
    {
      "cell_type": "markdown",
      "metadata": {
        "id": "view-in-github",
        "colab_type": "text"
      },
      "source": [
        "<a href=\"https://colab.research.google.com/github/Cann-Emma/DS1002-zgb8ts/blob/main/Reversing_and_Palindromes.ipynb\" target=\"_parent\"><img src=\"https://colab.research.google.com/assets/colab-badge.svg\" alt=\"Open In Colab\"/></a>"
      ]
    },
    {
      "cell_type": "code",
      "source": [
        "import string"
      ],
      "metadata": {
        "id": "DEABTFyvsId6"
      },
      "execution_count": null,
      "outputs": []
    },
    {
      "cell_type": "code",
      "execution_count": null,
      "metadata": {
        "colab": {
          "base_uri": "https://localhost:8080/"
        },
        "id": "MaKPcDxIiIyD",
        "outputId": "69b3aeac-cad5-4b78-f7e1-157e6fd88f1e"
      },
      "outputs": [
        {
          "output_type": "stream",
          "name": "stdout",
          "text": [
            "z\n",
            "y\n",
            "x\n",
            "w\n",
            "v\n",
            "u\n",
            "t\n",
            "s\n",
            "r\n",
            "q\n",
            "p\n",
            "o\n",
            "n\n",
            "m\n",
            "l\n",
            "k\n",
            "j\n",
            "i\n",
            "h\n",
            "g\n",
            "f\n",
            "e\n",
            "d\n",
            "c\n",
            "b\n",
            "a\n"
          ]
        }
      ],
      "source": [
        "mylist= string.ascii_letters[:26]\n",
        "for i in range(len(mylist)-1,-1, -1):\n",
        "  print(mylist[i])"
      ]
    },
    {
      "cell_type": "code",
      "source": [
        "num_str= input(\"Enter letter : \")\n",
        "reverse_num= num_str[::-1]\n",
        "print(reverse_num)"
      ],
      "metadata": {
        "colab": {
          "base_uri": "https://localhost:8080/"
        },
        "id": "asjPp-B_iN9M",
        "outputId": "f710eabc-f578-4e44-dabc-1b1a3cf592e6"
      },
      "execution_count": null,
      "outputs": [
        {
          "output_type": "stream",
          "name": "stdout",
          "text": [
            "Enter letter : abba\n",
            "abba\n"
          ]
        }
      ]
    },
    {
      "cell_type": "code",
      "source": [
        "# Palindrome\n",
        "User= input(\"Enter value : \")\n",
        "User_reversed= User[::-1]\n",
        "\n",
        "if User== User_reversed:\n",
        "  print(\"Palindrome\")\n",
        "else:\n",
        "  print(\"Not palindrome\")"
      ],
      "metadata": {
        "colab": {
          "base_uri": "https://localhost:8080/"
        },
        "id": "CMtAAn4Dk1yy",
        "outputId": "3dc6c996-eab5-41ed-9035-18d5dfc7052b"
      },
      "execution_count": null,
      "outputs": [
        {
          "output_type": "stream",
          "name": "stdout",
          "text": [
            "Enter value : appa\n",
            "Palindrome\n"
          ]
        }
      ]
    },
    {
      "cell_type": "code",
      "source": [
        "# Print a list of integers from 1 through n as a string, without spaces.\n",
        "if __name__ == '__main__':\n",
        "    n = int(input())\n",
        "    for i in range(1,n+1):\n",
        "        print(i, end= \"\")"
      ],
      "metadata": {
        "id": "8JYZj1K0Uolw",
        "outputId": "98a6ca93-b7f3-4687-cbea-3ee73f9d6951",
        "colab": {
          "base_uri": "https://localhost:8080/"
        }
      },
      "execution_count": 2,
      "outputs": [
        {
          "output_type": "stream",
          "name": "stdout",
          "text": [
            "4\n",
            "1234"
          ]
        }
      ]
    },
    {
      "cell_type": "code",
      "source": [
        "import math\n",
        "import os\n",
        "import random\n",
        "import re\n",
        "import sys\n",
        "\n",
        "\n",
        "\n",
        "if __name__ == '__main__':\n",
        "    n = int(input().strip())\n",
        "    if n%2==1:\n",
        "       print(\"Weird\")\n",
        "    elif (n%2==0) and (n in range(2, 5)):\n",
        "        print(\"Not Weird\")\n",
        "    elif (n%2==0) and (n in range(6, 20)):\n",
        "        print(\"Weird\")\n",
        "    elif n%2== 0 and n>20:\n",
        "        print(\"Not Weird\")\n",
        "    else:\n",
        "        print(\"Weird\")"
      ],
      "metadata": {
        "id": "TTj3APedWMcF",
        "outputId": "99de8798-a53b-41ea-c39a-7ec063899ff5",
        "colab": {
          "base_uri": "https://localhost:8080/"
        }
      },
      "execution_count": 11,
      "outputs": [
        {
          "output_type": "stream",
          "name": "stdout",
          "text": [
            "22\n",
            "Not Weird\n"
          ]
        }
      ]
    }
  ]
}
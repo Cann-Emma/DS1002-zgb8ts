{
  "nbformat": 4,
  "nbformat_minor": 0,
  "metadata": {
    "colab": {
      "provenance": [],
      "authorship_tag": "ABX9TyM0yPGO//kk97CgmAOkhPOG",
      "include_colab_link": true
    },
    "kernelspec": {
      "name": "python3",
      "display_name": "Python 3"
    },
    "language_info": {
      "name": "python"
    }
  },
  "cells": [
    {
      "cell_type": "markdown",
      "metadata": {
        "id": "view-in-github",
        "colab_type": "text"
      },
      "source": [
        "<a href=\"https://colab.research.google.com/github/Cann-Emma/DS1002-zgb8ts/blob/main/Untitled16.ipynb\" target=\"_parent\"><img src=\"https://colab.research.google.com/assets/colab-badge.svg\" alt=\"Open In Colab\"/></a>"
      ]
    },
    {
      "cell_type": "markdown",
      "source": [
        "#Global Variables"
      ],
      "metadata": {
        "id": "QsNWkkKfZeqC"
      }
    },
    {
      "cell_type": "code",
      "execution_count": 1,
      "metadata": {
        "colab": {
          "base_uri": "https://localhost:8080/"
        },
        "id": "ZMJz6NEGY1Pm",
        "outputId": "238daf88-21b2-48af-f566-6546bd8d1a77"
      },
      "outputs": [
        {
          "output_type": "stream",
          "name": "stdout",
          "text": [
            "4\n"
          ]
        }
      ],
      "source": [
        "x= 4\n",
        "print(x)"
      ]
    },
    {
      "cell_type": "code",
      "source": [
        "def call_x():\n",
        "  print(x)\n",
        "call_x()"
      ],
      "metadata": {
        "colab": {
          "base_uri": "https://localhost:8080/"
        },
        "id": "ICoNsM2bZr6z",
        "outputId": "02dc28f6-aa28-45a3-f7cd-53c2caf1a516"
      },
      "execution_count": 2,
      "outputs": [
        {
          "output_type": "stream",
          "name": "stdout",
          "text": [
            "4\n"
          ]
        }
      ]
    },
    {
      "cell_type": "code",
      "source": [
        "# Not Global\n",
        "def call_y():\n",
        "  y= 2023\n",
        "  print(y)\n",
        "call_y()"
      ],
      "metadata": {
        "colab": {
          "base_uri": "https://localhost:8080/"
        },
        "id": "FlNDWwKMZ0aj",
        "outputId": "31cebff8-a50f-4b47-a17b-15ed6edb3f0f"
      },
      "execution_count": 3,
      "outputs": [
        {
          "output_type": "stream",
          "name": "stdout",
          "text": [
            "2023\n"
          ]
        }
      ]
    },
    {
      "cell_type": "code",
      "source": [
        "# Declaring a global variable in a function\n",
        "def global_in_func():\n",
        "  global z\n",
        "  z= 'New York'\n",
        "  print(z)\n",
        "global_in_func()\n",
        "\n",
        "print(z)"
      ],
      "metadata": {
        "colab": {
          "base_uri": "https://localhost:8080/"
        },
        "id": "IuSO-cVwaCPL",
        "outputId": "58dd2501-ba9f-44ab-e56f-f5645b65d96a"
      },
      "execution_count": 6,
      "outputs": [
        {
          "output_type": "stream",
          "name": "stdout",
          "text": [
            "New York\n",
            "New York\n"
          ]
        }
      ]
    },
    {
      "cell_type": "code",
      "source": [
        "e= 444\n",
        "def func_e():\n",
        "  e= 100\n",
        "  print(e)\n",
        "\n",
        "func_e()"
      ],
      "metadata": {
        "colab": {
          "base_uri": "https://localhost:8080/"
        },
        "id": "JH7YTdqJa7qU",
        "outputId": "b9733e01-7b75-46e6-b009-2fe4410e5b67"
      },
      "execution_count": 10,
      "outputs": [
        {
          "output_type": "stream",
          "name": "stdout",
          "text": [
            "100\n",
            "444\n"
          ]
        }
      ]
    },
    {
      "cell_type": "code",
      "source": [
        "# Overriding variable with same name\n",
        "e= 444\n",
        "def func_e():\n",
        "  global e\n",
        "  e= 100\n",
        "  print(e)\n",
        "\n",
        "func_e()\n",
        "print(e)"
      ],
      "metadata": {
        "colab": {
          "base_uri": "https://localhost:8080/"
        },
        "id": "5Ozi0uZIb5Ve",
        "outputId": "38599910-1487-4644-8072-92b8c44378ec"
      },
      "execution_count": 12,
      "outputs": [
        {
          "output_type": "stream",
          "name": "stdout",
          "text": [
            "100\n",
            "100\n"
          ]
        }
      ]
    },
    {
      "cell_type": "markdown",
      "source": [
        "# Validating Inputs"
      ],
      "metadata": {
        "id": "g7Yke72McfI-"
      }
    },
    {
      "cell_type": "code",
      "source": [
        "r= 4\n",
        "t=\n",
        "\n",
        "def exponent(r, t):\n",
        "  return r**t\n",
        "\n",
        "exponent(3,2)\n"
      ],
      "metadata": {
        "colab": {
          "base_uri": "https://localhost:8080/"
        },
        "id": "UqgbjsluceZl",
        "outputId": "6ea463b9-e5a8-4f27-dd68-c28af9438b97"
      },
      "execution_count": 13,
      "outputs": [
        {
          "output_type": "execute_result",
          "data": {
            "text/plain": [
              "9"
            ]
          },
          "metadata": {},
          "execution_count": 13
        }
      ]
    },
    {
      "cell_type": "code",
      "source": [
        "# type stringing\n",
        "def add(var1: int, var: int) -> int:\n",
        "  return var1+ var\n",
        "\n",
        "add(4,4)"
      ],
      "metadata": {
        "colab": {
          "base_uri": "https://localhost:8080/"
        },
        "id": "yS4CLs_YceRM",
        "outputId": "f059a289-00de-4f46-ae27-fb6e2711cd73"
      },
      "execution_count": 14,
      "outputs": [
        {
          "output_type": "execute_result",
          "data": {
            "text/plain": [
              "8"
            ]
          },
          "metadata": {},
          "execution_count": 14
        }
      ]
    },
    {
      "cell_type": "code",
      "source": [
        "# What was documented for this function?\n",
        "add.__annotations__"
      ],
      "metadata": {
        "colab": {
          "base_uri": "https://localhost:8080/"
        },
        "id": "0SWYnVCcceHE",
        "outputId": "c26fa9e5-3b3b-4f80-e348-ba8d057c9ff9"
      },
      "execution_count": 15,
      "outputs": [
        {
          "output_type": "execute_result",
          "data": {
            "text/plain": [
              "{'var1': int, 'var': int, 'return': int}"
            ]
          },
          "metadata": {},
          "execution_count": 15
        }
      ]
    },
    {
      "cell_type": "code",
      "source": [
        "def add(var1: int, var: int) -> int:\n",
        "  if (type(var1)== int and type(var)== int):\n",
        "    return var1+ var\n",
        "  else:\n",
        "    print('two ints needed')\n",
        "\n",
        "print(add(4, 5))\n",
        "print(add(4, 'eggs'))"
      ],
      "metadata": {
        "colab": {
          "base_uri": "https://localhost:8080/"
        },
        "id": "6f8uY9jycd0l",
        "outputId": "ba7eaba2-78a0-4369-dd88-bfeea07492c8"
      },
      "execution_count": 21,
      "outputs": [
        {
          "output_type": "stream",
          "name": "stdout",
          "text": [
            "9\n",
            "two ints needed\n",
            "None\n"
          ]
        }
      ]
    },
    {
      "cell_type": "code",
      "source": [
        "# Allowing inputs\n",
        "def multiply(num1: int, num2: int)-> int:\n",
        "  num1= input('Number')\n",
        "  num2= input('Number')\n",
        "  if (type(num1)== int and type(num2)==int):\n",
        "    return num1 * num2\n",
        "  else:\n",
        "    print('ints only')\n",
        "\n",
        "# adjust"
      ],
      "metadata": {
        "id": "IE_eukhLf38U"
      },
      "execution_count": 26,
      "outputs": []
    },
    {
      "cell_type": "code",
      "source": [
        "def multiply(num1: int, num2: int)-> int:\n",
        "  num1= input('Number')\n",
        "  num2= input('Number')\n",
        "  return int(num1) * int(num2)\n"
      ],
      "metadata": {
        "id": "A412ens2f4H2"
      },
      "execution_count": 29,
      "outputs": []
    }
  ]
}
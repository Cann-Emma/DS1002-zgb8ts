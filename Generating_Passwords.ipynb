{
  "nbformat": 4,
  "nbformat_minor": 0,
  "metadata": {
    "colab": {
      "provenance": [],
      "authorship_tag": "ABX9TyOTfBQD3hml3YfFbPP1HgMe",
      "include_colab_link": true
    },
    "kernelspec": {
      "name": "python3",
      "display_name": "Python 3"
    },
    "language_info": {
      "name": "python"
    }
  },
  "cells": [
    {
      "cell_type": "markdown",
      "metadata": {
        "id": "view-in-github",
        "colab_type": "text"
      },
      "source": [
        "<a href=\"https://colab.research.google.com/github/Cann-Emma/DS1002-zgb8ts/blob/main/Generating_Passwords.ipynb\" target=\"_parent\"><img src=\"https://colab.research.google.com/assets/colab-badge.svg\" alt=\"Open In Colab\"/></a>"
      ]
    },
    {
      "cell_type": "code",
      "execution_count": 1,
      "metadata": {
        "id": "XZkW0p2Ezv7w"
      },
      "outputs": [],
      "source": [
        "import string\n",
        "import random"
      ]
    },
    {
      "cell_type": "code",
      "source": [
        "dig= string.digits\n",
        "print(dig)\n",
        "punct= string.punctuation\n",
        "print(punct)\n",
        "let= string.ascii_letters\n",
        "print(let)"
      ],
      "metadata": {
        "colab": {
          "base_uri": "https://localhost:8080/"
        },
        "id": "Eig8Vn8sz0Ow",
        "outputId": "ff181a1d-ff5e-4399-d4df-1644ec92d389"
      },
      "execution_count": 21,
      "outputs": [
        {
          "output_type": "stream",
          "name": "stdout",
          "text": [
            "0123456789\n",
            "!\"#$%&'()*+,-./:;<=>?@[\\]^_`{|}~\n",
            "abcdefghijklmnopqrstuvwxyzABCDEFGHIJKLMNOPQRSTUVWXYZ\n"
          ]
        }
      ]
    },
    {
      "cell_type": "code",
      "source": [
        "\n",
        "allchars= dig + punct + let"
      ],
      "metadata": {
        "id": "ASboAQxu0q56"
      },
      "execution_count": 23,
      "outputs": []
    },
    {
      "cell_type": "code",
      "source": [
        "character= random.choice(allchars)"
      ],
      "metadata": {
        "id": "S5WUl1570hyT"
      },
      "execution_count": 7,
      "outputs": []
    },
    {
      "cell_type": "code",
      "source": [
        "passwrd=  ' '\n",
        "for t in range(8):\n",
        "  passwrd= random.choice(allchars)\n",
        "print(passwrd)"
      ],
      "metadata": {
        "colab": {
          "base_uri": "https://localhost:8080/"
        },
        "id": "kfpQpSeu1Edm",
        "outputId": "d2d4de1b-3a64-49e2-e0af-90d031ab7142"
      },
      "execution_count": 31,
      "outputs": [
        {
          "output_type": "stream",
          "name": "stdout",
          "text": [
            "x\n"
          ]
        }
      ]
    },
    {
      "cell_type": "code",
      "source": [
        "def give_me_passwrd():\n",
        "  passwrd= ' '\n",
        "  for p in range(15):\n",
        "    passwrd= random.choice(allchars)\n",
        "  return passwrd\n",
        "give_me_passwrd()"
      ],
      "metadata": {
        "colab": {
          "base_uri": "https://localhost:8080/",
          "height": 36
        },
        "id": "mIN_QGU03lzR",
        "outputId": "c6b345ff-f022-4bd9-8ad4-426a93431338"
      },
      "execution_count": 41,
      "outputs": [
        {
          "output_type": "execute_result",
          "data": {
            "text/plain": [
              "'{'"
            ],
            "application/vnd.google.colaboratory.intrinsic+json": {
              "type": "string"
            }
          },
          "metadata": {},
          "execution_count": 41
        }
      ]
    },
    {
      "cell_type": "code",
      "source": [
        "def give_me_passwrd(length):\n",
        "  passwrd= ' '\n",
        "  for x in range(length):\n",
        "    passwrd+= random.choice(allchars)\n",
        "  return passwrd\n",
        "give_me_passwrd(12)"
      ],
      "metadata": {
        "colab": {
          "base_uri": "https://localhost:8080/",
          "height": 36
        },
        "id": "qJKk2rf22fj_",
        "outputId": "797770fc-c8d6-4a8f-9c3e-7a017a338464"
      },
      "execution_count": 42,
      "outputs": [
        {
          "output_type": "execute_result",
          "data": {
            "text/plain": [
              "' MzP$/]7\\\\:uII'"
            ],
            "application/vnd.google.colaboratory.intrinsic+json": {
              "type": "string"
            }
          },
          "metadata": {},
          "execution_count": 42
        }
      ]
    },
    {
      "cell_type": "code",
      "source": [
        "names= ['Joy', 'Hope', 'Kyle']\n",
        "for n in names:\n",
        "  passwrd= give_me_passwrd(4)\n",
        "  print(n + ' '+ passwrd)\n"
      ],
      "metadata": {
        "colab": {
          "base_uri": "https://localhost:8080/"
        },
        "id": "HW1-seW64hk3",
        "outputId": "60fb76be-3306-4659-b462-155520131c5c"
      },
      "execution_count": 44,
      "outputs": [
        {
          "output_type": "stream",
          "name": "stdout",
          "text": [
            "Joy  59\\n\n",
            "Hope  |Hk*\n",
            "Kyle  d(S@\n"
          ]
        }
      ]
    },
    {
      "cell_type": "code",
      "source": [
        "def C_to_F(temp):\n",
        "  xtemp = (temp*1.8)+32\n",
        "  return xtemp\n",
        "\n",
        "C_to_F(68)"
      ],
      "metadata": {
        "colab": {
          "base_uri": "https://localhost:8080/"
        },
        "id": "tH-UP96d6WQt",
        "outputId": "1111975d-2c7c-4631-835a-3ff8e937b6ef"
      },
      "execution_count": 52,
      "outputs": [
        {
          "output_type": "execute_result",
          "data": {
            "text/plain": [
              "154.4"
            ]
          },
          "metadata": {},
          "execution_count": 52
        }
      ]
    },
    {
      "cell_type": "code",
      "source": [
        "def F_to_C(temp):\n",
        "  ytemp= (temp-32)/1.8\n",
        "  return ytemp\n",
        "\n",
        "F_to_C(154.4)"
      ],
      "metadata": {
        "colab": {
          "base_uri": "https://localhost:8080/"
        },
        "id": "ZGYYrSmY7a9z",
        "outputId": "28bdd911-de4d-467f-b68c-017fd61aec59"
      },
      "execution_count": 54,
      "outputs": [
        {
          "output_type": "execute_result",
          "data": {
            "text/plain": [
              "68.0"
            ]
          },
          "metadata": {},
          "execution_count": 54
        }
      ]
    },
    {
      "cell_type": "code",
      "source": [
        "def convert_temp(temp, unit):\n",
        "  if unit== \"F\":\n",
        "    xtemp= (temp*1.8)+32\n",
        "    return xtemp\n",
        "  elif unit== \"C\":\n",
        "    ytemp= (temp-32)/1.8\n",
        "    return ytemp\n",
        "  else:\n",
        "    print('No F or C')\n",
        "\n",
        "convert_temp(68,\"F\")"
      ],
      "metadata": {
        "colab": {
          "base_uri": "https://localhost:8080/"
        },
        "id": "wbTl7LuS7z6m",
        "outputId": "feac9707-a5b9-4e93-e03c-c14b8f6965f1"
      },
      "execution_count": 61,
      "outputs": [
        {
          "output_type": "execute_result",
          "data": {
            "text/plain": [
              "154.4"
            ]
          },
          "metadata": {},
          "execution_count": 61
        }
      ]
    }
  ]
}
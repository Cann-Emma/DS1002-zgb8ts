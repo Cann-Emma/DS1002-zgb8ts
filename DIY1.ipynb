{
  "nbformat": 4,
  "nbformat_minor": 0,
  "metadata": {
    "colab": {
      "provenance": [],
      "authorship_tag": "ABX9TyNwUWJJ0RhNDWwB6s1qN1Jg",
      "include_colab_link": true
    },
    "kernelspec": {
      "name": "python3",
      "display_name": "Python 3"
    },
    "language_info": {
      "name": "python"
    }
  },
  "cells": [
    {
      "cell_type": "markdown",
      "metadata": {
        "id": "view-in-github",
        "colab_type": "text"
      },
      "source": [
        "<a href=\"https://colab.research.google.com/github/Cann-Emma/DS1002-zgb8ts/blob/main/DIY1.ipynb\" target=\"_parent\"><img src=\"https://colab.research.google.com/assets/colab-badge.svg\" alt=\"Open In Colab\"/></a>"
      ]
    },
    {
      "cell_type": "code",
      "execution_count": 3,
      "metadata": {
        "colab": {
          "base_uri": "https://localhost:8080/"
        },
        "id": "eh5w8T7Dn_7t",
        "outputId": "2a25f5ba-dc00-4398-ee47-8ca25a82488a"
      },
      "outputs": [
        {
          "output_type": "stream",
          "name": "stdout",
          "text": [
            "[[0. 0.]\n",
            " [0. 0.]\n",
            " [0. 0.]]\n",
            "[[0 0]\n",
            " [0 0]\n",
            " [0 0]]\n"
          ]
        }
      ],
      "source": [
        "import numpy as np\n",
        "zero_array= np.zeros([3,2])\n",
        "print(zero_array)\n",
        "inte_array= np.zeros((3,2), dtype=np.int32)\n",
        "print(inte_array)"
      ]
    },
    {
      "cell_type": "code",
      "source": [
        "#data type has to be homogenous\n",
        "data= [4, 8, 12, 16, 20]\n",
        "arr2= np.array(data)\n",
        "arr2"
      ],
      "metadata": {
        "colab": {
          "base_uri": "https://localhost:8080/"
        },
        "id": "nnEBN3lKpHXu",
        "outputId": "fc2bd397-ed4c-4296-abdc-b34ec8ebd701"
      },
      "execution_count": 5,
      "outputs": [
        {
          "output_type": "execute_result",
          "data": {
            "text/plain": [
              "array([ 4,  8, 12, 16, 20])"
            ]
          },
          "metadata": {},
          "execution_count": 5
        }
      ]
    },
    {
      "cell_type": "code",
      "source": [
        "# shape returns the dimension of your array and how many elements are in each array\n",
        "dime2= [[2,4,6,8,10], [5,10,15,20,25]]\n",
        "arr1= np.array(dime2)\n",
        "print(arr1.ndim)\n",
        "print(arr1.shape)"
      ],
      "metadata": {
        "colab": {
          "base_uri": "https://localhost:8080/"
        },
        "id": "xCYiSh0tp-mZ",
        "outputId": "bdeb89c4-ade2-40e6-de0f-74a758e4c541"
      },
      "execution_count": 10,
      "outputs": [
        {
          "output_type": "stream",
          "name": "stdout",
          "text": [
            "2\n",
            "(2, 5)\n"
          ]
        }
      ]
    }
  ]
}
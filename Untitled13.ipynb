{
  "nbformat": 4,
  "nbformat_minor": 0,
  "metadata": {
    "colab": {
      "provenance": [],
      "authorship_tag": "ABX9TyPcfUXvvtHG7SXhv7kZYTJ3",
      "include_colab_link": true
    },
    "kernelspec": {
      "name": "python3",
      "display_name": "Python 3"
    },
    "language_info": {
      "name": "python"
    }
  },
  "cells": [
    {
      "cell_type": "markdown",
      "metadata": {
        "id": "view-in-github",
        "colab_type": "text"
      },
      "source": [
        "<a href=\"https://colab.research.google.com/github/Cann-Emma/DS1002-zgb8ts/blob/main/Untitled13.ipynb\" target=\"_parent\"><img src=\"https://colab.research.google.com/assets/colab-badge.svg\" alt=\"Open In Colab\"/></a>"
      ]
    },
    {
      "cell_type": "markdown",
      "source": [
        "LOOPING LISTS"
      ],
      "metadata": {
        "id": "cphhpu4Hb-Lq"
      }
    },
    {
      "cell_type": "code",
      "execution_count": null,
      "metadata": {
        "colab": {
          "base_uri": "https://localhost:8080/"
        },
        "id": "qoXvyv2IWbwj",
        "outputId": "f3ff7d1b-b085-4ca3-8d79-68b24082703c"
      },
      "outputs": [
        {
          "output_type": "stream",
          "name": "stdout",
          "text": [
            "1\n",
            "2\n",
            "3\n",
            "4\n",
            "5\n",
            "6\n",
            "7\n",
            "8\n",
            "9\n"
          ]
        }
      ],
      "source": [
        "num= [1,2,3,4,5,6,7,8,9]\n",
        "for x in num:\n",
        "  print(x)"
      ]
    },
    {
      "cell_type": "code",
      "source": [
        "words= ['excellent', 'brilliant', 'smart', 'amazing']\n",
        "for y in words:\n",
        "  if y== 'brilliant':\n",
        "    print('got it')\n",
        "  else:\n",
        "      print(y)"
      ],
      "metadata": {
        "colab": {
          "base_uri": "https://localhost:8080/"
        },
        "id": "j7KwW1RIWl2m",
        "outputId": "0c67539b-a3d9-4c88-a038-6793efe77d2c"
      },
      "execution_count": null,
      "outputs": [
        {
          "output_type": "stream",
          "name": "stdout",
          "text": [
            "excellent\n",
            "got it\n",
            "smart\n",
            "amazing\n"
          ]
        }
      ]
    },
    {
      "cell_type": "code",
      "source": [
        "for z in num:\n",
        "  if z%2==0:\n",
        "    print('divisible by 2')\n",
        "  else:\n",
        "     print(z)"
      ],
      "metadata": {
        "colab": {
          "base_uri": "https://localhost:8080/"
        },
        "id": "4ZHPdA4NXTN2",
        "outputId": "e64a8383-a160-42cb-a0f4-e712714310df"
      },
      "execution_count": null,
      "outputs": [
        {
          "output_type": "stream",
          "name": "stdout",
          "text": [
            "1\n",
            "divisible by 2\n",
            "3\n",
            "divisible by 2\n",
            "5\n",
            "divisible by 2\n",
            "7\n",
            "divisible by 2\n",
            "9\n"
          ]
        }
      ]
    },
    {
      "cell_type": "code",
      "source": [
        "for c in words:\n",
        "  if c== 'smart':\n"
      ],
      "metadata": {
        "id": "U7nRj1UwYMz4"
      },
      "execution_count": null,
      "outputs": []
    },
    {
      "cell_type": "markdown",
      "source": [
        "LOOPING DICTIONARIES"
      ],
      "metadata": {
        "id": "oH9h6ty2cH4p"
      }
    },
    {
      "cell_type": "code",
      "source": [
        "things= {'sport': 'soccer', 'animal': 'cat', 'order': 'fries', 'day': 'thursday'}\n",
        "print(things.keys())\n",
        "print(things['day'])"
      ],
      "metadata": {
        "colab": {
          "base_uri": "https://localhost:8080/"
        },
        "id": "Szp1U3miY9s4",
        "outputId": "853ec02a-df69-487f-f753-02394dedc654"
      },
      "execution_count": null,
      "outputs": [
        {
          "output_type": "stream",
          "name": "stdout",
          "text": [
            "dict_keys(['sport', 'animal', 'order', 'day'])\n",
            "thursday\n"
          ]
        }
      ]
    },
    {
      "cell_type": "code",
      "source": [
        "# To get values\n",
        "for t in things:\n",
        "  print(things[t])"
      ],
      "metadata": {
        "colab": {
          "base_uri": "https://localhost:8080/"
        },
        "id": "WW-rJD-ua1rH",
        "outputId": "e35281b3-0f0d-4b14-8f27-11c86a1c6a04"
      },
      "execution_count": null,
      "outputs": [
        {
          "output_type": "stream",
          "name": "stdout",
          "text": [
            "soccer\n",
            "cat\n",
            "fries\n",
            "thursday\n"
          ]
        }
      ]
    },
    {
      "cell_type": "code",
      "source": [
        "# To get keys\n",
        "for t in things:\n",
        "  print(t)"
      ],
      "metadata": {
        "colab": {
          "base_uri": "https://localhost:8080/"
        },
        "id": "so0r0jhsbeB1",
        "outputId": "acff3c36-8190-4f29-97cf-73f4f6d17140"
      },
      "execution_count": null,
      "outputs": [
        {
          "output_type": "stream",
          "name": "stdout",
          "text": [
            "sport\n",
            "animal\n",
            "order\n",
            "day\n"
          ]
        }
      ]
    },
    {
      "cell_type": "code",
      "source": [
        "for key, value in things.items():\n",
        "  print(key)\n",
        "  print(value)"
      ],
      "metadata": {
        "colab": {
          "base_uri": "https://localhost:8080/"
        },
        "id": "Fwz1ukC8blwo",
        "outputId": "59a585c9-0c92-443d-ca14-296181a30669"
      },
      "execution_count": null,
      "outputs": [
        {
          "output_type": "stream",
          "name": "stdout",
          "text": [
            "sport\n",
            "soccer\n",
            "animal\n",
            "cat\n",
            "order\n",
            "fries\n",
            "day\n",
            "thursday\n"
          ]
        }
      ]
    },
    {
      "cell_type": "code",
      "source": [
        "mydict= {'colour':['green','blue'], 'food': ['fries', 'ketchup']}\n",
        "#for k, in mydict:\n",
        "  print(v)\n",
        "  print(k)"
      ],
      "metadata": {
        "id": "e7d7cHvXccBd"
      },
      "execution_count": null,
      "outputs": []
    },
    {
      "cell_type": "markdown",
      "source": [
        "LOOPING TUPLES"
      ],
      "metadata": {
        "id": "NY6ceLf6dbfE"
      }
    },
    {
      "cell_type": "code",
      "source": [
        "tupes= ('earth', 'water', 'fire','air')\n",
        "for element in tupes:\n",
        "  if element!= 'water':\n",
        "    print(element)"
      ],
      "metadata": {
        "colab": {
          "base_uri": "https://localhost:8080/"
        },
        "id": "856_SxeudKr6",
        "outputId": "e24dbbc4-a5d9-4a73-89f0-26b2bce81990"
      },
      "execution_count": null,
      "outputs": [
        {
          "output_type": "stream",
          "name": "stdout",
          "text": [
            "earth\n",
            "fire\n",
            "air\n"
          ]
        }
      ]
    },
    {
      "cell_type": "code",
      "source": [
        "for element in tupes:\n",
        "  if (element=='earth') or (element=='water'):\n",
        "    print('element captured')\n",
        "    ]"
      ],
      "metadata": {
        "id": "8ttjyi3kexAH"
      },
      "execution_count": null,
      "outputs": []
    }
  ]
}
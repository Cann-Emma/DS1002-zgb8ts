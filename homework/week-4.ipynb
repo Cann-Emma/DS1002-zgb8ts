{
  "nbformat": 4,
  "nbformat_minor": 0,
  "metadata": {
    "colab": {
      "provenance": [],
      "include_colab_link": true
    },
    "kernelspec": {
      "name": "python3",
      "display_name": "Python 3"
    },
    "language_info": {
      "name": "python"
    }
  },
  "cells": [
    {
      "cell_type": "markdown",
      "metadata": {
        "id": "view-in-github",
        "colab_type": "text"
      },
      "source": [
        "<a href=\"https://colab.research.google.com/github/Cann-Emma/DS1002-zgb8ts/blob/main/homework/week-4.ipynb\" target=\"_parent\"><img src=\"https://colab.research.google.com/assets/colab-badge.svg\" alt=\"Open In Colab\"/></a>"
      ]
    },
    {
      "cell_type": "markdown",
      "source": [
        "# Homework - Week 4\n",
        "\n",
        "Complete the following blocks as specified in the directions. Run each cell to return the desired output. Save your notebook back to your GitHub repository and submit the GitHub URL for your notebook for review."
      ],
      "metadata": {
        "id": "xJ6ZWHKXW4qY"
      }
    },
    {
      "cell_type": "markdown",
      "source": [
        "## 1. Data Types\n",
        "\n",
        "```python\n",
        "s = \"Fox\"\n",
        "x = 17\n",
        "y = \"3\"\n",
        "z = \"false\"\n",
        "```\n",
        "\n",
        "Using the variables above answer these questions:"
      ],
      "metadata": {
        "id": "atxtPF2-XXiW"
      }
    },
    {
      "cell_type": "code",
      "execution_count": 2,
      "metadata": {
        "id": "mdX0VBQgW1-9",
        "colab": {
          "base_uri": "https://localhost:8080/"
        },
        "outputId": "83a969b7-970c-4cf6-eec1-b3050e8df993"
      },
      "outputs": [
        {
          "output_type": "stream",
          "name": "stdout",
          "text": [
            "<class 'str'>\n"
          ]
        }
      ],
      "source": [
        "# Write a snippet of code that displays the data type (class) of `s`\n",
        "s = \"Fox\"\n",
        "x = 17\n",
        "y = \"3\"\n",
        "z = \"false\"\n",
        "print(type(s))"
      ]
    },
    {
      "cell_type": "code",
      "source": [
        "# Write a snippet of code that adds `x` and `y` and displays their sum.\n",
        "print(x + int(y))"
      ],
      "metadata": {
        "id": "OoLP555BbMWi",
        "colab": {
          "base_uri": "https://localhost:8080/"
        },
        "outputId": "a0435a6c-c6cf-4393-cbe5-249a578b5cfb"
      },
      "execution_count": 3,
      "outputs": [
        {
          "output_type": "stream",
          "name": "stdout",
          "text": [
            "20\n"
          ]
        }
      ]
    },
    {
      "cell_type": "code",
      "source": [
        "# How might you transform z into a boolean value, if you had to? Be creative.\n",
        "boolit= {z:False}\n",
        "print(boolit[z])"
      ],
      "metadata": {
        "id": "--XDmwVsbMC0",
        "colab": {
          "base_uri": "https://localhost:8080/"
        },
        "outputId": "266bd24d-b9ed-4ccf-9956-bdf4d98f9eec"
      },
      "execution_count": 4,
      "outputs": [
        {
          "output_type": "stream",
          "name": "stdout",
          "text": [
            "False\n"
          ]
        }
      ]
    },
    {
      "cell_type": "markdown",
      "source": [
        "- - -"
      ],
      "metadata": {
        "id": "zPvfX62VbK40"
      }
    },
    {
      "cell_type": "markdown",
      "source": [
        "## 2. Lists\n",
        "\n",
        "    mylist = [\"Chicago\",\"New Orleans\", \"Tempe\", \"Denver\", \"Nashville\", \"Albany\"]\n",
        "\n",
        "Using the list above, answer these questions:"
      ],
      "metadata": {
        "id": "j0mCENI3XK2i"
      }
    },
    {
      "cell_type": "code",
      "source": [
        "# Write a snippet of code that prints out \"Tempe\"\n",
        "mylist = [\"Chicago\",\"New Orleans\", \"Tempe\", \"Denver\", \"Nashville\", \"Albany\"]\n",
        "print(mylist[2])"
      ],
      "metadata": {
        "id": "2szfLXZcYC_7",
        "colab": {
          "base_uri": "https://localhost:8080/"
        },
        "outputId": "b1d24e37-4bef-412c-88b1-43a22d42c72d"
      },
      "execution_count": 5,
      "outputs": [
        {
          "output_type": "stream",
          "name": "stdout",
          "text": [
            "Tempe\n"
          ]
        }
      ]
    },
    {
      "cell_type": "code",
      "source": [
        "# Write a snippet of code that adds \"Atlanta\" to this list and displays the extended list.\n",
        "mylist.append(\"Atlanta\")\n",
        "print(mylist)"
      ],
      "metadata": {
        "id": "P6IeQYoTdMhh",
        "colab": {
          "base_uri": "https://localhost:8080/"
        },
        "outputId": "1cfe8f08-9ba5-485e-88f5-d6948eb70276"
      },
      "execution_count": 33,
      "outputs": [
        {
          "output_type": "stream",
          "name": "stdout",
          "text": [
            "['Chicago', 'New Orleans', 'Tempe', 'Denver', 'Nashville', 'Albany', 'Atlanta']\n"
          ]
        }
      ]
    },
    {
      "cell_type": "code",
      "source": [
        "# Write a snippet of code that prints out only \"New Orleans\", \"Tempe\", \"Denver\".\n",
        "print(mylist[1:4])"
      ],
      "metadata": {
        "id": "t43LdDkhdM2N",
        "colab": {
          "base_uri": "https://localhost:8080/"
        },
        "outputId": "100240c7-0fe9-43ab-b1ed-c243220d7908"
      },
      "execution_count": 8,
      "outputs": [
        {
          "output_type": "stream",
          "name": "stdout",
          "text": [
            "['New Orleans', 'Tempe', 'Denver']\n"
          ]
        }
      ]
    },
    {
      "cell_type": "markdown",
      "source": [
        "- - -"
      ],
      "metadata": {
        "id": "ATrOT4dYbIVH"
      }
    },
    {
      "cell_type": "markdown",
      "source": [
        "# 3. Dictionaries\n",
        "\n",
        "    mydict = {\"VA\":\"Richmond\", \"NC\":\"Raleigh\", \"NJ\":\"Trenton\", \"PA\":\"Harrisburg\", \"NY\":\"Albany\"}\n",
        "\n",
        "Answer the following questions:"
      ],
      "metadata": {
        "id": "GeXcT_9sYEdx"
      }
    },
    {
      "cell_type": "code",
      "source": [
        "# Write a snippet of code that returns \"Trenton\".\n",
        "mydict = {\"VA\":\"Richmond\", \"NC\":\"Raleigh\", \"NJ\":\"Trenton\", \"PA\":\"Harrisburg\", \"NY\":\"Albany\"}\n",
        "print(mydict[\"NJ\"])"
      ],
      "metadata": {
        "id": "v3fvvKP4ZUvJ",
        "colab": {
          "base_uri": "https://localhost:8080/"
        },
        "outputId": "d88ed0a6-01e2-48a5-cf37-5ec884c7f744"
      },
      "execution_count": 9,
      "outputs": [
        {
          "output_type": "stream",
          "name": "stdout",
          "text": [
            "Trenton\n"
          ]
        }
      ]
    },
    {
      "cell_type": "code",
      "source": [
        "# Write a snippet of code that adds \"CO\":\"Denver\" to `mydict`.\n",
        "# Remember the built-in .update({'key': 'value'}) method.\n",
        "mydict.update({ \"CO\":\"Denver\"})"
      ],
      "metadata": {
        "id": "OEwUkIDNa90b",
        "colab": {
          "base_uri": "https://localhost:8080/"
        },
        "outputId": "6e204ad9-cd3c-4736-c2e2-ad046a90e475"
      },
      "execution_count": 11,
      "outputs": [
        {
          "output_type": "stream",
          "name": "stdout",
          "text": [
            "{'VA': 'Richmond', 'NC': 'Raleigh', 'NJ': 'Trenton', 'PA': 'Harrisburg', 'NY': 'Albany', 'CO': 'Denver'}\n"
          ]
        }
      ]
    },
    {
      "cell_type": "code",
      "source": [
        "# Write a snippet of code that returns all the keys in `mydict`\n",
        "mydict.keys()"
      ],
      "metadata": {
        "id": "VwoLtOILbF2K",
        "colab": {
          "base_uri": "https://localhost:8080/"
        },
        "outputId": "20e715de-4afd-4fe1-9189-42e007d8ff26"
      },
      "execution_count": 42,
      "outputs": [
        {
          "output_type": "execute_result",
          "data": {
            "text/plain": [
              "dict_keys(['VA', 'NC', 'NJ', 'PA', 'NY', 'CO'])"
            ]
          },
          "metadata": {},
          "execution_count": 42
        }
      ]
    },
    {
      "cell_type": "markdown",
      "source": [
        "- - -"
      ],
      "metadata": {
        "id": "svpBBTSYa5Dh"
      }
    },
    {
      "cell_type": "markdown",
      "source": [
        "# 4. NumPy Arrays\n",
        "\n",
        "Create an `ndarray` that contains the following values and assign the array to a variable.\n",
        "\n",
        "    2, 3, 5, 7, 11, 13, 17, 19, 23, 29, 31, 37\n",
        "\n",
        "Using that variable, answer the following questions:"
      ],
      "metadata": {
        "id": "DkVtHJBoYW34"
      }
    },
    {
      "cell_type": "code",
      "source": [
        "# Write a snippet of code that prints the data type of the elements in the array.\n",
        "import numpy as np\n",
        "test= np.array([2, 3, 5, 7, 11, 13, 17, 19, 23, 29, 31, 37])\n",
        "type(test)"
      ],
      "metadata": {
        "id": "db5UdbrVZSiJ",
        "colab": {
          "base_uri": "https://localhost:8080/"
        },
        "outputId": "002367f9-06ee-4d72-a833-9eb1e5a5f949"
      },
      "execution_count": 27,
      "outputs": [
        {
          "output_type": "execute_result",
          "data": {
            "text/plain": [
              "numpy.ndarray"
            ]
          },
          "metadata": {},
          "execution_count": 27
        }
      ]
    },
    {
      "cell_type": "code",
      "source": [
        "# Write a snippet of code that displays `11` from the array.\n",
        "test[4]"
      ],
      "metadata": {
        "id": "8je9wRG9aoWb",
        "colab": {
          "base_uri": "https://localhost:8080/"
        },
        "outputId": "c04de851-a27c-416e-a017-32146a816ea1"
      },
      "execution_count": 25,
      "outputs": [
        {
          "output_type": "execute_result",
          "data": {
            "text/plain": [
              "11"
            ]
          },
          "metadata": {},
          "execution_count": 25
        }
      ]
    },
    {
      "cell_type": "code",
      "source": [
        "# Write a snippet of code that multiplies each array element by `7` and displays the new values.\n",
        "test * 7"
      ],
      "metadata": {
        "id": "GBT5RzQfaovb",
        "colab": {
          "base_uri": "https://localhost:8080/"
        },
        "outputId": "57e06253-9940-47ec-c354-8ea54a66fcfa"
      },
      "execution_count": 26,
      "outputs": [
        {
          "output_type": "execute_result",
          "data": {
            "text/plain": [
              "array([ 14,  21,  35,  49,  77,  91, 119, 133, 161, 203, 217, 259])"
            ]
          },
          "metadata": {},
          "execution_count": 26
        }
      ]
    }
  ]
}
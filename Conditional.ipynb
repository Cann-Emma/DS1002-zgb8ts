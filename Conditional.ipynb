{
  "nbformat": 4,
  "nbformat_minor": 0,
  "metadata": {
    "colab": {
      "provenance": [],
      "authorship_tag": "ABX9TyPbBbMCZDdyw8KniXF7PmHe",
      "include_colab_link": true
    },
    "kernelspec": {
      "name": "python3",
      "display_name": "Python 3"
    },
    "language_info": {
      "name": "python"
    }
  },
  "cells": [
    {
      "cell_type": "markdown",
      "metadata": {
        "id": "view-in-github",
        "colab_type": "text"
      },
      "source": [
        "<a href=\"https://colab.research.google.com/github/Cann-Emma/DS1002-zgb8ts/blob/main/Conditional.ipynb\" target=\"_parent\"><img src=\"https://colab.research.google.com/assets/colab-badge.svg\" alt=\"Open In Colab\"/></a>"
      ]
    },
    {
      "cell_type": "code",
      "execution_count": 7,
      "metadata": {
        "colab": {
          "base_uri": "https://localhost:8080/"
        },
        "id": "iId7qDHgdWi4",
        "outputId": "091ab942-e604-44d2-e482-5496ab41d1f0"
      },
      "outputs": [
        {
          "output_type": "stream",
          "name": "stdout",
          "text": [
            "rock, paper, scissors ?paper\n",
            "Computer guessed paper. You guessed paper. We have a tie\n"
          ]
        }
      ],
      "source": [
        "from random import randint\n",
        "t= ['rock', 'paper', 'scissors']\n",
        "computer= t[randint(0,2)]\n",
        "computer\n",
        "player= input('rock, paper, scissors ?')\n",
        "\n",
        "if player== computer:\n",
        "  print(f'Computer guessed {computer}. You guessed {player}. We have a tie')\n",
        "elif player== 'rock':\n",
        "  if computer== 'scissors':\n",
        "    print(f'Computer guessed {computer}.You win')\n",
        "  else:\n",
        "    print(f'Computer guessed {computer}. Computer wins')\n",
        "elif player== 'scissors':\n",
        "  if computer== 'paper':\n",
        "    print(f'Computer guessed {computer}.You win')\n",
        "  else:\n",
        "    print(f'Computer guessed {computer}. Computer wins')\n",
        "elif player== 'rock':\n",
        "  if computer== 'scissors':\n",
        "    print(f'Computer guessed {computer}.You win')\n",
        "  else:\n",
        "    print(f'Computer guessed {computer}. Computer wins')\n",
        "elif player== 'paper':\n",
        "  if computer== 'rock':\n",
        "    print(f'Computer guessed {computer}.You win')\n",
        "  else:\n",
        "    print(f'Computer guessed {computer}. Computer wins')"
      ]
    }
  ]
}
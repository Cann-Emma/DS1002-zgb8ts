{
  "nbformat": 4,
  "nbformat_minor": 0,
  "metadata": {
    "colab": {
      "provenance": [],
      "authorship_tag": "ABX9TyMRFEFo/1kKnNZvs4nsORkV",
      "include_colab_link": true
    },
    "kernelspec": {
      "name": "python3",
      "display_name": "Python 3"
    },
    "language_info": {
      "name": "python"
    }
  },
  "cells": [
    {
      "cell_type": "markdown",
      "metadata": {
        "id": "view-in-github",
        "colab_type": "text"
      },
      "source": [
        "<a href=\"https://colab.research.google.com/github/Cann-Emma/DS1002-zgb8ts/blob/main/9_27_23.ipynb\" target=\"_parent\"><img src=\"https://colab.research.google.com/assets/colab-badge.svg\" alt=\"Open In Colab\"/></a>"
      ]
    },
    {
      "cell_type": "code",
      "execution_count": null,
      "metadata": {
        "id": "R5RL0sjc93yt"
      },
      "outputs": [],
      "source": [
        "mylist= list(range(1, 1000))\n",
        "mylist"
      ]
    },
    {
      "cell_type": "code",
      "source": [
        "mylist[:10]\n",
        "# Tells Python to count by 5 from 50\n",
        "mylist[:50:5]\n",
        "mylist[:950:100]"
      ],
      "metadata": {
        "colab": {
          "base_uri": "https://localhost:8080/"
        },
        "id": "Y1qW01Tj-Ooe",
        "outputId": "85d98b82-bc13-415d-b389-5f3fbbd6fad1"
      },
      "execution_count": 5,
      "outputs": [
        {
          "output_type": "execute_result",
          "data": {
            "text/plain": [
              "[1, 101, 201, 301, 401, 501, 601, 701, 801, 901]"
            ]
          },
          "metadata": {},
          "execution_count": 5
        }
      ]
    },
    {
      "cell_type": "code",
      "source": [
        "import numpy as np\n",
        "import pandas as pd\n",
        "La_crime= pd.read_csv(\"la-crime-2020-present.csv\")\n",
        "La_crime\n",
        "La_crime.head(50)\n",
        "# Since the indice starts at 0, 50 is the correct index to find the first 50 observations\n",
        "La_crime[:50]\n",
        "La_crime.iloc[:50]"
      ],
      "metadata": {
        "id": "kvpPi-Sd_Utc"
      },
      "execution_count": null,
      "outputs": []
    },
    {
      "cell_type": "code",
      "source": [
        "La_crime.index\n"
      ],
      "metadata": {
        "colab": {
          "base_uri": "https://localhost:8080/"
        },
        "id": "ZguHcZfZCXey",
        "outputId": "dd164ae6-431a-42da-a515-d4148f952dd4"
      },
      "execution_count": 19,
      "outputs": [
        {
          "output_type": "execute_result",
          "data": {
            "text/plain": [
              "RangeIndex(start=0, stop=10000, step=1)"
            ]
          },
          "metadata": {},
          "execution_count": 19
        }
      ]
    },
    {
      "cell_type": "code",
      "source": [
        "La_crime.loc[:50, ['Date Rptd','Crm Cd Desc']]"
      ],
      "metadata": {
        "id": "7OqkifU2_6iQ"
      },
      "execution_count": null,
      "outputs": []
    }
  ]
}
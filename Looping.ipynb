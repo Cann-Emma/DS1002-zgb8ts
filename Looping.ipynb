{
  "nbformat": 4,
  "nbformat_minor": 0,
  "metadata": {
    "colab": {
      "provenance": [],
      "authorship_tag": "ABX9TyOewaih+ZzSLthK8aGwSrhT",
      "include_colab_link": true
    },
    "kernelspec": {
      "name": "python3",
      "display_name": "Python 3"
    },
    "language_info": {
      "name": "python"
    }
  },
  "cells": [
    {
      "cell_type": "markdown",
      "metadata": {
        "id": "view-in-github",
        "colab_type": "text"
      },
      "source": [
        "<a href=\"https://colab.research.google.com/github/Cann-Emma/DS1002-zgb8ts/blob/main/Looping.ipynb\" target=\"_parent\"><img src=\"https://colab.research.google.com/assets/colab-badge.svg\" alt=\"Open In Colab\"/></a>"
      ]
    },
    {
      "cell_type": "markdown",
      "source": [
        "#LOOPING LISTS:\n",
        "\n",
        "*   for\n",
        "*   if\n",
        "* elif\n",
        "* else\n",
        "* continue\n",
        "* break\n",
        "* while\n",
        "\n",
        "\n",
        "\n"
      ],
      "metadata": {
        "id": "cphhpu4Hb-Lq"
      }
    },
    {
      "cell_type": "code",
      "execution_count": null,
      "metadata": {
        "colab": {
          "base_uri": "https://localhost:8080/"
        },
        "id": "qoXvyv2IWbwj",
        "outputId": "9116d0c1-55c2-4058-b4e8-aa535ffb7ccb"
      },
      "outputs": [
        {
          "output_type": "stream",
          "name": "stdout",
          "text": [
            "1\n",
            "2\n",
            "3\n",
            "5\n",
            "6\n",
            "7\n",
            "8\n",
            "9\n"
          ]
        }
      ],
      "source": [
        "# Using 'for' loop in collection\n",
        "\n",
        "num= [1,2,3,4,5,6,7,8,9]\n",
        "for x in num:\n",
        "  if x==4:\n",
        "    continue\n",
        "  print(x)"
      ]
    },
    {
      "cell_type": "code",
      "source": [
        "for z in num:\n",
        "  if z%2==0:\n",
        "    print('divisible by 2')\n",
        "  elif z== 7:\n",
        "    break\n",
        "  else:\n",
        "     print(z)"
      ],
      "metadata": {
        "colab": {
          "base_uri": "https://localhost:8080/"
        },
        "id": "4ZHPdA4NXTN2",
        "outputId": "92abff02-e3fb-4191-a605-03f1ab546a90"
      },
      "execution_count": null,
      "outputs": [
        {
          "output_type": "stream",
          "name": "stdout",
          "text": [
            "1\n",
            "divisible by 2\n",
            "3\n",
            "divisible by 2\n",
            "5\n",
            "divisible by 2\n"
          ]
        }
      ]
    },
    {
      "cell_type": "code",
      "source": [
        "words= ['excellent', 'brilliant', 'smart', 'amazing']\n",
        "for y in words:\n",
        "  if y== 'brilliant':\n",
        "    print('got it')\n",
        "  else:\n",
        "      print(y)"
      ],
      "metadata": {
        "colab": {
          "base_uri": "https://localhost:8080/"
        },
        "id": "j7KwW1RIWl2m",
        "outputId": "1c02d064-bc76-49e7-f693-f2d5a83552fd"
      },
      "execution_count": null,
      "outputs": [
        {
          "output_type": "stream",
          "name": "stdout",
          "text": [
            "excellent\n",
            "got it\n",
            "smart\n",
            "amazing\n"
          ]
        }
      ]
    },
    {
      "cell_type": "code",
      "source": [
        "# looping variable\n",
        "c= -4\n",
        "while c<= 5:\n",
        "  c= c+1.5\n",
        "  print(c)\n",
        "  if c== 2.5:\n",
        "    continue\n",
        "  elif c== 5:\n",
        "    break"
      ],
      "metadata": {
        "id": "U7nRj1UwYMz4",
        "outputId": "9e1f500e-f566-4af3-8485-0e1765ace2e9",
        "colab": {
          "base_uri": "https://localhost:8080/"
        }
      },
      "execution_count": null,
      "outputs": [
        {
          "output_type": "stream",
          "name": "stdout",
          "text": [
            "-2.5\n",
            "-1.0\n",
            "0.5\n",
            "2.0\n",
            "3.5\n",
            "5.0\n"
          ]
        }
      ]
    },
    {
      "cell_type": "markdown",
      "source": [
        "LOOPING DICTIONARIES"
      ],
      "metadata": {
        "id": "oH9h6ty2cH4p"
      }
    },
    {
      "cell_type": "code",
      "source": [
        "things= {'sport': 'soccer', 'animal': 'cat', 'order': 'fries', 'day': 'thursday'}\n",
        "print(things.keys())\n",
        "print(things['day'])"
      ],
      "metadata": {
        "colab": {
          "base_uri": "https://localhost:8080/"
        },
        "id": "Szp1U3miY9s4",
        "outputId": "19fca7b3-d56f-4ff2-8418-38e9d0923893"
      },
      "execution_count": null,
      "outputs": [
        {
          "output_type": "stream",
          "name": "stdout",
          "text": [
            "dict_keys(['sport', 'animal', 'order', 'day'])\n",
            "thursday\n"
          ]
        }
      ]
    },
    {
      "cell_type": "code",
      "source": [
        "# To get values\n",
        "for t in things:\n",
        "  print(things[t])"
      ],
      "metadata": {
        "colab": {
          "base_uri": "https://localhost:8080/"
        },
        "id": "WW-rJD-ua1rH",
        "outputId": "e6abf341-dac9-43dd-8250-1dc9364b5aaf"
      },
      "execution_count": null,
      "outputs": [
        {
          "output_type": "stream",
          "name": "stdout",
          "text": [
            "soccer\n",
            "cat\n",
            "fries\n",
            "thursday\n"
          ]
        }
      ]
    },
    {
      "cell_type": "code",
      "source": [
        "# To get keys\n",
        "for t in things:\n",
        "  print(t)"
      ],
      "metadata": {
        "colab": {
          "base_uri": "https://localhost:8080/"
        },
        "id": "so0r0jhsbeB1",
        "outputId": "e38ea25d-6831-4003-dffe-395389669f42"
      },
      "execution_count": null,
      "outputs": [
        {
          "output_type": "stream",
          "name": "stdout",
          "text": [
            "sport\n",
            "animal\n",
            "order\n",
            "day\n"
          ]
        }
      ]
    },
    {
      "cell_type": "code",
      "source": [
        "for key, value in things.items():\n",
        "  print(key)\n",
        "  print(value)"
      ],
      "metadata": {
        "colab": {
          "base_uri": "https://localhost:8080/"
        },
        "id": "Fwz1ukC8blwo",
        "outputId": "eb3baeed-f5a5-48a8-a777-16b4d6b6db83"
      },
      "execution_count": null,
      "outputs": [
        {
          "output_type": "stream",
          "name": "stdout",
          "text": [
            "sport\n",
            "soccer\n",
            "animal\n",
            "cat\n",
            "order\n",
            "fries\n",
            "day\n",
            "thursday\n"
          ]
        }
      ]
    },
    {
      "cell_type": "markdown",
      "source": [
        "LOOPING TUPLES"
      ],
      "metadata": {
        "id": "NY6ceLf6dbfE"
      }
    },
    {
      "cell_type": "code",
      "source": [
        "tupes= ('earth', 'water', 'fire','air')\n",
        "for element in tupes:\n",
        "  if element!= 'water':\n",
        "    print(element)"
      ],
      "metadata": {
        "colab": {
          "base_uri": "https://localhost:8080/"
        },
        "id": "856_SxeudKr6",
        "outputId": "6812c231-f632-4e8e-b76b-33cf3bb5edd4"
      },
      "execution_count": 5,
      "outputs": [
        {
          "output_type": "stream",
          "name": "stdout",
          "text": [
            "earth\n",
            "fire\n",
            "air\n"
          ]
        }
      ]
    },
    {
      "cell_type": "code",
      "source": [
        "for element in tupes:\n",
        "  if element=='earth':\n",
        "    print(element, 'nation captured')\n",
        "  elif element=='air':\n",
        "    print(element, 'nation captured')\n",
        "  else:\n",
        "    print(element)"
      ],
      "metadata": {
        "id": "8ttjyi3kexAH",
        "outputId": "7d8e043e-d7ec-4c16-df62-565dbba90c10",
        "colab": {
          "base_uri": "https://localhost:8080/"
        }
      },
      "execution_count": 11,
      "outputs": [
        {
          "output_type": "stream",
          "name": "stdout",
          "text": [
            "earth nation captured\n",
            "water\n",
            "fire\n",
            "air nation captured\n"
          ]
        }
      ]
    }
  ]
}
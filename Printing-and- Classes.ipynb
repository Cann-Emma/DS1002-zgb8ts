{
  "nbformat": 4,
  "nbformat_minor": 0,
  "metadata": {
    "colab": {
      "provenance": [],
      "authorship_tag": "ABX9TyPj+nn8BXhq49h6tWnbSL52",
      "include_colab_link": true
    },
    "kernelspec": {
      "name": "python3",
      "display_name": "Python 3"
    },
    "language_info": {
      "name": "python"
    }
  },
  "cells": [
    {
      "cell_type": "markdown",
      "metadata": {
        "id": "view-in-github",
        "colab_type": "text"
      },
      "source": [
        "<a href=\"https://colab.research.google.com/github/Cann-Emma/DS1002-zgb8ts/blob/main/Printing-and-%20Classes.ipynb\" target=\"_parent\"><img src=\"https://colab.research.google.com/assets/colab-badge.svg\" alt=\"Open In Colab\"/></a>"
      ]
    },
    {
      "cell_type": "markdown",
      "source": [
        "# Printing Options"
      ],
      "metadata": {
        "id": "Wp_HZr8LegiC"
      }
    },
    {
      "cell_type": "code",
      "execution_count": null,
      "metadata": {
        "id": "5ZuG-JMgdSgk"
      },
      "outputs": [],
      "source": [
        "# Setting up variables\n",
        "Music= 'rock + roll'\n",
        "Artist= 'Eden'"
      ]
    },
    {
      "cell_type": "code",
      "source": [
        "# Printing using F-string\n",
        "print(f' I love {Music} by {Artist}')"
      ],
      "metadata": {
        "colab": {
          "base_uri": "https://localhost:8080/"
        },
        "id": "kg9hR9xLdc_v",
        "outputId": "babdc80e-5b17-458b-9d46-22457a5b1bfc"
      },
      "execution_count": null,
      "outputs": [
        {
          "output_type": "stream",
          "name": "stdout",
          "text": [
            " I love rock + roll by Eden\n"
          ]
        }
      ]
    },
    {
      "cell_type": "code",
      "source": [
        "# Printing using tuples\n",
        "print(' I love', Music, 'by', Artist)"
      ],
      "metadata": {
        "colab": {
          "base_uri": "https://localhost:8080/"
        },
        "id": "CPJ-gueNd15J",
        "outputId": "5a2f9d06-840f-4b29-adad-5a7ab1b41384"
      },
      "execution_count": null,
      "outputs": [
        {
          "output_type": "stream",
          "name": "stdout",
          "text": [
            " I love rock + roll by Eden\n"
          ]
        }
      ]
    },
    {
      "cell_type": "code",
      "source": [
        "# Printing using concatenation\n",
        "print('I love'+ ' '+ Music +' ' +'by'+ ' '+ Artist)"
      ],
      "metadata": {
        "colab": {
          "base_uri": "https://localhost:8080/"
        },
        "id": "vpw0p-REeAcA",
        "outputId": "5b2bdda6-269c-4897-f4cf-671324fbdbb5"
      },
      "execution_count": null,
      "outputs": [
        {
          "output_type": "stream",
          "name": "stdout",
          "text": [
            "I love rock + roll by Eden\n"
          ]
        }
      ]
    },
    {
      "cell_type": "markdown",
      "source": [
        "# Setting attributes in Instance"
      ],
      "metadata": {
        "id": "S64zKnf3jPTG"
      }
    },
    {
      "cell_type": "code",
      "source": [
        "class Subjects:\n",
        "subject1= Subjects()\n",
        "subject1.name=\n",
        "subject1.hours=\n",
        "subject1.field="
      ],
      "metadata": {
        "id": "IbwQueoGjO4n"
      },
      "execution_count": null,
      "outputs": []
    },
    {
      "cell_type": "code",
      "source": [
        "class Operations:\n",
        "  var1= 'Multiply'\n",
        "  var2= 'Divide'\n",
        "  var3= 'Add'\n",
        "  var4= 'Subtract'"
      ],
      "metadata": {
        "id": "IRZMcMuOj-yb"
      },
      "execution_count": null,
      "outputs": []
    },
    {
      "cell_type": "code",
      "source": [
        "Operations.var4"
      ],
      "metadata": {
        "colab": {
          "base_uri": "https://localhost:8080/",
          "height": 36
        },
        "id": "Wm8hqhwKlUs_",
        "outputId": "ef61d0af-bd22-40a6-be4a-e644c12ea197"
      },
      "execution_count": null,
      "outputs": [
        {
          "output_type": "execute_result",
          "data": {
            "text/plain": [
              "'Subtract'"
            ],
            "application/vnd.google.colaboratory.intrinsic+json": {
              "type": "string"
            }
          },
          "metadata": {},
          "execution_count": 13
        }
      ]
    },
    {
      "cell_type": "code",
      "source": [
        "little_op= Operations()\n",
        "little_op.var1"
      ],
      "metadata": {
        "colab": {
          "base_uri": "https://localhost:8080/",
          "height": 36
        },
        "id": "wPNcGRnGlKZj",
        "outputId": "bbb62072-638d-4f06-fcbf-64cd6a2eb2e4"
      },
      "execution_count": null,
      "outputs": [
        {
          "output_type": "execute_result",
          "data": {
            "text/plain": [
              "'Multiply'"
            ],
            "application/vnd.google.colaboratory.intrinsic+json": {
              "type": "string"
            }
          },
          "metadata": {},
          "execution_count": 12
        }
      ]
    },
    {
      "cell_type": "code",
      "source": [
        "little_op.var3= 'Square root'\n",
        "little_op.var3"
      ],
      "metadata": {
        "colab": {
          "base_uri": "https://localhost:8080/",
          "height": 36
        },
        "id": "bumBS3n5lZJV",
        "outputId": "76ec1673-0459-4127-c503-d19a41b01438"
      },
      "execution_count": null,
      "outputs": [
        {
          "output_type": "execute_result",
          "data": {
            "text/plain": [
              "'Square root'"
            ],
            "application/vnd.google.colaboratory.intrinsic+json": {
              "type": "string"
            }
          },
          "metadata": {},
          "execution_count": 15
        }
      ]
    }
  ]
}
{
  "nbformat": 4,
  "nbformat_minor": 0,
  "metadata": {
    "colab": {
      "provenance": [],
      "include_colab_link": true
    },
    "kernelspec": {
      "name": "ir",
      "display_name": "R"
    },
    "language_info": {
      "name": "R"
    }
  },
  "cells": [
    {
      "cell_type": "markdown",
      "metadata": {
        "id": "view-in-github",
        "colab_type": "text"
      },
      "source": [
        "<a href=\"https://colab.research.google.com/github/Cann-Emma/DS1002-zgb8ts/blob/main/labs/lab2/lab2-race-results.ipynb\" target=\"_parent\"><img src=\"https://colab.research.google.com/assets/colab-badge.svg\" alt=\"Open In Colab\"/></a>"
      ]
    },
    {
      "cell_type": "markdown",
      "source": [
        "# DS1002 Lab 2: Determine Race Results with R\n",
        "\n",
        "In this lab you will work with a dataset, writing R to generate the deliverables specified in the cells below.\n",
        "\n",
        "The dataset for this lab is made up of fictitious results from a road race. Runner information and results is provided in the data.\n",
        "\n",
        "Answer the questions below with the appropriate R code. Point assignments are indicated for each section. There are 10 total points possible for this lab.\n",
        "\n",
        "Useful reference material (check all R modules within the Canvas site for more help)\n",
        "- [R Reference Material](https://canvas.its.virginia.edu/courses/78571/modules#module_219810).\n",
        "- [Plots Samples](https://colab.research.google.com/github/nmagee/ds1002/blob/main/notebooks/25-plots-in-r.ipynb)"
      ],
      "metadata": {
        "id": "2yEePrJ-1G1Z"
      }
    },
    {
      "cell_type": "markdown",
      "source": [
        "## Group Submissions\n",
        "\n",
        "If you are working in a group to complete this lab, you may have no more than 3 members to a group. Group members should be indicated in the cell below -- list both names and UVA computing IDs.\n",
        "\n",
        "Each student should then submit **the same URL** for the lab in Canvas. (If a group has Member1, Member2, and Member3, only one member needs to save the completed work back to GitHub and all members should submit that URL for grading.)"
      ],
      "metadata": {
        "id": "acXFkytd2PWS"
      }
    },
    {
      "cell_type": "code",
      "source": [
        "# List group members (if applicable). Identify names and computing IDs\n",
        "#\n",
        "# Name                    Computing ID"
      ],
      "metadata": {
        "id": "4N8_o3tG232h"
      },
      "execution_count": 2,
      "outputs": []
    },
    {
      "cell_type": "markdown",
      "source": [
        "## 1. Load Libraries & Data (1 pt)\n",
        "\n",
        "https://raw.githubusercontent.com/nmagee/ds1002/main/data/road-race.csv\n",
        "\n",
        "Import any necessary libraries and load the remote CSV file below into a data frame."
      ],
      "metadata": {
        "id": "w0VxTDNf1k2O"
      }
    },
    {
      "cell_type": "code",
      "execution_count": 3,
      "metadata": {
        "id": "I0B9chFD1GR0",
        "outputId": "16c5ff5b-777b-4222-a99a-7fe752d12209",
        "colab": {
          "base_uri": "https://localhost:8080/"
        }
      },
      "outputs": [
        {
          "output_type": "stream",
          "name": "stderr",
          "text": [
            "── \u001b[1mAttaching core tidyverse packages\u001b[22m ──────────────────────── tidyverse 2.0.0 ──\n",
            "\u001b[32m✔\u001b[39m \u001b[34mdplyr    \u001b[39m 1.1.4     \u001b[32m✔\u001b[39m \u001b[34mreadr    \u001b[39m 2.1.4\n",
            "\u001b[32m✔\u001b[39m \u001b[34mforcats  \u001b[39m 1.0.0     \u001b[32m✔\u001b[39m \u001b[34mstringr  \u001b[39m 1.5.1\n",
            "\u001b[32m✔\u001b[39m \u001b[34mggplot2  \u001b[39m 3.4.4     \u001b[32m✔\u001b[39m \u001b[34mtibble   \u001b[39m 3.2.1\n",
            "\u001b[32m✔\u001b[39m \u001b[34mlubridate\u001b[39m 1.9.3     \u001b[32m✔\u001b[39m \u001b[34mtidyr    \u001b[39m 1.3.0\n",
            "\u001b[32m✔\u001b[39m \u001b[34mpurrr    \u001b[39m 1.0.2     \n",
            "── \u001b[1mConflicts\u001b[22m ────────────────────────────────────────── tidyverse_conflicts() ──\n",
            "\u001b[31m✖\u001b[39m \u001b[34mdplyr\u001b[39m::\u001b[32mfilter()\u001b[39m masks \u001b[34mstats\u001b[39m::filter()\n",
            "\u001b[31m✖\u001b[39m \u001b[34mdplyr\u001b[39m::\u001b[32mlag()\u001b[39m    masks \u001b[34mstats\u001b[39m::lag()\n",
            "\u001b[36mℹ\u001b[39m Use the conflicted package (\u001b[3m\u001b[34m<http://conflicted.r-lib.org/>\u001b[39m\u001b[23m) to force all conflicts to become errors\n",
            "Installing package into ‘/usr/local/lib/R/site-library’\n",
            "(as ‘lib’ is unspecified)\n",
            "\n"
          ]
        }
      ],
      "source": [
        "#\n",
        "library(tidyverse)\n",
        "install.packages('ggplot2')\n",
        "library(ggplot2)\n",
        "race<- read.csv('https://raw.githubusercontent.com/nmagee/ds1002/main/data/road-race.csv')"
      ]
    },
    {
      "cell_type": "markdown",
      "source": [
        "## 2. Get Summary Data (1 pt)"
      ],
      "metadata": {
        "id": "H389W9dkobGI"
      }
    },
    {
      "cell_type": "markdown",
      "source": [
        "In code, display how many rows and columns are in the raw dataset."
      ],
      "metadata": {
        "id": "KA0wbjmE-4Q9"
      }
    },
    {
      "cell_type": "code",
      "source": [
        "#\n",
        "str(race)\n",
        "# or\n",
        "glimpse(race)"
      ],
      "metadata": {
        "id": "XhULtu7qox-p",
        "outputId": "df475e2b-3a99-4dd0-8d0e-b76f5e624d35",
        "colab": {
          "base_uri": "https://localhost:8080/"
        }
      },
      "execution_count": 4,
      "outputs": [
        {
          "output_type": "stream",
          "name": "stdout",
          "text": [
            "'data.frame':\t764 obs. of  5 variables:\n",
            " $ runner_bib   : int  1 2 3 4 5 6 7 8 9 10 ...\n",
            " $ runner_name  : chr  \"Loydie Lopes\" \"Lorens Crispe\" \"Shirline Hasser\" \"Alleyn Hartshorn\" ...\n",
            " $ runner_age   : int  17 33 22 39 50 44 51 44 30 60 ...\n",
            " $ runner_gender: chr  \"Male\" \"Male\" \"Female\" \"Male\" ...\n",
            " $ finish_time  : chr  \"16:01\" \"15:40\" \"14:20\" \"17:06\" ...\n",
            "Rows: 764\n",
            "Columns: 5\n",
            "$ runner_bib    \u001b[3m\u001b[90m<int>\u001b[39m\u001b[23m 1, 2, 3, 4, 5, 6, 7, 8, 9, 10, 11, 12, 13, 14, 15, 16, 1…\n",
            "$ runner_name   \u001b[3m\u001b[90m<chr>\u001b[39m\u001b[23m \"Loydie Lopes\", \"Lorens Crispe\", \"Shirline Hasser\", \"All…\n",
            "$ runner_age    \u001b[3m\u001b[90m<int>\u001b[39m\u001b[23m 17, 33, 22, 39, 50, 44, 51, 44, 30, 60, 17, 17, 52, 31, …\n",
            "$ runner_gender \u001b[3m\u001b[90m<chr>\u001b[39m\u001b[23m \"Male\", \"Male\", \"Female\", \"Male\", \"Male\", \"Male\", \"Male\"…\n",
            "$ finish_time   \u001b[3m\u001b[90m<chr>\u001b[39m\u001b[23m \"16:01\", \"15:40\", \"14:20\", \"17:06\", \"16:49\", \"15:43\", \"\"…\n"
          ]
        }
      ]
    },
    {
      "cell_type": "markdown",
      "source": [
        "## 3. Clean and Organize the Data (2 pts)\n",
        "\n",
        "Check for data quality.\n",
        "\n",
        "- Resolve any duplicate rows.\n",
        "- If a runner does not have a finish time, they are DNF and should not be counted in the dataset.\n",
        "\n"
      ],
      "metadata": {
        "id": "abshX7QeooAs"
      }
    },
    {
      "cell_type": "code",
      "source": [
        "#\n",
        "race2<- race[!duplicated(race),]\n",
        "str(race2)\n",
        "race2[race2==\"\"]<- NA\n",
        "race2<- race2[complete.cases(race2), ]"
      ],
      "metadata": {
        "id": "Aq3J7yD82uwW",
        "outputId": "611315a1-e90f-45e3-8463-c89f44742185",
        "colab": {
          "base_uri": "https://localhost:8080/"
        }
      },
      "execution_count": 49,
      "outputs": [
        {
          "output_type": "stream",
          "name": "stdout",
          "text": [
            "'data.frame':\t640 obs. of  5 variables:\n",
            " $ runner_bib   : int  1 2 3 4 5 6 7 8 9 10 ...\n",
            " $ runner_name  : chr  \"Loydie Lopes\" \"Lorens Crispe\" \"Shirline Hasser\" \"Alleyn Hartshorn\" ...\n",
            " $ runner_age   : int  17 33 22 39 50 44 51 44 30 60 ...\n",
            " $ runner_gender: chr  \"Male\" \"Male\" \"Female\" \"Male\" ...\n",
            " $ finish_time  : chr  \"16:01\" \"15:40\" \"14:20\" \"17:06\" ...\n"
          ]
        }
      ]
    },
    {
      "cell_type": "markdown",
      "source": [
        "Now display the first 10 rows of the cleaned dataset."
      ],
      "metadata": {
        "id": "Ccwu8bUx_Azj"
      }
    },
    {
      "cell_type": "code",
      "source": [
        "#\n",
        "head(race2, 10)\n",
        "str(race2)"
      ],
      "metadata": {
        "id": "1iVIskCs_Ewe",
        "outputId": "06ed8401-05ec-49cf-c1fd-16c361958f70",
        "colab": {
          "base_uri": "https://localhost:8080/",
          "height": 515
        }
      },
      "execution_count": 50,
      "outputs": [
        {
          "output_type": "display_data",
          "data": {
            "text/html": [
              "<table class=\"dataframe\">\n",
              "<caption>A data.frame: 10 × 5</caption>\n",
              "<thead>\n",
              "\t<tr><th></th><th scope=col>runner_bib</th><th scope=col>runner_name</th><th scope=col>runner_age</th><th scope=col>runner_gender</th><th scope=col>finish_time</th></tr>\n",
              "\t<tr><th></th><th scope=col>&lt;int&gt;</th><th scope=col>&lt;chr&gt;</th><th scope=col>&lt;int&gt;</th><th scope=col>&lt;chr&gt;</th><th scope=col>&lt;chr&gt;</th></tr>\n",
              "</thead>\n",
              "<tbody>\n",
              "\t<tr><th scope=row>1</th><td> 1</td><td>Loydie Lopes    </td><td>17</td><td>Male  </td><td>16:01</td></tr>\n",
              "\t<tr><th scope=row>2</th><td> 2</td><td>Lorens Crispe   </td><td>33</td><td>Male  </td><td>15:40</td></tr>\n",
              "\t<tr><th scope=row>3</th><td> 3</td><td>Shirline Hasser </td><td>22</td><td>Female</td><td>14:20</td></tr>\n",
              "\t<tr><th scope=row>4</th><td> 4</td><td>Alleyn Hartshorn</td><td>39</td><td>Male  </td><td>17:06</td></tr>\n",
              "\t<tr><th scope=row>5</th><td> 5</td><td>Wang MacColl    </td><td>50</td><td>Male  </td><td>16:49</td></tr>\n",
              "\t<tr><th scope=row>6</th><td> 6</td><td>Tonnie Tidder   </td><td>44</td><td>Male  </td><td>15:43</td></tr>\n",
              "\t<tr><th scope=row>8</th><td> 8</td><td>Basil Moxsom    </td><td>44</td><td>Male  </td><td>15:16</td></tr>\n",
              "\t<tr><th scope=row>9</th><td> 9</td><td>Lark Bragge     </td><td>30</td><td>Female</td><td>15:59</td></tr>\n",
              "\t<tr><th scope=row>10</th><td>10</td><td>Kent Wakely     </td><td>60</td><td>Male  </td><td>14:29</td></tr>\n",
              "\t<tr><th scope=row>11</th><td>11</td><td>Judye Hattrick  </td><td>17</td><td>Female</td><td>15:27</td></tr>\n",
              "</tbody>\n",
              "</table>\n"
            ],
            "text/markdown": "\nA data.frame: 10 × 5\n\n| <!--/--> | runner_bib &lt;int&gt; | runner_name &lt;chr&gt; | runner_age &lt;int&gt; | runner_gender &lt;chr&gt; | finish_time &lt;chr&gt; |\n|---|---|---|---|---|---|\n| 1 |  1 | Loydie Lopes     | 17 | Male   | 16:01 |\n| 2 |  2 | Lorens Crispe    | 33 | Male   | 15:40 |\n| 3 |  3 | Shirline Hasser  | 22 | Female | 14:20 |\n| 4 |  4 | Alleyn Hartshorn | 39 | Male   | 17:06 |\n| 5 |  5 | Wang MacColl     | 50 | Male   | 16:49 |\n| 6 |  6 | Tonnie Tidder    | 44 | Male   | 15:43 |\n| 8 |  8 | Basil Moxsom     | 44 | Male   | 15:16 |\n| 9 |  9 | Lark Bragge      | 30 | Female | 15:59 |\n| 10 | 10 | Kent Wakely      | 60 | Male   | 14:29 |\n| 11 | 11 | Judye Hattrick   | 17 | Female | 15:27 |\n\n",
            "text/latex": "A data.frame: 10 × 5\n\\begin{tabular}{r|lllll}\n  & runner\\_bib & runner\\_name & runner\\_age & runner\\_gender & finish\\_time\\\\\n  & <int> & <chr> & <int> & <chr> & <chr>\\\\\n\\hline\n\t1 &  1 & Loydie Lopes     & 17 & Male   & 16:01\\\\\n\t2 &  2 & Lorens Crispe    & 33 & Male   & 15:40\\\\\n\t3 &  3 & Shirline Hasser  & 22 & Female & 14:20\\\\\n\t4 &  4 & Alleyn Hartshorn & 39 & Male   & 17:06\\\\\n\t5 &  5 & Wang MacColl     & 50 & Male   & 16:49\\\\\n\t6 &  6 & Tonnie Tidder    & 44 & Male   & 15:43\\\\\n\t8 &  8 & Basil Moxsom     & 44 & Male   & 15:16\\\\\n\t9 &  9 & Lark Bragge      & 30 & Female & 15:59\\\\\n\t10 & 10 & Kent Wakely      & 60 & Male   & 14:29\\\\\n\t11 & 11 & Judye Hattrick   & 17 & Female & 15:27\\\\\n\\end{tabular}\n",
            "text/plain": [
              "   runner_bib runner_name      runner_age runner_gender finish_time\n",
              "1   1         Loydie Lopes     17         Male          16:01      \n",
              "2   2         Lorens Crispe    33         Male          15:40      \n",
              "3   3         Shirline Hasser  22         Female        14:20      \n",
              "4   4         Alleyn Hartshorn 39         Male          17:06      \n",
              "5   5         Wang MacColl     50         Male          16:49      \n",
              "6   6         Tonnie Tidder    44         Male          15:43      \n",
              "8   8         Basil Moxsom     44         Male          15:16      \n",
              "9   9         Lark Bragge      30         Female        15:59      \n",
              "10 10         Kent Wakely      60         Male          14:29      \n",
              "11 11         Judye Hattrick   17         Female        15:27      "
            ]
          },
          "metadata": {}
        },
        {
          "output_type": "stream",
          "name": "stdout",
          "text": [
            "'data.frame':\t594 obs. of  5 variables:\n",
            " $ runner_bib   : int  1 2 3 4 5 6 8 9 10 11 ...\n",
            " $ runner_name  : chr  \"Loydie Lopes\" \"Lorens Crispe\" \"Shirline Hasser\" \"Alleyn Hartshorn\" ...\n",
            " $ runner_age   : int  17 33 22 39 50 44 44 30 60 17 ...\n",
            " $ runner_gender: chr  \"Male\" \"Male\" \"Female\" \"Male\" ...\n",
            " $ finish_time  : chr  \"16:01\" \"15:40\" \"14:20\" \"17:06\" ...\n"
          ]
        }
      ]
    },
    {
      "cell_type": "markdown",
      "source": [
        "## 4. Calculate Elapsed Time (3 pts)"
      ],
      "metadata": {
        "id": "3-4dd8nsr_zF"
      }
    },
    {
      "cell_type": "markdown",
      "source": [
        "Using R, add a new column named `[\"finish_minutes\"]` to the dataframe that calculates the number of minutes it took for the runner to complete the race. Ideally this is a column consisting of plain integers.\n",
        "\n",
        "The starting gun was fired at precisely 12:00pm that day.\n",
        "\n",
        "Note: This is calculated using a built-in function of R, `difftime()` which takes 3 parameters:\n",
        "\n",
        "- End time\n",
        "- Start time\n",
        "- Units\n",
        "\n",
        "The result is an output that figures the difference between the two: `3 days`, `14 years`, `112 mins`, etc.\n",
        "\n",
        "The syntax for that function is below. Take care to use the proper order of parameters. The `as.POSIXct` casting makes it possible to read a long datetime in the `YYYY-MM-DDTHH:MM` format, a common `datetime` value. The `format` parameter specifies the pattern you are trying to read.\n",
        "\n",
        "```\n",
        "df$new-column <- (difftime( as.POSIXct(df$end-column, format=\"%Y-%m-%dT%H:%M\"),\n",
        "                            as.POSIXct(df$start-column, format=\"%Y-%m-%dT%H:%M\"),\n",
        "                            units=\"min\"))\n",
        "```"
      ],
      "metadata": {
        "id": "HrGLlM83vH0c"
      }
    },
    {
      "cell_type": "code",
      "source": [
        "install.packages(\"chron\")\n",
        "library(chron)\n",
        "\n",
        "race3<- race2\n",
        "race3[['finish_time']]<- times(paste(race3$finish_time, \"00\", sep=\":\"))\n",
        "\n",
        "race3$finish_time <- strptime(race3$finish_time, format = \"%H:%M:%S\")\n",
        " # (strptime(race3[['finish_time']], \"H:%M\"))\n",
        "\n",
        "\n",
        "#race3[['finish_time']]<- (strptime(race3$finish_time, \"H:%M:%S\"))\n",
        "race3"
      ],
      "metadata": {
        "id": "LxC-JQx6H8B_"
      },
      "execution_count": null,
      "outputs": []
    },
    {
      "cell_type": "code",
      "source": [
        "# Add a column that contains the start time\n",
        "#race3$start_time<- rep('12:00:00', 594)\n",
        "#race3$start_time<- times(race3$)\n",
        "race3[['start_time']]<- times(paste(\"12:00\", \"00\", sep=\":\"))\n",
        "race3$start_time<- strptime(race3$start_time, format= \"%H:%M:%S\")\n",
        "race3"
      ],
      "metadata": {
        "id": "RaCRFK2MWBgk",
        "outputId": "0c751602-9344-4cb2-ca2f-a51d8cf97663",
        "colab": {
          "base_uri": "https://localhost:8080/",
          "height": 1000
        }
      },
      "execution_count": 67,
      "outputs": [
        {
          "output_type": "display_data",
          "data": {
            "text/html": [
              "<table class=\"dataframe\">\n",
              "<caption>A data.frame: 594 × 6</caption>\n",
              "<thead>\n",
              "\t<tr><th></th><th scope=col>runner_bib</th><th scope=col>runner_name</th><th scope=col>runner_age</th><th scope=col>runner_gender</th><th scope=col>finish_time</th><th scope=col>start_time</th></tr>\n",
              "\t<tr><th></th><th scope=col>&lt;int&gt;</th><th scope=col>&lt;chr&gt;</th><th scope=col>&lt;int&gt;</th><th scope=col>&lt;chr&gt;</th><th scope=col>&lt;dttm&gt;</th><th scope=col>&lt;dttm&gt;</th></tr>\n",
              "</thead>\n",
              "<tbody>\n",
              "\t<tr><th scope=row>1</th><td> 1</td><td>Loydie Lopes          </td><td>17</td><td>Male   </td><td>2023-12-03 16:01:00</td><td>2023-12-03 12:00:00</td></tr>\n",
              "\t<tr><th scope=row>2</th><td> 2</td><td>Lorens Crispe         </td><td>33</td><td>Male   </td><td>2023-12-03 15:40:00</td><td>2023-12-03 12:00:00</td></tr>\n",
              "\t<tr><th scope=row>3</th><td> 3</td><td>Shirline Hasser       </td><td>22</td><td>Female </td><td>2023-12-03 14:20:00</td><td>2023-12-03 12:00:00</td></tr>\n",
              "\t<tr><th scope=row>4</th><td> 4</td><td>Alleyn Hartshorn      </td><td>39</td><td>Male   </td><td>2023-12-03 17:06:00</td><td>2023-12-03 12:00:00</td></tr>\n",
              "\t<tr><th scope=row>5</th><td> 5</td><td>Wang MacColl          </td><td>50</td><td>Male   </td><td>2023-12-03 16:49:00</td><td>2023-12-03 12:00:00</td></tr>\n",
              "\t<tr><th scope=row>6</th><td> 6</td><td>Tonnie Tidder         </td><td>44</td><td>Male   </td><td>2023-12-03 15:43:00</td><td>2023-12-03 12:00:00</td></tr>\n",
              "\t<tr><th scope=row>8</th><td> 8</td><td>Basil Moxsom          </td><td>44</td><td>Male   </td><td>2023-12-03 15:16:00</td><td>2023-12-03 12:00:00</td></tr>\n",
              "\t<tr><th scope=row>9</th><td> 9</td><td>Lark Bragge           </td><td>30</td><td>Female </td><td>2023-12-03 15:59:00</td><td>2023-12-03 12:00:00</td></tr>\n",
              "\t<tr><th scope=row>10</th><td>10</td><td>Kent Wakely           </td><td>60</td><td>Male   </td><td>2023-12-03 14:29:00</td><td>2023-12-03 12:00:00</td></tr>\n",
              "\t<tr><th scope=row>11</th><td>11</td><td>Judye Hattrick        </td><td>17</td><td>Female </td><td>2023-12-03 15:27:00</td><td>2023-12-03 12:00:00</td></tr>\n",
              "\t<tr><th scope=row>12</th><td>12</td><td>Amalea Laurand        </td><td>17</td><td>Agender</td><td>2023-12-03 16:46:00</td><td>2023-12-03 12:00:00</td></tr>\n",
              "\t<tr><th scope=row>13</th><td>13</td><td>Christiana Winspeare  </td><td>52</td><td>Female </td><td>2023-12-03 16:18:00</td><td>2023-12-03 12:00:00</td></tr>\n",
              "\t<tr><th scope=row>14</th><td>14</td><td>Trevar Pegrum         </td><td>31</td><td>Male   </td><td>2023-12-03 16:05:00</td><td>2023-12-03 12:00:00</td></tr>\n",
              "\t<tr><th scope=row>15</th><td>15</td><td>Kearney Doumerc       </td><td>48</td><td>Male   </td><td>2023-12-03 15:11:00</td><td>2023-12-03 12:00:00</td></tr>\n",
              "\t<tr><th scope=row>16</th><td>16</td><td>Casey Arthur          </td><td>54</td><td>Female </td><td>2023-12-03 16:41:00</td><td>2023-12-03 12:00:00</td></tr>\n",
              "\t<tr><th scope=row>17</th><td>17</td><td>Antony Burnes         </td><td>19</td><td>Male   </td><td>2023-12-03 15:58:00</td><td>2023-12-03 12:00:00</td></tr>\n",
              "\t<tr><th scope=row>18</th><td>18</td><td>Ike Ranson            </td><td>20</td><td>Agender</td><td>2023-12-03 16:45:00</td><td>2023-12-03 12:00:00</td></tr>\n",
              "\t<tr><th scope=row>19</th><td>19</td><td>Niels Lynagh          </td><td>25</td><td>Male   </td><td>2023-12-03 17:08:00</td><td>2023-12-03 12:00:00</td></tr>\n",
              "\t<tr><th scope=row>20</th><td>20</td><td>Stormy Gideon         </td><td>43</td><td>Female </td><td>2023-12-03 16:51:00</td><td>2023-12-03 12:00:00</td></tr>\n",
              "\t<tr><th scope=row>21</th><td>21</td><td>Carmencita Petrishchev</td><td>20</td><td>Female </td><td>2023-12-03 14:15:00</td><td>2023-12-03 12:00:00</td></tr>\n",
              "\t<tr><th scope=row>22</th><td>22</td><td>Cristina Brabbs       </td><td>60</td><td>Female </td><td>2023-12-03 14:20:00</td><td>2023-12-03 12:00:00</td></tr>\n",
              "\t<tr><th scope=row>23</th><td>23</td><td>Cordy Jeannaud        </td><td>27</td><td>Female </td><td>2023-12-03 14:45:00</td><td>2023-12-03 12:00:00</td></tr>\n",
              "\t<tr><th scope=row>24</th><td>24</td><td>Rubi Greeson          </td><td>39</td><td>Female </td><td>2023-12-03 14:46:00</td><td>2023-12-03 12:00:00</td></tr>\n",
              "\t<tr><th scope=row>25</th><td>25</td><td>Mickie Drohun         </td><td>28</td><td>Female </td><td>2023-12-03 16:20:00</td><td>2023-12-03 12:00:00</td></tr>\n",
              "\t<tr><th scope=row>26</th><td>26</td><td>Levon Cayette         </td><td>14</td><td>Male   </td><td>2023-12-03 17:07:00</td><td>2023-12-03 12:00:00</td></tr>\n",
              "\t<tr><th scope=row>27</th><td>27</td><td>Georges Capoun        </td><td>38</td><td>Male   </td><td>2023-12-03 14:47:00</td><td>2023-12-03 12:00:00</td></tr>\n",
              "\t<tr><th scope=row>28</th><td>28</td><td>Yance Ingreda         </td><td>39</td><td>Male   </td><td>2023-12-03 15:40:00</td><td>2023-12-03 12:00:00</td></tr>\n",
              "\t<tr><th scope=row>29</th><td>29</td><td>Elfreda Dunmuir       </td><td>44</td><td>Female </td><td>2023-12-03 15:04:00</td><td>2023-12-03 12:00:00</td></tr>\n",
              "\t<tr><th scope=row>30</th><td>30</td><td>Ivar Nutting          </td><td>33</td><td>Male   </td><td>2023-12-03 15:00:00</td><td>2023-12-03 12:00:00</td></tr>\n",
              "\t<tr><th scope=row>31</th><td>31</td><td>Sibley Golton         </td><td>42</td><td>Female </td><td>2023-12-03 14:54:00</td><td>2023-12-03 12:00:00</td></tr>\n",
              "\t<tr><th scope=row>⋮</th><td>⋮</td><td>⋮</td><td>⋮</td><td>⋮</td><td>⋮</td><td>⋮</td></tr>\n",
              "\t<tr><th scope=row>703</th><td>610</td><td>Noble Daunay        </td><td>26</td><td>Male  </td><td>2023-12-03 15:44:00</td><td>2023-12-03 12:00:00</td></tr>\n",
              "\t<tr><th scope=row>704</th><td>611</td><td>Dianna Dunsire      </td><td>23</td><td>Female</td><td>2023-12-03 15:56:00</td><td>2023-12-03 12:00:00</td></tr>\n",
              "\t<tr><th scope=row>705</th><td>612</td><td>Cordey Gibke        </td><td>27</td><td>Female</td><td>2023-12-03 15:39:00</td><td>2023-12-03 12:00:00</td></tr>\n",
              "\t<tr><th scope=row>706</th><td>613</td><td>Ulysses Middell     </td><td>22</td><td>Male  </td><td>2023-12-03 15:07:00</td><td>2023-12-03 12:00:00</td></tr>\n",
              "\t<tr><th scope=row>707</th><td>614</td><td>Edin Soloway        </td><td>46</td><td>Female</td><td>2023-12-03 14:52:00</td><td>2023-12-03 12:00:00</td></tr>\n",
              "\t<tr><th scope=row>708</th><td>615</td><td>Seth Willishire     </td><td>41</td><td>Male  </td><td>2023-12-03 15:08:00</td><td>2023-12-03 12:00:00</td></tr>\n",
              "\t<tr><th scope=row>709</th><td>616</td><td>Abelard Bole        </td><td>36</td><td>Male  </td><td>2023-12-03 15:51:00</td><td>2023-12-03 12:00:00</td></tr>\n",
              "\t<tr><th scope=row>710</th><td>617</td><td>Mac Figiovanni      </td><td>60</td><td>Male  </td><td>2023-12-03 14:43:00</td><td>2023-12-03 12:00:00</td></tr>\n",
              "\t<tr><th scope=row>711</th><td>618</td><td>Rafaelita Mates     </td><td>47</td><td>Female</td><td>2023-12-03 16:32:00</td><td>2023-12-03 12:00:00</td></tr>\n",
              "\t<tr><th scope=row>712</th><td>619</td><td>Harper Ferrier      </td><td>47</td><td>Male  </td><td>2023-12-03 16:20:00</td><td>2023-12-03 12:00:00</td></tr>\n",
              "\t<tr><th scope=row>713</th><td>620</td><td>Horten Rupp         </td><td>58</td><td>Male  </td><td>2023-12-03 14:43:00</td><td>2023-12-03 12:00:00</td></tr>\n",
              "\t<tr><th scope=row>714</th><td>621</td><td>Gare Shacklady      </td><td>50</td><td>Male  </td><td>2023-12-03 15:34:00</td><td>2023-12-03 12:00:00</td></tr>\n",
              "\t<tr><th scope=row>715</th><td>622</td><td>Jacquie MacRanald   </td><td>58</td><td>Female</td><td>2023-12-03 16:59:00</td><td>2023-12-03 12:00:00</td></tr>\n",
              "\t<tr><th scope=row>716</th><td>623</td><td>Ingram Ivamy        </td><td>39</td><td>Male  </td><td>2023-12-03 16:01:00</td><td>2023-12-03 12:00:00</td></tr>\n",
              "\t<tr><th scope=row>717</th><td>624</td><td>Mariejeanne Bernetti</td><td>49</td><td>Female</td><td>2023-12-03 14:57:00</td><td>2023-12-03 12:00:00</td></tr>\n",
              "\t<tr><th scope=row>718</th><td>625</td><td>Merrill Dorre       </td><td>25</td><td>Female</td><td>2023-12-03 16:26:00</td><td>2023-12-03 12:00:00</td></tr>\n",
              "\t<tr><th scope=row>719</th><td>626</td><td>Man Sancto          </td><td>23</td><td>Male  </td><td>2023-12-03 14:51:00</td><td>2023-12-03 12:00:00</td></tr>\n",
              "\t<tr><th scope=row>720</th><td>627</td><td>Michelle Janus      </td><td>61</td><td>Female</td><td>2023-12-03 15:16:00</td><td>2023-12-03 12:00:00</td></tr>\n",
              "\t<tr><th scope=row>721</th><td>628</td><td>Noble Gorling       </td><td>54</td><td>Male  </td><td>2023-12-03 16:45:00</td><td>2023-12-03 12:00:00</td></tr>\n",
              "\t<tr><th scope=row>722</th><td>629</td><td>Abra Paulou         </td><td>15</td><td>Female</td><td>2023-12-03 14:56:00</td><td>2023-12-03 12:00:00</td></tr>\n",
              "\t<tr><th scope=row>724</th><td>631</td><td>Agace Oats          </td><td>55</td><td>Female</td><td>2023-12-03 16:14:00</td><td>2023-12-03 12:00:00</td></tr>\n",
              "\t<tr><th scope=row>725</th><td>632</td><td>Shaughn Sapauton    </td><td>33</td><td>Male  </td><td>2023-12-03 15:58:00</td><td>2023-12-03 12:00:00</td></tr>\n",
              "\t<tr><th scope=row>726</th><td>633</td><td>Molli Stanley       </td><td>27</td><td>Female</td><td>2023-12-03 15:20:00</td><td>2023-12-03 12:00:00</td></tr>\n",
              "\t<tr><th scope=row>727</th><td>634</td><td>Mile Hrishanok      </td><td>57</td><td>Male  </td><td>2023-12-03 16:26:00</td><td>2023-12-03 12:00:00</td></tr>\n",
              "\t<tr><th scope=row>728</th><td>635</td><td>Dusty Truder        </td><td>40</td><td>Female</td><td>2023-12-03 17:03:00</td><td>2023-12-03 12:00:00</td></tr>\n",
              "\t<tr><th scope=row>729</th><td>636</td><td>Fayette Pervoe      </td><td>18</td><td>Female</td><td>2023-12-03 15:42:00</td><td>2023-12-03 12:00:00</td></tr>\n",
              "\t<tr><th scope=row>730</th><td>637</td><td>Allie Mingaye       </td><td>55</td><td>Male  </td><td>2023-12-03 14:53:00</td><td>2023-12-03 12:00:00</td></tr>\n",
              "\t<tr><th scope=row>731</th><td>638</td><td>Noe Nayer           </td><td>38</td><td>Male  </td><td>2023-12-03 15:08:00</td><td>2023-12-03 12:00:00</td></tr>\n",
              "\t<tr><th scope=row>732</th><td>639</td><td>Collen Lainton      </td><td>54</td><td>Female</td><td>2023-12-03 17:07:00</td><td>2023-12-03 12:00:00</td></tr>\n",
              "\t<tr><th scope=row>733</th><td>640</td><td>Chickie Wildman     </td><td>52</td><td>Male  </td><td>2023-12-03 16:22:00</td><td>2023-12-03 12:00:00</td></tr>\n",
              "</tbody>\n",
              "</table>\n"
            ],
            "text/markdown": "\nA data.frame: 594 × 6\n\n| <!--/--> | runner_bib &lt;int&gt; | runner_name &lt;chr&gt; | runner_age &lt;int&gt; | runner_gender &lt;chr&gt; | finish_time &lt;dttm&gt; | start_time &lt;dttm&gt; |\n|---|---|---|---|---|---|---|\n| 1 |  1 | Loydie Lopes           | 17 | Male    | 2023-12-03 16:01:00 | 2023-12-03 12:00:00 |\n| 2 |  2 | Lorens Crispe          | 33 | Male    | 2023-12-03 15:40:00 | 2023-12-03 12:00:00 |\n| 3 |  3 | Shirline Hasser        | 22 | Female  | 2023-12-03 14:20:00 | 2023-12-03 12:00:00 |\n| 4 |  4 | Alleyn Hartshorn       | 39 | Male    | 2023-12-03 17:06:00 | 2023-12-03 12:00:00 |\n| 5 |  5 | Wang MacColl           | 50 | Male    | 2023-12-03 16:49:00 | 2023-12-03 12:00:00 |\n| 6 |  6 | Tonnie Tidder          | 44 | Male    | 2023-12-03 15:43:00 | 2023-12-03 12:00:00 |\n| 8 |  8 | Basil Moxsom           | 44 | Male    | 2023-12-03 15:16:00 | 2023-12-03 12:00:00 |\n| 9 |  9 | Lark Bragge            | 30 | Female  | 2023-12-03 15:59:00 | 2023-12-03 12:00:00 |\n| 10 | 10 | Kent Wakely            | 60 | Male    | 2023-12-03 14:29:00 | 2023-12-03 12:00:00 |\n| 11 | 11 | Judye Hattrick         | 17 | Female  | 2023-12-03 15:27:00 | 2023-12-03 12:00:00 |\n| 12 | 12 | Amalea Laurand         | 17 | Agender | 2023-12-03 16:46:00 | 2023-12-03 12:00:00 |\n| 13 | 13 | Christiana Winspeare   | 52 | Female  | 2023-12-03 16:18:00 | 2023-12-03 12:00:00 |\n| 14 | 14 | Trevar Pegrum          | 31 | Male    | 2023-12-03 16:05:00 | 2023-12-03 12:00:00 |\n| 15 | 15 | Kearney Doumerc        | 48 | Male    | 2023-12-03 15:11:00 | 2023-12-03 12:00:00 |\n| 16 | 16 | Casey Arthur           | 54 | Female  | 2023-12-03 16:41:00 | 2023-12-03 12:00:00 |\n| 17 | 17 | Antony Burnes          | 19 | Male    | 2023-12-03 15:58:00 | 2023-12-03 12:00:00 |\n| 18 | 18 | Ike Ranson             | 20 | Agender | 2023-12-03 16:45:00 | 2023-12-03 12:00:00 |\n| 19 | 19 | Niels Lynagh           | 25 | Male    | 2023-12-03 17:08:00 | 2023-12-03 12:00:00 |\n| 20 | 20 | Stormy Gideon          | 43 | Female  | 2023-12-03 16:51:00 | 2023-12-03 12:00:00 |\n| 21 | 21 | Carmencita Petrishchev | 20 | Female  | 2023-12-03 14:15:00 | 2023-12-03 12:00:00 |\n| 22 | 22 | Cristina Brabbs        | 60 | Female  | 2023-12-03 14:20:00 | 2023-12-03 12:00:00 |\n| 23 | 23 | Cordy Jeannaud         | 27 | Female  | 2023-12-03 14:45:00 | 2023-12-03 12:00:00 |\n| 24 | 24 | Rubi Greeson           | 39 | Female  | 2023-12-03 14:46:00 | 2023-12-03 12:00:00 |\n| 25 | 25 | Mickie Drohun          | 28 | Female  | 2023-12-03 16:20:00 | 2023-12-03 12:00:00 |\n| 26 | 26 | Levon Cayette          | 14 | Male    | 2023-12-03 17:07:00 | 2023-12-03 12:00:00 |\n| 27 | 27 | Georges Capoun         | 38 | Male    | 2023-12-03 14:47:00 | 2023-12-03 12:00:00 |\n| 28 | 28 | Yance Ingreda          | 39 | Male    | 2023-12-03 15:40:00 | 2023-12-03 12:00:00 |\n| 29 | 29 | Elfreda Dunmuir        | 44 | Female  | 2023-12-03 15:04:00 | 2023-12-03 12:00:00 |\n| 30 | 30 | Ivar Nutting           | 33 | Male    | 2023-12-03 15:00:00 | 2023-12-03 12:00:00 |\n| 31 | 31 | Sibley Golton          | 42 | Female  | 2023-12-03 14:54:00 | 2023-12-03 12:00:00 |\n| ⋮ | ⋮ | ⋮ | ⋮ | ⋮ | ⋮ | ⋮ |\n| 703 | 610 | Noble Daunay         | 26 | Male   | 2023-12-03 15:44:00 | 2023-12-03 12:00:00 |\n| 704 | 611 | Dianna Dunsire       | 23 | Female | 2023-12-03 15:56:00 | 2023-12-03 12:00:00 |\n| 705 | 612 | Cordey Gibke         | 27 | Female | 2023-12-03 15:39:00 | 2023-12-03 12:00:00 |\n| 706 | 613 | Ulysses Middell      | 22 | Male   | 2023-12-03 15:07:00 | 2023-12-03 12:00:00 |\n| 707 | 614 | Edin Soloway         | 46 | Female | 2023-12-03 14:52:00 | 2023-12-03 12:00:00 |\n| 708 | 615 | Seth Willishire      | 41 | Male   | 2023-12-03 15:08:00 | 2023-12-03 12:00:00 |\n| 709 | 616 | Abelard Bole         | 36 | Male   | 2023-12-03 15:51:00 | 2023-12-03 12:00:00 |\n| 710 | 617 | Mac Figiovanni       | 60 | Male   | 2023-12-03 14:43:00 | 2023-12-03 12:00:00 |\n| 711 | 618 | Rafaelita Mates      | 47 | Female | 2023-12-03 16:32:00 | 2023-12-03 12:00:00 |\n| 712 | 619 | Harper Ferrier       | 47 | Male   | 2023-12-03 16:20:00 | 2023-12-03 12:00:00 |\n| 713 | 620 | Horten Rupp          | 58 | Male   | 2023-12-03 14:43:00 | 2023-12-03 12:00:00 |\n| 714 | 621 | Gare Shacklady       | 50 | Male   | 2023-12-03 15:34:00 | 2023-12-03 12:00:00 |\n| 715 | 622 | Jacquie MacRanald    | 58 | Female | 2023-12-03 16:59:00 | 2023-12-03 12:00:00 |\n| 716 | 623 | Ingram Ivamy         | 39 | Male   | 2023-12-03 16:01:00 | 2023-12-03 12:00:00 |\n| 717 | 624 | Mariejeanne Bernetti | 49 | Female | 2023-12-03 14:57:00 | 2023-12-03 12:00:00 |\n| 718 | 625 | Merrill Dorre        | 25 | Female | 2023-12-03 16:26:00 | 2023-12-03 12:00:00 |\n| 719 | 626 | Man Sancto           | 23 | Male   | 2023-12-03 14:51:00 | 2023-12-03 12:00:00 |\n| 720 | 627 | Michelle Janus       | 61 | Female | 2023-12-03 15:16:00 | 2023-12-03 12:00:00 |\n| 721 | 628 | Noble Gorling        | 54 | Male   | 2023-12-03 16:45:00 | 2023-12-03 12:00:00 |\n| 722 | 629 | Abra Paulou          | 15 | Female | 2023-12-03 14:56:00 | 2023-12-03 12:00:00 |\n| 724 | 631 | Agace Oats           | 55 | Female | 2023-12-03 16:14:00 | 2023-12-03 12:00:00 |\n| 725 | 632 | Shaughn Sapauton     | 33 | Male   | 2023-12-03 15:58:00 | 2023-12-03 12:00:00 |\n| 726 | 633 | Molli Stanley        | 27 | Female | 2023-12-03 15:20:00 | 2023-12-03 12:00:00 |\n| 727 | 634 | Mile Hrishanok       | 57 | Male   | 2023-12-03 16:26:00 | 2023-12-03 12:00:00 |\n| 728 | 635 | Dusty Truder         | 40 | Female | 2023-12-03 17:03:00 | 2023-12-03 12:00:00 |\n| 729 | 636 | Fayette Pervoe       | 18 | Female | 2023-12-03 15:42:00 | 2023-12-03 12:00:00 |\n| 730 | 637 | Allie Mingaye        | 55 | Male   | 2023-12-03 14:53:00 | 2023-12-03 12:00:00 |\n| 731 | 638 | Noe Nayer            | 38 | Male   | 2023-12-03 15:08:00 | 2023-12-03 12:00:00 |\n| 732 | 639 | Collen Lainton       | 54 | Female | 2023-12-03 17:07:00 | 2023-12-03 12:00:00 |\n| 733 | 640 | Chickie Wildman      | 52 | Male   | 2023-12-03 16:22:00 | 2023-12-03 12:00:00 |\n\n",
            "text/latex": "A data.frame: 594 × 6\n\\begin{tabular}{r|llllll}\n  & runner\\_bib & runner\\_name & runner\\_age & runner\\_gender & finish\\_time & start\\_time\\\\\n  & <int> & <chr> & <int> & <chr> & <dttm> & <dttm>\\\\\n\\hline\n\t1 &  1 & Loydie Lopes           & 17 & Male    & 2023-12-03 16:01:00 & 2023-12-03 12:00:00\\\\\n\t2 &  2 & Lorens Crispe          & 33 & Male    & 2023-12-03 15:40:00 & 2023-12-03 12:00:00\\\\\n\t3 &  3 & Shirline Hasser        & 22 & Female  & 2023-12-03 14:20:00 & 2023-12-03 12:00:00\\\\\n\t4 &  4 & Alleyn Hartshorn       & 39 & Male    & 2023-12-03 17:06:00 & 2023-12-03 12:00:00\\\\\n\t5 &  5 & Wang MacColl           & 50 & Male    & 2023-12-03 16:49:00 & 2023-12-03 12:00:00\\\\\n\t6 &  6 & Tonnie Tidder          & 44 & Male    & 2023-12-03 15:43:00 & 2023-12-03 12:00:00\\\\\n\t8 &  8 & Basil Moxsom           & 44 & Male    & 2023-12-03 15:16:00 & 2023-12-03 12:00:00\\\\\n\t9 &  9 & Lark Bragge            & 30 & Female  & 2023-12-03 15:59:00 & 2023-12-03 12:00:00\\\\\n\t10 & 10 & Kent Wakely            & 60 & Male    & 2023-12-03 14:29:00 & 2023-12-03 12:00:00\\\\\n\t11 & 11 & Judye Hattrick         & 17 & Female  & 2023-12-03 15:27:00 & 2023-12-03 12:00:00\\\\\n\t12 & 12 & Amalea Laurand         & 17 & Agender & 2023-12-03 16:46:00 & 2023-12-03 12:00:00\\\\\n\t13 & 13 & Christiana Winspeare   & 52 & Female  & 2023-12-03 16:18:00 & 2023-12-03 12:00:00\\\\\n\t14 & 14 & Trevar Pegrum          & 31 & Male    & 2023-12-03 16:05:00 & 2023-12-03 12:00:00\\\\\n\t15 & 15 & Kearney Doumerc        & 48 & Male    & 2023-12-03 15:11:00 & 2023-12-03 12:00:00\\\\\n\t16 & 16 & Casey Arthur           & 54 & Female  & 2023-12-03 16:41:00 & 2023-12-03 12:00:00\\\\\n\t17 & 17 & Antony Burnes          & 19 & Male    & 2023-12-03 15:58:00 & 2023-12-03 12:00:00\\\\\n\t18 & 18 & Ike Ranson             & 20 & Agender & 2023-12-03 16:45:00 & 2023-12-03 12:00:00\\\\\n\t19 & 19 & Niels Lynagh           & 25 & Male    & 2023-12-03 17:08:00 & 2023-12-03 12:00:00\\\\\n\t20 & 20 & Stormy Gideon          & 43 & Female  & 2023-12-03 16:51:00 & 2023-12-03 12:00:00\\\\\n\t21 & 21 & Carmencita Petrishchev & 20 & Female  & 2023-12-03 14:15:00 & 2023-12-03 12:00:00\\\\\n\t22 & 22 & Cristina Brabbs        & 60 & Female  & 2023-12-03 14:20:00 & 2023-12-03 12:00:00\\\\\n\t23 & 23 & Cordy Jeannaud         & 27 & Female  & 2023-12-03 14:45:00 & 2023-12-03 12:00:00\\\\\n\t24 & 24 & Rubi Greeson           & 39 & Female  & 2023-12-03 14:46:00 & 2023-12-03 12:00:00\\\\\n\t25 & 25 & Mickie Drohun          & 28 & Female  & 2023-12-03 16:20:00 & 2023-12-03 12:00:00\\\\\n\t26 & 26 & Levon Cayette          & 14 & Male    & 2023-12-03 17:07:00 & 2023-12-03 12:00:00\\\\\n\t27 & 27 & Georges Capoun         & 38 & Male    & 2023-12-03 14:47:00 & 2023-12-03 12:00:00\\\\\n\t28 & 28 & Yance Ingreda          & 39 & Male    & 2023-12-03 15:40:00 & 2023-12-03 12:00:00\\\\\n\t29 & 29 & Elfreda Dunmuir        & 44 & Female  & 2023-12-03 15:04:00 & 2023-12-03 12:00:00\\\\\n\t30 & 30 & Ivar Nutting           & 33 & Male    & 2023-12-03 15:00:00 & 2023-12-03 12:00:00\\\\\n\t31 & 31 & Sibley Golton          & 42 & Female  & 2023-12-03 14:54:00 & 2023-12-03 12:00:00\\\\\n\t⋮ & ⋮ & ⋮ & ⋮ & ⋮ & ⋮ & ⋮\\\\\n\t703 & 610 & Noble Daunay         & 26 & Male   & 2023-12-03 15:44:00 & 2023-12-03 12:00:00\\\\\n\t704 & 611 & Dianna Dunsire       & 23 & Female & 2023-12-03 15:56:00 & 2023-12-03 12:00:00\\\\\n\t705 & 612 & Cordey Gibke         & 27 & Female & 2023-12-03 15:39:00 & 2023-12-03 12:00:00\\\\\n\t706 & 613 & Ulysses Middell      & 22 & Male   & 2023-12-03 15:07:00 & 2023-12-03 12:00:00\\\\\n\t707 & 614 & Edin Soloway         & 46 & Female & 2023-12-03 14:52:00 & 2023-12-03 12:00:00\\\\\n\t708 & 615 & Seth Willishire      & 41 & Male   & 2023-12-03 15:08:00 & 2023-12-03 12:00:00\\\\\n\t709 & 616 & Abelard Bole         & 36 & Male   & 2023-12-03 15:51:00 & 2023-12-03 12:00:00\\\\\n\t710 & 617 & Mac Figiovanni       & 60 & Male   & 2023-12-03 14:43:00 & 2023-12-03 12:00:00\\\\\n\t711 & 618 & Rafaelita Mates      & 47 & Female & 2023-12-03 16:32:00 & 2023-12-03 12:00:00\\\\\n\t712 & 619 & Harper Ferrier       & 47 & Male   & 2023-12-03 16:20:00 & 2023-12-03 12:00:00\\\\\n\t713 & 620 & Horten Rupp          & 58 & Male   & 2023-12-03 14:43:00 & 2023-12-03 12:00:00\\\\\n\t714 & 621 & Gare Shacklady       & 50 & Male   & 2023-12-03 15:34:00 & 2023-12-03 12:00:00\\\\\n\t715 & 622 & Jacquie MacRanald    & 58 & Female & 2023-12-03 16:59:00 & 2023-12-03 12:00:00\\\\\n\t716 & 623 & Ingram Ivamy         & 39 & Male   & 2023-12-03 16:01:00 & 2023-12-03 12:00:00\\\\\n\t717 & 624 & Mariejeanne Bernetti & 49 & Female & 2023-12-03 14:57:00 & 2023-12-03 12:00:00\\\\\n\t718 & 625 & Merrill Dorre        & 25 & Female & 2023-12-03 16:26:00 & 2023-12-03 12:00:00\\\\\n\t719 & 626 & Man Sancto           & 23 & Male   & 2023-12-03 14:51:00 & 2023-12-03 12:00:00\\\\\n\t720 & 627 & Michelle Janus       & 61 & Female & 2023-12-03 15:16:00 & 2023-12-03 12:00:00\\\\\n\t721 & 628 & Noble Gorling        & 54 & Male   & 2023-12-03 16:45:00 & 2023-12-03 12:00:00\\\\\n\t722 & 629 & Abra Paulou          & 15 & Female & 2023-12-03 14:56:00 & 2023-12-03 12:00:00\\\\\n\t724 & 631 & Agace Oats           & 55 & Female & 2023-12-03 16:14:00 & 2023-12-03 12:00:00\\\\\n\t725 & 632 & Shaughn Sapauton     & 33 & Male   & 2023-12-03 15:58:00 & 2023-12-03 12:00:00\\\\\n\t726 & 633 & Molli Stanley        & 27 & Female & 2023-12-03 15:20:00 & 2023-12-03 12:00:00\\\\\n\t727 & 634 & Mile Hrishanok       & 57 & Male   & 2023-12-03 16:26:00 & 2023-12-03 12:00:00\\\\\n\t728 & 635 & Dusty Truder         & 40 & Female & 2023-12-03 17:03:00 & 2023-12-03 12:00:00\\\\\n\t729 & 636 & Fayette Pervoe       & 18 & Female & 2023-12-03 15:42:00 & 2023-12-03 12:00:00\\\\\n\t730 & 637 & Allie Mingaye        & 55 & Male   & 2023-12-03 14:53:00 & 2023-12-03 12:00:00\\\\\n\t731 & 638 & Noe Nayer            & 38 & Male   & 2023-12-03 15:08:00 & 2023-12-03 12:00:00\\\\\n\t732 & 639 & Collen Lainton       & 54 & Female & 2023-12-03 17:07:00 & 2023-12-03 12:00:00\\\\\n\t733 & 640 & Chickie Wildman      & 52 & Male   & 2023-12-03 16:22:00 & 2023-12-03 12:00:00\\\\\n\\end{tabular}\n",
            "text/plain": [
              "    runner_bib runner_name            runner_age runner_gender\n",
              "1    1         Loydie Lopes           17         Male         \n",
              "2    2         Lorens Crispe          33         Male         \n",
              "3    3         Shirline Hasser        22         Female       \n",
              "4    4         Alleyn Hartshorn       39         Male         \n",
              "5    5         Wang MacColl           50         Male         \n",
              "6    6         Tonnie Tidder          44         Male         \n",
              "8    8         Basil Moxsom           44         Male         \n",
              "9    9         Lark Bragge            30         Female       \n",
              "10  10         Kent Wakely            60         Male         \n",
              "11  11         Judye Hattrick         17         Female       \n",
              "12  12         Amalea Laurand         17         Agender      \n",
              "13  13         Christiana Winspeare   52         Female       \n",
              "14  14         Trevar Pegrum          31         Male         \n",
              "15  15         Kearney Doumerc        48         Male         \n",
              "16  16         Casey Arthur           54         Female       \n",
              "17  17         Antony Burnes          19         Male         \n",
              "18  18         Ike Ranson             20         Agender      \n",
              "19  19         Niels Lynagh           25         Male         \n",
              "20  20         Stormy Gideon          43         Female       \n",
              "21  21         Carmencita Petrishchev 20         Female       \n",
              "22  22         Cristina Brabbs        60         Female       \n",
              "23  23         Cordy Jeannaud         27         Female       \n",
              "24  24         Rubi Greeson           39         Female       \n",
              "25  25         Mickie Drohun          28         Female       \n",
              "26  26         Levon Cayette          14         Male         \n",
              "27  27         Georges Capoun         38         Male         \n",
              "28  28         Yance Ingreda          39         Male         \n",
              "29  29         Elfreda Dunmuir        44         Female       \n",
              "30  30         Ivar Nutting           33         Male         \n",
              "31  31         Sibley Golton          42         Female       \n",
              "⋮   ⋮          ⋮                      ⋮          ⋮            \n",
              "703 610        Noble Daunay           26         Male         \n",
              "704 611        Dianna Dunsire         23         Female       \n",
              "705 612        Cordey Gibke           27         Female       \n",
              "706 613        Ulysses Middell        22         Male         \n",
              "707 614        Edin Soloway           46         Female       \n",
              "708 615        Seth Willishire        41         Male         \n",
              "709 616        Abelard Bole           36         Male         \n",
              "710 617        Mac Figiovanni         60         Male         \n",
              "711 618        Rafaelita Mates        47         Female       \n",
              "712 619        Harper Ferrier         47         Male         \n",
              "713 620        Horten Rupp            58         Male         \n",
              "714 621        Gare Shacklady         50         Male         \n",
              "715 622        Jacquie MacRanald      58         Female       \n",
              "716 623        Ingram Ivamy           39         Male         \n",
              "717 624        Mariejeanne Bernetti   49         Female       \n",
              "718 625        Merrill Dorre          25         Female       \n",
              "719 626        Man Sancto             23         Male         \n",
              "720 627        Michelle Janus         61         Female       \n",
              "721 628        Noble Gorling          54         Male         \n",
              "722 629        Abra Paulou            15         Female       \n",
              "724 631        Agace Oats             55         Female       \n",
              "725 632        Shaughn Sapauton       33         Male         \n",
              "726 633        Molli Stanley          27         Female       \n",
              "727 634        Mile Hrishanok         57         Male         \n",
              "728 635        Dusty Truder           40         Female       \n",
              "729 636        Fayette Pervoe         18         Female       \n",
              "730 637        Allie Mingaye          55         Male         \n",
              "731 638        Noe Nayer              38         Male         \n",
              "732 639        Collen Lainton         54         Female       \n",
              "733 640        Chickie Wildman        52         Male         \n",
              "    finish_time         start_time         \n",
              "1   2023-12-03 16:01:00 2023-12-03 12:00:00\n",
              "2   2023-12-03 15:40:00 2023-12-03 12:00:00\n",
              "3   2023-12-03 14:20:00 2023-12-03 12:00:00\n",
              "4   2023-12-03 17:06:00 2023-12-03 12:00:00\n",
              "5   2023-12-03 16:49:00 2023-12-03 12:00:00\n",
              "6   2023-12-03 15:43:00 2023-12-03 12:00:00\n",
              "8   2023-12-03 15:16:00 2023-12-03 12:00:00\n",
              "9   2023-12-03 15:59:00 2023-12-03 12:00:00\n",
              "10  2023-12-03 14:29:00 2023-12-03 12:00:00\n",
              "11  2023-12-03 15:27:00 2023-12-03 12:00:00\n",
              "12  2023-12-03 16:46:00 2023-12-03 12:00:00\n",
              "13  2023-12-03 16:18:00 2023-12-03 12:00:00\n",
              "14  2023-12-03 16:05:00 2023-12-03 12:00:00\n",
              "15  2023-12-03 15:11:00 2023-12-03 12:00:00\n",
              "16  2023-12-03 16:41:00 2023-12-03 12:00:00\n",
              "17  2023-12-03 15:58:00 2023-12-03 12:00:00\n",
              "18  2023-12-03 16:45:00 2023-12-03 12:00:00\n",
              "19  2023-12-03 17:08:00 2023-12-03 12:00:00\n",
              "20  2023-12-03 16:51:00 2023-12-03 12:00:00\n",
              "21  2023-12-03 14:15:00 2023-12-03 12:00:00\n",
              "22  2023-12-03 14:20:00 2023-12-03 12:00:00\n",
              "23  2023-12-03 14:45:00 2023-12-03 12:00:00\n",
              "24  2023-12-03 14:46:00 2023-12-03 12:00:00\n",
              "25  2023-12-03 16:20:00 2023-12-03 12:00:00\n",
              "26  2023-12-03 17:07:00 2023-12-03 12:00:00\n",
              "27  2023-12-03 14:47:00 2023-12-03 12:00:00\n",
              "28  2023-12-03 15:40:00 2023-12-03 12:00:00\n",
              "29  2023-12-03 15:04:00 2023-12-03 12:00:00\n",
              "30  2023-12-03 15:00:00 2023-12-03 12:00:00\n",
              "31  2023-12-03 14:54:00 2023-12-03 12:00:00\n",
              "⋮   ⋮                   ⋮                  \n",
              "703 2023-12-03 15:44:00 2023-12-03 12:00:00\n",
              "704 2023-12-03 15:56:00 2023-12-03 12:00:00\n",
              "705 2023-12-03 15:39:00 2023-12-03 12:00:00\n",
              "706 2023-12-03 15:07:00 2023-12-03 12:00:00\n",
              "707 2023-12-03 14:52:00 2023-12-03 12:00:00\n",
              "708 2023-12-03 15:08:00 2023-12-03 12:00:00\n",
              "709 2023-12-03 15:51:00 2023-12-03 12:00:00\n",
              "710 2023-12-03 14:43:00 2023-12-03 12:00:00\n",
              "711 2023-12-03 16:32:00 2023-12-03 12:00:00\n",
              "712 2023-12-03 16:20:00 2023-12-03 12:00:00\n",
              "713 2023-12-03 14:43:00 2023-12-03 12:00:00\n",
              "714 2023-12-03 15:34:00 2023-12-03 12:00:00\n",
              "715 2023-12-03 16:59:00 2023-12-03 12:00:00\n",
              "716 2023-12-03 16:01:00 2023-12-03 12:00:00\n",
              "717 2023-12-03 14:57:00 2023-12-03 12:00:00\n",
              "718 2023-12-03 16:26:00 2023-12-03 12:00:00\n",
              "719 2023-12-03 14:51:00 2023-12-03 12:00:00\n",
              "720 2023-12-03 15:16:00 2023-12-03 12:00:00\n",
              "721 2023-12-03 16:45:00 2023-12-03 12:00:00\n",
              "722 2023-12-03 14:56:00 2023-12-03 12:00:00\n",
              "724 2023-12-03 16:14:00 2023-12-03 12:00:00\n",
              "725 2023-12-03 15:58:00 2023-12-03 12:00:00\n",
              "726 2023-12-03 15:20:00 2023-12-03 12:00:00\n",
              "727 2023-12-03 16:26:00 2023-12-03 12:00:00\n",
              "728 2023-12-03 17:03:00 2023-12-03 12:00:00\n",
              "729 2023-12-03 15:42:00 2023-12-03 12:00:00\n",
              "730 2023-12-03 14:53:00 2023-12-03 12:00:00\n",
              "731 2023-12-03 15:08:00 2023-12-03 12:00:00\n",
              "732 2023-12-03 17:07:00 2023-12-03 12:00:00\n",
              "733 2023-12-03 16:22:00 2023-12-03 12:00:00"
            ]
          },
          "metadata": {}
        }
      ]
    },
    {
      "cell_type": "code",
      "source": [
        "#\n",
        "race3$finish_minutes<- difftime(race3$finish_time, race3$start_time, unit= 'min')\n",
        "race3"
      ],
      "metadata": {
        "id": "5HKqg1bfAXbl",
        "outputId": "a70135e9-0fdf-4667-8bc6-daf77504ae74",
        "colab": {
          "base_uri": "https://localhost:8080/",
          "height": 1000
        }
      },
      "execution_count": 69,
      "outputs": [
        {
          "output_type": "display_data",
          "data": {
            "text/html": [
              "<table class=\"dataframe\">\n",
              "<caption>A data.frame: 594 × 7</caption>\n",
              "<thead>\n",
              "\t<tr><th></th><th scope=col>runner_bib</th><th scope=col>runner_name</th><th scope=col>runner_age</th><th scope=col>runner_gender</th><th scope=col>finish_time</th><th scope=col>start_time</th><th scope=col>finish_minutes</th></tr>\n",
              "\t<tr><th></th><th scope=col>&lt;int&gt;</th><th scope=col>&lt;chr&gt;</th><th scope=col>&lt;int&gt;</th><th scope=col>&lt;chr&gt;</th><th scope=col>&lt;dttm&gt;</th><th scope=col>&lt;dttm&gt;</th><th scope=col>&lt;drtn&gt;</th></tr>\n",
              "</thead>\n",
              "<tbody>\n",
              "\t<tr><th scope=row>1</th><td> 1</td><td>Loydie Lopes          </td><td>17</td><td>Male   </td><td>2023-12-03 16:01:00</td><td>2023-12-03 12:00:00</td><td>241 mins</td></tr>\n",
              "\t<tr><th scope=row>2</th><td> 2</td><td>Lorens Crispe         </td><td>33</td><td>Male   </td><td>2023-12-03 15:40:00</td><td>2023-12-03 12:00:00</td><td>220 mins</td></tr>\n",
              "\t<tr><th scope=row>3</th><td> 3</td><td>Shirline Hasser       </td><td>22</td><td>Female </td><td>2023-12-03 14:20:00</td><td>2023-12-03 12:00:00</td><td>140 mins</td></tr>\n",
              "\t<tr><th scope=row>4</th><td> 4</td><td>Alleyn Hartshorn      </td><td>39</td><td>Male   </td><td>2023-12-03 17:06:00</td><td>2023-12-03 12:00:00</td><td>306 mins</td></tr>\n",
              "\t<tr><th scope=row>5</th><td> 5</td><td>Wang MacColl          </td><td>50</td><td>Male   </td><td>2023-12-03 16:49:00</td><td>2023-12-03 12:00:00</td><td>289 mins</td></tr>\n",
              "\t<tr><th scope=row>6</th><td> 6</td><td>Tonnie Tidder         </td><td>44</td><td>Male   </td><td>2023-12-03 15:43:00</td><td>2023-12-03 12:00:00</td><td>223 mins</td></tr>\n",
              "\t<tr><th scope=row>8</th><td> 8</td><td>Basil Moxsom          </td><td>44</td><td>Male   </td><td>2023-12-03 15:16:00</td><td>2023-12-03 12:00:00</td><td>196 mins</td></tr>\n",
              "\t<tr><th scope=row>9</th><td> 9</td><td>Lark Bragge           </td><td>30</td><td>Female </td><td>2023-12-03 15:59:00</td><td>2023-12-03 12:00:00</td><td>239 mins</td></tr>\n",
              "\t<tr><th scope=row>10</th><td>10</td><td>Kent Wakely           </td><td>60</td><td>Male   </td><td>2023-12-03 14:29:00</td><td>2023-12-03 12:00:00</td><td>149 mins</td></tr>\n",
              "\t<tr><th scope=row>11</th><td>11</td><td>Judye Hattrick        </td><td>17</td><td>Female </td><td>2023-12-03 15:27:00</td><td>2023-12-03 12:00:00</td><td>207 mins</td></tr>\n",
              "\t<tr><th scope=row>12</th><td>12</td><td>Amalea Laurand        </td><td>17</td><td>Agender</td><td>2023-12-03 16:46:00</td><td>2023-12-03 12:00:00</td><td>286 mins</td></tr>\n",
              "\t<tr><th scope=row>13</th><td>13</td><td>Christiana Winspeare  </td><td>52</td><td>Female </td><td>2023-12-03 16:18:00</td><td>2023-12-03 12:00:00</td><td>258 mins</td></tr>\n",
              "\t<tr><th scope=row>14</th><td>14</td><td>Trevar Pegrum         </td><td>31</td><td>Male   </td><td>2023-12-03 16:05:00</td><td>2023-12-03 12:00:00</td><td>245 mins</td></tr>\n",
              "\t<tr><th scope=row>15</th><td>15</td><td>Kearney Doumerc       </td><td>48</td><td>Male   </td><td>2023-12-03 15:11:00</td><td>2023-12-03 12:00:00</td><td>191 mins</td></tr>\n",
              "\t<tr><th scope=row>16</th><td>16</td><td>Casey Arthur          </td><td>54</td><td>Female </td><td>2023-12-03 16:41:00</td><td>2023-12-03 12:00:00</td><td>281 mins</td></tr>\n",
              "\t<tr><th scope=row>17</th><td>17</td><td>Antony Burnes         </td><td>19</td><td>Male   </td><td>2023-12-03 15:58:00</td><td>2023-12-03 12:00:00</td><td>238 mins</td></tr>\n",
              "\t<tr><th scope=row>18</th><td>18</td><td>Ike Ranson            </td><td>20</td><td>Agender</td><td>2023-12-03 16:45:00</td><td>2023-12-03 12:00:00</td><td>285 mins</td></tr>\n",
              "\t<tr><th scope=row>19</th><td>19</td><td>Niels Lynagh          </td><td>25</td><td>Male   </td><td>2023-12-03 17:08:00</td><td>2023-12-03 12:00:00</td><td>308 mins</td></tr>\n",
              "\t<tr><th scope=row>20</th><td>20</td><td>Stormy Gideon         </td><td>43</td><td>Female </td><td>2023-12-03 16:51:00</td><td>2023-12-03 12:00:00</td><td>291 mins</td></tr>\n",
              "\t<tr><th scope=row>21</th><td>21</td><td>Carmencita Petrishchev</td><td>20</td><td>Female </td><td>2023-12-03 14:15:00</td><td>2023-12-03 12:00:00</td><td>135 mins</td></tr>\n",
              "\t<tr><th scope=row>22</th><td>22</td><td>Cristina Brabbs       </td><td>60</td><td>Female </td><td>2023-12-03 14:20:00</td><td>2023-12-03 12:00:00</td><td>140 mins</td></tr>\n",
              "\t<tr><th scope=row>23</th><td>23</td><td>Cordy Jeannaud        </td><td>27</td><td>Female </td><td>2023-12-03 14:45:00</td><td>2023-12-03 12:00:00</td><td>165 mins</td></tr>\n",
              "\t<tr><th scope=row>24</th><td>24</td><td>Rubi Greeson          </td><td>39</td><td>Female </td><td>2023-12-03 14:46:00</td><td>2023-12-03 12:00:00</td><td>166 mins</td></tr>\n",
              "\t<tr><th scope=row>25</th><td>25</td><td>Mickie Drohun         </td><td>28</td><td>Female </td><td>2023-12-03 16:20:00</td><td>2023-12-03 12:00:00</td><td>260 mins</td></tr>\n",
              "\t<tr><th scope=row>26</th><td>26</td><td>Levon Cayette         </td><td>14</td><td>Male   </td><td>2023-12-03 17:07:00</td><td>2023-12-03 12:00:00</td><td>307 mins</td></tr>\n",
              "\t<tr><th scope=row>27</th><td>27</td><td>Georges Capoun        </td><td>38</td><td>Male   </td><td>2023-12-03 14:47:00</td><td>2023-12-03 12:00:00</td><td>167 mins</td></tr>\n",
              "\t<tr><th scope=row>28</th><td>28</td><td>Yance Ingreda         </td><td>39</td><td>Male   </td><td>2023-12-03 15:40:00</td><td>2023-12-03 12:00:00</td><td>220 mins</td></tr>\n",
              "\t<tr><th scope=row>29</th><td>29</td><td>Elfreda Dunmuir       </td><td>44</td><td>Female </td><td>2023-12-03 15:04:00</td><td>2023-12-03 12:00:00</td><td>184 mins</td></tr>\n",
              "\t<tr><th scope=row>30</th><td>30</td><td>Ivar Nutting          </td><td>33</td><td>Male   </td><td>2023-12-03 15:00:00</td><td>2023-12-03 12:00:00</td><td>180 mins</td></tr>\n",
              "\t<tr><th scope=row>31</th><td>31</td><td>Sibley Golton         </td><td>42</td><td>Female </td><td>2023-12-03 14:54:00</td><td>2023-12-03 12:00:00</td><td>174 mins</td></tr>\n",
              "\t<tr><th scope=row>⋮</th><td>⋮</td><td>⋮</td><td>⋮</td><td>⋮</td><td>⋮</td><td>⋮</td><td>⋮</td></tr>\n",
              "\t<tr><th scope=row>703</th><td>610</td><td>Noble Daunay        </td><td>26</td><td>Male  </td><td>2023-12-03 15:44:00</td><td>2023-12-03 12:00:00</td><td>224 mins</td></tr>\n",
              "\t<tr><th scope=row>704</th><td>611</td><td>Dianna Dunsire      </td><td>23</td><td>Female</td><td>2023-12-03 15:56:00</td><td>2023-12-03 12:00:00</td><td>236 mins</td></tr>\n",
              "\t<tr><th scope=row>705</th><td>612</td><td>Cordey Gibke        </td><td>27</td><td>Female</td><td>2023-12-03 15:39:00</td><td>2023-12-03 12:00:00</td><td>219 mins</td></tr>\n",
              "\t<tr><th scope=row>706</th><td>613</td><td>Ulysses Middell     </td><td>22</td><td>Male  </td><td>2023-12-03 15:07:00</td><td>2023-12-03 12:00:00</td><td>187 mins</td></tr>\n",
              "\t<tr><th scope=row>707</th><td>614</td><td>Edin Soloway        </td><td>46</td><td>Female</td><td>2023-12-03 14:52:00</td><td>2023-12-03 12:00:00</td><td>172 mins</td></tr>\n",
              "\t<tr><th scope=row>708</th><td>615</td><td>Seth Willishire     </td><td>41</td><td>Male  </td><td>2023-12-03 15:08:00</td><td>2023-12-03 12:00:00</td><td>188 mins</td></tr>\n",
              "\t<tr><th scope=row>709</th><td>616</td><td>Abelard Bole        </td><td>36</td><td>Male  </td><td>2023-12-03 15:51:00</td><td>2023-12-03 12:00:00</td><td>231 mins</td></tr>\n",
              "\t<tr><th scope=row>710</th><td>617</td><td>Mac Figiovanni      </td><td>60</td><td>Male  </td><td>2023-12-03 14:43:00</td><td>2023-12-03 12:00:00</td><td>163 mins</td></tr>\n",
              "\t<tr><th scope=row>711</th><td>618</td><td>Rafaelita Mates     </td><td>47</td><td>Female</td><td>2023-12-03 16:32:00</td><td>2023-12-03 12:00:00</td><td>272 mins</td></tr>\n",
              "\t<tr><th scope=row>712</th><td>619</td><td>Harper Ferrier      </td><td>47</td><td>Male  </td><td>2023-12-03 16:20:00</td><td>2023-12-03 12:00:00</td><td>260 mins</td></tr>\n",
              "\t<tr><th scope=row>713</th><td>620</td><td>Horten Rupp         </td><td>58</td><td>Male  </td><td>2023-12-03 14:43:00</td><td>2023-12-03 12:00:00</td><td>163 mins</td></tr>\n",
              "\t<tr><th scope=row>714</th><td>621</td><td>Gare Shacklady      </td><td>50</td><td>Male  </td><td>2023-12-03 15:34:00</td><td>2023-12-03 12:00:00</td><td>214 mins</td></tr>\n",
              "\t<tr><th scope=row>715</th><td>622</td><td>Jacquie MacRanald   </td><td>58</td><td>Female</td><td>2023-12-03 16:59:00</td><td>2023-12-03 12:00:00</td><td>299 mins</td></tr>\n",
              "\t<tr><th scope=row>716</th><td>623</td><td>Ingram Ivamy        </td><td>39</td><td>Male  </td><td>2023-12-03 16:01:00</td><td>2023-12-03 12:00:00</td><td>241 mins</td></tr>\n",
              "\t<tr><th scope=row>717</th><td>624</td><td>Mariejeanne Bernetti</td><td>49</td><td>Female</td><td>2023-12-03 14:57:00</td><td>2023-12-03 12:00:00</td><td>177 mins</td></tr>\n",
              "\t<tr><th scope=row>718</th><td>625</td><td>Merrill Dorre       </td><td>25</td><td>Female</td><td>2023-12-03 16:26:00</td><td>2023-12-03 12:00:00</td><td>266 mins</td></tr>\n",
              "\t<tr><th scope=row>719</th><td>626</td><td>Man Sancto          </td><td>23</td><td>Male  </td><td>2023-12-03 14:51:00</td><td>2023-12-03 12:00:00</td><td>171 mins</td></tr>\n",
              "\t<tr><th scope=row>720</th><td>627</td><td>Michelle Janus      </td><td>61</td><td>Female</td><td>2023-12-03 15:16:00</td><td>2023-12-03 12:00:00</td><td>196 mins</td></tr>\n",
              "\t<tr><th scope=row>721</th><td>628</td><td>Noble Gorling       </td><td>54</td><td>Male  </td><td>2023-12-03 16:45:00</td><td>2023-12-03 12:00:00</td><td>285 mins</td></tr>\n",
              "\t<tr><th scope=row>722</th><td>629</td><td>Abra Paulou         </td><td>15</td><td>Female</td><td>2023-12-03 14:56:00</td><td>2023-12-03 12:00:00</td><td>176 mins</td></tr>\n",
              "\t<tr><th scope=row>724</th><td>631</td><td>Agace Oats          </td><td>55</td><td>Female</td><td>2023-12-03 16:14:00</td><td>2023-12-03 12:00:00</td><td>254 mins</td></tr>\n",
              "\t<tr><th scope=row>725</th><td>632</td><td>Shaughn Sapauton    </td><td>33</td><td>Male  </td><td>2023-12-03 15:58:00</td><td>2023-12-03 12:00:00</td><td>238 mins</td></tr>\n",
              "\t<tr><th scope=row>726</th><td>633</td><td>Molli Stanley       </td><td>27</td><td>Female</td><td>2023-12-03 15:20:00</td><td>2023-12-03 12:00:00</td><td>200 mins</td></tr>\n",
              "\t<tr><th scope=row>727</th><td>634</td><td>Mile Hrishanok      </td><td>57</td><td>Male  </td><td>2023-12-03 16:26:00</td><td>2023-12-03 12:00:00</td><td>266 mins</td></tr>\n",
              "\t<tr><th scope=row>728</th><td>635</td><td>Dusty Truder        </td><td>40</td><td>Female</td><td>2023-12-03 17:03:00</td><td>2023-12-03 12:00:00</td><td>303 mins</td></tr>\n",
              "\t<tr><th scope=row>729</th><td>636</td><td>Fayette Pervoe      </td><td>18</td><td>Female</td><td>2023-12-03 15:42:00</td><td>2023-12-03 12:00:00</td><td>222 mins</td></tr>\n",
              "\t<tr><th scope=row>730</th><td>637</td><td>Allie Mingaye       </td><td>55</td><td>Male  </td><td>2023-12-03 14:53:00</td><td>2023-12-03 12:00:00</td><td>173 mins</td></tr>\n",
              "\t<tr><th scope=row>731</th><td>638</td><td>Noe Nayer           </td><td>38</td><td>Male  </td><td>2023-12-03 15:08:00</td><td>2023-12-03 12:00:00</td><td>188 mins</td></tr>\n",
              "\t<tr><th scope=row>732</th><td>639</td><td>Collen Lainton      </td><td>54</td><td>Female</td><td>2023-12-03 17:07:00</td><td>2023-12-03 12:00:00</td><td>307 mins</td></tr>\n",
              "\t<tr><th scope=row>733</th><td>640</td><td>Chickie Wildman     </td><td>52</td><td>Male  </td><td>2023-12-03 16:22:00</td><td>2023-12-03 12:00:00</td><td>262 mins</td></tr>\n",
              "</tbody>\n",
              "</table>\n"
            ],
            "text/markdown": "\nA data.frame: 594 × 7\n\n| <!--/--> | runner_bib &lt;int&gt; | runner_name &lt;chr&gt; | runner_age &lt;int&gt; | runner_gender &lt;chr&gt; | finish_time &lt;dttm&gt; | start_time &lt;dttm&gt; | finish_minutes &lt;drtn&gt; |\n|---|---|---|---|---|---|---|---|\n| 1 |  1 | Loydie Lopes           | 17 | Male    | 2023-12-03 16:01:00 | 2023-12-03 12:00:00 | 241 mins |\n| 2 |  2 | Lorens Crispe          | 33 | Male    | 2023-12-03 15:40:00 | 2023-12-03 12:00:00 | 220 mins |\n| 3 |  3 | Shirline Hasser        | 22 | Female  | 2023-12-03 14:20:00 | 2023-12-03 12:00:00 | 140 mins |\n| 4 |  4 | Alleyn Hartshorn       | 39 | Male    | 2023-12-03 17:06:00 | 2023-12-03 12:00:00 | 306 mins |\n| 5 |  5 | Wang MacColl           | 50 | Male    | 2023-12-03 16:49:00 | 2023-12-03 12:00:00 | 289 mins |\n| 6 |  6 | Tonnie Tidder          | 44 | Male    | 2023-12-03 15:43:00 | 2023-12-03 12:00:00 | 223 mins |\n| 8 |  8 | Basil Moxsom           | 44 | Male    | 2023-12-03 15:16:00 | 2023-12-03 12:00:00 | 196 mins |\n| 9 |  9 | Lark Bragge            | 30 | Female  | 2023-12-03 15:59:00 | 2023-12-03 12:00:00 | 239 mins |\n| 10 | 10 | Kent Wakely            | 60 | Male    | 2023-12-03 14:29:00 | 2023-12-03 12:00:00 | 149 mins |\n| 11 | 11 | Judye Hattrick         | 17 | Female  | 2023-12-03 15:27:00 | 2023-12-03 12:00:00 | 207 mins |\n| 12 | 12 | Amalea Laurand         | 17 | Agender | 2023-12-03 16:46:00 | 2023-12-03 12:00:00 | 286 mins |\n| 13 | 13 | Christiana Winspeare   | 52 | Female  | 2023-12-03 16:18:00 | 2023-12-03 12:00:00 | 258 mins |\n| 14 | 14 | Trevar Pegrum          | 31 | Male    | 2023-12-03 16:05:00 | 2023-12-03 12:00:00 | 245 mins |\n| 15 | 15 | Kearney Doumerc        | 48 | Male    | 2023-12-03 15:11:00 | 2023-12-03 12:00:00 | 191 mins |\n| 16 | 16 | Casey Arthur           | 54 | Female  | 2023-12-03 16:41:00 | 2023-12-03 12:00:00 | 281 mins |\n| 17 | 17 | Antony Burnes          | 19 | Male    | 2023-12-03 15:58:00 | 2023-12-03 12:00:00 | 238 mins |\n| 18 | 18 | Ike Ranson             | 20 | Agender | 2023-12-03 16:45:00 | 2023-12-03 12:00:00 | 285 mins |\n| 19 | 19 | Niels Lynagh           | 25 | Male    | 2023-12-03 17:08:00 | 2023-12-03 12:00:00 | 308 mins |\n| 20 | 20 | Stormy Gideon          | 43 | Female  | 2023-12-03 16:51:00 | 2023-12-03 12:00:00 | 291 mins |\n| 21 | 21 | Carmencita Petrishchev | 20 | Female  | 2023-12-03 14:15:00 | 2023-12-03 12:00:00 | 135 mins |\n| 22 | 22 | Cristina Brabbs        | 60 | Female  | 2023-12-03 14:20:00 | 2023-12-03 12:00:00 | 140 mins |\n| 23 | 23 | Cordy Jeannaud         | 27 | Female  | 2023-12-03 14:45:00 | 2023-12-03 12:00:00 | 165 mins |\n| 24 | 24 | Rubi Greeson           | 39 | Female  | 2023-12-03 14:46:00 | 2023-12-03 12:00:00 | 166 mins |\n| 25 | 25 | Mickie Drohun          | 28 | Female  | 2023-12-03 16:20:00 | 2023-12-03 12:00:00 | 260 mins |\n| 26 | 26 | Levon Cayette          | 14 | Male    | 2023-12-03 17:07:00 | 2023-12-03 12:00:00 | 307 mins |\n| 27 | 27 | Georges Capoun         | 38 | Male    | 2023-12-03 14:47:00 | 2023-12-03 12:00:00 | 167 mins |\n| 28 | 28 | Yance Ingreda          | 39 | Male    | 2023-12-03 15:40:00 | 2023-12-03 12:00:00 | 220 mins |\n| 29 | 29 | Elfreda Dunmuir        | 44 | Female  | 2023-12-03 15:04:00 | 2023-12-03 12:00:00 | 184 mins |\n| 30 | 30 | Ivar Nutting           | 33 | Male    | 2023-12-03 15:00:00 | 2023-12-03 12:00:00 | 180 mins |\n| 31 | 31 | Sibley Golton          | 42 | Female  | 2023-12-03 14:54:00 | 2023-12-03 12:00:00 | 174 mins |\n| ⋮ | ⋮ | ⋮ | ⋮ | ⋮ | ⋮ | ⋮ | ⋮ |\n| 703 | 610 | Noble Daunay         | 26 | Male   | 2023-12-03 15:44:00 | 2023-12-03 12:00:00 | 224 mins |\n| 704 | 611 | Dianna Dunsire       | 23 | Female | 2023-12-03 15:56:00 | 2023-12-03 12:00:00 | 236 mins |\n| 705 | 612 | Cordey Gibke         | 27 | Female | 2023-12-03 15:39:00 | 2023-12-03 12:00:00 | 219 mins |\n| 706 | 613 | Ulysses Middell      | 22 | Male   | 2023-12-03 15:07:00 | 2023-12-03 12:00:00 | 187 mins |\n| 707 | 614 | Edin Soloway         | 46 | Female | 2023-12-03 14:52:00 | 2023-12-03 12:00:00 | 172 mins |\n| 708 | 615 | Seth Willishire      | 41 | Male   | 2023-12-03 15:08:00 | 2023-12-03 12:00:00 | 188 mins |\n| 709 | 616 | Abelard Bole         | 36 | Male   | 2023-12-03 15:51:00 | 2023-12-03 12:00:00 | 231 mins |\n| 710 | 617 | Mac Figiovanni       | 60 | Male   | 2023-12-03 14:43:00 | 2023-12-03 12:00:00 | 163 mins |\n| 711 | 618 | Rafaelita Mates      | 47 | Female | 2023-12-03 16:32:00 | 2023-12-03 12:00:00 | 272 mins |\n| 712 | 619 | Harper Ferrier       | 47 | Male   | 2023-12-03 16:20:00 | 2023-12-03 12:00:00 | 260 mins |\n| 713 | 620 | Horten Rupp          | 58 | Male   | 2023-12-03 14:43:00 | 2023-12-03 12:00:00 | 163 mins |\n| 714 | 621 | Gare Shacklady       | 50 | Male   | 2023-12-03 15:34:00 | 2023-12-03 12:00:00 | 214 mins |\n| 715 | 622 | Jacquie MacRanald    | 58 | Female | 2023-12-03 16:59:00 | 2023-12-03 12:00:00 | 299 mins |\n| 716 | 623 | Ingram Ivamy         | 39 | Male   | 2023-12-03 16:01:00 | 2023-12-03 12:00:00 | 241 mins |\n| 717 | 624 | Mariejeanne Bernetti | 49 | Female | 2023-12-03 14:57:00 | 2023-12-03 12:00:00 | 177 mins |\n| 718 | 625 | Merrill Dorre        | 25 | Female | 2023-12-03 16:26:00 | 2023-12-03 12:00:00 | 266 mins |\n| 719 | 626 | Man Sancto           | 23 | Male   | 2023-12-03 14:51:00 | 2023-12-03 12:00:00 | 171 mins |\n| 720 | 627 | Michelle Janus       | 61 | Female | 2023-12-03 15:16:00 | 2023-12-03 12:00:00 | 196 mins |\n| 721 | 628 | Noble Gorling        | 54 | Male   | 2023-12-03 16:45:00 | 2023-12-03 12:00:00 | 285 mins |\n| 722 | 629 | Abra Paulou          | 15 | Female | 2023-12-03 14:56:00 | 2023-12-03 12:00:00 | 176 mins |\n| 724 | 631 | Agace Oats           | 55 | Female | 2023-12-03 16:14:00 | 2023-12-03 12:00:00 | 254 mins |\n| 725 | 632 | Shaughn Sapauton     | 33 | Male   | 2023-12-03 15:58:00 | 2023-12-03 12:00:00 | 238 mins |\n| 726 | 633 | Molli Stanley        | 27 | Female | 2023-12-03 15:20:00 | 2023-12-03 12:00:00 | 200 mins |\n| 727 | 634 | Mile Hrishanok       | 57 | Male   | 2023-12-03 16:26:00 | 2023-12-03 12:00:00 | 266 mins |\n| 728 | 635 | Dusty Truder         | 40 | Female | 2023-12-03 17:03:00 | 2023-12-03 12:00:00 | 303 mins |\n| 729 | 636 | Fayette Pervoe       | 18 | Female | 2023-12-03 15:42:00 | 2023-12-03 12:00:00 | 222 mins |\n| 730 | 637 | Allie Mingaye        | 55 | Male   | 2023-12-03 14:53:00 | 2023-12-03 12:00:00 | 173 mins |\n| 731 | 638 | Noe Nayer            | 38 | Male   | 2023-12-03 15:08:00 | 2023-12-03 12:00:00 | 188 mins |\n| 732 | 639 | Collen Lainton       | 54 | Female | 2023-12-03 17:07:00 | 2023-12-03 12:00:00 | 307 mins |\n| 733 | 640 | Chickie Wildman      | 52 | Male   | 2023-12-03 16:22:00 | 2023-12-03 12:00:00 | 262 mins |\n\n",
            "text/latex": "A data.frame: 594 × 7\n\\begin{tabular}{r|lllllll}\n  & runner\\_bib & runner\\_name & runner\\_age & runner\\_gender & finish\\_time & start\\_time & finish\\_minutes\\\\\n  & <int> & <chr> & <int> & <chr> & <dttm> & <dttm> & <drtn>\\\\\n\\hline\n\t1 &  1 & Loydie Lopes           & 17 & Male    & 2023-12-03 16:01:00 & 2023-12-03 12:00:00 & 241 mins\\\\\n\t2 &  2 & Lorens Crispe          & 33 & Male    & 2023-12-03 15:40:00 & 2023-12-03 12:00:00 & 220 mins\\\\\n\t3 &  3 & Shirline Hasser        & 22 & Female  & 2023-12-03 14:20:00 & 2023-12-03 12:00:00 & 140 mins\\\\\n\t4 &  4 & Alleyn Hartshorn       & 39 & Male    & 2023-12-03 17:06:00 & 2023-12-03 12:00:00 & 306 mins\\\\\n\t5 &  5 & Wang MacColl           & 50 & Male    & 2023-12-03 16:49:00 & 2023-12-03 12:00:00 & 289 mins\\\\\n\t6 &  6 & Tonnie Tidder          & 44 & Male    & 2023-12-03 15:43:00 & 2023-12-03 12:00:00 & 223 mins\\\\\n\t8 &  8 & Basil Moxsom           & 44 & Male    & 2023-12-03 15:16:00 & 2023-12-03 12:00:00 & 196 mins\\\\\n\t9 &  9 & Lark Bragge            & 30 & Female  & 2023-12-03 15:59:00 & 2023-12-03 12:00:00 & 239 mins\\\\\n\t10 & 10 & Kent Wakely            & 60 & Male    & 2023-12-03 14:29:00 & 2023-12-03 12:00:00 & 149 mins\\\\\n\t11 & 11 & Judye Hattrick         & 17 & Female  & 2023-12-03 15:27:00 & 2023-12-03 12:00:00 & 207 mins\\\\\n\t12 & 12 & Amalea Laurand         & 17 & Agender & 2023-12-03 16:46:00 & 2023-12-03 12:00:00 & 286 mins\\\\\n\t13 & 13 & Christiana Winspeare   & 52 & Female  & 2023-12-03 16:18:00 & 2023-12-03 12:00:00 & 258 mins\\\\\n\t14 & 14 & Trevar Pegrum          & 31 & Male    & 2023-12-03 16:05:00 & 2023-12-03 12:00:00 & 245 mins\\\\\n\t15 & 15 & Kearney Doumerc        & 48 & Male    & 2023-12-03 15:11:00 & 2023-12-03 12:00:00 & 191 mins\\\\\n\t16 & 16 & Casey Arthur           & 54 & Female  & 2023-12-03 16:41:00 & 2023-12-03 12:00:00 & 281 mins\\\\\n\t17 & 17 & Antony Burnes          & 19 & Male    & 2023-12-03 15:58:00 & 2023-12-03 12:00:00 & 238 mins\\\\\n\t18 & 18 & Ike Ranson             & 20 & Agender & 2023-12-03 16:45:00 & 2023-12-03 12:00:00 & 285 mins\\\\\n\t19 & 19 & Niels Lynagh           & 25 & Male    & 2023-12-03 17:08:00 & 2023-12-03 12:00:00 & 308 mins\\\\\n\t20 & 20 & Stormy Gideon          & 43 & Female  & 2023-12-03 16:51:00 & 2023-12-03 12:00:00 & 291 mins\\\\\n\t21 & 21 & Carmencita Petrishchev & 20 & Female  & 2023-12-03 14:15:00 & 2023-12-03 12:00:00 & 135 mins\\\\\n\t22 & 22 & Cristina Brabbs        & 60 & Female  & 2023-12-03 14:20:00 & 2023-12-03 12:00:00 & 140 mins\\\\\n\t23 & 23 & Cordy Jeannaud         & 27 & Female  & 2023-12-03 14:45:00 & 2023-12-03 12:00:00 & 165 mins\\\\\n\t24 & 24 & Rubi Greeson           & 39 & Female  & 2023-12-03 14:46:00 & 2023-12-03 12:00:00 & 166 mins\\\\\n\t25 & 25 & Mickie Drohun          & 28 & Female  & 2023-12-03 16:20:00 & 2023-12-03 12:00:00 & 260 mins\\\\\n\t26 & 26 & Levon Cayette          & 14 & Male    & 2023-12-03 17:07:00 & 2023-12-03 12:00:00 & 307 mins\\\\\n\t27 & 27 & Georges Capoun         & 38 & Male    & 2023-12-03 14:47:00 & 2023-12-03 12:00:00 & 167 mins\\\\\n\t28 & 28 & Yance Ingreda          & 39 & Male    & 2023-12-03 15:40:00 & 2023-12-03 12:00:00 & 220 mins\\\\\n\t29 & 29 & Elfreda Dunmuir        & 44 & Female  & 2023-12-03 15:04:00 & 2023-12-03 12:00:00 & 184 mins\\\\\n\t30 & 30 & Ivar Nutting           & 33 & Male    & 2023-12-03 15:00:00 & 2023-12-03 12:00:00 & 180 mins\\\\\n\t31 & 31 & Sibley Golton          & 42 & Female  & 2023-12-03 14:54:00 & 2023-12-03 12:00:00 & 174 mins\\\\\n\t⋮ & ⋮ & ⋮ & ⋮ & ⋮ & ⋮ & ⋮ & ⋮\\\\\n\t703 & 610 & Noble Daunay         & 26 & Male   & 2023-12-03 15:44:00 & 2023-12-03 12:00:00 & 224 mins\\\\\n\t704 & 611 & Dianna Dunsire       & 23 & Female & 2023-12-03 15:56:00 & 2023-12-03 12:00:00 & 236 mins\\\\\n\t705 & 612 & Cordey Gibke         & 27 & Female & 2023-12-03 15:39:00 & 2023-12-03 12:00:00 & 219 mins\\\\\n\t706 & 613 & Ulysses Middell      & 22 & Male   & 2023-12-03 15:07:00 & 2023-12-03 12:00:00 & 187 mins\\\\\n\t707 & 614 & Edin Soloway         & 46 & Female & 2023-12-03 14:52:00 & 2023-12-03 12:00:00 & 172 mins\\\\\n\t708 & 615 & Seth Willishire      & 41 & Male   & 2023-12-03 15:08:00 & 2023-12-03 12:00:00 & 188 mins\\\\\n\t709 & 616 & Abelard Bole         & 36 & Male   & 2023-12-03 15:51:00 & 2023-12-03 12:00:00 & 231 mins\\\\\n\t710 & 617 & Mac Figiovanni       & 60 & Male   & 2023-12-03 14:43:00 & 2023-12-03 12:00:00 & 163 mins\\\\\n\t711 & 618 & Rafaelita Mates      & 47 & Female & 2023-12-03 16:32:00 & 2023-12-03 12:00:00 & 272 mins\\\\\n\t712 & 619 & Harper Ferrier       & 47 & Male   & 2023-12-03 16:20:00 & 2023-12-03 12:00:00 & 260 mins\\\\\n\t713 & 620 & Horten Rupp          & 58 & Male   & 2023-12-03 14:43:00 & 2023-12-03 12:00:00 & 163 mins\\\\\n\t714 & 621 & Gare Shacklady       & 50 & Male   & 2023-12-03 15:34:00 & 2023-12-03 12:00:00 & 214 mins\\\\\n\t715 & 622 & Jacquie MacRanald    & 58 & Female & 2023-12-03 16:59:00 & 2023-12-03 12:00:00 & 299 mins\\\\\n\t716 & 623 & Ingram Ivamy         & 39 & Male   & 2023-12-03 16:01:00 & 2023-12-03 12:00:00 & 241 mins\\\\\n\t717 & 624 & Mariejeanne Bernetti & 49 & Female & 2023-12-03 14:57:00 & 2023-12-03 12:00:00 & 177 mins\\\\\n\t718 & 625 & Merrill Dorre        & 25 & Female & 2023-12-03 16:26:00 & 2023-12-03 12:00:00 & 266 mins\\\\\n\t719 & 626 & Man Sancto           & 23 & Male   & 2023-12-03 14:51:00 & 2023-12-03 12:00:00 & 171 mins\\\\\n\t720 & 627 & Michelle Janus       & 61 & Female & 2023-12-03 15:16:00 & 2023-12-03 12:00:00 & 196 mins\\\\\n\t721 & 628 & Noble Gorling        & 54 & Male   & 2023-12-03 16:45:00 & 2023-12-03 12:00:00 & 285 mins\\\\\n\t722 & 629 & Abra Paulou          & 15 & Female & 2023-12-03 14:56:00 & 2023-12-03 12:00:00 & 176 mins\\\\\n\t724 & 631 & Agace Oats           & 55 & Female & 2023-12-03 16:14:00 & 2023-12-03 12:00:00 & 254 mins\\\\\n\t725 & 632 & Shaughn Sapauton     & 33 & Male   & 2023-12-03 15:58:00 & 2023-12-03 12:00:00 & 238 mins\\\\\n\t726 & 633 & Molli Stanley        & 27 & Female & 2023-12-03 15:20:00 & 2023-12-03 12:00:00 & 200 mins\\\\\n\t727 & 634 & Mile Hrishanok       & 57 & Male   & 2023-12-03 16:26:00 & 2023-12-03 12:00:00 & 266 mins\\\\\n\t728 & 635 & Dusty Truder         & 40 & Female & 2023-12-03 17:03:00 & 2023-12-03 12:00:00 & 303 mins\\\\\n\t729 & 636 & Fayette Pervoe       & 18 & Female & 2023-12-03 15:42:00 & 2023-12-03 12:00:00 & 222 mins\\\\\n\t730 & 637 & Allie Mingaye        & 55 & Male   & 2023-12-03 14:53:00 & 2023-12-03 12:00:00 & 173 mins\\\\\n\t731 & 638 & Noe Nayer            & 38 & Male   & 2023-12-03 15:08:00 & 2023-12-03 12:00:00 & 188 mins\\\\\n\t732 & 639 & Collen Lainton       & 54 & Female & 2023-12-03 17:07:00 & 2023-12-03 12:00:00 & 307 mins\\\\\n\t733 & 640 & Chickie Wildman      & 52 & Male   & 2023-12-03 16:22:00 & 2023-12-03 12:00:00 & 262 mins\\\\\n\\end{tabular}\n",
            "text/plain": [
              "    runner_bib runner_name            runner_age runner_gender\n",
              "1    1         Loydie Lopes           17         Male         \n",
              "2    2         Lorens Crispe          33         Male         \n",
              "3    3         Shirline Hasser        22         Female       \n",
              "4    4         Alleyn Hartshorn       39         Male         \n",
              "5    5         Wang MacColl           50         Male         \n",
              "6    6         Tonnie Tidder          44         Male         \n",
              "8    8         Basil Moxsom           44         Male         \n",
              "9    9         Lark Bragge            30         Female       \n",
              "10  10         Kent Wakely            60         Male         \n",
              "11  11         Judye Hattrick         17         Female       \n",
              "12  12         Amalea Laurand         17         Agender      \n",
              "13  13         Christiana Winspeare   52         Female       \n",
              "14  14         Trevar Pegrum          31         Male         \n",
              "15  15         Kearney Doumerc        48         Male         \n",
              "16  16         Casey Arthur           54         Female       \n",
              "17  17         Antony Burnes          19         Male         \n",
              "18  18         Ike Ranson             20         Agender      \n",
              "19  19         Niels Lynagh           25         Male         \n",
              "20  20         Stormy Gideon          43         Female       \n",
              "21  21         Carmencita Petrishchev 20         Female       \n",
              "22  22         Cristina Brabbs        60         Female       \n",
              "23  23         Cordy Jeannaud         27         Female       \n",
              "24  24         Rubi Greeson           39         Female       \n",
              "25  25         Mickie Drohun          28         Female       \n",
              "26  26         Levon Cayette          14         Male         \n",
              "27  27         Georges Capoun         38         Male         \n",
              "28  28         Yance Ingreda          39         Male         \n",
              "29  29         Elfreda Dunmuir        44         Female       \n",
              "30  30         Ivar Nutting           33         Male         \n",
              "31  31         Sibley Golton          42         Female       \n",
              "⋮   ⋮          ⋮                      ⋮          ⋮            \n",
              "703 610        Noble Daunay           26         Male         \n",
              "704 611        Dianna Dunsire         23         Female       \n",
              "705 612        Cordey Gibke           27         Female       \n",
              "706 613        Ulysses Middell        22         Male         \n",
              "707 614        Edin Soloway           46         Female       \n",
              "708 615        Seth Willishire        41         Male         \n",
              "709 616        Abelard Bole           36         Male         \n",
              "710 617        Mac Figiovanni         60         Male         \n",
              "711 618        Rafaelita Mates        47         Female       \n",
              "712 619        Harper Ferrier         47         Male         \n",
              "713 620        Horten Rupp            58         Male         \n",
              "714 621        Gare Shacklady         50         Male         \n",
              "715 622        Jacquie MacRanald      58         Female       \n",
              "716 623        Ingram Ivamy           39         Male         \n",
              "717 624        Mariejeanne Bernetti   49         Female       \n",
              "718 625        Merrill Dorre          25         Female       \n",
              "719 626        Man Sancto             23         Male         \n",
              "720 627        Michelle Janus         61         Female       \n",
              "721 628        Noble Gorling          54         Male         \n",
              "722 629        Abra Paulou            15         Female       \n",
              "724 631        Agace Oats             55         Female       \n",
              "725 632        Shaughn Sapauton       33         Male         \n",
              "726 633        Molli Stanley          27         Female       \n",
              "727 634        Mile Hrishanok         57         Male         \n",
              "728 635        Dusty Truder           40         Female       \n",
              "729 636        Fayette Pervoe         18         Female       \n",
              "730 637        Allie Mingaye          55         Male         \n",
              "731 638        Noe Nayer              38         Male         \n",
              "732 639        Collen Lainton         54         Female       \n",
              "733 640        Chickie Wildman        52         Male         \n",
              "    finish_time         start_time          finish_minutes\n",
              "1   2023-12-03 16:01:00 2023-12-03 12:00:00 241 mins      \n",
              "2   2023-12-03 15:40:00 2023-12-03 12:00:00 220 mins      \n",
              "3   2023-12-03 14:20:00 2023-12-03 12:00:00 140 mins      \n",
              "4   2023-12-03 17:06:00 2023-12-03 12:00:00 306 mins      \n",
              "5   2023-12-03 16:49:00 2023-12-03 12:00:00 289 mins      \n",
              "6   2023-12-03 15:43:00 2023-12-03 12:00:00 223 mins      \n",
              "8   2023-12-03 15:16:00 2023-12-03 12:00:00 196 mins      \n",
              "9   2023-12-03 15:59:00 2023-12-03 12:00:00 239 mins      \n",
              "10  2023-12-03 14:29:00 2023-12-03 12:00:00 149 mins      \n",
              "11  2023-12-03 15:27:00 2023-12-03 12:00:00 207 mins      \n",
              "12  2023-12-03 16:46:00 2023-12-03 12:00:00 286 mins      \n",
              "13  2023-12-03 16:18:00 2023-12-03 12:00:00 258 mins      \n",
              "14  2023-12-03 16:05:00 2023-12-03 12:00:00 245 mins      \n",
              "15  2023-12-03 15:11:00 2023-12-03 12:00:00 191 mins      \n",
              "16  2023-12-03 16:41:00 2023-12-03 12:00:00 281 mins      \n",
              "17  2023-12-03 15:58:00 2023-12-03 12:00:00 238 mins      \n",
              "18  2023-12-03 16:45:00 2023-12-03 12:00:00 285 mins      \n",
              "19  2023-12-03 17:08:00 2023-12-03 12:00:00 308 mins      \n",
              "20  2023-12-03 16:51:00 2023-12-03 12:00:00 291 mins      \n",
              "21  2023-12-03 14:15:00 2023-12-03 12:00:00 135 mins      \n",
              "22  2023-12-03 14:20:00 2023-12-03 12:00:00 140 mins      \n",
              "23  2023-12-03 14:45:00 2023-12-03 12:00:00 165 mins      \n",
              "24  2023-12-03 14:46:00 2023-12-03 12:00:00 166 mins      \n",
              "25  2023-12-03 16:20:00 2023-12-03 12:00:00 260 mins      \n",
              "26  2023-12-03 17:07:00 2023-12-03 12:00:00 307 mins      \n",
              "27  2023-12-03 14:47:00 2023-12-03 12:00:00 167 mins      \n",
              "28  2023-12-03 15:40:00 2023-12-03 12:00:00 220 mins      \n",
              "29  2023-12-03 15:04:00 2023-12-03 12:00:00 184 mins      \n",
              "30  2023-12-03 15:00:00 2023-12-03 12:00:00 180 mins      \n",
              "31  2023-12-03 14:54:00 2023-12-03 12:00:00 174 mins      \n",
              "⋮   ⋮                   ⋮                   ⋮             \n",
              "703 2023-12-03 15:44:00 2023-12-03 12:00:00 224 mins      \n",
              "704 2023-12-03 15:56:00 2023-12-03 12:00:00 236 mins      \n",
              "705 2023-12-03 15:39:00 2023-12-03 12:00:00 219 mins      \n",
              "706 2023-12-03 15:07:00 2023-12-03 12:00:00 187 mins      \n",
              "707 2023-12-03 14:52:00 2023-12-03 12:00:00 172 mins      \n",
              "708 2023-12-03 15:08:00 2023-12-03 12:00:00 188 mins      \n",
              "709 2023-12-03 15:51:00 2023-12-03 12:00:00 231 mins      \n",
              "710 2023-12-03 14:43:00 2023-12-03 12:00:00 163 mins      \n",
              "711 2023-12-03 16:32:00 2023-12-03 12:00:00 272 mins      \n",
              "712 2023-12-03 16:20:00 2023-12-03 12:00:00 260 mins      \n",
              "713 2023-12-03 14:43:00 2023-12-03 12:00:00 163 mins      \n",
              "714 2023-12-03 15:34:00 2023-12-03 12:00:00 214 mins      \n",
              "715 2023-12-03 16:59:00 2023-12-03 12:00:00 299 mins      \n",
              "716 2023-12-03 16:01:00 2023-12-03 12:00:00 241 mins      \n",
              "717 2023-12-03 14:57:00 2023-12-03 12:00:00 177 mins      \n",
              "718 2023-12-03 16:26:00 2023-12-03 12:00:00 266 mins      \n",
              "719 2023-12-03 14:51:00 2023-12-03 12:00:00 171 mins      \n",
              "720 2023-12-03 15:16:00 2023-12-03 12:00:00 196 mins      \n",
              "721 2023-12-03 16:45:00 2023-12-03 12:00:00 285 mins      \n",
              "722 2023-12-03 14:56:00 2023-12-03 12:00:00 176 mins      \n",
              "724 2023-12-03 16:14:00 2023-12-03 12:00:00 254 mins      \n",
              "725 2023-12-03 15:58:00 2023-12-03 12:00:00 238 mins      \n",
              "726 2023-12-03 15:20:00 2023-12-03 12:00:00 200 mins      \n",
              "727 2023-12-03 16:26:00 2023-12-03 12:00:00 266 mins      \n",
              "728 2023-12-03 17:03:00 2023-12-03 12:00:00 303 mins      \n",
              "729 2023-12-03 15:42:00 2023-12-03 12:00:00 222 mins      \n",
              "730 2023-12-03 14:53:00 2023-12-03 12:00:00 173 mins      \n",
              "731 2023-12-03 15:08:00 2023-12-03 12:00:00 188 mins      \n",
              "732 2023-12-03 17:07:00 2023-12-03 12:00:00 307 mins      \n",
              "733 2023-12-03 16:22:00 2023-12-03 12:00:00 262 mins      "
            ]
          },
          "metadata": {}
        }
      ]
    },
    {
      "cell_type": "markdown",
      "source": [
        "## 5. Identify Winners by Gender (2 pts)"
      ],
      "metadata": {
        "id": "KKg8d9RDyeDa"
      }
    },
    {
      "cell_type": "markdown",
      "source": [
        "Based on the minutes it took each runner to complete the race, identify the top three places for each gender.\n",
        "\n",
        "There are several ways to do this, some of which require less code than others. You will only be graded for producing the correct output, not on how elegant/advanced your programming is."
      ],
      "metadata": {
        "id": "5kKBo3_sykGD"
      }
    },
    {
      "cell_type": "code",
      "source": [
        "#\n",
        "race2"
      ],
      "metadata": {
        "id": "xRlliRMY2_-c",
        "outputId": "a0ba0ae3-6f8a-488c-d7c4-1b833f7e2b3f",
        "colab": {
          "base_uri": "https://localhost:8080/",
          "height": 1000
        }
      },
      "execution_count": 30,
      "outputs": [
        {
          "output_type": "display_data",
          "data": {
            "text/html": [
              "<table class=\"dataframe\">\n",
              "<caption>A data.frame: 594 × 7</caption>\n",
              "<thead>\n",
              "\t<tr><th></th><th scope=col>runner_bib</th><th scope=col>runner_name</th><th scope=col>runner_age</th><th scope=col>runner_gender</th><th scope=col>finish_time</th><th scope=col>start_time</th><th scope=col>finish_minutes</th></tr>\n",
              "\t<tr><th></th><th scope=col>&lt;int&gt;</th><th scope=col>&lt;chr&gt;</th><th scope=col>&lt;int&gt;</th><th scope=col>&lt;chr&gt;</th><th scope=col>&lt;dttm&gt;</th><th scope=col>&lt;chr&gt;</th><th scope=col>&lt;drtn&gt;</th></tr>\n",
              "</thead>\n",
              "<tbody>\n",
              "\t<tr><th scope=row>1</th><td> 1</td><td>Loydie Lopes          </td><td>17</td><td>Male   </td><td>NA</td><td>12:00</td><td>NA mins</td></tr>\n",
              "\t<tr><th scope=row>2</th><td> 2</td><td>Lorens Crispe         </td><td>33</td><td>Male   </td><td>NA</td><td>12:00</td><td>NA mins</td></tr>\n",
              "\t<tr><th scope=row>3</th><td> 3</td><td>Shirline Hasser       </td><td>22</td><td>Female </td><td>NA</td><td>12:00</td><td>NA mins</td></tr>\n",
              "\t<tr><th scope=row>4</th><td> 4</td><td>Alleyn Hartshorn      </td><td>39</td><td>Male   </td><td>NA</td><td>12:00</td><td>NA mins</td></tr>\n",
              "\t<tr><th scope=row>5</th><td> 5</td><td>Wang MacColl          </td><td>50</td><td>Male   </td><td>NA</td><td>12:00</td><td>NA mins</td></tr>\n",
              "\t<tr><th scope=row>6</th><td> 6</td><td>Tonnie Tidder         </td><td>44</td><td>Male   </td><td>NA</td><td>12:00</td><td>NA mins</td></tr>\n",
              "\t<tr><th scope=row>8</th><td> 8</td><td>Basil Moxsom          </td><td>44</td><td>Male   </td><td>NA</td><td>12:00</td><td>NA mins</td></tr>\n",
              "\t<tr><th scope=row>9</th><td> 9</td><td>Lark Bragge           </td><td>30</td><td>Female </td><td>NA</td><td>12:00</td><td>NA mins</td></tr>\n",
              "\t<tr><th scope=row>10</th><td>10</td><td>Kent Wakely           </td><td>60</td><td>Male   </td><td>NA</td><td>12:00</td><td>NA mins</td></tr>\n",
              "\t<tr><th scope=row>11</th><td>11</td><td>Judye Hattrick        </td><td>17</td><td>Female </td><td>NA</td><td>12:00</td><td>NA mins</td></tr>\n",
              "\t<tr><th scope=row>12</th><td>12</td><td>Amalea Laurand        </td><td>17</td><td>Agender</td><td>NA</td><td>12:00</td><td>NA mins</td></tr>\n",
              "\t<tr><th scope=row>13</th><td>13</td><td>Christiana Winspeare  </td><td>52</td><td>Female </td><td>NA</td><td>12:00</td><td>NA mins</td></tr>\n",
              "\t<tr><th scope=row>14</th><td>14</td><td>Trevar Pegrum         </td><td>31</td><td>Male   </td><td>NA</td><td>12:00</td><td>NA mins</td></tr>\n",
              "\t<tr><th scope=row>15</th><td>15</td><td>Kearney Doumerc       </td><td>48</td><td>Male   </td><td>NA</td><td>12:00</td><td>NA mins</td></tr>\n",
              "\t<tr><th scope=row>16</th><td>16</td><td>Casey Arthur          </td><td>54</td><td>Female </td><td>NA</td><td>12:00</td><td>NA mins</td></tr>\n",
              "\t<tr><th scope=row>17</th><td>17</td><td>Antony Burnes         </td><td>19</td><td>Male   </td><td>NA</td><td>12:00</td><td>NA mins</td></tr>\n",
              "\t<tr><th scope=row>18</th><td>18</td><td>Ike Ranson            </td><td>20</td><td>Agender</td><td>NA</td><td>12:00</td><td>NA mins</td></tr>\n",
              "\t<tr><th scope=row>19</th><td>19</td><td>Niels Lynagh          </td><td>25</td><td>Male   </td><td>NA</td><td>12:00</td><td>NA mins</td></tr>\n",
              "\t<tr><th scope=row>20</th><td>20</td><td>Stormy Gideon         </td><td>43</td><td>Female </td><td>NA</td><td>12:00</td><td>NA mins</td></tr>\n",
              "\t<tr><th scope=row>21</th><td>21</td><td>Carmencita Petrishchev</td><td>20</td><td>Female </td><td>NA</td><td>12:00</td><td>NA mins</td></tr>\n",
              "\t<tr><th scope=row>22</th><td>22</td><td>Cristina Brabbs       </td><td>60</td><td>Female </td><td>NA</td><td>12:00</td><td>NA mins</td></tr>\n",
              "\t<tr><th scope=row>23</th><td>23</td><td>Cordy Jeannaud        </td><td>27</td><td>Female </td><td>NA</td><td>12:00</td><td>NA mins</td></tr>\n",
              "\t<tr><th scope=row>24</th><td>24</td><td>Rubi Greeson          </td><td>39</td><td>Female </td><td>NA</td><td>12:00</td><td>NA mins</td></tr>\n",
              "\t<tr><th scope=row>25</th><td>25</td><td>Mickie Drohun         </td><td>28</td><td>Female </td><td>NA</td><td>12:00</td><td>NA mins</td></tr>\n",
              "\t<tr><th scope=row>26</th><td>26</td><td>Levon Cayette         </td><td>14</td><td>Male   </td><td>NA</td><td>12:00</td><td>NA mins</td></tr>\n",
              "\t<tr><th scope=row>27</th><td>27</td><td>Georges Capoun        </td><td>38</td><td>Male   </td><td>NA</td><td>12:00</td><td>NA mins</td></tr>\n",
              "\t<tr><th scope=row>28</th><td>28</td><td>Yance Ingreda         </td><td>39</td><td>Male   </td><td>NA</td><td>12:00</td><td>NA mins</td></tr>\n",
              "\t<tr><th scope=row>29</th><td>29</td><td>Elfreda Dunmuir       </td><td>44</td><td>Female </td><td>NA</td><td>12:00</td><td>NA mins</td></tr>\n",
              "\t<tr><th scope=row>30</th><td>30</td><td>Ivar Nutting          </td><td>33</td><td>Male   </td><td>NA</td><td>12:00</td><td>NA mins</td></tr>\n",
              "\t<tr><th scope=row>31</th><td>31</td><td>Sibley Golton         </td><td>42</td><td>Female </td><td>NA</td><td>12:00</td><td>NA mins</td></tr>\n",
              "\t<tr><th scope=row>⋮</th><td>⋮</td><td>⋮</td><td>⋮</td><td>⋮</td><td>⋮</td><td>⋮</td><td>⋮</td></tr>\n",
              "\t<tr><th scope=row>703</th><td>610</td><td>Noble Daunay        </td><td>26</td><td>Male  </td><td>NA</td><td>12:00</td><td>NA mins</td></tr>\n",
              "\t<tr><th scope=row>704</th><td>611</td><td>Dianna Dunsire      </td><td>23</td><td>Female</td><td>NA</td><td>12:00</td><td>NA mins</td></tr>\n",
              "\t<tr><th scope=row>705</th><td>612</td><td>Cordey Gibke        </td><td>27</td><td>Female</td><td>NA</td><td>12:00</td><td>NA mins</td></tr>\n",
              "\t<tr><th scope=row>706</th><td>613</td><td>Ulysses Middell     </td><td>22</td><td>Male  </td><td>NA</td><td>12:00</td><td>NA mins</td></tr>\n",
              "\t<tr><th scope=row>707</th><td>614</td><td>Edin Soloway        </td><td>46</td><td>Female</td><td>NA</td><td>12:00</td><td>NA mins</td></tr>\n",
              "\t<tr><th scope=row>708</th><td>615</td><td>Seth Willishire     </td><td>41</td><td>Male  </td><td>NA</td><td>12:00</td><td>NA mins</td></tr>\n",
              "\t<tr><th scope=row>709</th><td>616</td><td>Abelard Bole        </td><td>36</td><td>Male  </td><td>NA</td><td>12:00</td><td>NA mins</td></tr>\n",
              "\t<tr><th scope=row>710</th><td>617</td><td>Mac Figiovanni      </td><td>60</td><td>Male  </td><td>NA</td><td>12:00</td><td>NA mins</td></tr>\n",
              "\t<tr><th scope=row>711</th><td>618</td><td>Rafaelita Mates     </td><td>47</td><td>Female</td><td>NA</td><td>12:00</td><td>NA mins</td></tr>\n",
              "\t<tr><th scope=row>712</th><td>619</td><td>Harper Ferrier      </td><td>47</td><td>Male  </td><td>NA</td><td>12:00</td><td>NA mins</td></tr>\n",
              "\t<tr><th scope=row>713</th><td>620</td><td>Horten Rupp         </td><td>58</td><td>Male  </td><td>NA</td><td>12:00</td><td>NA mins</td></tr>\n",
              "\t<tr><th scope=row>714</th><td>621</td><td>Gare Shacklady      </td><td>50</td><td>Male  </td><td>NA</td><td>12:00</td><td>NA mins</td></tr>\n",
              "\t<tr><th scope=row>715</th><td>622</td><td>Jacquie MacRanald   </td><td>58</td><td>Female</td><td>NA</td><td>12:00</td><td>NA mins</td></tr>\n",
              "\t<tr><th scope=row>716</th><td>623</td><td>Ingram Ivamy        </td><td>39</td><td>Male  </td><td>NA</td><td>12:00</td><td>NA mins</td></tr>\n",
              "\t<tr><th scope=row>717</th><td>624</td><td>Mariejeanne Bernetti</td><td>49</td><td>Female</td><td>NA</td><td>12:00</td><td>NA mins</td></tr>\n",
              "\t<tr><th scope=row>718</th><td>625</td><td>Merrill Dorre       </td><td>25</td><td>Female</td><td>NA</td><td>12:00</td><td>NA mins</td></tr>\n",
              "\t<tr><th scope=row>719</th><td>626</td><td>Man Sancto          </td><td>23</td><td>Male  </td><td>NA</td><td>12:00</td><td>NA mins</td></tr>\n",
              "\t<tr><th scope=row>720</th><td>627</td><td>Michelle Janus      </td><td>61</td><td>Female</td><td>NA</td><td>12:00</td><td>NA mins</td></tr>\n",
              "\t<tr><th scope=row>721</th><td>628</td><td>Noble Gorling       </td><td>54</td><td>Male  </td><td>NA</td><td>12:00</td><td>NA mins</td></tr>\n",
              "\t<tr><th scope=row>722</th><td>629</td><td>Abra Paulou         </td><td>15</td><td>Female</td><td>NA</td><td>12:00</td><td>NA mins</td></tr>\n",
              "\t<tr><th scope=row>724</th><td>631</td><td>Agace Oats          </td><td>55</td><td>Female</td><td>NA</td><td>12:00</td><td>NA mins</td></tr>\n",
              "\t<tr><th scope=row>725</th><td>632</td><td>Shaughn Sapauton    </td><td>33</td><td>Male  </td><td>NA</td><td>12:00</td><td>NA mins</td></tr>\n",
              "\t<tr><th scope=row>726</th><td>633</td><td>Molli Stanley       </td><td>27</td><td>Female</td><td>NA</td><td>12:00</td><td>NA mins</td></tr>\n",
              "\t<tr><th scope=row>727</th><td>634</td><td>Mile Hrishanok      </td><td>57</td><td>Male  </td><td>NA</td><td>12:00</td><td>NA mins</td></tr>\n",
              "\t<tr><th scope=row>728</th><td>635</td><td>Dusty Truder        </td><td>40</td><td>Female</td><td>NA</td><td>12:00</td><td>NA mins</td></tr>\n",
              "\t<tr><th scope=row>729</th><td>636</td><td>Fayette Pervoe      </td><td>18</td><td>Female</td><td>NA</td><td>12:00</td><td>NA mins</td></tr>\n",
              "\t<tr><th scope=row>730</th><td>637</td><td>Allie Mingaye       </td><td>55</td><td>Male  </td><td>NA</td><td>12:00</td><td>NA mins</td></tr>\n",
              "\t<tr><th scope=row>731</th><td>638</td><td>Noe Nayer           </td><td>38</td><td>Male  </td><td>NA</td><td>12:00</td><td>NA mins</td></tr>\n",
              "\t<tr><th scope=row>732</th><td>639</td><td>Collen Lainton      </td><td>54</td><td>Female</td><td>NA</td><td>12:00</td><td>NA mins</td></tr>\n",
              "\t<tr><th scope=row>733</th><td>640</td><td>Chickie Wildman     </td><td>52</td><td>Male  </td><td>NA</td><td>12:00</td><td>NA mins</td></tr>\n",
              "</tbody>\n",
              "</table>\n"
            ],
            "text/markdown": "\nA data.frame: 594 × 7\n\n| <!--/--> | runner_bib &lt;int&gt; | runner_name &lt;chr&gt; | runner_age &lt;int&gt; | runner_gender &lt;chr&gt; | finish_time &lt;dttm&gt; | start_time &lt;chr&gt; | finish_minutes &lt;drtn&gt; |\n|---|---|---|---|---|---|---|---|\n| 1 |  1 | Loydie Lopes           | 17 | Male    | NA | 12:00 | NA mins |\n| 2 |  2 | Lorens Crispe          | 33 | Male    | NA | 12:00 | NA mins |\n| 3 |  3 | Shirline Hasser        | 22 | Female  | NA | 12:00 | NA mins |\n| 4 |  4 | Alleyn Hartshorn       | 39 | Male    | NA | 12:00 | NA mins |\n| 5 |  5 | Wang MacColl           | 50 | Male    | NA | 12:00 | NA mins |\n| 6 |  6 | Tonnie Tidder          | 44 | Male    | NA | 12:00 | NA mins |\n| 8 |  8 | Basil Moxsom           | 44 | Male    | NA | 12:00 | NA mins |\n| 9 |  9 | Lark Bragge            | 30 | Female  | NA | 12:00 | NA mins |\n| 10 | 10 | Kent Wakely            | 60 | Male    | NA | 12:00 | NA mins |\n| 11 | 11 | Judye Hattrick         | 17 | Female  | NA | 12:00 | NA mins |\n| 12 | 12 | Amalea Laurand         | 17 | Agender | NA | 12:00 | NA mins |\n| 13 | 13 | Christiana Winspeare   | 52 | Female  | NA | 12:00 | NA mins |\n| 14 | 14 | Trevar Pegrum          | 31 | Male    | NA | 12:00 | NA mins |\n| 15 | 15 | Kearney Doumerc        | 48 | Male    | NA | 12:00 | NA mins |\n| 16 | 16 | Casey Arthur           | 54 | Female  | NA | 12:00 | NA mins |\n| 17 | 17 | Antony Burnes          | 19 | Male    | NA | 12:00 | NA mins |\n| 18 | 18 | Ike Ranson             | 20 | Agender | NA | 12:00 | NA mins |\n| 19 | 19 | Niels Lynagh           | 25 | Male    | NA | 12:00 | NA mins |\n| 20 | 20 | Stormy Gideon          | 43 | Female  | NA | 12:00 | NA mins |\n| 21 | 21 | Carmencita Petrishchev | 20 | Female  | NA | 12:00 | NA mins |\n| 22 | 22 | Cristina Brabbs        | 60 | Female  | NA | 12:00 | NA mins |\n| 23 | 23 | Cordy Jeannaud         | 27 | Female  | NA | 12:00 | NA mins |\n| 24 | 24 | Rubi Greeson           | 39 | Female  | NA | 12:00 | NA mins |\n| 25 | 25 | Mickie Drohun          | 28 | Female  | NA | 12:00 | NA mins |\n| 26 | 26 | Levon Cayette          | 14 | Male    | NA | 12:00 | NA mins |\n| 27 | 27 | Georges Capoun         | 38 | Male    | NA | 12:00 | NA mins |\n| 28 | 28 | Yance Ingreda          | 39 | Male    | NA | 12:00 | NA mins |\n| 29 | 29 | Elfreda Dunmuir        | 44 | Female  | NA | 12:00 | NA mins |\n| 30 | 30 | Ivar Nutting           | 33 | Male    | NA | 12:00 | NA mins |\n| 31 | 31 | Sibley Golton          | 42 | Female  | NA | 12:00 | NA mins |\n| ⋮ | ⋮ | ⋮ | ⋮ | ⋮ | ⋮ | ⋮ | ⋮ |\n| 703 | 610 | Noble Daunay         | 26 | Male   | NA | 12:00 | NA mins |\n| 704 | 611 | Dianna Dunsire       | 23 | Female | NA | 12:00 | NA mins |\n| 705 | 612 | Cordey Gibke         | 27 | Female | NA | 12:00 | NA mins |\n| 706 | 613 | Ulysses Middell      | 22 | Male   | NA | 12:00 | NA mins |\n| 707 | 614 | Edin Soloway         | 46 | Female | NA | 12:00 | NA mins |\n| 708 | 615 | Seth Willishire      | 41 | Male   | NA | 12:00 | NA mins |\n| 709 | 616 | Abelard Bole         | 36 | Male   | NA | 12:00 | NA mins |\n| 710 | 617 | Mac Figiovanni       | 60 | Male   | NA | 12:00 | NA mins |\n| 711 | 618 | Rafaelita Mates      | 47 | Female | NA | 12:00 | NA mins |\n| 712 | 619 | Harper Ferrier       | 47 | Male   | NA | 12:00 | NA mins |\n| 713 | 620 | Horten Rupp          | 58 | Male   | NA | 12:00 | NA mins |\n| 714 | 621 | Gare Shacklady       | 50 | Male   | NA | 12:00 | NA mins |\n| 715 | 622 | Jacquie MacRanald    | 58 | Female | NA | 12:00 | NA mins |\n| 716 | 623 | Ingram Ivamy         | 39 | Male   | NA | 12:00 | NA mins |\n| 717 | 624 | Mariejeanne Bernetti | 49 | Female | NA | 12:00 | NA mins |\n| 718 | 625 | Merrill Dorre        | 25 | Female | NA | 12:00 | NA mins |\n| 719 | 626 | Man Sancto           | 23 | Male   | NA | 12:00 | NA mins |\n| 720 | 627 | Michelle Janus       | 61 | Female | NA | 12:00 | NA mins |\n| 721 | 628 | Noble Gorling        | 54 | Male   | NA | 12:00 | NA mins |\n| 722 | 629 | Abra Paulou          | 15 | Female | NA | 12:00 | NA mins |\n| 724 | 631 | Agace Oats           | 55 | Female | NA | 12:00 | NA mins |\n| 725 | 632 | Shaughn Sapauton     | 33 | Male   | NA | 12:00 | NA mins |\n| 726 | 633 | Molli Stanley        | 27 | Female | NA | 12:00 | NA mins |\n| 727 | 634 | Mile Hrishanok       | 57 | Male   | NA | 12:00 | NA mins |\n| 728 | 635 | Dusty Truder         | 40 | Female | NA | 12:00 | NA mins |\n| 729 | 636 | Fayette Pervoe       | 18 | Female | NA | 12:00 | NA mins |\n| 730 | 637 | Allie Mingaye        | 55 | Male   | NA | 12:00 | NA mins |\n| 731 | 638 | Noe Nayer            | 38 | Male   | NA | 12:00 | NA mins |\n| 732 | 639 | Collen Lainton       | 54 | Female | NA | 12:00 | NA mins |\n| 733 | 640 | Chickie Wildman      | 52 | Male   | NA | 12:00 | NA mins |\n\n",
            "text/latex": "A data.frame: 594 × 7\n\\begin{tabular}{r|lllllll}\n  & runner\\_bib & runner\\_name & runner\\_age & runner\\_gender & finish\\_time & start\\_time & finish\\_minutes\\\\\n  & <int> & <chr> & <int> & <chr> & <dttm> & <chr> & <drtn>\\\\\n\\hline\n\t1 &  1 & Loydie Lopes           & 17 & Male    & NA & 12:00 & NA mins\\\\\n\t2 &  2 & Lorens Crispe          & 33 & Male    & NA & 12:00 & NA mins\\\\\n\t3 &  3 & Shirline Hasser        & 22 & Female  & NA & 12:00 & NA mins\\\\\n\t4 &  4 & Alleyn Hartshorn       & 39 & Male    & NA & 12:00 & NA mins\\\\\n\t5 &  5 & Wang MacColl           & 50 & Male    & NA & 12:00 & NA mins\\\\\n\t6 &  6 & Tonnie Tidder          & 44 & Male    & NA & 12:00 & NA mins\\\\\n\t8 &  8 & Basil Moxsom           & 44 & Male    & NA & 12:00 & NA mins\\\\\n\t9 &  9 & Lark Bragge            & 30 & Female  & NA & 12:00 & NA mins\\\\\n\t10 & 10 & Kent Wakely            & 60 & Male    & NA & 12:00 & NA mins\\\\\n\t11 & 11 & Judye Hattrick         & 17 & Female  & NA & 12:00 & NA mins\\\\\n\t12 & 12 & Amalea Laurand         & 17 & Agender & NA & 12:00 & NA mins\\\\\n\t13 & 13 & Christiana Winspeare   & 52 & Female  & NA & 12:00 & NA mins\\\\\n\t14 & 14 & Trevar Pegrum          & 31 & Male    & NA & 12:00 & NA mins\\\\\n\t15 & 15 & Kearney Doumerc        & 48 & Male    & NA & 12:00 & NA mins\\\\\n\t16 & 16 & Casey Arthur           & 54 & Female  & NA & 12:00 & NA mins\\\\\n\t17 & 17 & Antony Burnes          & 19 & Male    & NA & 12:00 & NA mins\\\\\n\t18 & 18 & Ike Ranson             & 20 & Agender & NA & 12:00 & NA mins\\\\\n\t19 & 19 & Niels Lynagh           & 25 & Male    & NA & 12:00 & NA mins\\\\\n\t20 & 20 & Stormy Gideon          & 43 & Female  & NA & 12:00 & NA mins\\\\\n\t21 & 21 & Carmencita Petrishchev & 20 & Female  & NA & 12:00 & NA mins\\\\\n\t22 & 22 & Cristina Brabbs        & 60 & Female  & NA & 12:00 & NA mins\\\\\n\t23 & 23 & Cordy Jeannaud         & 27 & Female  & NA & 12:00 & NA mins\\\\\n\t24 & 24 & Rubi Greeson           & 39 & Female  & NA & 12:00 & NA mins\\\\\n\t25 & 25 & Mickie Drohun          & 28 & Female  & NA & 12:00 & NA mins\\\\\n\t26 & 26 & Levon Cayette          & 14 & Male    & NA & 12:00 & NA mins\\\\\n\t27 & 27 & Georges Capoun         & 38 & Male    & NA & 12:00 & NA mins\\\\\n\t28 & 28 & Yance Ingreda          & 39 & Male    & NA & 12:00 & NA mins\\\\\n\t29 & 29 & Elfreda Dunmuir        & 44 & Female  & NA & 12:00 & NA mins\\\\\n\t30 & 30 & Ivar Nutting           & 33 & Male    & NA & 12:00 & NA mins\\\\\n\t31 & 31 & Sibley Golton          & 42 & Female  & NA & 12:00 & NA mins\\\\\n\t⋮ & ⋮ & ⋮ & ⋮ & ⋮ & ⋮ & ⋮ & ⋮\\\\\n\t703 & 610 & Noble Daunay         & 26 & Male   & NA & 12:00 & NA mins\\\\\n\t704 & 611 & Dianna Dunsire       & 23 & Female & NA & 12:00 & NA mins\\\\\n\t705 & 612 & Cordey Gibke         & 27 & Female & NA & 12:00 & NA mins\\\\\n\t706 & 613 & Ulysses Middell      & 22 & Male   & NA & 12:00 & NA mins\\\\\n\t707 & 614 & Edin Soloway         & 46 & Female & NA & 12:00 & NA mins\\\\\n\t708 & 615 & Seth Willishire      & 41 & Male   & NA & 12:00 & NA mins\\\\\n\t709 & 616 & Abelard Bole         & 36 & Male   & NA & 12:00 & NA mins\\\\\n\t710 & 617 & Mac Figiovanni       & 60 & Male   & NA & 12:00 & NA mins\\\\\n\t711 & 618 & Rafaelita Mates      & 47 & Female & NA & 12:00 & NA mins\\\\\n\t712 & 619 & Harper Ferrier       & 47 & Male   & NA & 12:00 & NA mins\\\\\n\t713 & 620 & Horten Rupp          & 58 & Male   & NA & 12:00 & NA mins\\\\\n\t714 & 621 & Gare Shacklady       & 50 & Male   & NA & 12:00 & NA mins\\\\\n\t715 & 622 & Jacquie MacRanald    & 58 & Female & NA & 12:00 & NA mins\\\\\n\t716 & 623 & Ingram Ivamy         & 39 & Male   & NA & 12:00 & NA mins\\\\\n\t717 & 624 & Mariejeanne Bernetti & 49 & Female & NA & 12:00 & NA mins\\\\\n\t718 & 625 & Merrill Dorre        & 25 & Female & NA & 12:00 & NA mins\\\\\n\t719 & 626 & Man Sancto           & 23 & Male   & NA & 12:00 & NA mins\\\\\n\t720 & 627 & Michelle Janus       & 61 & Female & NA & 12:00 & NA mins\\\\\n\t721 & 628 & Noble Gorling        & 54 & Male   & NA & 12:00 & NA mins\\\\\n\t722 & 629 & Abra Paulou          & 15 & Female & NA & 12:00 & NA mins\\\\\n\t724 & 631 & Agace Oats           & 55 & Female & NA & 12:00 & NA mins\\\\\n\t725 & 632 & Shaughn Sapauton     & 33 & Male   & NA & 12:00 & NA mins\\\\\n\t726 & 633 & Molli Stanley        & 27 & Female & NA & 12:00 & NA mins\\\\\n\t727 & 634 & Mile Hrishanok       & 57 & Male   & NA & 12:00 & NA mins\\\\\n\t728 & 635 & Dusty Truder         & 40 & Female & NA & 12:00 & NA mins\\\\\n\t729 & 636 & Fayette Pervoe       & 18 & Female & NA & 12:00 & NA mins\\\\\n\t730 & 637 & Allie Mingaye        & 55 & Male   & NA & 12:00 & NA mins\\\\\n\t731 & 638 & Noe Nayer            & 38 & Male   & NA & 12:00 & NA mins\\\\\n\t732 & 639 & Collen Lainton       & 54 & Female & NA & 12:00 & NA mins\\\\\n\t733 & 640 & Chickie Wildman      & 52 & Male   & NA & 12:00 & NA mins\\\\\n\\end{tabular}\n",
            "text/plain": [
              "    runner_bib runner_name            runner_age runner_gender finish_time\n",
              "1    1         Loydie Lopes           17         Male          <NA>       \n",
              "2    2         Lorens Crispe          33         Male          <NA>       \n",
              "3    3         Shirline Hasser        22         Female        <NA>       \n",
              "4    4         Alleyn Hartshorn       39         Male          <NA>       \n",
              "5    5         Wang MacColl           50         Male          <NA>       \n",
              "6    6         Tonnie Tidder          44         Male          <NA>       \n",
              "8    8         Basil Moxsom           44         Male          <NA>       \n",
              "9    9         Lark Bragge            30         Female        <NA>       \n",
              "10  10         Kent Wakely            60         Male          <NA>       \n",
              "11  11         Judye Hattrick         17         Female        <NA>       \n",
              "12  12         Amalea Laurand         17         Agender       <NA>       \n",
              "13  13         Christiana Winspeare   52         Female        <NA>       \n",
              "14  14         Trevar Pegrum          31         Male          <NA>       \n",
              "15  15         Kearney Doumerc        48         Male          <NA>       \n",
              "16  16         Casey Arthur           54         Female        <NA>       \n",
              "17  17         Antony Burnes          19         Male          <NA>       \n",
              "18  18         Ike Ranson             20         Agender       <NA>       \n",
              "19  19         Niels Lynagh           25         Male          <NA>       \n",
              "20  20         Stormy Gideon          43         Female        <NA>       \n",
              "21  21         Carmencita Petrishchev 20         Female        <NA>       \n",
              "22  22         Cristina Brabbs        60         Female        <NA>       \n",
              "23  23         Cordy Jeannaud         27         Female        <NA>       \n",
              "24  24         Rubi Greeson           39         Female        <NA>       \n",
              "25  25         Mickie Drohun          28         Female        <NA>       \n",
              "26  26         Levon Cayette          14         Male          <NA>       \n",
              "27  27         Georges Capoun         38         Male          <NA>       \n",
              "28  28         Yance Ingreda          39         Male          <NA>       \n",
              "29  29         Elfreda Dunmuir        44         Female        <NA>       \n",
              "30  30         Ivar Nutting           33         Male          <NA>       \n",
              "31  31         Sibley Golton          42         Female        <NA>       \n",
              "⋮   ⋮          ⋮                      ⋮          ⋮             ⋮          \n",
              "703 610        Noble Daunay           26         Male          <NA>       \n",
              "704 611        Dianna Dunsire         23         Female        <NA>       \n",
              "705 612        Cordey Gibke           27         Female        <NA>       \n",
              "706 613        Ulysses Middell        22         Male          <NA>       \n",
              "707 614        Edin Soloway           46         Female        <NA>       \n",
              "708 615        Seth Willishire        41         Male          <NA>       \n",
              "709 616        Abelard Bole           36         Male          <NA>       \n",
              "710 617        Mac Figiovanni         60         Male          <NA>       \n",
              "711 618        Rafaelita Mates        47         Female        <NA>       \n",
              "712 619        Harper Ferrier         47         Male          <NA>       \n",
              "713 620        Horten Rupp            58         Male          <NA>       \n",
              "714 621        Gare Shacklady         50         Male          <NA>       \n",
              "715 622        Jacquie MacRanald      58         Female        <NA>       \n",
              "716 623        Ingram Ivamy           39         Male          <NA>       \n",
              "717 624        Mariejeanne Bernetti   49         Female        <NA>       \n",
              "718 625        Merrill Dorre          25         Female        <NA>       \n",
              "719 626        Man Sancto             23         Male          <NA>       \n",
              "720 627        Michelle Janus         61         Female        <NA>       \n",
              "721 628        Noble Gorling          54         Male          <NA>       \n",
              "722 629        Abra Paulou            15         Female        <NA>       \n",
              "724 631        Agace Oats             55         Female        <NA>       \n",
              "725 632        Shaughn Sapauton       33         Male          <NA>       \n",
              "726 633        Molli Stanley          27         Female        <NA>       \n",
              "727 634        Mile Hrishanok         57         Male          <NA>       \n",
              "728 635        Dusty Truder           40         Female        <NA>       \n",
              "729 636        Fayette Pervoe         18         Female        <NA>       \n",
              "730 637        Allie Mingaye          55         Male          <NA>       \n",
              "731 638        Noe Nayer              38         Male          <NA>       \n",
              "732 639        Collen Lainton         54         Female        <NA>       \n",
              "733 640        Chickie Wildman        52         Male          <NA>       \n",
              "    start_time finish_minutes\n",
              "1   12:00      NA mins       \n",
              "2   12:00      NA mins       \n",
              "3   12:00      NA mins       \n",
              "4   12:00      NA mins       \n",
              "5   12:00      NA mins       \n",
              "6   12:00      NA mins       \n",
              "8   12:00      NA mins       \n",
              "9   12:00      NA mins       \n",
              "10  12:00      NA mins       \n",
              "11  12:00      NA mins       \n",
              "12  12:00      NA mins       \n",
              "13  12:00      NA mins       \n",
              "14  12:00      NA mins       \n",
              "15  12:00      NA mins       \n",
              "16  12:00      NA mins       \n",
              "17  12:00      NA mins       \n",
              "18  12:00      NA mins       \n",
              "19  12:00      NA mins       \n",
              "20  12:00      NA mins       \n",
              "21  12:00      NA mins       \n",
              "22  12:00      NA mins       \n",
              "23  12:00      NA mins       \n",
              "24  12:00      NA mins       \n",
              "25  12:00      NA mins       \n",
              "26  12:00      NA mins       \n",
              "27  12:00      NA mins       \n",
              "28  12:00      NA mins       \n",
              "29  12:00      NA mins       \n",
              "30  12:00      NA mins       \n",
              "31  12:00      NA mins       \n",
              "⋮   ⋮          ⋮             \n",
              "703 12:00      NA mins       \n",
              "704 12:00      NA mins       \n",
              "705 12:00      NA mins       \n",
              "706 12:00      NA mins       \n",
              "707 12:00      NA mins       \n",
              "708 12:00      NA mins       \n",
              "709 12:00      NA mins       \n",
              "710 12:00      NA mins       \n",
              "711 12:00      NA mins       \n",
              "712 12:00      NA mins       \n",
              "713 12:00      NA mins       \n",
              "714 12:00      NA mins       \n",
              "715 12:00      NA mins       \n",
              "716 12:00      NA mins       \n",
              "717 12:00      NA mins       \n",
              "718 12:00      NA mins       \n",
              "719 12:00      NA mins       \n",
              "720 12:00      NA mins       \n",
              "721 12:00      NA mins       \n",
              "722 12:00      NA mins       \n",
              "724 12:00      NA mins       \n",
              "725 12:00      NA mins       \n",
              "726 12:00      NA mins       \n",
              "727 12:00      NA mins       \n",
              "728 12:00      NA mins       \n",
              "729 12:00      NA mins       \n",
              "730 12:00      NA mins       \n",
              "731 12:00      NA mins       \n",
              "732 12:00      NA mins       \n",
              "733 12:00      NA mins       "
            ]
          },
          "metadata": {}
        }
      ]
    },
    {
      "cell_type": "markdown",
      "source": [
        "## 6. Plot the Data (3 pts)"
      ],
      "metadata": {
        "id": "2B9dxJbno0s0"
      }
    },
    {
      "cell_type": "markdown",
      "source": [
        "Finally, using `ggplot2` create two plots of the data -- density plots of race finishers.\n",
        "\n",
        "- In the first plot use `finish_minutes` as the x axis.\n",
        "- In the second plot use `runner_age` as the x axis.\n",
        "- Use `runner_gender` as the fill.\n",
        "- We suggest using a `geom_density(alpha=0.2)` or therabouts to see layers through one another.\n",
        "- Use the `gridExtra` library's `grid.arrange()` method to plot them both.\n",
        "\n",
        "You will note that since this is artificial data you will be able to see the gender layers clearly enough but they will not be statistically meaningful."
      ],
      "metadata": {
        "id": "LwMrL6-AplCH"
      }
    },
    {
      "cell_type": "code",
      "source": [
        "#\n"
      ],
      "metadata": {
        "id": "9vDIw9YeERNx"
      },
      "execution_count": null,
      "outputs": []
    }
  ]
}